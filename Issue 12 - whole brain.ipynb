{
 "cells": [
  {
   "cell_type": "code",
   "execution_count": 1,
   "metadata": {},
   "outputs": [],
   "source": [
    "from robust_motifs.data import import_connectivity_matrix, save_count_graph_from_matrix, MPDataManager\n",
    "from pathlib import Path"
   ]
  },
  {
   "cell_type": "code",
   "execution_count": 12,
   "metadata": {},
   "outputs": [],
   "source": [
    "from robust_motifs.counting import get_n_extended_simplices_dense, count_bisimplices_dense"
   ]
  },
  {
   "cell_type": "code",
   "execution_count": 3,
   "metadata": {},
   "outputs": [],
   "source": [
    "import multiprocessing as mp"
   ]
  },
  {
   "cell_type": "code",
   "execution_count": 4,
   "metadata": {},
   "outputs": [],
   "source": [
    "import time"
   ]
  },
  {
   "cell_type": "code",
   "execution_count": 5,
   "metadata": {},
   "outputs": [],
   "source": [
    "from tqdm import tqdm"
   ]
  },
  {
   "cell_type": "code",
   "execution_count": 6,
   "metadata": {},
   "outputs": [],
   "source": [
    "import numpy as np"
   ]
  },
  {
   "cell_type": "code",
   "execution_count": 7,
   "metadata": {},
   "outputs": [],
   "source": [
    "import matplotlib.pyplot as plt"
   ]
  },
  {
   "cell_type": "code",
   "execution_count": 8,
   "metadata": {},
   "outputs": [],
   "source": [
    "import gc"
   ]
  },
  {
   "cell_type": "code",
   "execution_count": 9,
   "metadata": {},
   "outputs": [],
   "source": [
    "pool = mp.Pool()"
   ]
  },
  {
   "cell_type": "code",
   "execution_count": 10,
   "metadata": {},
   "outputs": [
    {
     "name": "stderr",
     "output_type": "stream",
     "text": [
      "100%|██████████| 55/55 [00:11<00:00,  4.60it/s]\n",
      "  0%|          | 0/6 [00:00<?, ?it/s]"
     ]
    },
    {
     "name": "stdout",
     "output_type": "stream",
     "text": [
      "3001770\n"
     ]
    },
    {
     "name": "stderr",
     "output_type": "stream",
     "text": [
      "\r",
      " 17%|█▋        | 1/6 [02:58<14:50, 178.03s/it]"
     ]
    },
    {
     "name": "stdout",
     "output_type": "stream",
     "text": [
      "3443834\n"
     ]
    },
    {
     "name": "stderr",
     "output_type": "stream",
     "text": [
      "\r",
      " 33%|███▎      | 2/6 [38:49<51:20, 770.01s/it]"
     ]
    },
    {
     "name": "stdout",
     "output_type": "stream",
     "text": [
      "484346\n"
     ]
    },
    {
     "name": "stderr",
     "output_type": "stream",
     "text": [
      "\r",
      " 50%|█████     | 3/6 [1:12:59<57:42, 1154.15s/it]"
     ]
    },
    {
     "name": "stdout",
     "output_type": "stream",
     "text": [
      "11474\n"
     ]
    },
    {
     "name": "stderr",
     "output_type": "stream",
     "text": [
      " 83%|████████▎ | 5/6 [1:17:28<10:22, 622.63s/it] "
     ]
    },
    {
     "name": "stdout",
     "output_type": "stream",
     "text": [
      "36\n"
     ]
    },
    {
     "name": "stderr",
     "output_type": "stream",
     "text": [
      "100%|██████████| 6/6 [1:17:30<00:00, 775.03s/it]"
     ]
    },
    {
     "name": "stdout",
     "output_type": "stream",
     "text": [
      "0\n"
     ]
    },
    {
     "name": "stderr",
     "output_type": "stream",
     "text": [
      "\n"
     ]
    },
    {
     "data": {
      "text/plain": [
       "<BarContainer object of 6 artists>"
      ]
     },
     "execution_count": 10,
     "metadata": {},
     "output_type": "execute_result"
    },
    {
     "data": {
      "image/png": "[encoded data removed]",
      "text/plain": [
       "<Figure size 432x288 with 2 Axes>"
      ]
     },
     "metadata": {
      "needs_background": "light"
     },
     "output_type": "display_data"
    }
   ],
   "source": [
    "matrix = import_connectivity_matrix(dataframe = False, type = 'csr')\n",
    "save_path = Path(\"data/counting/full/full.flag\")\n",
    "manager = MPDataManager(save_path, matrix)\n",
    "results = []\n",
    "simplices = []\n",
    "for dimension in tqdm(range(1,7)):\n",
    "    try:\n",
    "        iterator = manager.mp_np_simplex_iterator_dense(dimension = dimension, random = False)\n",
    "        r = pool.imap(count_bisimplices_dense, iterator, chunksize=1000)\n",
    "        count = 0\n",
    "        for element in r:\n",
    "            count += element\n",
    "        print(count)\n",
    "        results.append(count)\n",
    "    except Exception as e:\n",
    "        results.append(0)\n",
    "        print(e)\n",
    "    try:\n",
    "        simplices.append(len(manager._count_file['Cells_' + str(dimension)]))\n",
    "    except:\n",
    "        simplices.append(0)\n",
    "    manager._shut_shared_memory()\n",
    "    del iterator\n",
    "fig, axes = plt.subplots(1,2)\n",
    "axes[0].bar(range(1,7),results)\n",
    "axes[1].bar(range(1,7),np.array(results)/np.array(simplices))"
   ]
  },
  {
   "cell_type": "code",
   "execution_count": 13,
   "metadata": {
    "scrolled": true
   },
   "outputs": [
    {
     "name": "stderr",
     "output_type": "stream",
     "text": [
      "100%|██████████| 55/55 [00:11<00:00,  4.64it/s]\n",
      "100%|██████████| 6/6 [40:39<00:00, 406.59s/it]\n"
     ]
    },
    {
     "data": {
      "text/plain": [
       "<BarContainer object of 6 artists>"
      ]
     },
     "execution_count": 13,
     "metadata": {},
     "output_type": "execute_result"
    },
    {
     "data": {
      "image/png": "[encoded data removed]",
      "text/plain": [
       "<Figure size 432x288 with 2 Axes>"
      ]
     },
     "metadata": {
      "needs_background": "light"
     },
     "output_type": "display_data"
    }
   ],
   "source": [
    "matrix = import_connectivity_matrix(dataframe = False, type = 'csr')\n",
    "save_path = Path(\"data/counting/full/full.flag\")\n",
    "manager = MPDataManager(save_path, matrix)\n",
    "results = []\n",
    "simplices = []\n",
    "for dimension in tqdm(range(1,7)):\n",
    "    try:\n",
    "        iterator = manager.mp_np_simplex_iterator_dense(dimension = dimension, random = False)\n",
    "        r = pool.imap(get_n_extended_simplices_dense, iterator, chunksize=1000)\n",
    "        count = 0\n",
    "        for element in r:\n",
    "            count += element\n",
    "        results.append(count)\n",
    "    except Exception as e:\n",
    "        results.append(0)\n",
    "        print(e)\n",
    "    try:\n",
    "        simplices.append(len(manager._count_file['Cells_' + str(dimension)]))\n",
    "    except:\n",
    "        simplices.append(0)\n",
    "    manager._shut_shared_memory()\n",
    "    del iterator\n",
    "fig, axes = plt.subplots(1,2)\n",
    "axes[0].bar(range(1,7),results)\n",
    "axes[1].bar(range(1,7),np.array(results)/np.array(simplices))"
   ]
  },
  {
   "cell_type": "code",
   "execution_count": 15,
   "metadata": {},
   "outputs": [],
   "source": [
    "fig.savefig(\"es_count_whole\")"
   ]
  },
  {
   "cell_type": "code",
   "execution_count": null,
   "metadata": {},
   "outputs": [],
   "source": []
  }
 ],
 "metadata": {
  "kernelspec": {
   "display_name": "Python 3",
   "language": "python",
   "name": "python3"
  },
  "language_info": {
   "codemirror_mode": {
    "name": "ipython",
    "version": 3
   },
   "file_extension": ".py",
   "mimetype": "text/x-python",
   "name": "python",
   "nbconvert_exporter": "python",
   "pygments_lexer": "ipython3",
   "version": "3.8.5"
  }
 },
 "nbformat": 4,
 "nbformat_minor": 4
}
