{
 "cells": [
  {
   "cell_type": "code",
   "execution_count": 1,
   "metadata": {},
   "outputs": [],
   "source": [
    "import numpy as np\n",
    "from pathlib import Path\n",
    "import h5py\n",
    "from tqdm import tqdm\n",
    "from itertools import product\n",
    "import multiprocessing as mp"
   ]
  },
  {
   "cell_type": "code",
   "execution_count": 2,
   "metadata": {},
   "outputs": [],
   "source": [
    "import matplotlib.pyplot as plt"
   ]
  },
  {
   "cell_type": "code",
   "execution_count": 3,
   "metadata": {},
   "outputs": [],
   "source": [
    "from robust_motifs.data import (save_count_graph_from_matrix, matrix_shuffle,\n",
    "                                load_bbp_matrix_format, adjust_bidirectional_edges,\n",
    "                               load_sparse_matrix_from_pkl)\n",
    "from robust_motifs.custom_mp import prepare_shared_memory\n",
    "from robust_motifs.counting import get_bisimplices"
   ]
  },
  {
   "cell_type": "code",
   "execution_count": 4,
   "metadata": {},
   "outputs": [
    {
     "name": "stderr",
     "output_type": "stream",
     "text": [
      "100%|██████████| 55/55 [08:10<00:00,  8.93s/it]\n"
     ]
    }
   ],
   "source": [
    "path = Path(\"data/data_daniela/O1_matrix/matrix_O1_col2.npy\")\n",
    "original_matrix = load_bbp_matrix_format(path)\n",
    "\n",
    "pathway_shuffled_matrix = load_bbp_matrix_format(path, shuffle_type=\"pathway\")\n",
    "\n",
    "shuffled_matrix = load_bbp_matrix_format(path, shuffle_type=\"all\")"
   ]
  },
  {
   "cell_type": "code",
   "execution_count": 5,
   "metadata": {},
   "outputs": [
    {
     "data": {
      "text/plain": [
       "<31346x31346 sparse matrix of type '<class 'numpy.bool_'>'\n",
       "\twith 61536 stored elements in Compressed Sparse Row format>"
      ]
     },
     "execution_count": 5,
     "metadata": {},
     "output_type": "execute_result"
    }
   ],
   "source": [
    "original_matrix.multiply(original_matrix.T)\n",
    "\n",
    "pathway_shuffled_matrix.multiply(pathway_shuffled_matrix.T)\n",
    "\n",
    "shuffled_matrix.multiply(shuffled_matrix.T)"
   ]
  },
  {
   "cell_type": "code",
   "execution_count": 6,
   "metadata": {},
   "outputs": [
    {
     "name": "stderr",
     "output_type": "stream",
     "text": [
      "Removing edges...: 100%|██████████| 60698/60698 [00:07<00:00, 8556.88it/s]\n",
      "Adding bidirectional edges...: 100%|██████████| 60698/60698 [00:00<00:00, 159095.68it/s]\n"
     ]
    }
   ],
   "source": [
    "bid_adjusted_matrix = adjust_bidirectional_edges(shuffled_matrix, int(182932/2))"
   ]
  },
  {
   "cell_type": "code",
   "execution_count": 7,
   "metadata": {},
   "outputs": [
    {
     "data": {
      "text/plain": [
       "<31346x31346 sparse matrix of type '<class 'numpy.bool_'>'\n",
       "\twith 182932 stored elements in Compressed Sparse Row format>"
      ]
     },
     "execution_count": 7,
     "metadata": {},
     "output_type": "execute_result"
    }
   ],
   "source": [
    "bid_adjusted_matrix.multiply(bid_adjusted_matrix.T)"
   ]
  },
  {
   "cell_type": "markdown",
   "metadata": {},
   "source": [
    "### Processing"
   ]
  },
  {
   "cell_type": "code",
   "execution_count": 8,
   "metadata": {},
   "outputs": [],
   "source": [
    "overall_results = [{},{},{},{}]"
   ]
  },
  {
   "cell_type": "markdown",
   "metadata": {},
   "source": [
    "### Column"
   ]
  },
  {
   "cell_type": "code",
   "execution_count": 9,
   "metadata": {},
   "outputs": [
    {
     "name": "stderr",
     "output_type": "stream",
     "text": [
      "100%|██████████| 31346/31346 [00:00<00:00, 3252551.91it/s]\n",
      "7803528it [00:11, 680592.33it/s]\n"
     ]
    }
   ],
   "source": [
    "save_path = Path(\"data/models/column/column.flag\")\n",
    "save_path.parent.mkdir(exist_ok=True, parents=True)\n",
    "flag_path, pkl_path, count_path =save_count_graph_from_matrix(save_path, original_matrix)"
   ]
  },
  {
   "cell_type": "code",
   "execution_count": 10,
   "metadata": {},
   "outputs": [],
   "source": [
    "pool = mp.Pool()"
   ]
  },
  {
   "cell_type": "code",
   "execution_count": 11,
   "metadata": {},
   "outputs": [
    {
     "name": "stderr",
     "output_type": "stream",
     "text": [
      "100%|██████████| 6/6 [02:05<00:00, 20.86s/it]\n",
      "  0%|          | 0/6 [00:00<?, ?it/s]"
     ]
    },
    {
     "name": "stdout",
     "output_type": "stream",
     "text": [
      "Extended simplices for 10000 simplices per dimension\n",
      "{1: 4046, 2: 513, 3: 87, 4: 26, 5: 4, 6: 0}\n",
      "Total simplices per dimension\n",
      "{1: 7803528, 2: 76936601, 3: 65939554, 4: 7637507, 5: 163019, 6: 808}\n"
     ]
    },
    {
     "name": "stderr",
     "output_type": "stream",
     "text": [
      "100%|██████████| 6/6 [02:06<00:00, 21.03s/it]\n",
      "  0%|          | 0/6 [00:00<?, ?it/s]"
     ]
    },
    {
     "name": "stdout",
     "output_type": "stream",
     "text": [
      "Extended simplices for 10000 simplices per dimension\n",
      "{1: 4173, 2: 481, 3: 74, 4: 16, 5: 2, 6: 0}\n",
      "Total simplices per dimension\n",
      "{1: 7803528, 2: 76936601, 3: 65939554, 4: 7637507, 5: 163019, 6: 808}\n"
     ]
    },
    {
     "name": "stderr",
     "output_type": "stream",
     "text": [
      "100%|██████████| 6/6 [02:06<00:00, 21.13s/it]\n",
      "  0%|          | 0/6 [00:00<?, ?it/s]"
     ]
    },
    {
     "name": "stdout",
     "output_type": "stream",
     "text": [
      "Extended simplices for 10000 simplices per dimension\n",
      "{1: 4240, 2: 486, 3: 94, 4: 16, 5: 2, 6: 0}\n",
      "Total simplices per dimension\n",
      "{1: 7803528, 2: 76936601, 3: 65939554, 4: 7637507, 5: 163019, 6: 808}\n"
     ]
    },
    {
     "name": "stderr",
     "output_type": "stream",
     "text": [
      "100%|██████████| 6/6 [02:07<00:00, 21.25s/it]\n",
      "  0%|          | 0/6 [00:00<?, ?it/s]"
     ]
    },
    {
     "name": "stdout",
     "output_type": "stream",
     "text": [
      "Extended simplices for 10000 simplices per dimension\n",
      "{1: 4108, 2: 468, 3: 83, 4: 12, 5: 5, 6: 0}\n",
      "Total simplices per dimension\n",
      "{1: 7803528, 2: 76936601, 3: 65939554, 4: 7637507, 5: 163019, 6: 808}\n"
     ]
    },
    {
     "name": "stderr",
     "output_type": "stream",
     "text": [
      "100%|██████████| 6/6 [02:06<00:00, 21.15s/it]\n",
      "  0%|          | 0/6 [00:00<?, ?it/s]"
     ]
    },
    {
     "name": "stdout",
     "output_type": "stream",
     "text": [
      "Extended simplices for 10000 simplices per dimension\n",
      "{1: 4165, 2: 501, 3: 84, 4: 20, 5: 6, 6: 0}\n",
      "Total simplices per dimension\n",
      "{1: 7803528, 2: 76936601, 3: 65939554, 4: 7637507, 5: 163019, 6: 808}\n"
     ]
    },
    {
     "name": "stderr",
     "output_type": "stream",
     "text": [
      "100%|██████████| 6/6 [02:07<00:00, 21.22s/it]\n",
      "  0%|          | 0/6 [00:00<?, ?it/s]"
     ]
    },
    {
     "name": "stdout",
     "output_type": "stream",
     "text": [
      "Extended simplices for 10000 simplices per dimension\n",
      "{1: 4074, 2: 517, 3: 80, 4: 20, 5: 3, 6: 0}\n",
      "Total simplices per dimension\n",
      "{1: 7803528, 2: 76936601, 3: 65939554, 4: 7637507, 5: 163019, 6: 808}\n"
     ]
    },
    {
     "name": "stderr",
     "output_type": "stream",
     "text": [
      "100%|██████████| 6/6 [02:07<00:00, 21.18s/it]\n",
      "  0%|          | 0/6 [00:00<?, ?it/s]"
     ]
    },
    {
     "name": "stdout",
     "output_type": "stream",
     "text": [
      "Extended simplices for 10000 simplices per dimension\n",
      "{1: 4121, 2: 516, 3: 89, 4: 19, 5: 3, 6: 0}\n",
      "Total simplices per dimension\n",
      "{1: 7803528, 2: 76936601, 3: 65939554, 4: 7637507, 5: 163019, 6: 808}\n"
     ]
    },
    {
     "name": "stderr",
     "output_type": "stream",
     "text": [
      "100%|██████████| 6/6 [02:07<00:00, 21.27s/it]\n",
      "  0%|          | 0/6 [00:00<?, ?it/s]"
     ]
    },
    {
     "name": "stdout",
     "output_type": "stream",
     "text": [
      "Extended simplices for 10000 simplices per dimension\n",
      "{1: 4118, 2: 488, 3: 89, 4: 14, 5: 2, 6: 0}\n",
      "Total simplices per dimension\n",
      "{1: 7803528, 2: 76936601, 3: 65939554, 4: 7637507, 5: 163019, 6: 808}\n"
     ]
    },
    {
     "name": "stderr",
     "output_type": "stream",
     "text": [
      "100%|██████████| 6/6 [02:08<00:00, 21.34s/it]\n",
      "  0%|          | 0/6 [00:00<?, ?it/s]"
     ]
    },
    {
     "name": "stdout",
     "output_type": "stream",
     "text": [
      "Extended simplices for 10000 simplices per dimension\n",
      "{1: 4157, 2: 533, 3: 96, 4: 22, 5: 1, 6: 0}\n",
      "Total simplices per dimension\n",
      "{1: 7803528, 2: 76936601, 3: 65939554, 4: 7637507, 5: 163019, 6: 808}\n"
     ]
    },
    {
     "name": "stderr",
     "output_type": "stream",
     "text": [
      "100%|██████████| 6/6 [02:07<00:00, 21.27s/it]"
     ]
    },
    {
     "name": "stdout",
     "output_type": "stream",
     "text": [
      "Extended simplices for 10000 simplices per dimension\n",
      "{1: 4102, 2: 482, 3: 89, 4: 20, 5: 2, 6: 0}\n",
      "Total simplices per dimension\n",
      "{1: 7803528, 2: 76936601, 3: 65939554, 4: 7637507, 5: 163019, 6: 808}\n"
     ]
    },
    {
     "name": "stderr",
     "output_type": "stream",
     "text": [
      "\n"
     ]
    }
   ],
   "source": [
    "complex_file = h5py.File(count_path, 'r')\n",
    "matrix = load_sparse_matrix_from_pkl(pkl_path)\n",
    "bid_matrix = matrix.multiply(matrix.T)\n",
    "arrays, links = prepare_shared_memory(matrix, \"full\")\n",
    "bid_arrays, bid_links = prepare_shared_memory(bid_matrix, \"bid\")\n",
    "for _ in range(10):\n",
    "    result_dictionary = {}\n",
    "    aux_dictionary = {}\n",
    "######## iteration #####\n",
    "    for dimension in tqdm(range(1, 7)):\n",
    "        try:\n",
    "            ####### step 1: compiling the dictionary ######\n",
    "            random_selection = np.random.choice(complex_file[\"Cells_\" + str(dimension)].shape[0],\n",
    "                                                min(10000,complex_file[\"Cells_\" + str(dimension)].shape[0]),\n",
    "                                                replace = False)\n",
    "            random_selection.sort()\n",
    "            simplex_iterator = iter(complex_file[\"Cells_\" + str(dimension)][random_selection])\n",
    "            ###### step 2: getting bidirectional targets ######\n",
    "             # fictitious product to satisfy imap reqs of a single arugment.\n",
    "            mp_iterator = product(simplex_iterator, [arrays], [bid_arrays])\n",
    "            results = pool.imap(get_bisimplices, mp_iterator)\n",
    "            ###### step 3: counting extended simplices ######\n",
    "            for elem in results:\n",
    "                result_dictionary[dimension] = result_dictionary.get(dimension, set()).union(set(elem))\n",
    "        except KeyError: # If there are no simplices in h5 file..\n",
    "                result_dictionary[dimension] = set()\n",
    "        try:\n",
    "            aux_dictionary[dimension] = len(complex_file[\"Cells_\" + str(dimension)])\n",
    "        except KeyError: # If there are no simplices in h5 file...\n",
    "            aux_dictionary[dimension] = 0\n",
    "        result_dictionary[dimension] = len(result_dictionary[dimension])\n",
    "        \n",
    "        overall_results[0][dimension] = overall_results[0].get(dimension, []) + [result_dictionary[dimension]]\n",
    "    print(\"Extended simplices for 10000 simplices per dimension\")\n",
    "    print(result_dictionary)\n",
    "    print(\"Total simplices per dimension\")\n",
    "    print(aux_dictionary)\n",
    "    # free shared memory\n",
    "for link in links:\n",
    "    link.unlink()\n",
    "for link in bid_links:\n",
    "    link.unlink()"
   ]
  },
  {
   "cell_type": "code",
   "execution_count": 12,
   "metadata": {},
   "outputs": [
    {
     "data": {
      "text/plain": [
       "<BarContainer object of 6 artists>"
      ]
     },
     "execution_count": 12,
     "metadata": {},
     "output_type": "execute_result"
    },
    {
     "data": {
      "image/png": "[encoded data removed]",
      "text/plain": [
       "<Figure size 432x288 with 1 Axes>"
      ]
     },
     "metadata": {
      "needs_background": "light"
     },
     "output_type": "display_data"
    }
   ],
   "source": [
    "a = []\n",
    "b = []\n",
    "for elem in overall_results[0].values():\n",
    "    a.append(np.mean(elem))\n",
    "plt.bar(range(1,7), a)"
   ]
  },
  {
   "cell_type": "markdown",
   "metadata": {},
   "source": [
    "### Pathway shuffled"
   ]
  },
  {
   "cell_type": "code",
   "execution_count": 13,
   "metadata": {},
   "outputs": [
    {
     "name": "stderr",
     "output_type": "stream",
     "text": [
      "100%|██████████| 31346/31346 [00:00<00:00, 3130647.04it/s]\n",
      "7803528it [00:11, 663719.88it/s]\n"
     ]
    }
   ],
   "source": [
    "save_path = Path(\"data/models/pshuffled/pshuffled.flag\")\n",
    "save_path.parent.mkdir(exist_ok=True, parents=True)\n",
    "flag_path, pkl_path, count_path =save_count_graph_from_matrix(save_path, pathway_shuffled_matrix)"
   ]
  },
  {
   "cell_type": "code",
   "execution_count": 14,
   "metadata": {},
   "outputs": [],
   "source": [
    "pool = mp.Pool()"
   ]
  },
  {
   "cell_type": "code",
   "execution_count": 15,
   "metadata": {},
   "outputs": [
    {
     "name": "stderr",
     "output_type": "stream",
     "text": [
      "100%|██████████| 6/6 [01:01<00:00, 10.32s/it]\n",
      "  0%|          | 0/6 [00:00<?, ?it/s]"
     ]
    },
    {
     "name": "stdout",
     "output_type": "stream",
     "text": [
      "Extended simplices for 10000 simplices per dimension\n",
      "{1: 490, 2: 10, 3: 0, 4: 0, 5: 0, 6: 0}\n",
      "Total simplices per dimension\n",
      "{1: 7803528, 2: 26656484, 3: 1690177, 4: 2489, 5: 0, 6: 0}\n"
     ]
    },
    {
     "name": "stderr",
     "output_type": "stream",
     "text": [
      "100%|██████████| 6/6 [01:02<00:00, 10.35s/it]\n",
      "  0%|          | 0/6 [00:00<?, ?it/s]"
     ]
    },
    {
     "name": "stdout",
     "output_type": "stream",
     "text": [
      "Extended simplices for 10000 simplices per dimension\n",
      "{1: 468, 2: 9, 3: 0, 4: 0, 5: 0, 6: 0}\n",
      "Total simplices per dimension\n",
      "{1: 7803528, 2: 26656484, 3: 1690177, 4: 2489, 5: 0, 6: 0}\n"
     ]
    },
    {
     "name": "stderr",
     "output_type": "stream",
     "text": [
      "100%|██████████| 6/6 [01:02<00:00, 10.34s/it]\n",
      "  0%|          | 0/6 [00:00<?, ?it/s]"
     ]
    },
    {
     "name": "stdout",
     "output_type": "stream",
     "text": [
      "Extended simplices for 10000 simplices per dimension\n",
      "{1: 488, 2: 8, 3: 0, 4: 0, 5: 0, 6: 0}\n",
      "Total simplices per dimension\n",
      "{1: 7803528, 2: 26656484, 3: 1690177, 4: 2489, 5: 0, 6: 0}\n"
     ]
    },
    {
     "name": "stderr",
     "output_type": "stream",
     "text": [
      "100%|██████████| 6/6 [01:02<00:00, 10.39s/it]\n",
      "  0%|          | 0/6 [00:00<?, ?it/s]"
     ]
    },
    {
     "name": "stdout",
     "output_type": "stream",
     "text": [
      "Extended simplices for 10000 simplices per dimension\n",
      "{1: 475, 2: 9, 3: 1, 4: 0, 5: 0, 6: 0}\n",
      "Total simplices per dimension\n",
      "{1: 7803528, 2: 26656484, 3: 1690177, 4: 2489, 5: 0, 6: 0}\n"
     ]
    },
    {
     "name": "stderr",
     "output_type": "stream",
     "text": [
      "100%|██████████| 6/6 [01:02<00:00, 10.38s/it]\n",
      "  0%|          | 0/6 [00:00<?, ?it/s]"
     ]
    },
    {
     "name": "stdout",
     "output_type": "stream",
     "text": [
      "Extended simplices for 10000 simplices per dimension\n",
      "{1: 457, 2: 9, 3: 0, 4: 0, 5: 0, 6: 0}\n",
      "Total simplices per dimension\n",
      "{1: 7803528, 2: 26656484, 3: 1690177, 4: 2489, 5: 0, 6: 0}\n"
     ]
    },
    {
     "name": "stderr",
     "output_type": "stream",
     "text": [
      "100%|██████████| 6/6 [01:02<00:00, 10.37s/it]\n",
      "  0%|          | 0/6 [00:00<?, ?it/s]"
     ]
    },
    {
     "name": "stdout",
     "output_type": "stream",
     "text": [
      "Extended simplices for 10000 simplices per dimension\n",
      "{1: 495, 2: 12, 3: 2, 4: 0, 5: 0, 6: 0}\n",
      "Total simplices per dimension\n",
      "{1: 7803528, 2: 26656484, 3: 1690177, 4: 2489, 5: 0, 6: 0}\n"
     ]
    },
    {
     "name": "stderr",
     "output_type": "stream",
     "text": [
      "100%|██████████| 6/6 [01:02<00:00, 10.38s/it]\n",
      "  0%|          | 0/6 [00:00<?, ?it/s]"
     ]
    },
    {
     "name": "stdout",
     "output_type": "stream",
     "text": [
      "Extended simplices for 10000 simplices per dimension\n",
      "{1: 505, 2: 10, 3: 0, 4: 0, 5: 0, 6: 0}\n",
      "Total simplices per dimension\n",
      "{1: 7803528, 2: 26656484, 3: 1690177, 4: 2489, 5: 0, 6: 0}\n"
     ]
    },
    {
     "name": "stderr",
     "output_type": "stream",
     "text": [
      "100%|██████████| 6/6 [01:02<00:00, 10.40s/it]\n",
      "  0%|          | 0/6 [00:00<?, ?it/s]"
     ]
    },
    {
     "name": "stdout",
     "output_type": "stream",
     "text": [
      "Extended simplices for 10000 simplices per dimension\n",
      "{1: 470, 2: 18, 3: 0, 4: 0, 5: 0, 6: 0}\n",
      "Total simplices per dimension\n",
      "{1: 7803528, 2: 26656484, 3: 1690177, 4: 2489, 5: 0, 6: 0}\n"
     ]
    },
    {
     "name": "stderr",
     "output_type": "stream",
     "text": [
      "100%|██████████| 6/6 [01:02<00:00, 10.36s/it]\n",
      "  0%|          | 0/6 [00:00<?, ?it/s]"
     ]
    },
    {
     "name": "stdout",
     "output_type": "stream",
     "text": [
      "Extended simplices for 10000 simplices per dimension\n",
      "{1: 469, 2: 7, 3: 0, 4: 0, 5: 0, 6: 0}\n",
      "Total simplices per dimension\n",
      "{1: 7803528, 2: 26656484, 3: 1690177, 4: 2489, 5: 0, 6: 0}\n"
     ]
    },
    {
     "name": "stderr",
     "output_type": "stream",
     "text": [
      "100%|██████████| 6/6 [01:02<00:00, 10.35s/it]"
     ]
    },
    {
     "name": "stdout",
     "output_type": "stream",
     "text": [
      "Extended simplices for 10000 simplices per dimension\n",
      "{1: 542, 2: 14, 3: 0, 4: 0, 5: 0, 6: 0}\n",
      "Total simplices per dimension\n",
      "{1: 7803528, 2: 26656484, 3: 1690177, 4: 2489, 5: 0, 6: 0}\n"
     ]
    },
    {
     "name": "stderr",
     "output_type": "stream",
     "text": [
      "\n"
     ]
    }
   ],
   "source": [
    "complex_file = h5py.File(count_path, 'r')\n",
    "matrix = load_sparse_matrix_from_pkl(pkl_path)\n",
    "bid_matrix = matrix.multiply(matrix.T)\n",
    "arrays, links = prepare_shared_memory(matrix, \"full\")\n",
    "bid_arrays, bid_links = prepare_shared_memory(bid_matrix, \"bid\")\n",
    "for _ in range(10):\n",
    "    result_dictionary = {}\n",
    "    aux_dictionary = {}\n",
    "######## iteration #####\n",
    "    for dimension in tqdm(range(1, 7)):\n",
    "        try:\n",
    "            ####### step 1: compiling the dictionary ######\n",
    "            random_selection = np.random.choice(complex_file[\"Cells_\" + str(dimension)].shape[0],\n",
    "                                                min(10000,complex_file[\"Cells_\" + str(dimension)].shape[0]),\n",
    "                                                replace = False)\n",
    "            random_selection.sort()\n",
    "            simplex_iterator = iter(complex_file[\"Cells_\" + str(dimension)][random_selection])\n",
    "            ###### step 2: getting bidirectional targets ######\n",
    "             # fictitious product to satisfy imap reqs of a single arugment.\n",
    "            mp_iterator = product(simplex_iterator, [arrays], [bid_arrays])\n",
    "            results = pool.imap(get_bisimplices, mp_iterator)\n",
    "            ###### step 3: counting extended simplices ######\n",
    "            for elem in results:\n",
    "                result_dictionary[dimension] = result_dictionary.get(dimension, set()).union(set(elem))\n",
    "        except KeyError: # If there are no simplices in h5 file..\n",
    "                result_dictionary[dimension] = set()\n",
    "        try:\n",
    "            aux_dictionary[dimension] = len(complex_file[\"Cells_\" + str(dimension)])\n",
    "        except KeyError: # If there are no simplices in h5 file...\n",
    "            aux_dictionary[dimension] = 0\n",
    "        result_dictionary[dimension] = len(result_dictionary[dimension])\n",
    "        \n",
    "        overall_results[1][dimension] = overall_results[1].get(dimension, []) + [result_dictionary[dimension]]\n",
    "    print(\"Extended simplices for 10000 simplices per dimension\")\n",
    "    print(result_dictionary)\n",
    "    print(\"Total simplices per dimension\")\n",
    "    print(aux_dictionary)\n",
    "    # free shared memory\n",
    "for link in links:\n",
    "    link.unlink()\n",
    "for link in bid_links:\n",
    "    link.unlink()"
   ]
  },
  {
   "cell_type": "code",
   "execution_count": 16,
   "metadata": {},
   "outputs": [
    {
     "data": {
      "text/plain": [
       "<BarContainer object of 6 artists>"
      ]
     },
     "execution_count": 16,
     "metadata": {},
     "output_type": "execute_result"
    },
    {
     "data": {
      "image/png": "[encoded data removed]",
      "text/plain": [
       "<Figure size 432x288 with 1 Axes>"
      ]
     },
     "metadata": {
      "needs_background": "light"
     },
     "output_type": "display_data"
    }
   ],
   "source": [
    "a = []\n",
    "b = []\n",
    "for elem in overall_results[1].values():\n",
    "    a.append(np.mean(elem))\n",
    "plt.bar(range(1,7), a)"
   ]
  },
  {
   "cell_type": "markdown",
   "metadata": {},
   "source": [
    "### ER"
   ]
  },
  {
   "cell_type": "code",
   "execution_count": 17,
   "metadata": {},
   "outputs": [
    {
     "name": "stderr",
     "output_type": "stream",
     "text": [
      "100%|██████████| 31346/31346 [00:00<00:00, 3090176.59it/s]\n",
      "7803528it [00:11, 661734.87it/s]\n"
     ]
    }
   ],
   "source": [
    "save_path = Path(\"data/models/shuffled/shuffled.flag\")\n",
    "save_path.parent.mkdir(exist_ok=True, parents=True)\n",
    "flag_path, pkl_path, count_path =save_count_graph_from_matrix(save_path, shuffled_matrix)"
   ]
  },
  {
   "cell_type": "code",
   "execution_count": 18,
   "metadata": {},
   "outputs": [],
   "source": [
    "pool = mp.Pool()"
   ]
  },
  {
   "cell_type": "code",
   "execution_count": 19,
   "metadata": {},
   "outputs": [
    {
     "name": "stderr",
     "output_type": "stream",
     "text": [
      "100%|██████████| 6/6 [00:52<00:00,  8.77s/it]\n",
      "  0%|          | 0/6 [00:00<?, ?it/s]"
     ]
    },
    {
     "name": "stdout",
     "output_type": "stream",
     "text": [
      "Extended simplices for 10000 simplices per dimension\n",
      "{1: 160, 2: 3, 3: 0, 4: 0, 5: 0, 6: 0}\n",
      "Total simplices per dimension\n",
      "{1: 7803528, 2: 15431743, 3: 242897, 4: 27, 5: 0, 6: 0}\n"
     ]
    },
    {
     "name": "stderr",
     "output_type": "stream",
     "text": [
      "100%|██████████| 6/6 [00:52<00:00,  8.79s/it]\n",
      "  0%|          | 0/6 [00:00<?, ?it/s]"
     ]
    },
    {
     "name": "stdout",
     "output_type": "stream",
     "text": [
      "Extended simplices for 10000 simplices per dimension\n",
      "{1: 181, 2: 2, 3: 0, 4: 0, 5: 0, 6: 0}\n",
      "Total simplices per dimension\n",
      "{1: 7803528, 2: 15431743, 3: 242897, 4: 27, 5: 0, 6: 0}\n"
     ]
    },
    {
     "name": "stderr",
     "output_type": "stream",
     "text": [
      "100%|██████████| 6/6 [00:52<00:00,  8.78s/it]\n",
      "  0%|          | 0/6 [00:00<?, ?it/s]"
     ]
    },
    {
     "name": "stdout",
     "output_type": "stream",
     "text": [
      "Extended simplices for 10000 simplices per dimension\n",
      "{1: 156, 2: 3, 3: 0, 4: 0, 5: 0, 6: 0}\n",
      "Total simplices per dimension\n",
      "{1: 7803528, 2: 15431743, 3: 242897, 4: 27, 5: 0, 6: 0}\n"
     ]
    },
    {
     "name": "stderr",
     "output_type": "stream",
     "text": [
      "100%|██████████| 6/6 [00:53<00:00,  8.84s/it]\n",
      "  0%|          | 0/6 [00:00<?, ?it/s]"
     ]
    },
    {
     "name": "stdout",
     "output_type": "stream",
     "text": [
      "Extended simplices for 10000 simplices per dimension\n",
      "{1: 169, 2: 0, 3: 0, 4: 0, 5: 0, 6: 0}\n",
      "Total simplices per dimension\n",
      "{1: 7803528, 2: 15431743, 3: 242897, 4: 27, 5: 0, 6: 0}\n"
     ]
    },
    {
     "name": "stderr",
     "output_type": "stream",
     "text": [
      "100%|██████████| 6/6 [00:53<00:00,  8.85s/it]\n",
      "  0%|          | 0/6 [00:00<?, ?it/s]"
     ]
    },
    {
     "name": "stdout",
     "output_type": "stream",
     "text": [
      "Extended simplices for 10000 simplices per dimension\n",
      "{1: 160, 2: 0, 3: 0, 4: 0, 5: 0, 6: 0}\n",
      "Total simplices per dimension\n",
      "{1: 7803528, 2: 15431743, 3: 242897, 4: 27, 5: 0, 6: 0}\n"
     ]
    },
    {
     "name": "stderr",
     "output_type": "stream",
     "text": [
      "100%|██████████| 6/6 [00:52<00:00,  8.82s/it]\n",
      "  0%|          | 0/6 [00:00<?, ?it/s]"
     ]
    },
    {
     "name": "stdout",
     "output_type": "stream",
     "text": [
      "Extended simplices for 10000 simplices per dimension\n",
      "{1: 136, 2: 0, 3: 0, 4: 0, 5: 0, 6: 0}\n",
      "Total simplices per dimension\n",
      "{1: 7803528, 2: 15431743, 3: 242897, 4: 27, 5: 0, 6: 0}\n"
     ]
    },
    {
     "name": "stderr",
     "output_type": "stream",
     "text": [
      "100%|██████████| 6/6 [00:52<00:00,  8.82s/it]\n",
      "  0%|          | 0/6 [00:00<?, ?it/s]"
     ]
    },
    {
     "name": "stdout",
     "output_type": "stream",
     "text": [
      "Extended simplices for 10000 simplices per dimension\n",
      "{1: 155, 2: 2, 3: 0, 4: 0, 5: 0, 6: 0}\n",
      "Total simplices per dimension\n",
      "{1: 7803528, 2: 15431743, 3: 242897, 4: 27, 5: 0, 6: 0}\n"
     ]
    },
    {
     "name": "stderr",
     "output_type": "stream",
     "text": [
      "100%|██████████| 6/6 [00:53<00:00,  8.89s/it]\n",
      "  0%|          | 0/6 [00:00<?, ?it/s]"
     ]
    },
    {
     "name": "stdout",
     "output_type": "stream",
     "text": [
      "Extended simplices for 10000 simplices per dimension\n",
      "{1: 151, 2: 1, 3: 0, 4: 0, 5: 0, 6: 0}\n",
      "Total simplices per dimension\n",
      "{1: 7803528, 2: 15431743, 3: 242897, 4: 27, 5: 0, 6: 0}\n"
     ]
    },
    {
     "name": "stderr",
     "output_type": "stream",
     "text": [
      "100%|██████████| 6/6 [00:52<00:00,  8.80s/it]\n",
      "  0%|          | 0/6 [00:00<?, ?it/s]"
     ]
    },
    {
     "name": "stdout",
     "output_type": "stream",
     "text": [
      "Extended simplices for 10000 simplices per dimension\n",
      "{1: 153, 2: 2, 3: 0, 4: 0, 5: 0, 6: 0}\n",
      "Total simplices per dimension\n",
      "{1: 7803528, 2: 15431743, 3: 242897, 4: 27, 5: 0, 6: 0}\n"
     ]
    },
    {
     "name": "stderr",
     "output_type": "stream",
     "text": [
      "100%|██████████| 6/6 [00:52<00:00,  8.81s/it]"
     ]
    },
    {
     "name": "stdout",
     "output_type": "stream",
     "text": [
      "Extended simplices for 10000 simplices per dimension\n",
      "{1: 147, 2: 3, 3: 0, 4: 0, 5: 0, 6: 0}\n",
      "Total simplices per dimension\n",
      "{1: 7803528, 2: 15431743, 3: 242897, 4: 27, 5: 0, 6: 0}\n"
     ]
    },
    {
     "name": "stderr",
     "output_type": "stream",
     "text": [
      "\n"
     ]
    }
   ],
   "source": [
    "complex_file = h5py.File(count_path, 'r')\n",
    "matrix = load_sparse_matrix_from_pkl(pkl_path)\n",
    "bid_matrix = matrix.multiply(matrix.T)\n",
    "arrays, links = prepare_shared_memory(matrix, \"full\")\n",
    "bid_arrays, bid_links = prepare_shared_memory(bid_matrix, \"bid\")\n",
    "for _ in range(10):\n",
    "    result_dictionary = {}\n",
    "    aux_dictionary = {}\n",
    "######## iteration #####\n",
    "    for dimension in tqdm(range(1, 7)):\n",
    "        try:\n",
    "            ####### step 1: compiling the dictionary ######\n",
    "            random_selection = np.random.choice(complex_file[\"Cells_\" + str(dimension)].shape[0],\n",
    "                                                min(10000,complex_file[\"Cells_\" + str(dimension)].shape[0]),\n",
    "                                                replace = False)\n",
    "            random_selection.sort()\n",
    "            simplex_iterator = iter(complex_file[\"Cells_\" + str(dimension)][random_selection])\n",
    "            ###### step 2: getting bidirectional targets ######\n",
    "             # fictitious product to satisfy imap reqs of a single arugment.\n",
    "            mp_iterator = product(simplex_iterator, [arrays], [bid_arrays])\n",
    "            results = pool.imap(get_bisimplices, mp_iterator)\n",
    "            ###### step 3: counting extended simplices ######\n",
    "            for elem in results:\n",
    "                result_dictionary[dimension] = result_dictionary.get(dimension, set()).union(set(elem))\n",
    "        except KeyError: # If there are no simplices in h5 file..\n",
    "                result_dictionary[dimension] = set()\n",
    "        try:\n",
    "            aux_dictionary[dimension] = len(complex_file[\"Cells_\" + str(dimension)])\n",
    "        except KeyError: # If there are no simplices in h5 file...\n",
    "            aux_dictionary[dimension] = 0\n",
    "        result_dictionary[dimension] = len(result_dictionary[dimension])\n",
    "        \n",
    "        overall_results[2][dimension] = overall_results[2].get(dimension, []) + [result_dictionary[dimension]]\n",
    "    print(\"Extended simplices for 10000 simplices per dimension\")\n",
    "    print(result_dictionary)\n",
    "    print(\"Total simplices per dimension\")\n",
    "    print(aux_dictionary)\n",
    "    # free shared memory\n",
    "for link in links:\n",
    "    link.unlink()\n",
    "for link in bid_links:\n",
    "    link.unlink()"
   ]
  },
  {
   "cell_type": "code",
   "execution_count": 20,
   "metadata": {},
   "outputs": [
    {
     "data": {
      "text/plain": [
       "<BarContainer object of 6 artists>"
      ]
     },
     "execution_count": 20,
     "metadata": {},
     "output_type": "execute_result"
    },
    {
     "data": {
      "image/png": "[encoded data removed]",
      "text/plain": [
       "<Figure size 432x288 with 1 Axes>"
      ]
     },
     "metadata": {
      "needs_background": "light"
     },
     "output_type": "display_data"
    }
   ],
   "source": [
    "a = []\n",
    "b = []\n",
    "for elem in overall_results[2].values():\n",
    "    a.append(np.mean(elem))\n",
    "plt.bar(range(1,7), a)"
   ]
  },
  {
   "cell_type": "markdown",
   "metadata": {},
   "source": [
    "### ER bid adjusted"
   ]
  },
  {
   "cell_type": "code",
   "execution_count": 21,
   "metadata": {},
   "outputs": [
    {
     "name": "stderr",
     "output_type": "stream",
     "text": [
      "100%|██████████| 31346/31346 [00:00<00:00, 2919777.33it/s]\n",
      "7803528it [00:11, 658164.44it/s]\n"
     ]
    }
   ],
   "source": [
    "save_path = Path(\"data/models/adjusted/adjusted.flag\")\n",
    "save_path.parent.mkdir(exist_ok=True, parents=True)\n",
    "flag_path, pkl_path, count_path =save_count_graph_from_matrix(save_path, bid_adjusted_matrix)"
   ]
  },
  {
   "cell_type": "code",
   "execution_count": 22,
   "metadata": {},
   "outputs": [],
   "source": [
    "pool = mp.Pool()"
   ]
  },
  {
   "cell_type": "code",
   "execution_count": 23,
   "metadata": {},
   "outputs": [
    {
     "name": "stderr",
     "output_type": "stream",
     "text": [
      "100%|██████████| 6/6 [01:00<00:00, 10.02s/it]\n",
      "  0%|          | 0/6 [00:00<?, ?it/s]"
     ]
    },
    {
     "name": "stdout",
     "output_type": "stream",
     "text": [
      "Extended simplices for 10000 simplices per dimension\n",
      "{1: 449, 2: 3, 3: 0, 4: 0, 5: 0, 6: 0}\n",
      "Total simplices per dimension\n",
      "{1: 7803528, 2: 15431690, 3: 242981, 4: 30, 5: 0, 6: 0}\n"
     ]
    },
    {
     "name": "stderr",
     "output_type": "stream",
     "text": [
      "100%|██████████| 6/6 [01:00<00:00, 10.10s/it]\n",
      "  0%|          | 0/6 [00:00<?, ?it/s]"
     ]
    },
    {
     "name": "stdout",
     "output_type": "stream",
     "text": [
      "Extended simplices for 10000 simplices per dimension\n",
      "{1: 450, 2: 5, 3: 0, 4: 0, 5: 0, 6: 0}\n",
      "Total simplices per dimension\n",
      "{1: 7803528, 2: 15431690, 3: 242981, 4: 30, 5: 0, 6: 0}\n"
     ]
    },
    {
     "name": "stderr",
     "output_type": "stream",
     "text": [
      "100%|██████████| 6/6 [01:06<00:00, 11.12s/it]\n",
      "  0%|          | 0/6 [00:00<?, ?it/s]"
     ]
    },
    {
     "name": "stdout",
     "output_type": "stream",
     "text": [
      "Extended simplices for 10000 simplices per dimension\n",
      "{1: 487, 2: 7, 3: 0, 4: 0, 5: 0, 6: 0}\n",
      "Total simplices per dimension\n",
      "{1: 7803528, 2: 15431690, 3: 242981, 4: 30, 5: 0, 6: 0}\n"
     ]
    },
    {
     "name": "stderr",
     "output_type": "stream",
     "text": [
      "100%|██████████| 6/6 [01:02<00:00, 10.49s/it]\n",
      "  0%|          | 0/6 [00:00<?, ?it/s]"
     ]
    },
    {
     "name": "stdout",
     "output_type": "stream",
     "text": [
      "Extended simplices for 10000 simplices per dimension\n",
      "{1: 470, 2: 1, 3: 0, 4: 0, 5: 0, 6: 0}\n",
      "Total simplices per dimension\n",
      "{1: 7803528, 2: 15431690, 3: 242981, 4: 30, 5: 0, 6: 0}\n"
     ]
    },
    {
     "name": "stderr",
     "output_type": "stream",
     "text": [
      "100%|██████████| 6/6 [01:03<00:00, 10.54s/it]\n",
      "  0%|          | 0/6 [00:00<?, ?it/s]"
     ]
    },
    {
     "name": "stdout",
     "output_type": "stream",
     "text": [
      "Extended simplices for 10000 simplices per dimension\n",
      "{1: 470, 2: 6, 3: 0, 4: 0, 5: 0, 6: 0}\n",
      "Total simplices per dimension\n",
      "{1: 7803528, 2: 15431690, 3: 242981, 4: 30, 5: 0, 6: 0}\n"
     ]
    },
    {
     "name": "stderr",
     "output_type": "stream",
     "text": [
      "100%|██████████| 6/6 [01:03<00:00, 10.53s/it]\n",
      "  0%|          | 0/6 [00:00<?, ?it/s]"
     ]
    },
    {
     "name": "stdout",
     "output_type": "stream",
     "text": [
      "Extended simplices for 10000 simplices per dimension\n",
      "{1: 457, 2: 3, 3: 0, 4: 0, 5: 0, 6: 0}\n",
      "Total simplices per dimension\n",
      "{1: 7803528, 2: 15431690, 3: 242981, 4: 30, 5: 0, 6: 0}\n"
     ]
    },
    {
     "name": "stderr",
     "output_type": "stream",
     "text": [
      "100%|██████████| 6/6 [01:02<00:00, 10.47s/it]\n",
      "  0%|          | 0/6 [00:00<?, ?it/s]"
     ]
    },
    {
     "name": "stdout",
     "output_type": "stream",
     "text": [
      "Extended simplices for 10000 simplices per dimension\n",
      "{1: 504, 2: 2, 3: 0, 4: 0, 5: 0, 6: 0}\n",
      "Total simplices per dimension\n",
      "{1: 7803528, 2: 15431690, 3: 242981, 4: 30, 5: 0, 6: 0}\n"
     ]
    },
    {
     "name": "stderr",
     "output_type": "stream",
     "text": [
      "100%|██████████| 6/6 [01:02<00:00, 10.48s/it]\n",
      "  0%|          | 0/6 [00:00<?, ?it/s]"
     ]
    },
    {
     "name": "stdout",
     "output_type": "stream",
     "text": [
      "Extended simplices for 10000 simplices per dimension\n",
      "{1: 477, 2: 5, 3: 0, 4: 0, 5: 0, 6: 0}\n",
      "Total simplices per dimension\n",
      "{1: 7803528, 2: 15431690, 3: 242981, 4: 30, 5: 0, 6: 0}\n"
     ]
    },
    {
     "name": "stderr",
     "output_type": "stream",
     "text": [
      "100%|██████████| 6/6 [01:00<00:00, 10.14s/it]\n",
      "  0%|          | 0/6 [00:00<?, ?it/s]"
     ]
    },
    {
     "name": "stdout",
     "output_type": "stream",
     "text": [
      "Extended simplices for 10000 simplices per dimension\n",
      "{1: 470, 2: 3, 3: 0, 4: 0, 5: 0, 6: 0}\n",
      "Total simplices per dimension\n",
      "{1: 7803528, 2: 15431690, 3: 242981, 4: 30, 5: 0, 6: 0}\n"
     ]
    },
    {
     "name": "stderr",
     "output_type": "stream",
     "text": [
      "100%|██████████| 6/6 [01:01<00:00, 10.21s/it]"
     ]
    },
    {
     "name": "stdout",
     "output_type": "stream",
     "text": [
      "Extended simplices for 10000 simplices per dimension\n",
      "{1: 455, 2: 3, 3: 0, 4: 0, 5: 0, 6: 0}\n",
      "Total simplices per dimension\n",
      "{1: 7803528, 2: 15431690, 3: 242981, 4: 30, 5: 0, 6: 0}\n"
     ]
    },
    {
     "name": "stderr",
     "output_type": "stream",
     "text": [
      "\n"
     ]
    }
   ],
   "source": [
    "complex_file = h5py.File(count_path, 'r')\n",
    "matrix = load_sparse_matrix_from_pkl(pkl_path)\n",
    "bid_matrix = matrix.multiply(matrix.T)\n",
    "arrays, links = prepare_shared_memory(matrix, \"full\")\n",
    "bid_arrays, bid_links = prepare_shared_memory(bid_matrix, \"bid\")\n",
    "for _ in range(10):\n",
    "    result_dictionary = {}\n",
    "    aux_dictionary = {}\n",
    "######## iteration #####\n",
    "    for dimension in tqdm(range(1, 7)):\n",
    "        try:\n",
    "            ####### step 1: compiling the dictionary ######\n",
    "            random_selection = np.random.choice(complex_file[\"Cells_\" + str(dimension)].shape[0],\n",
    "                                                min(10000,complex_file[\"Cells_\" + str(dimension)].shape[0]),\n",
    "                                                replace = False)\n",
    "            random_selection.sort()\n",
    "            simplex_iterator = iter(complex_file[\"Cells_\" + str(dimension)][random_selection])\n",
    "            ###### step 2: getting bidirectional targets ######\n",
    "             # fictitious product to satisfy imap reqs of a single arugment.\n",
    "            mp_iterator = product(simplex_iterator, [arrays], [bid_arrays])\n",
    "            results = pool.imap(get_bisimplices, mp_iterator)\n",
    "            ###### step 3: counting extended simplices ######\n",
    "            for elem in results:\n",
    "                result_dictionary[dimension] = result_dictionary.get(dimension, set()).union(set(elem))\n",
    "        except KeyError: # If there are no simplices in h5 file..\n",
    "                result_dictionary[dimension] = set()\n",
    "        try:\n",
    "            aux_dictionary[dimension] = len(complex_file[\"Cells_\" + str(dimension)])\n",
    "        except KeyError: # If there are no simplices in h5 file...\n",
    "            aux_dictionary[dimension] = 0\n",
    "        result_dictionary[dimension] = len(result_dictionary[dimension])\n",
    "        \n",
    "        overall_results[3][dimension] = overall_results[3].get(dimension, []) + [result_dictionary[dimension]]\n",
    "    print(\"Extended simplices for 10000 simplices per dimension\")\n",
    "    print(result_dictionary)\n",
    "    print(\"Total simplices per dimension\")\n",
    "    print(aux_dictionary)\n",
    "    # free shared memory\n",
    "for link in links:\n",
    "    link.unlink()\n",
    "for link in bid_links:\n",
    "    link.unlink()"
   ]
  },
  {
   "cell_type": "code",
   "execution_count": 24,
   "metadata": {
    "scrolled": true
   },
   "outputs": [
    {
     "data": {
      "text/plain": [
       "<BarContainer object of 6 artists>"
      ]
     },
     "execution_count": 24,
     "metadata": {},
     "output_type": "execute_result"
    },
    {
     "data": {
      "image/png": "[encoded data removed]",
      "text/plain": [
       "<Figure size 432x288 with 1 Axes>"
      ]
     },
     "metadata": {
      "needs_background": "light"
     },
     "output_type": "display_data"
    }
   ],
   "source": [
    "a = []\n",
    "b = []\n",
    "for elem in overall_results[3].values():\n",
    "    a.append(np.mean(elem))\n",
    "    b.append(np.std(elem))\n",
    "plt.bar(range(1,7), a, yerr=b)"
   ]
  },
  {
   "cell_type": "code",
   "execution_count": 27,
   "metadata": {},
   "outputs": [
    {
     "data": {
      "text/plain": [
       "Text(0, 0.5, 'Extended simplices / simplex')"
      ]
     },
     "execution_count": 27,
     "metadata": {},
     "output_type": "execute_result"
    },
    {
     "data": {
      "image/png": "[encoded data removed]",
      "text/plain": [
       "<Figure size 936x345.6 with 4 Axes>"
      ]
     },
     "metadata": {
      "needs_background": "light"
     },
     "output_type": "display_data"
    }
   ],
   "source": [
    "img, axes = plt.subplots(1,4,figsize = [13, 4.8])\n",
    "titles = [\"Column\", \"Pathway-shuffled\", \"ER\", \"ER - bidirectional model\"]\n",
    "s_d4 = [6599529, 2489, 27, 30]\n",
    "for ax, dicts, title, s in zip(axes, overall_results, titles, s_d4):\n",
    "    a = []\n",
    "    for elem in dicts.values():\n",
    "        a.append(np.mean(elem)/10000)\n",
    "    a[3] = a[3]*10000/min(10000, s)\n",
    "    ax.bar(range(1,5), a[:4])\n",
    "    ax.set_xlabel(\"Dimension\")\n",
    "    ax.set_ylim(0,0.5)\n",
    "    ax.set_title(title)\n",
    "axes[0].set_ylabel(\"Extended simplices / simplex\")"
   ]
  },
  {
   "cell_type": "code",
   "execution_count": 28,
   "metadata": {},
   "outputs": [],
   "source": [
    "img.savefig(fname = \"Comparison bisimplices 2\", transparent=False, facecolor = \"white\")"
   ]
  },
  {
   "cell_type": "code",
   "execution_count": null,
   "metadata": {},
   "outputs": [],
   "source": []
  }
 ],
 "metadata": {
  "kernelspec": {
   "display_name": "Python 3",
   "language": "python",
   "name": "python3"
  },
  "language_info": {
   "codemirror_mode": {
    "name": "ipython",
    "version": 3
   },
   "file_extension": ".py",
   "mimetype": "text/x-python",
   "name": "python",
   "nbconvert_exporter": "python",
   "pygments_lexer": "ipython3",
   "version": "3.8.5"
  }
 },
 "nbformat": 4,
 "nbformat_minor": 4
}
