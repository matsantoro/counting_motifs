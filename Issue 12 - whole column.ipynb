{
 "cells": [
  {
   "cell_type": "code",
   "execution_count": 1,
   "metadata": {},
   "outputs": [],
   "source": [
    "from robust_motifs.data import import_connectivity_matrix, save_count_graph_from_matrix, MPDataManager\n",
    "from pathlib import Path"
   ]
  },
  {
   "cell_type": "code",
   "execution_count": 2,
   "metadata": {},
   "outputs": [],
   "source": [
    "from robust_motifs.counting import get_n_extended_simplices_dense, count_bisimplices_dense"
   ]
  },
  {
   "cell_type": "code",
   "execution_count": 3,
   "metadata": {},
   "outputs": [],
   "source": [
    "import multiprocessing as mp"
   ]
  },
  {
   "cell_type": "code",
   "execution_count": 4,
   "metadata": {},
   "outputs": [],
   "source": [
    "import time"
   ]
  },
  {
   "cell_type": "code",
   "execution_count": 5,
   "metadata": {},
   "outputs": [],
   "source": [
    "from tqdm import tqdm"
   ]
  },
  {
   "cell_type": "code",
   "execution_count": 6,
   "metadata": {},
   "outputs": [],
   "source": [
    "import numpy as np"
   ]
  },
  {
   "cell_type": "code",
   "execution_count": 7,
   "metadata": {},
   "outputs": [],
   "source": [
    "import matplotlib.pyplot as plt"
   ]
  },
  {
   "cell_type": "code",
   "execution_count": 8,
   "metadata": {},
   "outputs": [],
   "source": [
    "import gc"
   ]
  },
  {
   "cell_type": "code",
   "execution_count": 9,
   "metadata": {},
   "outputs": [],
   "source": [
    "pool = mp.Pool()"
   ]
  },
  {
   "cell_type": "code",
   "execution_count": 10,
   "metadata": {},
   "outputs": [
    {
     "name": "stderr",
     "output_type": "stream",
     "text": [
      "100%|██████████| 55/55 [00:11<00:00,  4.62it/s]\n",
      "  0%|          | 0/6 [00:00<?, ?it/s]"
     ]
    },
    {
     "name": "stdout",
     "output_type": "stream",
     "text": [
      "3001770\n"
     ]
    },
    {
     "name": "stderr",
     "output_type": "stream",
     "text": [
      " 33%|███▎      | 2/6 [41:34<55:01, 825.47s/it]"
     ]
    },
    {
     "name": "stdout",
     "output_type": "stream",
     "text": [
      "3443834\n",
      "484346\n"
     ]
    },
    {
     "name": "stderr",
     "output_type": "stream",
     "text": [
      "\r",
      " 50%|█████     | 3/6 [1:17:47<1:01:29, 1229.68s/it]"
     ]
    },
    {
     "name": "stdout",
     "output_type": "stream",
     "text": [
      "11474\n"
     ]
    },
    {
     "name": "stderr",
     "output_type": "stream",
     "text": [
      " 83%|████████▎ | 5/6 [1:22:33<11:03, 663.31s/it]   "
     ]
    },
    {
     "name": "stdout",
     "output_type": "stream",
     "text": [
      "36\n"
     ]
    },
    {
     "name": "stderr",
     "output_type": "stream",
     "text": [
      "100%|██████████| 6/6 [1:22:35<00:00, 825.84s/it]"
     ]
    },
    {
     "name": "stdout",
     "output_type": "stream",
     "text": [
      "0\n"
     ]
    },
    {
     "name": "stderr",
     "output_type": "stream",
     "text": [
      "\n"
     ]
    },
    {
     "ename": "NameError",
     "evalue": "name 'layer' is not defined",
     "output_type": "error",
     "traceback": [
      "\u001b[0;31m---------------------------------------------------------------------------\u001b[0m",
      "\u001b[0;31mNameError\u001b[0m                                 Traceback (most recent call last)",
      "\u001b[0;32m<ipython-input-10-cc54458c2ec4>\u001b[0m in \u001b[0;36m<module>\u001b[0;34m\u001b[0m\n\u001b[1;32m     26\u001b[0m \u001b[0mdims\u001b[0m \u001b[0;34m=\u001b[0m \u001b[0mnp\u001b[0m\u001b[0;34m.\u001b[0m\u001b[0marange\u001b[0m\u001b[0;34m(\u001b[0m\u001b[0;36m1\u001b[0m\u001b[0;34m,\u001b[0m\u001b[0;36m7\u001b[0m\u001b[0;34m)\u001b[0m\u001b[0;34m\u001b[0m\u001b[0;34m\u001b[0m\u001b[0m\n\u001b[1;32m     27\u001b[0m \u001b[0mwidth\u001b[0m \u001b[0;34m=\u001b[0m \u001b[0;36m0.35\u001b[0m\u001b[0;34m\u001b[0m\u001b[0;34m\u001b[0m\u001b[0m\n\u001b[0;32m---> 28\u001b[0;31m \u001b[0maxes\u001b[0m\u001b[0;34m[\u001b[0m\u001b[0;36m0\u001b[0m\u001b[0;34m]\u001b[0m\u001b[0;34m.\u001b[0m\u001b[0mset_title\u001b[0m\u001b[0;34m(\u001b[0m\u001b[0;34m\"Layer \"\u001b[0m\u001b[0;34m+\u001b[0m\u001b[0mstr\u001b[0m\u001b[0;34m(\u001b[0m\u001b[0mlayer\u001b[0m\u001b[0;34m)\u001b[0m\u001b[0;34m)\u001b[0m\u001b[0;34m\u001b[0m\u001b[0;34m\u001b[0m\u001b[0m\n\u001b[0m\u001b[1;32m     29\u001b[0m \u001b[0maxes\u001b[0m\u001b[0;34m[\u001b[0m\u001b[0;36m0\u001b[0m\u001b[0;34m]\u001b[0m\u001b[0;34m.\u001b[0m\u001b[0mbar\u001b[0m\u001b[0;34m(\u001b[0m\u001b[0mdims\u001b[0m\u001b[0;34m+\u001b[0m\u001b[0mwidth\u001b[0m\u001b[0;34m/\u001b[0m\u001b[0;36m2\u001b[0m\u001b[0;34m,\u001b[0m\u001b[0mresults\u001b[0m\u001b[0;34m,\u001b[0m\u001b[0mwidth\u001b[0m\u001b[0;34m,\u001b[0m\u001b[0mlabel\u001b[0m \u001b[0;34m=\u001b[0m \u001b[0;34m'Bimplices'\u001b[0m\u001b[0;34m)\u001b[0m\u001b[0;34m\u001b[0m\u001b[0;34m\u001b[0m\u001b[0m\n\u001b[1;32m     30\u001b[0m \u001b[0maxes\u001b[0m\u001b[0;34m[\u001b[0m\u001b[0;36m0\u001b[0m\u001b[0;34m]\u001b[0m\u001b[0;34m.\u001b[0m\u001b[0mbar\u001b[0m\u001b[0;34m(\u001b[0m\u001b[0mdims\u001b[0m\u001b[0;34m-\u001b[0m\u001b[0mwidth\u001b[0m\u001b[0;34m/\u001b[0m\u001b[0;36m2\u001b[0m\u001b[0;34m,\u001b[0m\u001b[0msimplices\u001b[0m\u001b[0;34m,\u001b[0m\u001b[0mwidth\u001b[0m\u001b[0;34m,\u001b[0m\u001b[0mlabel\u001b[0m \u001b[0;34m=\u001b[0m \u001b[0;34m'Simplices'\u001b[0m\u001b[0;34m)\u001b[0m\u001b[0;34m\u001b[0m\u001b[0;34m\u001b[0m\u001b[0m\n",
      "\u001b[0;31mNameError\u001b[0m: name 'layer' is not defined"
     ]
    },
    {
     "data": {
      "image/png": "[encoded data removed]",
      "text/plain": [
       "<Figure size 432x288 with 2 Axes>"
      ]
     },
     "metadata": {
      "needs_background": "light"
     },
     "output_type": "display_data"
    }
   ],
   "source": [
    "matrix = import_connectivity_matrix(dataframe = False, type = 'csr')\n",
    "save_path = Path(\"data/counting/full/full.flag\")\n",
    "manager = MPDataManager(save_path, matrix)\n",
    "results = []\n",
    "simplices = []\n",
    "for dimension in tqdm(range(1,7)):\n",
    "    try:\n",
    "        iterator = manager.mp_np_simplex_iterator_dense(dimension = dimension, random = False)\n",
    "        r = pool.imap(count_bisimplices_dense, iterator, chunksize=1000)\n",
    "        count = 0\n",
    "        for element in r:\n",
    "            count += element\n",
    "        print(count)\n",
    "        results.append(count)\n",
    "    except Exception as e:\n",
    "        results.append(0)\n",
    "        print(e)\n",
    "    try:\n",
    "        simplices.append(len(manager._count_file['Cells_' + str(dimension)]))\n",
    "    except:\n",
    "        simplices.append(0)\n",
    "    manager._shut_shared_memory()\n",
    "    del iterator\n",
    "fig, axes = plt.subplots(1,2)\n",
    "fig.suptitle(\"Whole column bisimplices\")\n",
    "dims = np.arange(1,7)\n",
    "width = 0.35\n",
    "axes[0].bar(dims+width/2,results,width,label = 'Bimplices')\n",
    "axes[0].bar(dims-width/2,simplices,width,label = 'Simplices')\n",
    "axes[0].set_xticks(dims)\n",
    "axes[0].set_ylabel(\"Motifs\")\n",
    "axes[0].legend()\n",
    "ratios = np.array(results)/np.array(simplices)\n",
    "ratios[np.isnan(ratios)]=0\n",
    "axes[1].bar(range(1,7),ratios)\n",
    "axes[1].set_ylabel(\"BS/S ratio\")\n",
    "axes[1].set_xlabel(\"Dimension\")\n",
    "fig.savefig(\"bs-whole\")"
   ]
  },
  {
   "cell_type": "code",
   "execution_count": 13,
   "metadata": {
    "scrolled": true
   },
   "outputs": [
    {
     "name": "stderr",
     "output_type": "stream",
     "text": [
      "100%|██████████| 55/55 [00:11<00:00,  4.67it/s]\n",
      "100%|██████████| 6/6 [25:41<00:00, 256.88s/it]\n"
     ]
    },
    {
     "data": {
      "image/png": "[encoded data removed]",
      "text/plain": [
       "<Figure size 432x288 with 2 Axes>"
      ]
     },
     "metadata": {
      "needs_background": "light"
     },
     "output_type": "display_data"
    }
   ],
   "source": [
    "matrix = import_connectivity_matrix(dataframe = False, type = 'csr')\n",
    "save_path = Path(\"data/counting/full/full.flag\")\n",
    "manager = MPDataManager(save_path, matrix)\n",
    "results = []\n",
    "simplices = []\n",
    "for dimension in tqdm(range(1,7)):\n",
    "    try:\n",
    "        iterator = manager.mp_np_simplex_iterator_dense(dimension = dimension, random = False)\n",
    "        r = pool.imap(get_n_extended_simplices_dense, iterator, chunksize=1000)\n",
    "        count = 0\n",
    "        for element in r:\n",
    "            count += element\n",
    "        results.append(count)\n",
    "    except Exception as e:\n",
    "        results.append(0)\n",
    "        print(e)\n",
    "    try:\n",
    "        simplices.append(len(manager._count_file['Cells_' + str(dimension)]))\n",
    "    except:\n",
    "        simplices.append(0)\n",
    "    manager._shut_shared_memory()\n",
    "    del iterator\n",
    "fig, axes = plt.subplots(1,2)\n",
    "fig.suptitle(\"Whole column extended simplices\")\n",
    "dims = np.arange(1,7)\n",
    "width = 0.35\n",
    "axes[0].bar(dims+width/2,results,width,label = 'Extended Simplices')\n",
    "axes[0].bar(dims-width/2,simplices,width,label = 'Simplices')\n",
    "axes[0].set_xticks(dims)\n",
    "axes[0].set_ylabel(\"Motifs\")\n",
    "axes[0].legend()\n",
    "ratios = np.array(results)/np.array(simplices)\n",
    "ratios[np.isnan(ratios)]=0\n",
    "axes[1].bar(range(1,7),ratios)\n",
    "axes[1].set_ylabel(\"ES/S ratio\")\n",
    "axes[1].set_xlabel(\"Dimension\")\n",
    "fig.savefig(\"es-whole\")"
   ]
  },
  {
   "cell_type": "code",
   "execution_count": null,
   "metadata": {},
   "outputs": [],
   "source": []
  }
 ],
 "metadata": {
  "kernelspec": {
   "display_name": "Python 3",
   "language": "python",
   "name": "python3"
  },
  "language_info": {
   "codemirror_mode": {
    "name": "ipython",
    "version": 3
   },
   "file_extension": ".py",
   "mimetype": "text/x-python",
   "name": "python",
   "nbconvert_exporter": "python",
   "pygments_lexer": "ipython3",
   "version": "3.8.5"
  }
 },
 "nbformat": 4,
 "nbformat_minor": 4
}
