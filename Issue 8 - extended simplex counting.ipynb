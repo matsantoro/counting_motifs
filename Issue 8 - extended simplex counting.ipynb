{
 "cells": [
  {
   "cell_type": "code",
   "execution_count": 41,
   "metadata": {},
   "outputs": [],
   "source": [
    "import numpy as np\n",
    "from pathlib import Path\n",
    "import h5py\n",
    "from tqdm import tqdm\n",
    "from itertools import product\n",
    "import multiprocessing as mp"
   ]
  },
  {
   "cell_type": "code",
   "execution_count": 48,
   "metadata": {},
   "outputs": [],
   "source": [
    "import matplotlib.pyplot as plt"
   ]
  },
  {
   "cell_type": "code",
   "execution_count": 28,
   "metadata": {},
   "outputs": [],
   "source": [
    "from robust_motifs.data import (save_count_graph_from_matrix, matrix_shuffle,\n",
    "                                import_connectivity_matrix, adjust_bidirectional_edges,\n",
    "                               load_sparse_matrix_from_pkl)\n",
    "from robust_motifs.custom_mp import prepare_shared_memory\n",
    "from robust_motifs.counting import get_n_extended_simplices"
   ]
  },
  {
   "cell_type": "code",
   "execution_count": 4,
   "metadata": {},
   "outputs": [],
   "source": [
    "original_matrix = import_connectivity_matrix(dataframe = False, type = 'csr')\n",
    "\n",
    "pathway_shuffled_matrix = import_connectivity_matrix(dataframe= False, type='csr', pathway_shuffle=True)\n",
    "\n",
    "shuffled_matrix = matrix_shuffle(original_matrix)"
   ]
  },
  {
   "cell_type": "code",
   "execution_count": 7,
   "metadata": {},
   "outputs": [
    {
     "data": {
      "text/plain": [
       "<31346x31346 sparse matrix of type '<class 'numpy.bool_'>'\n",
       "\twith 182932 stored elements in Compressed Sparse Row format>"
      ]
     },
     "execution_count": 7,
     "metadata": {},
     "output_type": "execute_result"
    }
   ],
   "source": [
    "original_matrix.multiply(original_matrix.T)\n",
    "\n",
    "pathway_shuffled_matrix.multiply(pathway_shuffled_matrix.T)\n",
    "\n",
    "shuffled_matrix.multiply(shuffled_matrix.T)"
   ]
  },
  {
   "cell_type": "code",
   "execution_count": 12,
   "metadata": {},
   "outputs": [
    {
     "name": "stderr",
     "output_type": "stream",
     "text": [
      "Removing edges...: 100%|██████████| 61344/61344 [00:05<00:00, 10434.02it/s]\n",
      "Adding bidirectional edges...: 100%|██████████| 61344/61344 [00:00<00:00, 158222.67it/s]\n"
     ]
    }
   ],
   "source": [
    "bid_adjusted_matrix = adjust_bidirectional_edges(shuffled_matrix, int(182932/2))"
   ]
  },
  {
   "cell_type": "code",
   "execution_count": 17,
   "metadata": {},
   "outputs": [
    {
     "data": {
      "text/plain": [
       "<31346x31346 sparse matrix of type '<class 'numpy.bool_'>'\n",
       "\twith 182933 stored elements in Compressed Sparse Row format>"
      ]
     },
     "execution_count": 17,
     "metadata": {},
     "output_type": "execute_result"
    }
   ],
   "source": [
    "bid_adjusted_matrix.multiply(bid_adjusted_matrix.T)"
   ]
  },
  {
   "cell_type": "markdown",
   "metadata": {},
   "source": [
    "### Processing"
   ]
  },
  {
   "cell_type": "markdown",
   "metadata": {},
   "source": [
    "### Column"
   ]
  },
  {
   "cell_type": "code",
   "execution_count": 22,
   "metadata": {},
   "outputs": [
    {
     "name": "stderr",
     "output_type": "stream",
     "text": [
      "100%|██████████| 31346/31346 [00:00<00:00, 2483183.87it/s]\n",
      "7648079it [00:11, 655513.32it/s]\n"
     ]
    }
   ],
   "source": [
    "save_path = Path(\"data/models/column/column.flag\")\n",
    "save_path.parent.mkdir(exist_ok=True, parents=True)\n",
    "flag_path, pkl_path, count_path =save_count_graph_from_matrix(save_path, original_matrix)"
   ]
  },
  {
   "cell_type": "code",
   "execution_count": 42,
   "metadata": {},
   "outputs": [],
   "source": [
    "pool = mp.Pool()"
   ]
  },
  {
   "cell_type": "code",
   "execution_count": 46,
   "metadata": {},
   "outputs": [
    {
     "name": "stderr",
     "output_type": "stream",
     "text": [
      "100%|██████████| 6/6 [01:32<00:00, 15.40s/it]\n",
      "  0%|          | 0/6 [00:00<?, ?it/s]"
     ]
    },
    {
     "name": "stdout",
     "output_type": "stream",
     "text": [
      "Extended simplices for 10000 simplices per dimension\n",
      "{1: 82442, 2: 98902, 3: 110942, 4: 121311, 5: 129081, 6: 7208}\n",
      "Total simplices per dimension\n",
      "{1: 7648079, 2: 73036616, 3: 59945205, 4: 6599529, 5: 133115, 6: 529}\n"
     ]
    },
    {
     "name": "stderr",
     "output_type": "stream",
     "text": [
      "100%|██████████| 6/6 [01:32<00:00, 15.44s/it]\n",
      "  0%|          | 0/6 [00:00<?, ?it/s]"
     ]
    },
    {
     "name": "stdout",
     "output_type": "stream",
     "text": [
      "Extended simplices for 10000 simplices per dimension\n",
      "{1: 82811, 2: 99365, 3: 112128, 4: 122271, 5: 129834, 6: 7208}\n",
      "Total simplices per dimension\n",
      "{1: 7648079, 2: 73036616, 3: 59945205, 4: 6599529, 5: 133115, 6: 529}\n"
     ]
    },
    {
     "name": "stderr",
     "output_type": "stream",
     "text": [
      "100%|██████████| 6/6 [01:33<00:00, 15.58s/it]\n",
      "  0%|          | 0/6 [00:00<?, ?it/s]"
     ]
    },
    {
     "name": "stdout",
     "output_type": "stream",
     "text": [
      "Extended simplices for 10000 simplices per dimension\n",
      "{1: 82321, 2: 100094, 3: 112793, 4: 121394, 5: 131850, 6: 7208}\n",
      "Total simplices per dimension\n",
      "{1: 7648079, 2: 73036616, 3: 59945205, 4: 6599529, 5: 133115, 6: 529}\n"
     ]
    },
    {
     "name": "stderr",
     "output_type": "stream",
     "text": [
      "100%|██████████| 6/6 [01:39<00:00, 16.66s/it]\n",
      "  0%|          | 0/6 [00:00<?, ?it/s]"
     ]
    },
    {
     "name": "stdout",
     "output_type": "stream",
     "text": [
      "Extended simplices for 10000 simplices per dimension\n",
      "{1: 82854, 2: 99702, 3: 111514, 4: 122500, 5: 131144, 6: 7208}\n",
      "Total simplices per dimension\n",
      "{1: 7648079, 2: 73036616, 3: 59945205, 4: 6599529, 5: 133115, 6: 529}\n"
     ]
    },
    {
     "name": "stderr",
     "output_type": "stream",
     "text": [
      "100%|██████████| 6/6 [01:39<00:00, 16.63s/it]\n",
      "  0%|          | 0/6 [00:00<?, ?it/s]"
     ]
    },
    {
     "name": "stdout",
     "output_type": "stream",
     "text": [
      "Extended simplices for 10000 simplices per dimension\n",
      "{1: 82269, 2: 99348, 3: 111928, 4: 123140, 5: 131076, 6: 7208}\n",
      "Total simplices per dimension\n",
      "{1: 7648079, 2: 73036616, 3: 59945205, 4: 6599529, 5: 133115, 6: 529}\n"
     ]
    },
    {
     "name": "stderr",
     "output_type": "stream",
     "text": [
      "100%|██████████| 6/6 [01:35<00:00, 15.92s/it]\n",
      "  0%|          | 0/6 [00:00<?, ?it/s]"
     ]
    },
    {
     "name": "stdout",
     "output_type": "stream",
     "text": [
      "Extended simplices for 10000 simplices per dimension\n",
      "{1: 83258, 2: 99416, 3: 112993, 4: 121420, 5: 131337, 6: 7208}\n",
      "Total simplices per dimension\n",
      "{1: 7648079, 2: 73036616, 3: 59945205, 4: 6599529, 5: 133115, 6: 529}\n"
     ]
    },
    {
     "name": "stderr",
     "output_type": "stream",
     "text": [
      "100%|██████████| 6/6 [01:32<00:00, 15.47s/it]\n",
      "  0%|          | 0/6 [00:00<?, ?it/s]"
     ]
    },
    {
     "name": "stdout",
     "output_type": "stream",
     "text": [
      "Extended simplices for 10000 simplices per dimension\n",
      "{1: 82801, 2: 100284, 3: 112232, 4: 122014, 5: 129608, 6: 7208}\n",
      "Total simplices per dimension\n",
      "{1: 7648079, 2: 73036616, 3: 59945205, 4: 6599529, 5: 133115, 6: 529}\n"
     ]
    },
    {
     "name": "stderr",
     "output_type": "stream",
     "text": [
      "100%|██████████| 6/6 [01:33<00:00, 15.62s/it]\n",
      "  0%|          | 0/6 [00:00<?, ?it/s]"
     ]
    },
    {
     "name": "stdout",
     "output_type": "stream",
     "text": [
      "Extended simplices for 10000 simplices per dimension\n",
      "{1: 83235, 2: 100396, 3: 111902, 4: 122930, 5: 131028, 6: 7208}\n",
      "Total simplices per dimension\n",
      "{1: 7648079, 2: 73036616, 3: 59945205, 4: 6599529, 5: 133115, 6: 529}\n"
     ]
    },
    {
     "name": "stderr",
     "output_type": "stream",
     "text": [
      "100%|██████████| 6/6 [01:33<00:00, 15.58s/it]\n",
      "  0%|          | 0/6 [00:00<?, ?it/s]"
     ]
    },
    {
     "name": "stdout",
     "output_type": "stream",
     "text": [
      "Extended simplices for 10000 simplices per dimension\n",
      "{1: 82829, 2: 99392, 3: 113233, 4: 122858, 5: 131141, 6: 7208}\n",
      "Total simplices per dimension\n",
      "{1: 7648079, 2: 73036616, 3: 59945205, 4: 6599529, 5: 133115, 6: 529}\n"
     ]
    },
    {
     "name": "stderr",
     "output_type": "stream",
     "text": [
      "100%|██████████| 6/6 [01:32<00:00, 15.47s/it]"
     ]
    },
    {
     "name": "stdout",
     "output_type": "stream",
     "text": [
      "Extended simplices for 10000 simplices per dimension\n",
      "{1: 82901, 2: 101369, 3: 113011, 4: 121599, 5: 133174, 6: 7208}\n",
      "Total simplices per dimension\n",
      "{1: 7648079, 2: 73036616, 3: 59945205, 4: 6599529, 5: 133115, 6: 529}\n"
     ]
    },
    {
     "name": "stderr",
     "output_type": "stream",
     "text": [
      "\n"
     ]
    }
   ],
   "source": [
    "overall_results = {}\n",
    "complex_file = h5py.File(count_path, 'r')\n",
    "matrix = load_sparse_matrix_from_pkl(pkl_path)\n",
    "bid_matrix = matrix.multiply(matrix.T)\n",
    "arrays, links = prepare_shared_memory(matrix, \"full\")\n",
    "bid_arrays, bid_links = prepare_shared_memory(bid_matrix, \"bid\")\n",
    "for _ in range(10):\n",
    "    result_dictionary = {}\n",
    "    aux_dictionary = {}\n",
    "######## iteration #####\n",
    "    for dimension in tqdm(range(1, 7)):\n",
    "        try:\n",
    "            ####### step 1: compiling the dictionary ######\n",
    "            random_selection = np.random.choice(complex_file[\"Cells_\" + str(dimension)].shape[0],\n",
    "                                                min(10000,complex_file[\"Cells_\" + str(dimension)].shape[0]),\n",
    "                                                replace = False)\n",
    "            random_selection.sort()\n",
    "            simplex_iterator = iter(complex_file[\"Cells_\" + str(dimension)][random_selection])\n",
    "            ###### step 2: getting bidirectional targets ######\n",
    "             # fictitious product to satisfy imap reqs of a single arugment.\n",
    "            mp_iterator = product(simplex_iterator, [arrays], [bid_arrays])\n",
    "            results = pool.imap(get_n_extended_simplices, mp_iterator)\n",
    "            ###### step 3: counting extended simplices ######\n",
    "            for elem in results:\n",
    "                result_dictionary[dimension] = result_dictionary.get(dimension, 0) + elem[0]\n",
    "        except KeyError: # If there are no simplices in h5 file..\n",
    "                result_dictionary[dimension] = 0\n",
    "        try:\n",
    "            aux_dictionary[dimension] = len(complex_file[\"Cells_\" + str(dimension)])\n",
    "        except KeyError: # If there are no simplices in h5 file...\n",
    "            aux_dictionary[dimension] = 0\n",
    "        \n",
    "        overall_results[dimension] = overall_results.get(dimension, []) + [result_dictionary[dimension]]\n",
    "    print(\"Extended simplices for 10000 simplices per dimension\")\n",
    "    print(result_dictionary)\n",
    "    print(\"Total simplices per dimension\")\n",
    "    print(aux_dictionary)\n",
    "    # free shared memory\n",
    "for link in links:\n",
    "    link.unlink()\n",
    "for link in bid_links:\n",
    "    link.unlink()"
   ]
  },
  {
   "cell_type": "code",
   "execution_count": 49,
   "metadata": {},
   "outputs": [
    {
     "data": {
      "text/plain": [
       "<BarContainer object of 6 artists>"
      ]
     },
     "execution_count": 49,
     "metadata": {},
     "output_type": "execute_result"
    },
    {
     "data": {
      "image/png": "[encoded data removed]",
      "text/plain": [
       "<Figure size 432x288 with 1 Axes>"
      ]
     },
     "metadata": {
      "needs_background": "light"
     },
     "output_type": "display_data"
    }
   ],
   "source": [
    "a = []\n",
    "b = []\n",
    "for elem in overall_results.values():\n",
    "    a.append(np.mean(elem))\n",
    "    b.append(np.std(elem))\n",
    "plt.bar(range(1,7), a, yerr=b)"
   ]
  },
  {
   "cell_type": "markdown",
   "metadata": {},
   "source": [
    "### Pathway shuffled"
   ]
  },
  {
   "cell_type": "code",
   "execution_count": 50,
   "metadata": {},
   "outputs": [
    {
     "name": "stderr",
     "output_type": "stream",
     "text": [
      "100%|██████████| 31346/31346 [00:00<00:00, 2827411.90it/s]\n",
      "7648079it [00:11, 649818.33it/s]\n"
     ]
    }
   ],
   "source": [
    "save_path = Path(\"data/models/pshuffled/pshuffled.flag\")\n",
    "save_path.parent.mkdir(exist_ok=True, parents=True)\n",
    "flag_path, pkl_path, count_path =save_count_graph_from_matrix(save_path, pathway_shuffled_matrix)"
   ]
  },
  {
   "cell_type": "code",
   "execution_count": 51,
   "metadata": {},
   "outputs": [],
   "source": [
    "pool = mp.Pool()"
   ]
  },
  {
   "cell_type": "code",
   "execution_count": 52,
   "metadata": {},
   "outputs": [
    {
     "name": "stderr",
     "output_type": "stream",
     "text": [
      "100%|██████████| 6/6 [00:50<00:00,  8.36s/it]\n",
      "  0%|          | 0/6 [00:00<?, ?it/s]"
     ]
    },
    {
     "name": "stdout",
     "output_type": "stream",
     "text": [
      "Extended simplices for 10000 simplices per dimension\n",
      "{1: 32213, 2: 36869, 3: 40617, 4: 7503, 5: 0, 6: 0}\n",
      "Total simplices per dimension\n",
      "{1: 7648079, 2: 24790802, 3: 1418249, 4: 1757, 5: 0, 6: 0}\n"
     ]
    },
    {
     "name": "stderr",
     "output_type": "stream",
     "text": [
      "100%|██████████| 6/6 [00:50<00:00,  8.42s/it]\n",
      "  0%|          | 0/6 [00:00<?, ?it/s]"
     ]
    },
    {
     "name": "stdout",
     "output_type": "stream",
     "text": [
      "Extended simplices for 10000 simplices per dimension\n",
      "{1: 32155, 2: 36904, 3: 40057, 4: 7503, 5: 0, 6: 0}\n",
      "Total simplices per dimension\n",
      "{1: 7648079, 2: 24790802, 3: 1418249, 4: 1757, 5: 0, 6: 0}\n"
     ]
    },
    {
     "name": "stderr",
     "output_type": "stream",
     "text": [
      "100%|██████████| 6/6 [00:50<00:00,  8.45s/it]\n",
      "  0%|          | 0/6 [00:00<?, ?it/s]"
     ]
    },
    {
     "name": "stdout",
     "output_type": "stream",
     "text": [
      "Extended simplices for 10000 simplices per dimension\n",
      "{1: 31950, 2: 36668, 3: 40287, 4: 7503, 5: 0, 6: 0}\n",
      "Total simplices per dimension\n",
      "{1: 7648079, 2: 24790802, 3: 1418249, 4: 1757, 5: 0, 6: 0}\n"
     ]
    },
    {
     "name": "stderr",
     "output_type": "stream",
     "text": [
      "100%|██████████| 6/6 [00:50<00:00,  8.45s/it]\n",
      "  0%|          | 0/6 [00:00<?, ?it/s]"
     ]
    },
    {
     "name": "stdout",
     "output_type": "stream",
     "text": [
      "Extended simplices for 10000 simplices per dimension\n",
      "{1: 32347, 2: 36719, 3: 40148, 4: 7503, 5: 0, 6: 0}\n",
      "Total simplices per dimension\n",
      "{1: 7648079, 2: 24790802, 3: 1418249, 4: 1757, 5: 0, 6: 0}\n"
     ]
    },
    {
     "name": "stderr",
     "output_type": "stream",
     "text": [
      "100%|██████████| 6/6 [00:50<00:00,  8.48s/it]\n",
      "  0%|          | 0/6 [00:00<?, ?it/s]"
     ]
    },
    {
     "name": "stdout",
     "output_type": "stream",
     "text": [
      "Extended simplices for 10000 simplices per dimension\n",
      "{1: 31574, 2: 36722, 3: 39982, 4: 7503, 5: 0, 6: 0}\n",
      "Total simplices per dimension\n",
      "{1: 7648079, 2: 24790802, 3: 1418249, 4: 1757, 5: 0, 6: 0}\n"
     ]
    },
    {
     "name": "stderr",
     "output_type": "stream",
     "text": [
      "100%|██████████| 6/6 [00:51<00:00,  8.57s/it]\n",
      "  0%|          | 0/6 [00:00<?, ?it/s]"
     ]
    },
    {
     "name": "stdout",
     "output_type": "stream",
     "text": [
      "Extended simplices for 10000 simplices per dimension\n",
      "{1: 32457, 2: 36969, 3: 40493, 4: 7503, 5: 0, 6: 0}\n",
      "Total simplices per dimension\n",
      "{1: 7648079, 2: 24790802, 3: 1418249, 4: 1757, 5: 0, 6: 0}\n"
     ]
    },
    {
     "name": "stderr",
     "output_type": "stream",
     "text": [
      "100%|██████████| 6/6 [00:55<00:00,  9.26s/it]\n",
      "  0%|          | 0/6 [00:00<?, ?it/s]"
     ]
    },
    {
     "name": "stdout",
     "output_type": "stream",
     "text": [
      "Extended simplices for 10000 simplices per dimension\n",
      "{1: 32276, 2: 37224, 3: 39906, 4: 7503, 5: 0, 6: 0}\n",
      "Total simplices per dimension\n",
      "{1: 7648079, 2: 24790802, 3: 1418249, 4: 1757, 5: 0, 6: 0}\n"
     ]
    },
    {
     "name": "stderr",
     "output_type": "stream",
     "text": [
      "100%|██████████| 6/6 [00:55<00:00,  9.28s/it]\n",
      "  0%|          | 0/6 [00:00<?, ?it/s]"
     ]
    },
    {
     "name": "stdout",
     "output_type": "stream",
     "text": [
      "Extended simplices for 10000 simplices per dimension\n",
      "{1: 31929, 2: 36453, 3: 40414, 4: 7503, 5: 0, 6: 0}\n",
      "Total simplices per dimension\n",
      "{1: 7648079, 2: 24790802, 3: 1418249, 4: 1757, 5: 0, 6: 0}\n"
     ]
    },
    {
     "name": "stderr",
     "output_type": "stream",
     "text": [
      "100%|██████████| 6/6 [00:53<00:00,  8.97s/it]\n",
      "  0%|          | 0/6 [00:00<?, ?it/s]"
     ]
    },
    {
     "name": "stdout",
     "output_type": "stream",
     "text": [
      "Extended simplices for 10000 simplices per dimension\n",
      "{1: 32155, 2: 36799, 3: 40170, 4: 7503, 5: 0, 6: 0}\n",
      "Total simplices per dimension\n",
      "{1: 7648079, 2: 24790802, 3: 1418249, 4: 1757, 5: 0, 6: 0}\n"
     ]
    },
    {
     "name": "stderr",
     "output_type": "stream",
     "text": [
      "100%|██████████| 6/6 [00:54<00:00,  9.05s/it]"
     ]
    },
    {
     "name": "stdout",
     "output_type": "stream",
     "text": [
      "Extended simplices for 10000 simplices per dimension\n",
      "{1: 32368, 2: 36649, 3: 40266, 4: 7503, 5: 0, 6: 0}\n",
      "Total simplices per dimension\n",
      "{1: 7648079, 2: 24790802, 3: 1418249, 4: 1757, 5: 0, 6: 0}\n"
     ]
    },
    {
     "name": "stderr",
     "output_type": "stream",
     "text": [
      "\n"
     ]
    }
   ],
   "source": [
    "overall_results = {}\n",
    "complex_file = h5py.File(count_path, 'r')\n",
    "matrix = load_sparse_matrix_from_pkl(pkl_path)\n",
    "bid_matrix = matrix.multiply(matrix.T)\n",
    "arrays, links = prepare_shared_memory(matrix, \"full\")\n",
    "bid_arrays, bid_links = prepare_shared_memory(bid_matrix, \"bid\")\n",
    "for _ in range(10):\n",
    "    result_dictionary = {}\n",
    "    aux_dictionary = {}\n",
    "######## iteration #####\n",
    "    for dimension in tqdm(range(1, 7)):\n",
    "        try:\n",
    "            ####### step 1: compiling the dictionary ######\n",
    "            random_selection = np.random.choice(complex_file[\"Cells_\" + str(dimension)].shape[0],\n",
    "                                                min(10000,complex_file[\"Cells_\" + str(dimension)].shape[0]),\n",
    "                                                replace = False)\n",
    "            random_selection.sort()\n",
    "            simplex_iterator = iter(complex_file[\"Cells_\" + str(dimension)][random_selection])\n",
    "            ###### step 2: getting bidirectional targets ######\n",
    "             # fictitious product to satisfy imap reqs of a single arugment.\n",
    "            mp_iterator = product(simplex_iterator, [arrays], [bid_arrays])\n",
    "            results = pool.imap(get_n_extended_simplices, mp_iterator)\n",
    "            ###### step 3: counting extended simplices ######\n",
    "            for elem in results:\n",
    "                result_dictionary[dimension] = result_dictionary.get(dimension, 0) + elem[0]\n",
    "        except KeyError: # If there are no simplices in h5 file..\n",
    "                result_dictionary[dimension] = 0\n",
    "        try:\n",
    "            aux_dictionary[dimension] = len(complex_file[\"Cells_\" + str(dimension)])\n",
    "        except KeyError: # If there are no simplices in h5 file...\n",
    "            aux_dictionary[dimension] = 0\n",
    "        \n",
    "        overall_results[dimension] = overall_results.get(dimension, []) + [result_dictionary[dimension]]\n",
    "    print(\"Extended simplices for 10000 simplices per dimension\")\n",
    "    print(result_dictionary)\n",
    "    print(\"Total simplices per dimension\")\n",
    "    print(aux_dictionary)\n",
    "    # free shared memory\n",
    "for link in links:\n",
    "    link.unlink()\n",
    "for link in bid_links:\n",
    "    link.unlink()"
   ]
  },
  {
   "cell_type": "code",
   "execution_count": 53,
   "metadata": {},
   "outputs": [
    {
     "data": {
      "text/plain": [
       "<BarContainer object of 6 artists>"
      ]
     },
     "execution_count": 53,
     "metadata": {},
     "output_type": "execute_result"
    },
    {
     "data": {
      "image/png": "[encoded data removed]",
      "text/plain": [
       "<Figure size 432x288 with 1 Axes>"
      ]
     },
     "metadata": {
      "needs_background": "light"
     },
     "output_type": "display_data"
    }
   ],
   "source": [
    "a = []\n",
    "b = []\n",
    "for elem in overall_results.values():\n",
    "    a.append(np.mean(elem))\n",
    "    b.append(np.std(elem))\n",
    "plt.bar(range(1,7), a, yerr=b)"
   ]
  },
  {
   "cell_type": "markdown",
   "metadata": {},
   "source": [
    "### ER"
   ]
  },
  {
   "cell_type": "code",
   "execution_count": 54,
   "metadata": {},
   "outputs": [
    {
     "name": "stderr",
     "output_type": "stream",
     "text": [
      "100%|██████████| 31346/31346 [00:00<00:00, 3194388.77it/s]\n",
      "7586735it [00:11, 658890.88it/s]\n"
     ]
    }
   ],
   "source": [
    "save_path = Path(\"data/models/shuffled/shuffled.flag\")\n",
    "save_path.parent.mkdir(exist_ok=True, parents=True)\n",
    "flag_path, pkl_path, count_path =save_count_graph_from_matrix(save_path, shuffled_matrix)"
   ]
  },
  {
   "cell_type": "code",
   "execution_count": 55,
   "metadata": {},
   "outputs": [],
   "source": [
    "pool = mp.Pool()"
   ]
  },
  {
   "cell_type": "code",
   "execution_count": 56,
   "metadata": {},
   "outputs": [
    {
     "name": "stderr",
     "output_type": "stream",
     "text": [
      "100%|██████████| 6/6 [00:52<00:00,  8.73s/it]\n",
      "  0%|          | 0/6 [00:00<?, ?it/s]"
     ]
    },
    {
     "name": "stdout",
     "output_type": "stream",
     "text": [
      "Extended simplices for 10000 simplices per dimension\n",
      "{1: 19295, 2: 18998, 3: 19193, 4: 2873, 5: 0, 6: 0}\n",
      "Total simplices per dimension\n",
      "{1: 7586735, 2: 14232932, 3: 309172, 4: 1512, 5: 0, 6: 0}\n"
     ]
    },
    {
     "name": "stderr",
     "output_type": "stream",
     "text": [
      "100%|██████████| 6/6 [00:51<00:00,  8.51s/it]\n",
      "  0%|          | 0/6 [00:00<?, ?it/s]"
     ]
    },
    {
     "name": "stdout",
     "output_type": "stream",
     "text": [
      "Extended simplices for 10000 simplices per dimension\n",
      "{1: 19343, 2: 19146, 3: 19290, 4: 2873, 5: 0, 6: 0}\n",
      "Total simplices per dimension\n",
      "{1: 7586735, 2: 14232932, 3: 309172, 4: 1512, 5: 0, 6: 0}\n"
     ]
    },
    {
     "name": "stderr",
     "output_type": "stream",
     "text": [
      "100%|██████████| 6/6 [00:50<00:00,  8.49s/it]\n",
      "  0%|          | 0/6 [00:00<?, ?it/s]"
     ]
    },
    {
     "name": "stdout",
     "output_type": "stream",
     "text": [
      "Extended simplices for 10000 simplices per dimension\n",
      "{1: 19273, 2: 19192, 3: 19165, 4: 2873, 5: 0, 6: 0}\n",
      "Total simplices per dimension\n",
      "{1: 7586735, 2: 14232932, 3: 309172, 4: 1512, 5: 0, 6: 0}\n"
     ]
    },
    {
     "name": "stderr",
     "output_type": "stream",
     "text": [
      "100%|██████████| 6/6 [00:59<00:00,  9.83s/it]\n",
      "  0%|          | 0/6 [00:00<?, ?it/s]"
     ]
    },
    {
     "name": "stdout",
     "output_type": "stream",
     "text": [
      "Extended simplices for 10000 simplices per dimension\n",
      "{1: 19259, 2: 19155, 3: 19257, 4: 2873, 5: 0, 6: 0}\n",
      "Total simplices per dimension\n",
      "{1: 7586735, 2: 14232932, 3: 309172, 4: 1512, 5: 0, 6: 0}\n"
     ]
    },
    {
     "name": "stderr",
     "output_type": "stream",
     "text": [
      "100%|██████████| 6/6 [00:54<00:00,  9.03s/it]\n",
      "  0%|          | 0/6 [00:00<?, ?it/s]"
     ]
    },
    {
     "name": "stdout",
     "output_type": "stream",
     "text": [
      "Extended simplices for 10000 simplices per dimension\n",
      "{1: 19130, 2: 19197, 3: 19155, 4: 2873, 5: 0, 6: 0}\n",
      "Total simplices per dimension\n",
      "{1: 7586735, 2: 14232932, 3: 309172, 4: 1512, 5: 0, 6: 0}\n"
     ]
    },
    {
     "name": "stderr",
     "output_type": "stream",
     "text": [
      "100%|██████████| 6/6 [00:55<00:00,  9.19s/it]\n",
      "  0%|          | 0/6 [00:00<?, ?it/s]"
     ]
    },
    {
     "name": "stdout",
     "output_type": "stream",
     "text": [
      "Extended simplices for 10000 simplices per dimension\n",
      "{1: 19180, 2: 19276, 3: 19162, 4: 2873, 5: 0, 6: 0}\n",
      "Total simplices per dimension\n",
      "{1: 7586735, 2: 14232932, 3: 309172, 4: 1512, 5: 0, 6: 0}\n"
     ]
    },
    {
     "name": "stderr",
     "output_type": "stream",
     "text": [
      "100%|██████████| 6/6 [00:54<00:00,  9.16s/it]\n",
      "  0%|          | 0/6 [00:00<?, ?it/s]"
     ]
    },
    {
     "name": "stdout",
     "output_type": "stream",
     "text": [
      "Extended simplices for 10000 simplices per dimension\n",
      "{1: 19382, 2: 18834, 3: 19117, 4: 2873, 5: 0, 6: 0}\n",
      "Total simplices per dimension\n",
      "{1: 7586735, 2: 14232932, 3: 309172, 4: 1512, 5: 0, 6: 0}\n"
     ]
    },
    {
     "name": "stderr",
     "output_type": "stream",
     "text": [
      "100%|██████████| 6/6 [00:51<00:00,  8.54s/it]\n",
      "  0%|          | 0/6 [00:00<?, ?it/s]"
     ]
    },
    {
     "name": "stdout",
     "output_type": "stream",
     "text": [
      "Extended simplices for 10000 simplices per dimension\n",
      "{1: 19057, 2: 19063, 3: 19166, 4: 2873, 5: 0, 6: 0}\n",
      "Total simplices per dimension\n",
      "{1: 7586735, 2: 14232932, 3: 309172, 4: 1512, 5: 0, 6: 0}\n"
     ]
    },
    {
     "name": "stderr",
     "output_type": "stream",
     "text": [
      "100%|██████████| 6/6 [00:51<00:00,  8.54s/it]\n",
      "  0%|          | 0/6 [00:00<?, ?it/s]"
     ]
    },
    {
     "name": "stdout",
     "output_type": "stream",
     "text": [
      "Extended simplices for 10000 simplices per dimension\n",
      "{1: 19047, 2: 19310, 3: 19243, 4: 2873, 5: 0, 6: 0}\n",
      "Total simplices per dimension\n",
      "{1: 7586735, 2: 14232932, 3: 309172, 4: 1512, 5: 0, 6: 0}\n"
     ]
    },
    {
     "name": "stderr",
     "output_type": "stream",
     "text": [
      "100%|██████████| 6/6 [00:52<00:00,  8.73s/it]"
     ]
    },
    {
     "name": "stdout",
     "output_type": "stream",
     "text": [
      "Extended simplices for 10000 simplices per dimension\n",
      "{1: 19306, 2: 19076, 3: 18994, 4: 2873, 5: 0, 6: 0}\n",
      "Total simplices per dimension\n",
      "{1: 7586735, 2: 14232932, 3: 309172, 4: 1512, 5: 0, 6: 0}\n"
     ]
    },
    {
     "name": "stderr",
     "output_type": "stream",
     "text": [
      "\n"
     ]
    }
   ],
   "source": [
    "overall_results = {}\n",
    "complex_file = h5py.File(count_path, 'r')\n",
    "matrix = load_sparse_matrix_from_pkl(pkl_path)\n",
    "bid_matrix = matrix.multiply(matrix.T)\n",
    "arrays, links = prepare_shared_memory(matrix, \"full\")\n",
    "bid_arrays, bid_links = prepare_shared_memory(bid_matrix, \"bid\")\n",
    "for _ in range(10):\n",
    "    result_dictionary = {}\n",
    "    aux_dictionary = {}\n",
    "######## iteration #####\n",
    "    for dimension in tqdm(range(1, 7)):\n",
    "        try:\n",
    "            ####### step 1: compiling the dictionary ######\n",
    "            random_selection = np.random.choice(complex_file[\"Cells_\" + str(dimension)].shape[0],\n",
    "                                                min(10000,complex_file[\"Cells_\" + str(dimension)].shape[0]),\n",
    "                                                replace = False)\n",
    "            random_selection.sort()\n",
    "            simplex_iterator = iter(complex_file[\"Cells_\" + str(dimension)][random_selection])\n",
    "            ###### step 2: getting bidirectional targets ######\n",
    "             # fictitious product to satisfy imap reqs of a single arugment.\n",
    "            mp_iterator = product(simplex_iterator, [arrays], [bid_arrays])\n",
    "            results = pool.imap(get_n_extended_simplices, mp_iterator)\n",
    "            ###### step 3: counting extended simplices ######\n",
    "            for elem in results:\n",
    "                result_dictionary[dimension] = result_dictionary.get(dimension, 0) + elem[0]\n",
    "        except KeyError: # If there are no simplices in h5 file..\n",
    "                result_dictionary[dimension] = 0\n",
    "        try:\n",
    "            aux_dictionary[dimension] = len(complex_file[\"Cells_\" + str(dimension)])\n",
    "        except KeyError: # If there are no simplices in h5 file...\n",
    "            aux_dictionary[dimension] = 0\n",
    "        \n",
    "        overall_results[dimension] = overall_results.get(dimension, []) + [result_dictionary[dimension]]\n",
    "    print(\"Extended simplices for 10000 simplices per dimension\")\n",
    "    print(result_dictionary)\n",
    "    print(\"Total simplices per dimension\")\n",
    "    print(aux_dictionary)\n",
    "    # free shared memory\n",
    "for link in links:\n",
    "    link.unlink()\n",
    "for link in bid_links:\n",
    "    link.unlink()"
   ]
  },
  {
   "cell_type": "code",
   "execution_count": 57,
   "metadata": {},
   "outputs": [
    {
     "data": {
      "text/plain": [
       "<BarContainer object of 6 artists>"
      ]
     },
     "execution_count": 57,
     "metadata": {},
     "output_type": "execute_result"
    },
    {
     "data": {
      "image/png": "[encoded data removed]",
      "text/plain": [
       "<Figure size 432x288 with 1 Axes>"
      ]
     },
     "metadata": {
      "needs_background": "light"
     },
     "output_type": "display_data"
    }
   ],
   "source": [
    "a = []\n",
    "b = []\n",
    "for elem in overall_results.values():\n",
    "    a.append(np.mean(elem))\n",
    "    b.append(np.std(elem))\n",
    "plt.bar(range(1,7), a, yerr=b)"
   ]
  },
  {
   "cell_type": "markdown",
   "metadata": {},
   "source": [
    "### ER bid adjusted"
   ]
  },
  {
   "cell_type": "code",
   "execution_count": 58,
   "metadata": {},
   "outputs": [
    {
     "name": "stderr",
     "output_type": "stream",
     "text": [
      "100%|██████████| 31346/31346 [00:00<00:00, 2330738.95it/s]\n",
      "7648079it [00:11, 669075.57it/s]\n"
     ]
    }
   ],
   "source": [
    "save_path = Path(\"data/models/adjusted/adjusted.flag\")\n",
    "save_path.parent.mkdir(exist_ok=True, parents=True)\n",
    "flag_path, pkl_path, count_path =save_count_graph_from_matrix(save_path, bid_adjusted_matrix)"
   ]
  },
  {
   "cell_type": "code",
   "execution_count": 59,
   "metadata": {},
   "outputs": [],
   "source": [
    "pool = mp.Pool()"
   ]
  },
  {
   "cell_type": "code",
   "execution_count": 60,
   "metadata": {},
   "outputs": [
    {
     "name": "stderr",
     "output_type": "stream",
     "text": [
      "100%|██████████| 6/6 [00:55<00:00,  9.19s/it]\n",
      "  0%|          | 0/6 [00:00<?, ?it/s]"
     ]
    },
    {
     "name": "stdout",
     "output_type": "stream",
     "text": [
      "Extended simplices for 10000 simplices per dimension\n",
      "{1: 57969, 2: 58046, 3: 58637, 4: 9559, 5: 0, 6: 0}\n",
      "Total simplices per dimension\n",
      "{1: 7648079, 2: 14580512, 3: 323530, 4: 1612, 5: 0, 6: 0}\n"
     ]
    },
    {
     "name": "stderr",
     "output_type": "stream",
     "text": [
      "100%|██████████| 6/6 [00:50<00:00,  8.39s/it]\n",
      "  0%|          | 0/6 [00:00<?, ?it/s]"
     ]
    },
    {
     "name": "stdout",
     "output_type": "stream",
     "text": [
      "Extended simplices for 10000 simplices per dimension\n",
      "{1: 58174, 2: 58637, 3: 58743, 4: 9559, 5: 0, 6: 0}\n",
      "Total simplices per dimension\n",
      "{1: 7648079, 2: 14580512, 3: 323530, 4: 1612, 5: 0, 6: 0}\n"
     ]
    },
    {
     "name": "stderr",
     "output_type": "stream",
     "text": [
      "100%|██████████| 6/6 [00:52<00:00,  8.72s/it]\n",
      "  0%|          | 0/6 [00:00<?, ?it/s]"
     ]
    },
    {
     "name": "stdout",
     "output_type": "stream",
     "text": [
      "Extended simplices for 10000 simplices per dimension\n",
      "{1: 58305, 2: 57961, 3: 58330, 4: 9559, 5: 0, 6: 0}\n",
      "Total simplices per dimension\n",
      "{1: 7648079, 2: 14580512, 3: 323530, 4: 1612, 5: 0, 6: 0}\n"
     ]
    },
    {
     "name": "stderr",
     "output_type": "stream",
     "text": [
      "100%|██████████| 6/6 [00:51<00:00,  8.61s/it]\n",
      "  0%|          | 0/6 [00:00<?, ?it/s]"
     ]
    },
    {
     "name": "stdout",
     "output_type": "stream",
     "text": [
      "Extended simplices for 10000 simplices per dimension\n",
      "{1: 58515, 2: 58227, 3: 58585, 4: 9559, 5: 0, 6: 0}\n",
      "Total simplices per dimension\n",
      "{1: 7648079, 2: 14580512, 3: 323530, 4: 1612, 5: 0, 6: 0}\n"
     ]
    },
    {
     "name": "stderr",
     "output_type": "stream",
     "text": [
      "100%|██████████| 6/6 [00:52<00:00,  8.78s/it]\n",
      "  0%|          | 0/6 [00:00<?, ?it/s]"
     ]
    },
    {
     "name": "stdout",
     "output_type": "stream",
     "text": [
      "Extended simplices for 10000 simplices per dimension\n",
      "{1: 57991, 2: 58482, 3: 58484, 4: 9559, 5: 0, 6: 0}\n",
      "Total simplices per dimension\n",
      "{1: 7648079, 2: 14580512, 3: 323530, 4: 1612, 5: 0, 6: 0}\n"
     ]
    },
    {
     "name": "stderr",
     "output_type": "stream",
     "text": [
      "100%|██████████| 6/6 [00:52<00:00,  8.71s/it]\n",
      "  0%|          | 0/6 [00:00<?, ?it/s]"
     ]
    },
    {
     "name": "stdout",
     "output_type": "stream",
     "text": [
      "Extended simplices for 10000 simplices per dimension\n",
      "{1: 58347, 2: 58035, 3: 58435, 4: 9559, 5: 0, 6: 0}\n",
      "Total simplices per dimension\n",
      "{1: 7648079, 2: 14580512, 3: 323530, 4: 1612, 5: 0, 6: 0}\n"
     ]
    },
    {
     "name": "stderr",
     "output_type": "stream",
     "text": [
      "100%|██████████| 6/6 [00:58<00:00,  9.68s/it]\n",
      "  0%|          | 0/6 [00:00<?, ?it/s]"
     ]
    },
    {
     "name": "stdout",
     "output_type": "stream",
     "text": [
      "Extended simplices for 10000 simplices per dimension\n",
      "{1: 58713, 2: 58153, 3: 58145, 4: 9559, 5: 0, 6: 0}\n",
      "Total simplices per dimension\n",
      "{1: 7648079, 2: 14580512, 3: 323530, 4: 1612, 5: 0, 6: 0}\n"
     ]
    },
    {
     "name": "stderr",
     "output_type": "stream",
     "text": [
      "100%|██████████| 6/6 [00:58<00:00,  9.82s/it]\n",
      "  0%|          | 0/6 [00:00<?, ?it/s]"
     ]
    },
    {
     "name": "stdout",
     "output_type": "stream",
     "text": [
      "Extended simplices for 10000 simplices per dimension\n",
      "{1: 58323, 2: 58208, 3: 58690, 4: 9559, 5: 0, 6: 0}\n",
      "Total simplices per dimension\n",
      "{1: 7648079, 2: 14580512, 3: 323530, 4: 1612, 5: 0, 6: 0}\n"
     ]
    },
    {
     "name": "stderr",
     "output_type": "stream",
     "text": [
      "100%|██████████| 6/6 [00:54<00:00,  9.14s/it]\n",
      "  0%|          | 0/6 [00:00<?, ?it/s]"
     ]
    },
    {
     "name": "stdout",
     "output_type": "stream",
     "text": [
      "Extended simplices for 10000 simplices per dimension\n",
      "{1: 58356, 2: 58391, 3: 58240, 4: 9559, 5: 0, 6: 0}\n",
      "Total simplices per dimension\n",
      "{1: 7648079, 2: 14580512, 3: 323530, 4: 1612, 5: 0, 6: 0}\n"
     ]
    },
    {
     "name": "stderr",
     "output_type": "stream",
     "text": [
      "100%|██████████| 6/6 [00:55<00:00,  9.22s/it]"
     ]
    },
    {
     "name": "stdout",
     "output_type": "stream",
     "text": [
      "Extended simplices for 10000 simplices per dimension\n",
      "{1: 58216, 2: 57758, 3: 58088, 4: 9559, 5: 0, 6: 0}\n",
      "Total simplices per dimension\n",
      "{1: 7648079, 2: 14580512, 3: 323530, 4: 1612, 5: 0, 6: 0}\n"
     ]
    },
    {
     "name": "stderr",
     "output_type": "stream",
     "text": [
      "\n"
     ]
    }
   ],
   "source": [
    "overall_results = {}\n",
    "complex_file = h5py.File(count_path, 'r')\n",
    "matrix = load_sparse_matrix_from_pkl(pkl_path)\n",
    "bid_matrix = matrix.multiply(matrix.T)\n",
    "arrays, links = prepare_shared_memory(matrix, \"full\")\n",
    "bid_arrays, bid_links = prepare_shared_memory(bid_matrix, \"bid\")\n",
    "for _ in range(10):\n",
    "    result_dictionary = {}\n",
    "    aux_dictionary = {}\n",
    "######## iteration #####\n",
    "    for dimension in tqdm(range(1, 7)):\n",
    "        try:\n",
    "            ####### step 1: compiling the dictionary ######\n",
    "            random_selection = np.random.choice(complex_file[\"Cells_\" + str(dimension)].shape[0],\n",
    "                                                min(10000,complex_file[\"Cells_\" + str(dimension)].shape[0]),\n",
    "                                                replace = False)\n",
    "            random_selection.sort()\n",
    "            simplex_iterator = iter(complex_file[\"Cells_\" + str(dimension)][random_selection])\n",
    "            ###### step 2: getting bidirectional targets ######\n",
    "             # fictitious product to satisfy imap reqs of a single arugment.\n",
    "            mp_iterator = product(simplex_iterator, [arrays], [bid_arrays])\n",
    "            results = pool.imap(get_n_extended_simplices, mp_iterator)\n",
    "            ###### step 3: counting extended simplices ######\n",
    "            for elem in results:\n",
    "                result_dictionary[dimension] = result_dictionary.get(dimension, 0) + elem[0]\n",
    "        except KeyError: # If there are no simplices in h5 file..\n",
    "                result_dictionary[dimension] = 0\n",
    "        try:\n",
    "            aux_dictionary[dimension] = len(complex_file[\"Cells_\" + str(dimension)])\n",
    "        except KeyError: # If there are no simplices in h5 file...\n",
    "            aux_dictionary[dimension] = 0\n",
    "        \n",
    "        overall_results[dimension] = overall_results.get(dimension, []) + [result_dictionary[dimension]]\n",
    "    print(\"Extended simplices for 10000 simplices per dimension\")\n",
    "    print(result_dictionary)\n",
    "    print(\"Total simplices per dimension\")\n",
    "    print(aux_dictionary)\n",
    "    # free shared memory\n",
    "for link in links:\n",
    "    link.unlink()\n",
    "for link in bid_links:\n",
    "    link.unlink()"
   ]
  },
  {
   "cell_type": "code",
   "execution_count": 61,
   "metadata": {},
   "outputs": [
    {
     "data": {
      "text/plain": [
       "<BarContainer object of 6 artists>"
      ]
     },
     "execution_count": 61,
     "metadata": {},
     "output_type": "execute_result"
    },
    {
     "data": {
      "image/png": "[encoded data removed]",
      "text/plain": [
       "<Figure size 432x288 with 1 Axes>"
      ]
     },
     "metadata": {
      "needs_background": "light"
     },
     "output_type": "display_data"
    }
   ],
   "source": [
    "a = []\n",
    "b = []\n",
    "for elem in overall_results.values():\n",
    "    a.append(np.mean(elem))\n",
    "    b.append(np.std(elem))\n",
    "plt.bar(range(1,7), a, yerr=b)"
   ]
  },
  {
   "cell_type": "code",
   "execution_count": null,
   "metadata": {},
   "outputs": [],
   "source": []
  },
  {
   "cell_type": "code",
   "execution_count": null,
   "metadata": {},
   "outputs": [],
   "source": []
  },
  {
   "cell_type": "code",
   "execution_count": null,
   "metadata": {},
   "outputs": [],
   "source": []
  },
  {
   "cell_type": "code",
   "execution_count": null,
   "metadata": {},
   "outputs": [],
   "source": []
  },
  {
   "cell_type": "code",
   "execution_count": null,
   "metadata": {},
   "outputs": [],
   "source": []
  },
  {
   "cell_type": "code",
   "execution_count": null,
   "metadata": {},
   "outputs": [],
   "source": []
  },
  {
   "cell_type": "code",
   "execution_count": null,
   "metadata": {},
   "outputs": [],
   "source": []
  },
  {
   "cell_type": "code",
   "execution_count": null,
   "metadata": {},
   "outputs": [],
   "source": []
  },
  {
   "cell_type": "code",
   "execution_count": null,
   "metadata": {},
   "outputs": [],
   "source": []
  }
 ],
 "metadata": {
  "kernelspec": {
   "display_name": "Python 3",
   "language": "python",
   "name": "python3"
  },
  "language_info": {
   "codemirror_mode": {
    "name": "ipython",
    "version": 3
   },
   "file_extension": ".py",
   "mimetype": "text/x-python",
   "name": "python",
   "nbconvert_exporter": "python",
   "pygments_lexer": "ipython3",
   "version": "3.8.5"
  }
 },
 "nbformat": 4,
 "nbformat_minor": 4
}
