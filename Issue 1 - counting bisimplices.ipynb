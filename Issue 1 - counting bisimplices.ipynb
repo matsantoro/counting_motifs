{
 "cells": [
  {
   "cell_type": "markdown",
   "metadata": {},
   "source": [
    "## Counting bisimplices on some simplices of the full matrix."
   ]
  },
  {
   "cell_type": "markdown",
   "metadata": {},
   "source": [
    "In this notebook, we will try to count all simplices whose sink has a bidirectional connection to another neuron. We will compare results between ER graphs and an actual column graph. For computational reasons, 10000 simplices are taken at a single time and the results are compared.\n",
    "\n",
    "The algorithm is as follows:\n",
    "1. The bidirectional connection adjacency matrix (i.e. Bij = 1 iff Aij and Aji) is retrieved.\n",
    "2. For each simplex in the buffer, its sink's bidirectional connections outside the simplex are retrieved. \n",
    "3. We check that the bidirectional connection is a bisimplex.\n",
    "4. We add the sink-extra neuron pair to the set of bisimplices in the buffer (and hope python handles sets as efficiently as possible)\n",
    "\n",
    "For computational reasons, only 10000 random simplices per dimension were taken in consideration. We have done:\n",
    "1. Ten trials with different simplices on a single ER instance with same n_nodes and density of column.\n",
    "2. Ten trials with ten different ER instance with same n_nodes and density of column.\n",
    "3. Ten trials with different simplices on the same column."
   ]
  },
  {
   "cell_type": "markdown",
   "metadata": {},
   "source": [
    "### Imports "
   ]
  },
  {
   "cell_type": "markdown",
   "metadata": {},
   "source": [
    "Core imports"
   ]
  },
  {
   "cell_type": "code",
   "execution_count": 1,
   "metadata": {},
   "outputs": [],
   "source": [
    "import multiprocessing as mp\n",
    "from robust_motifs.custom_mp import prepare_shared_memory\n",
    "from robust_motifs.counting import get_dag2_signature, get_n_extended_simplices, get_bisimplices\n",
    "from robust_motifs.data import import_connectivity_matrix, save_count_er_graph, load_sparse_matrix_from_pkl"
   ]
  },
  {
   "cell_type": "markdown",
   "metadata": {},
   "source": [
    "File tools"
   ]
  },
  {
   "cell_type": "code",
   "execution_count": 2,
   "metadata": {},
   "outputs": [],
   "source": [
    "from pathlib import Path\n",
    "import pickle\n",
    "import h5py"
   ]
  },
  {
   "cell_type": "markdown",
   "metadata": {},
   "source": [
    "Drawing tools"
   ]
  },
  {
   "cell_type": "code",
   "execution_count": 3,
   "metadata": {},
   "outputs": [],
   "source": [
    "from robust_motifs.plot import plot_matrices\n",
    "from robust_motifs.utilities import get_pos\n",
    "import matplotlib.pyplot as plt"
   ]
  },
  {
   "cell_type": "markdown",
   "metadata": {},
   "source": [
    "Other tools"
   ]
  },
  {
   "cell_type": "code",
   "execution_count": 4,
   "metadata": {},
   "outputs": [],
   "source": [
    "import scipy.sparse as sp\n",
    "import numpy as np\n",
    "from itertools import product\n",
    "from time import time\n",
    "import os\n",
    "from tqdm import tqdm"
   ]
  },
  {
   "cell_type": "code",
   "execution_count": 5,
   "metadata": {},
   "outputs": [],
   "source": [
    "pool = mp.Pool()"
   ]
  },
  {
   "cell_type": "markdown",
   "metadata": {},
   "source": [
    "## Comparison with Erdos-Reyni graph, random simplices"
   ]
  },
  {
   "cell_type": "markdown",
   "metadata": {},
   "source": [
    "### Creating ER graph"
   ]
  },
  {
   "cell_type": "code",
   "execution_count": 6,
   "metadata": {},
   "outputs": [
    {
     "name": "stderr",
     "output_type": "stream",
     "text": [
      "100%|██████████| 55/55 [00:12<00:00,  4.48it/s]\n"
     ]
    },
    {
     "data": {
      "text/plain": [
       "<31346x31346 sparse matrix of type '<class 'numpy.bool_'>'\n",
       "\twith 7648079 stored elements in Compressed Sparse Row format>"
      ]
     },
     "execution_count": 6,
     "metadata": {},
     "output_type": "execute_result"
    }
   ],
   "source": [
    "import_connectivity_matrix(dataframe = False, type = 'csr')"
   ]
  },
  {
   "cell_type": "code",
   "execution_count": 7,
   "metadata": {},
   "outputs": [],
   "source": [
    "n_nodes = 31346\n",
    "density = 7648079/31346/31346"
   ]
  },
  {
   "cell_type": "code",
   "execution_count": 8,
   "metadata": {},
   "outputs": [
    {
     "data": {
      "text/plain": [
       "0.007783736164455195"
      ]
     },
     "execution_count": 8,
     "metadata": {},
     "output_type": "execute_result"
    }
   ],
   "source": [
    "density"
   ]
  },
  {
   "cell_type": "code",
   "execution_count": 9,
   "metadata": {
    "scrolled": true
   },
   "outputs": [
    {
     "name": "stderr",
     "output_type": "stream",
     "text": [
      "100%|██████████| 31346/31346 [00:00<00:00, 1326552.85it/s]\n",
      "7643566it [00:11, 674677.30it/s]\n"
     ]
    }
   ],
   "source": [
    "path = Path(\"data/extended_simplices/full/ER_\" + str(n_nodes) + \".flag\")\n",
    "path.parent.mkdir(parents=True, exist_ok = True)\n",
    "flag_path, pickle_path, count_path = save_count_er_graph(path, n_nodes, density)\n"
   ]
  },
  {
   "cell_type": "code",
   "execution_count": 10,
   "metadata": {},
   "outputs": [],
   "source": [
    "overall_results = {}"
   ]
  },
  {
   "cell_type": "code",
   "execution_count": 11,
   "metadata": {
    "scrolled": false
   },
   "outputs": [
    {
     "name": "stderr",
     "output_type": "stream",
     "text": [
      "100%|██████████| 6/6 [00:52<00:00,  8.70s/it]\n",
      "  0%|          | 0/6 [00:00<?, ?it/s]"
     ]
    },
    {
     "name": "stdout",
     "output_type": "stream",
     "text": [
      "Bisimplices for 10000 simplices per dimension\n",
      "{1: 174, 2: 2, 3: 0, 4: 0, 5: 0, 6: 0}\n",
      "Total simplices per dimension\n",
      "{1: 7643566, 2: 14501794, 3: 214256, 4: 19, 5: 0, 6: 0}\n"
     ]
    },
    {
     "name": "stderr",
     "output_type": "stream",
     "text": [
      "100%|██████████| 6/6 [00:53<00:00,  8.90s/it]\n",
      "  0%|          | 0/6 [00:00<?, ?it/s]"
     ]
    },
    {
     "name": "stdout",
     "output_type": "stream",
     "text": [
      "Bisimplices for 10000 simplices per dimension\n",
      "{1: 139, 2: 1, 3: 0, 4: 0, 5: 0, 6: 0}\n",
      "Total simplices per dimension\n",
      "{1: 7643566, 2: 14501794, 3: 214256, 4: 19, 5: 0, 6: 0}\n"
     ]
    },
    {
     "name": "stderr",
     "output_type": "stream",
     "text": [
      "100%|██████████| 6/6 [00:55<00:00,  9.21s/it]\n",
      "  0%|          | 0/6 [00:00<?, ?it/s]"
     ]
    },
    {
     "name": "stdout",
     "output_type": "stream",
     "text": [
      "Bisimplices for 10000 simplices per dimension\n",
      "{1: 153, 2: 3, 3: 0, 4: 0, 5: 0, 6: 0}\n",
      "Total simplices per dimension\n",
      "{1: 7643566, 2: 14501794, 3: 214256, 4: 19, 5: 0, 6: 0}\n"
     ]
    },
    {
     "name": "stderr",
     "output_type": "stream",
     "text": [
      "100%|██████████| 6/6 [00:52<00:00,  8.79s/it]\n",
      "  0%|          | 0/6 [00:00<?, ?it/s]"
     ]
    },
    {
     "name": "stdout",
     "output_type": "stream",
     "text": [
      "Bisimplices for 10000 simplices per dimension\n",
      "{1: 147, 2: 1, 3: 0, 4: 0, 5: 0, 6: 0}\n",
      "Total simplices per dimension\n",
      "{1: 7643566, 2: 14501794, 3: 214256, 4: 19, 5: 0, 6: 0}\n"
     ]
    },
    {
     "name": "stderr",
     "output_type": "stream",
     "text": [
      "100%|██████████| 6/6 [00:52<00:00,  8.81s/it]\n",
      "  0%|          | 0/6 [00:00<?, ?it/s]"
     ]
    },
    {
     "name": "stdout",
     "output_type": "stream",
     "text": [
      "Bisimplices for 10000 simplices per dimension\n",
      "{1: 142, 2: 0, 3: 0, 4: 0, 5: 0, 6: 0}\n",
      "Total simplices per dimension\n",
      "{1: 7643566, 2: 14501794, 3: 214256, 4: 19, 5: 0, 6: 0}\n"
     ]
    },
    {
     "name": "stderr",
     "output_type": "stream",
     "text": [
      "100%|██████████| 6/6 [00:53<00:00,  8.89s/it]\n",
      "  0%|          | 0/6 [00:00<?, ?it/s]"
     ]
    },
    {
     "name": "stdout",
     "output_type": "stream",
     "text": [
      "Bisimplices for 10000 simplices per dimension\n",
      "{1: 170, 2: 1, 3: 0, 4: 0, 5: 0, 6: 0}\n",
      "Total simplices per dimension\n",
      "{1: 7643566, 2: 14501794, 3: 214256, 4: 19, 5: 0, 6: 0}\n"
     ]
    },
    {
     "name": "stderr",
     "output_type": "stream",
     "text": [
      "100%|██████████| 6/6 [00:57<00:00,  9.52s/it]\n",
      "  0%|          | 0/6 [00:00<?, ?it/s]"
     ]
    },
    {
     "name": "stdout",
     "output_type": "stream",
     "text": [
      "Bisimplices for 10000 simplices per dimension\n",
      "{1: 123, 2: 0, 3: 0, 4: 0, 5: 0, 6: 0}\n",
      "Total simplices per dimension\n",
      "{1: 7643566, 2: 14501794, 3: 214256, 4: 19, 5: 0, 6: 0}\n"
     ]
    },
    {
     "name": "stderr",
     "output_type": "stream",
     "text": [
      "100%|██████████| 6/6 [00:53<00:00,  8.90s/it]\n",
      "  0%|          | 0/6 [00:00<?, ?it/s]"
     ]
    },
    {
     "name": "stdout",
     "output_type": "stream",
     "text": [
      "Bisimplices for 10000 simplices per dimension\n",
      "{1: 149, 2: 1, 3: 0, 4: 0, 5: 0, 6: 0}\n",
      "Total simplices per dimension\n",
      "{1: 7643566, 2: 14501794, 3: 214256, 4: 19, 5: 0, 6: 0}\n"
     ]
    },
    {
     "name": "stderr",
     "output_type": "stream",
     "text": [
      "100%|██████████| 6/6 [00:55<00:00,  9.20s/it]\n",
      "  0%|          | 0/6 [00:00<?, ?it/s]"
     ]
    },
    {
     "name": "stdout",
     "output_type": "stream",
     "text": [
      "Bisimplices for 10000 simplices per dimension\n",
      "{1: 146, 2: 1, 3: 0, 4: 0, 5: 0, 6: 0}\n",
      "Total simplices per dimension\n",
      "{1: 7643566, 2: 14501794, 3: 214256, 4: 19, 5: 0, 6: 0}\n"
     ]
    },
    {
     "name": "stderr",
     "output_type": "stream",
     "text": [
      "100%|██████████| 6/6 [00:55<00:00,  9.24s/it]"
     ]
    },
    {
     "name": "stdout",
     "output_type": "stream",
     "text": [
      "Bisimplices for 10000 simplices per dimension\n",
      "{1: 142, 2: 0, 3: 0, 4: 0, 5: 0, 6: 0}\n",
      "Total simplices per dimension\n",
      "{1: 7643566, 2: 14501794, 3: 214256, 4: 19, 5: 0, 6: 0}\n"
     ]
    },
    {
     "name": "stderr",
     "output_type": "stream",
     "text": [
      "\n"
     ]
    }
   ],
   "source": [
    "####### data import ########\n",
    "file_path = flag_path\n",
    "matrix_path = pickle_path\n",
    "complex_path = count_path\n",
    "complex_file = h5py.File(complex_path, 'r')\n",
    "matrix = load_sparse_matrix_from_pkl(matrix_path)\n",
    "bid_matrix = matrix.multiply(matrix.T)\n",
    "arrays, links = prepare_shared_memory(matrix, str(n_nodes))\n",
    "bid_arrays,  bid_links = prepare_shared_memory(bid_matrix, \"bid\")\n",
    "for _ in range(10):\n",
    "    result_dictionary = {} # this stores extended simplices counts.\n",
    "    aux_dictionary = {} # this stores simplex count\n",
    "    ######## iteration #####\n",
    "    for dimension in tqdm(range(1, 7)):\n",
    "        try:\n",
    "            ####### step 1: building the random iterator ######\n",
    "            random_selection = np.random.choice(complex_file[\"Cells_\" + str(dimension)].shape[0],\n",
    "                                                min(10000,complex_file[\"Cells_\" + str(dimension)].shape[0]),\n",
    "                                                replace = False)\n",
    "            random_selection.sort()\n",
    "            simplex_iterator = iter(complex_file[\"Cells_\" + str(dimension)][random_selection])\n",
    "            ###### step 2: getting number of bidirectional targets ######\n",
    "             # fictitious product to satisfy imap reqs of a single arugment.\n",
    "            mp_iterator = product(simplex_iterator, [arrays], [bid_arrays])\n",
    "            results = pool.imap(get_bisimplices, mp_iterator)\n",
    "            ###### step 3: counting extended simplices ######\n",
    "            for elem in results:\n",
    "                result_dictionary[dimension] = result_dictionary.get(dimension, set()).union(set(elem))\n",
    "        except KeyError: # If there are no simplices in h5 file..\n",
    "                result_dictionary[dimension] = []\n",
    "        try:\n",
    "            aux_dictionary[dimension] = len(complex_file[\"Cells_\" + str(dimension)])\n",
    "        except KeyError: # If there are no simplices in h5 file...\n",
    "            aux_dictionary[dimension] = 0\n",
    "        result_dictionary[dimension] = len(result_dictionary[dimension])\n",
    "            \n",
    "        \n",
    "        overall_results[dimension] = overall_results.get(dimension, []) + [result_dictionary[dimension]]\n",
    "    print(\"Bisimplices for 10000 simplices per dimension\")\n",
    "    print(result_dictionary)\n",
    "    print(\"Total simplices per dimension\")\n",
    "    print(aux_dictionary)\n",
    "    # free shared memory\n",
    "for link in links:\n",
    "    link.unlink()\n",
    "for link in bid_links:\n",
    "    link.unlink()"
   ]
  },
  {
   "cell_type": "code",
   "execution_count": 12,
   "metadata": {},
   "outputs": [
    {
     "data": {
      "text/plain": [
       "<BarContainer object of 6 artists>"
      ]
     },
     "execution_count": 12,
     "metadata": {},
     "output_type": "execute_result"
    },
    {
     "data": {
      "image/png": "[encoded data removed]",
      "text/plain": [
       "<Figure size 432x288 with 1 Axes>"
      ]
     },
     "metadata": {
      "needs_background": "light"
     },
     "output_type": "display_data"
    }
   ],
   "source": [
    "a = []\n",
    "b = []\n",
    "for elem in overall_results.values():\n",
    "    a.append(np.mean(elem))\n",
    "    b.append(np.std(elem))\n",
    "plt.bar(range(1,7), a, yerr=b)"
   ]
  },
  {
   "cell_type": "markdown",
   "metadata": {},
   "source": [
    "#### NB"
   ]
  },
  {
   "cell_type": "markdown",
   "metadata": {},
   "source": [
    "For each instance, we print two dictionaries: the first dictionary contains the number of extended simplices per dimension based on the 10000 simplices instance. The second dictonary contains the total number of simplices of the instance."
   ]
  },
  {
   "cell_type": "markdown",
   "metadata": {},
   "source": [
    "## Comparison with ER graph: random simplices, random instances. "
   ]
  },
  {
   "cell_type": "code",
   "execution_count": 13,
   "metadata": {},
   "outputs": [],
   "source": [
    "overall_results = {}"
   ]
  },
  {
   "cell_type": "code",
   "execution_count": 14,
   "metadata": {},
   "outputs": [
    {
     "name": "stderr",
     "output_type": "stream",
     "text": [
      "100%|██████████| 31346/31346 [00:00<00:00, 3423105.95it/s]\n",
      "7647519it [00:11, 663567.14it/s]\n",
      "100%|██████████| 6/6 [00:52<00:00,  8.67s/it]\n"
     ]
    },
    {
     "name": "stdout",
     "output_type": "stream",
     "text": [
      "Bisimplices for 10000 simplices per dimension\n",
      "{1: 126, 2: 1, 3: 0, 4: 0, 5: 0, 6: 0}\n",
      "Total simplices per dimension\n",
      "{1: 7647519, 2: 14525913, 3: 214595, 4: 19, 5: 0, 6: 0}\n"
     ]
    },
    {
     "name": "stderr",
     "output_type": "stream",
     "text": [
      "100%|██████████| 31346/31346 [00:00<00:00, 3031884.82it/s]\n",
      "7646766it [00:11, 643206.18it/s]\n",
      "100%|██████████| 6/6 [00:51<00:00,  8.64s/it]\n"
     ]
    },
    {
     "name": "stdout",
     "output_type": "stream",
     "text": [
      "Bisimplices for 10000 simplices per dimension\n",
      "{1: 153, 2: 1, 3: 0, 4: 0, 5: 0, 6: 0}\n",
      "Total simplices per dimension\n",
      "{1: 7646766, 2: 14514626, 3: 214096, 4: 18, 5: 0, 6: 0}\n"
     ]
    },
    {
     "name": "stderr",
     "output_type": "stream",
     "text": [
      "100%|██████████| 31346/31346 [00:00<00:00, 3439133.99it/s]\n",
      "7650127it [00:11, 650669.91it/s]\n",
      "100%|██████████| 6/6 [00:51<00:00,  8.66s/it]\n"
     ]
    },
    {
     "name": "stdout",
     "output_type": "stream",
     "text": [
      "Bisimplices for 10000 simplices per dimension\n",
      "{1: 169, 2: 1, 3: 0, 4: 0, 5: 0, 6: 0}\n",
      "Total simplices per dimension\n",
      "{1: 7650127, 2: 14548203, 3: 216044, 4: 30, 5: 0, 6: 0}\n"
     ]
    },
    {
     "name": "stderr",
     "output_type": "stream",
     "text": [
      "100%|██████████| 31346/31346 [00:00<00:00, 3421769.60it/s]\n",
      "7648072it [00:11, 663357.98it/s]\n",
      "100%|██████████| 6/6 [00:51<00:00,  8.58s/it]\n"
     ]
    },
    {
     "name": "stdout",
     "output_type": "stream",
     "text": [
      "Bisimplices for 10000 simplices per dimension\n",
      "{1: 143, 2: 0, 3: 0, 4: 0, 5: 0, 6: 0}\n",
      "Total simplices per dimension\n",
      "{1: 7648072, 2: 14522736, 3: 214362, 4: 16, 5: 0, 6: 0}\n"
     ]
    },
    {
     "name": "stderr",
     "output_type": "stream",
     "text": [
      "100%|██████████| 31346/31346 [00:00<00:00, 3208498.75it/s]\n",
      "7652252it [00:11, 643139.56it/s]\n",
      "100%|██████████| 6/6 [00:51<00:00,  8.62s/it]\n"
     ]
    },
    {
     "name": "stdout",
     "output_type": "stream",
     "text": [
      "Bisimplices for 10000 simplices per dimension\n",
      "{1: 144, 2: 1, 3: 0, 4: 0, 5: 0, 6: 0}\n",
      "Total simplices per dimension\n",
      "{1: 7652252, 2: 14553532, 3: 216572, 4: 20, 5: 0, 6: 0}\n"
     ]
    },
    {
     "name": "stderr",
     "output_type": "stream",
     "text": [
      "100%|██████████| 31346/31346 [00:00<00:00, 3412090.03it/s]\n",
      "7654441it [00:11, 641599.40it/s]\n",
      "100%|██████████| 6/6 [00:52<00:00,  8.81s/it]\n"
     ]
    },
    {
     "name": "stdout",
     "output_type": "stream",
     "text": [
      "Bisimplices for 10000 simplices per dimension\n",
      "{1: 171, 2: 1, 3: 0, 4: 0, 5: 0, 6: 0}\n",
      "Total simplices per dimension\n",
      "{1: 7654441, 2: 14561406, 3: 216627, 4: 30, 5: 0, 6: 0}\n"
     ]
    },
    {
     "name": "stderr",
     "output_type": "stream",
     "text": [
      "100%|██████████| 31346/31346 [00:00<00:00, 3378682.01it/s]\n",
      "7650973it [00:11, 663971.73it/s]\n",
      "100%|██████████| 6/6 [00:51<00:00,  8.59s/it]\n"
     ]
    },
    {
     "name": "stdout",
     "output_type": "stream",
     "text": [
      "Bisimplices for 10000 simplices per dimension\n",
      "{1: 134, 2: 1, 3: 0, 4: 0, 5: 0, 6: 0}\n",
      "Total simplices per dimension\n",
      "{1: 7650973, 2: 14537803, 3: 215264, 4: 26, 5: 0, 6: 0}\n"
     ]
    },
    {
     "name": "stderr",
     "output_type": "stream",
     "text": [
      "100%|██████████| 31346/31346 [00:00<00:00, 3423997.43it/s]\n",
      "7647642it [00:11, 661628.82it/s]\n",
      "100%|██████████| 6/6 [00:51<00:00,  8.59s/it]\n"
     ]
    },
    {
     "name": "stdout",
     "output_type": "stream",
     "text": [
      "Bisimplices for 10000 simplices per dimension\n",
      "{1: 150, 2: 2, 3: 0, 4: 0, 5: 0, 6: 0}\n",
      "Total simplices per dimension\n",
      "{1: 7647642, 2: 14521863, 3: 214472, 4: 25, 5: 0, 6: 0}\n"
     ]
    },
    {
     "name": "stderr",
     "output_type": "stream",
     "text": [
      "100%|██████████| 31346/31346 [00:00<00:00, 3423373.34it/s]\n",
      "7645813it [00:11, 659393.56it/s]\n",
      "100%|██████████| 6/6 [00:52<00:00,  8.70s/it]\n"
     ]
    },
    {
     "name": "stdout",
     "output_type": "stream",
     "text": [
      "Bisimplices for 10000 simplices per dimension\n",
      "{1: 151, 2: 1, 3: 0, 4: 0, 5: 0, 6: 0}\n",
      "Total simplices per dimension\n",
      "{1: 7645813, 2: 14514166, 3: 214743, 4: 24, 5: 0, 6: 0}\n"
     ]
    },
    {
     "name": "stderr",
     "output_type": "stream",
     "text": [
      "100%|██████████| 31346/31346 [00:00<00:00, 3453951.22it/s]\n",
      "7644599it [00:11, 653640.84it/s]\n",
      "100%|██████████| 6/6 [00:51<00:00,  8.58s/it]"
     ]
    },
    {
     "name": "stdout",
     "output_type": "stream",
     "text": [
      "Bisimplices for 10000 simplices per dimension\n",
      "{1: 173, 2: 0, 3: 0, 4: 0, 5: 0, 6: 0}\n",
      "Total simplices per dimension\n",
      "{1: 7644599, 2: 14503933, 3: 214448, 4: 28, 5: 0, 6: 0}\n"
     ]
    },
    {
     "name": "stderr",
     "output_type": "stream",
     "text": [
      "\n"
     ]
    }
   ],
   "source": [
    "for _ in range(10):\n",
    "    path = Path(\"data/extended_simplices/full/ER_\" + str(n_nodes) + \".flag\")\n",
    "    path.parent.mkdir(parents=True, exist_ok = True)\n",
    "    flag_path, pickle_path, count_path = save_count_er_graph(path, n_nodes, density)\n",
    "    file_path = flag_path\n",
    "    matrix_path = pickle_path\n",
    "    complex_path = count_path\n",
    "    complex_file = h5py.File(complex_path, 'r')\n",
    "    matrix = load_sparse_matrix_from_pkl(matrix_path)\n",
    "    bid_matrix = matrix.multiply(matrix.T)\n",
    "    arrays, links = prepare_shared_memory(matrix, str(n_nodes))\n",
    "    bid_arrays,  bid_links = prepare_shared_memory(bid_matrix, \"bid\")  \n",
    "    result_dictionary = {} # this stores extended simplices counts.\n",
    "    aux_dictionary = {} # this stores simplex count\n",
    "    ######## iteration #####\n",
    "    for dimension in tqdm(range(1, 7)):\n",
    "        try:\n",
    "            ####### step 1: compiling the dictionary ######\n",
    "            random_selection = np.random.choice(complex_file[\"Cells_\" + str(dimension)].shape[0],\n",
    "                                                min(10000,complex_file[\"Cells_\" + str(dimension)].shape[0]),\n",
    "                                                replace = False)\n",
    "            random_selection.sort()\n",
    "            simplex_iterator = iter(complex_file[\"Cells_\" + str(dimension)][random_selection])\n",
    "            ###### step 2: getting bidirectional targets ######\n",
    "             # fictitious product to satisfy imap reqs of a single arugment.\n",
    "            mp_iterator = product(simplex_iterator, [arrays], [bid_arrays])\n",
    "            results = pool.imap(get_bisimplices, mp_iterator)\n",
    "            ###### step 3: counting extended simplices ######\n",
    "            for elem in results:\n",
    "                result_dictionary[dimension] = result_dictionary.get(dimension, set()).union(set(elem))\n",
    "        except KeyError: # If there are no simplices in h5 file..\n",
    "                result_dictionary[dimension] = set()\n",
    "        try:\n",
    "            aux_dictionary[dimension] = len(complex_file[\"Cells_\" + str(dimension)])\n",
    "        except KeyError: # If there are no simplices in h5 file...\n",
    "            aux_dictionary[dimension] = 0\n",
    "        result_dictionary[dimension] = len(result_dictionary[dimension])\n",
    "        overall_results[dimension] = overall_results.get(dimension, []) + [result_dictionary[dimension]]\n",
    "    print(\"Bisimplices for 10000 simplices per dimension\")\n",
    "    print(result_dictionary)\n",
    "    print(\"Total simplices per dimension\")\n",
    "    print(aux_dictionary)\n",
    "    # free shared memory\n",
    "    for link in links:\n",
    "        link.unlink()\n",
    "    for link in bid_links:\n",
    "        link.unlink()"
   ]
  },
  {
   "cell_type": "code",
   "execution_count": 15,
   "metadata": {},
   "outputs": [],
   "source": [
    "a = []\n",
    "b = []\n",
    "for elem in overall_results.values():\n",
    "    a.append(np.mean(elem))\n",
    "    b.append(np.std(elem))\n",
    "plt.bar(range(1,7), a, yerr=b)"
   ]
  },
  {
   "cell_type": "markdown",
   "metadata": {},
   "source": [
    "## Comparison with ER graph: random simplices in column"
   ]
  },
  {
   "cell_type": "code",
   "execution_count": 13,
   "metadata": {},
   "outputs": [],
   "source": [
    "overall_results = {}"
   ]
  },
  {
   "cell_type": "code",
   "execution_count": 14,
   "metadata": {
    "scrolled": false
   },
   "outputs": [
    {
     "name": "stderr",
     "output_type": "stream",
     "text": [
      "100%|██████████| 55/55 [00:11<00:00,  4.60it/s]\n",
      "100%|██████████| 6/6 [02:05<00:00, 20.86s/it]\n",
      "  0%|          | 0/6 [00:00<?, ?it/s]"
     ]
    },
    {
     "name": "stdout",
     "output_type": "stream",
     "text": [
      "Bisimplices for 10000 simplices per dimension\n",
      "{1: 3857, 2: 449, 3: 83, 4: 16, 5: 2, 6: 0}\n",
      "Total simplices per dimension\n",
      "{1: 7648079, 2: 73036616, 3: 59945205, 4: 6599529, 5: 133115, 6: 529}\n"
     ]
    },
    {
     "name": "stderr",
     "output_type": "stream",
     "text": [
      "100%|██████████| 6/6 [02:05<00:00, 20.86s/it]\n",
      "  0%|          | 0/6 [00:00<?, ?it/s]"
     ]
    },
    {
     "name": "stdout",
     "output_type": "stream",
     "text": [
      "Bisimplices for 10000 simplices per dimension\n",
      "{1: 4004, 2: 464, 3: 92, 4: 12, 5: 3, 6: 0}\n",
      "Total simplices per dimension\n",
      "{1: 7648079, 2: 73036616, 3: 59945205, 4: 6599529, 5: 133115, 6: 529}\n"
     ]
    },
    {
     "name": "stderr",
     "output_type": "stream",
     "text": [
      "100%|██████████| 6/6 [02:05<00:00, 20.85s/it]\n",
      "  0%|          | 0/6 [00:00<?, ?it/s]"
     ]
    },
    {
     "name": "stdout",
     "output_type": "stream",
     "text": [
      "Bisimplices for 10000 simplices per dimension\n",
      "{1: 3913, 2: 458, 3: 94, 4: 19, 5: 3, 6: 0}\n",
      "Total simplices per dimension\n",
      "{1: 7648079, 2: 73036616, 3: 59945205, 4: 6599529, 5: 133115, 6: 529}\n"
     ]
    },
    {
     "name": "stderr",
     "output_type": "stream",
     "text": [
      "100%|██████████| 6/6 [02:05<00:00, 20.83s/it]\n",
      "  0%|          | 0/6 [00:00<?, ?it/s]"
     ]
    },
    {
     "name": "stdout",
     "output_type": "stream",
     "text": [
      "Bisimplices for 10000 simplices per dimension\n",
      "{1: 3945, 2: 456, 3: 84, 4: 21, 5: 2, 6: 0}\n",
      "Total simplices per dimension\n",
      "{1: 7648079, 2: 73036616, 3: 59945205, 4: 6599529, 5: 133115, 6: 529}\n"
     ]
    },
    {
     "name": "stderr",
     "output_type": "stream",
     "text": [
      "100%|██████████| 6/6 [02:09<00:00, 21.57s/it]"
     ]
    },
    {
     "name": "stdout",
     "output_type": "stream",
     "text": [
      "Bisimplices for 10000 simplices per dimension\n",
      "{1: 3948, 2: 464, 3: 95, 4: 18, 5: 0, 6: 0}\n",
      "Total simplices per dimension\n",
      "{1: 7648079, 2: 73036616, 3: 59945205, 4: 6599529, 5: 133115, 6: 529}\n"
     ]
    },
    {
     "name": "stderr",
     "output_type": "stream",
     "text": [
      "\n"
     ]
    }
   ],
   "source": [
    "complex_path = Path(\"data/tesi/test_instance/column-count.h5\")\n",
    "complex_file = h5py.File(complex_path, 'r')\n",
    "matrix = import_connectivity_matrix(dataframe = False, type = 'csr')\n",
    "bid_matrix = matrix.multiply(matrix.T)\n",
    "arrays, links = prepare_shared_memory(matrix, \"full\")\n",
    "bid_arrays, bid_links = prepare_shared_memory(bid_matrix, \"bid\")\n",
    "for _ in range(5):\n",
    "    result_dictionary = {}\n",
    "    aux_dictionary = {}\n",
    "######## iteration #####\n",
    "    for dimension in tqdm(range(1, 7)):\n",
    "        try:\n",
    "            ####### step 1: compiling the dictionary ######\n",
    "            random_selection = np.random.choice(complex_file[\"Cells_\" + str(dimension)].shape[0],\n",
    "                                                min(10000,complex_file[\"Cells_\" + str(dimension)].shape[0]),\n",
    "                                                replace = False)\n",
    "            random_selection.sort()\n",
    "            simplex_iterator = iter(complex_file[\"Cells_\" + str(dimension)][random_selection])\n",
    "            ###### step 2: getting bidirectional targets ######\n",
    "             # fictitious product to satisfy imap reqs of a single arugment.\n",
    "            mp_iterator = product(simplex_iterator, [arrays], [bid_arrays])\n",
    "            results = pool.imap(get_bisimplices, mp_iterator)\n",
    "            ###### step 3: counting extended simplices ######\n",
    "            for elem in results:\n",
    "                result_dictionary[dimension] = result_dictionary.get(dimension, set()).union(set(elem))\n",
    "        except KeyError: # If there are no simplices in h5 file..\n",
    "                result_dictionary[dimension] = set()\n",
    "        try:\n",
    "            aux_dictionary[dimension] = len(complex_file[\"Cells_\" + str(dimension)])\n",
    "        except KeyError: # If there are no simplices in h5 file...\n",
    "            aux_dictionary[dimension] = 0\n",
    "        \n",
    "        result_dictionary[dimension] = len(result_dictionary[dimension])\n",
    "        overall_results[dimension] = overall_results.get(dimension, []) + [result_dictionary[dimension]]\n",
    "    print(\"Bisimplices for 10000 simplices per dimension\")\n",
    "    print(result_dictionary)\n",
    "    print(\"Total simplices per dimension\")\n",
    "    print(aux_dictionary)\n",
    "    # free shared memory\n",
    "for link in links:\n",
    "    link.unlink()\n",
    "for link in bid_links:\n",
    "    link.unlink()"
   ]
  },
  {
   "cell_type": "code",
   "execution_count": 15,
   "metadata": {},
   "outputs": [
    {
     "data": {
      "text/plain": [
       "<BarContainer object of 6 artists>"
      ]
     },
     "execution_count": 15,
     "metadata": {},
     "output_type": "execute_result"
    },
    {
     "data": {
      "image/png": "[encoded data removed]",
      "text/plain": [
       "<Figure size 432x288 with 1 Axes>"
      ]
     },
     "metadata": {
      "needs_background": "light"
     },
     "output_type": "display_data"
    }
   ],
   "source": [
    "a = []\n",
    "b = []\n",
    "for elem in overall_results.values():\n",
    "    a.append(np.mean(elem))\n",
    "    b.append(np.std(elem))\n",
    "plt.bar(range(1,7), a, yerr=b)"
   ]
  },
  {
   "cell_type": "code",
   "execution_count": null,
   "metadata": {},
   "outputs": [],
   "source": []
  }
 ],
 "metadata": {
  "kernelspec": {
   "display_name": "Python 3",
   "language": "python",
   "name": "python3"
  },
  "language_info": {
   "codemirror_mode": {
    "name": "ipython",
    "version": 3
   },
   "file_extension": ".py",
   "mimetype": "text/x-python",
   "name": "python",
   "nbconvert_exporter": "python",
   "pygments_lexer": "ipython3",
   "version": "3.8.5"
  }
 },
 "nbformat": 4,
 "nbformat_minor": 4
}
