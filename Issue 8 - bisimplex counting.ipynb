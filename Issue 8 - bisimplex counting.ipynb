{
 "cells": [
  {
   "cell_type": "code",
   "execution_count": 1,
   "metadata": {},
   "outputs": [],
   "source": [
    "import numpy as np\n",
    "from pathlib import Path\n",
    "import h5py\n",
    "from tqdm import tqdm\n",
    "from itertools import product\n",
    "import multiprocessing as mp"
   ]
  },
  {
   "cell_type": "code",
   "execution_count": 2,
   "metadata": {},
   "outputs": [],
   "source": [
    "import matplotlib.pyplot as plt"
   ]
  },
  {
   "cell_type": "code",
   "execution_count": 3,
   "metadata": {},
   "outputs": [],
   "source": [
    "from robust_motifs.data import (save_count_graph_from_matrix, matrix_shuffle,\n",
    "                                import_connectivity_matrix, adjust_bidirectional_edges,\n",
    "                               load_sparse_matrix_from_pkl)\n",
    "from robust_motifs.custom_mp import prepare_shared_memory\n",
    "from robust_motifs.counting import get_bisimplices"
   ]
  },
  {
   "cell_type": "code",
   "execution_count": 4,
   "metadata": {},
   "outputs": [
    {
     "name": "stderr",
     "output_type": "stream",
     "text": [
      "100%|██████████| 55/55 [00:12<00:00,  4.52it/s]\n",
      "100%|██████████| 55/55 [00:37<00:00,  1.48it/s]\n"
     ]
    }
   ],
   "source": [
    "original_matrix = import_connectivity_matrix(dataframe = False, type = 'csr')\n",
    "\n",
    "pathway_shuffled_matrix = import_connectivity_matrix(dataframe= False, type='csr', pathway_shuffle=True)\n",
    "\n",
    "shuffled_matrix = matrix_shuffle(original_matrix, exclude_diagonal = True)"
   ]
  },
  {
   "cell_type": "code",
   "execution_count": 5,
   "metadata": {},
   "outputs": [
    {
     "data": {
      "text/plain": [
       "<31346x31346 sparse matrix of type '<class 'numpy.bool_'>'\n",
       "\twith 59510 stored elements in Compressed Sparse Row format>"
      ]
     },
     "execution_count": 5,
     "metadata": {},
     "output_type": "execute_result"
    }
   ],
   "source": [
    "original_matrix.multiply(original_matrix.T)\n",
    "\n",
    "pathway_shuffled_matrix.multiply(pathway_shuffled_matrix.T)\n",
    "\n",
    "shuffled_matrix.multiply(shuffled_matrix.T)"
   ]
  },
  {
   "cell_type": "code",
   "execution_count": 6,
   "metadata": {},
   "outputs": [
    {
     "name": "stderr",
     "output_type": "stream",
     "text": [
      "Removing edges...: 100%|██████████| 61711/61711 [00:06<00:00, 9535.93it/s]\n",
      "Adding bidirectional edges...: 100%|██████████| 61711/61711 [00:00<00:00, 165362.74it/s]\n"
     ]
    }
   ],
   "source": [
    "bid_adjusted_matrix = adjust_bidirectional_edges(shuffled_matrix, int(182932/2))"
   ]
  },
  {
   "cell_type": "code",
   "execution_count": 7,
   "metadata": {},
   "outputs": [
    {
     "data": {
      "text/plain": [
       "<31346x31346 sparse matrix of type '<class 'numpy.bool_'>'\n",
       "\twith 182932 stored elements in Compressed Sparse Row format>"
      ]
     },
     "execution_count": 7,
     "metadata": {},
     "output_type": "execute_result"
    }
   ],
   "source": [
    "bid_adjusted_matrix.multiply(bid_adjusted_matrix.T)"
   ]
  },
  {
   "cell_type": "markdown",
   "metadata": {},
   "source": [
    "### Processing"
   ]
  },
  {
   "cell_type": "code",
   "execution_count": 8,
   "metadata": {},
   "outputs": [],
   "source": [
    "overall_results = [{},{},{},{}]"
   ]
  },
  {
   "cell_type": "markdown",
   "metadata": {},
   "source": [
    "### Column"
   ]
  },
  {
   "cell_type": "code",
   "execution_count": 9,
   "metadata": {},
   "outputs": [
    {
     "name": "stderr",
     "output_type": "stream",
     "text": [
      "100%|██████████| 31346/31346 [00:00<00:00, 3218552.55it/s]\n",
      "7648079it [00:11, 675625.20it/s]\n"
     ]
    }
   ],
   "source": [
    "save_path = Path(\"data/models/column/column.flag\")\n",
    "save_path.parent.mkdir(exist_ok=True, parents=True)\n",
    "flag_path, pkl_path, count_path =save_count_graph_from_matrix(save_path, original_matrix)"
   ]
  },
  {
   "cell_type": "code",
   "execution_count": 10,
   "metadata": {},
   "outputs": [],
   "source": [
    "pool = mp.Pool()"
   ]
  },
  {
   "cell_type": "code",
   "execution_count": 11,
   "metadata": {},
   "outputs": [
    {
     "name": "stderr",
     "output_type": "stream",
     "text": [
      "100%|██████████| 6/6 [02:13<00:00, 22.22s/it]\n",
      "  0%|          | 0/6 [00:00<?, ?it/s]"
     ]
    },
    {
     "name": "stdout",
     "output_type": "stream",
     "text": [
      "Extended simplices for 10000 simplices per dimension\n",
      "{1: 3982, 2: 455, 3: 66, 4: 17, 5: 5, 6: 0}\n",
      "Total simplices per dimension\n",
      "{1: 7648079, 2: 73036616, 3: 59945205, 4: 6599529, 5: 133115, 6: 529}\n"
     ]
    },
    {
     "name": "stderr",
     "output_type": "stream",
     "text": [
      "100%|██████████| 6/6 [02:17<00:00, 22.85s/it]\n",
      "  0%|          | 0/6 [00:00<?, ?it/s]"
     ]
    },
    {
     "name": "stdout",
     "output_type": "stream",
     "text": [
      "Extended simplices for 10000 simplices per dimension\n",
      "{1: 4077, 2: 466, 3: 75, 4: 19, 5: 0, 6: 0}\n",
      "Total simplices per dimension\n",
      "{1: 7648079, 2: 73036616, 3: 59945205, 4: 6599529, 5: 133115, 6: 529}\n"
     ]
    },
    {
     "name": "stderr",
     "output_type": "stream",
     "text": [
      "100%|██████████| 6/6 [02:04<00:00, 20.69s/it]\n",
      "  0%|          | 0/6 [00:00<?, ?it/s]"
     ]
    },
    {
     "name": "stdout",
     "output_type": "stream",
     "text": [
      "Extended simplices for 10000 simplices per dimension\n",
      "{1: 3826, 2: 512, 3: 83, 4: 22, 5: 2, 6: 0}\n",
      "Total simplices per dimension\n",
      "{1: 7648079, 2: 73036616, 3: 59945205, 4: 6599529, 5: 133115, 6: 529}\n"
     ]
    },
    {
     "name": "stderr",
     "output_type": "stream",
     "text": [
      "100%|██████████| 6/6 [02:04<00:00, 20.83s/it]\n",
      "  0%|          | 0/6 [00:00<?, ?it/s]"
     ]
    },
    {
     "name": "stdout",
     "output_type": "stream",
     "text": [
      "Extended simplices for 10000 simplices per dimension\n",
      "{1: 3898, 2: 483, 3: 88, 4: 14, 5: 7, 6: 0}\n",
      "Total simplices per dimension\n",
      "{1: 7648079, 2: 73036616, 3: 59945205, 4: 6599529, 5: 133115, 6: 529}\n"
     ]
    },
    {
     "name": "stderr",
     "output_type": "stream",
     "text": [
      "100%|██████████| 6/6 [02:04<00:00, 20.69s/it]\n",
      "  0%|          | 0/6 [00:00<?, ?it/s]"
     ]
    },
    {
     "name": "stdout",
     "output_type": "stream",
     "text": [
      "Extended simplices for 10000 simplices per dimension\n",
      "{1: 3820, 2: 467, 3: 96, 4: 17, 5: 1, 6: 0}\n",
      "Total simplices per dimension\n",
      "{1: 7648079, 2: 73036616, 3: 59945205, 4: 6599529, 5: 133115, 6: 529}\n"
     ]
    },
    {
     "name": "stderr",
     "output_type": "stream",
     "text": [
      "100%|██████████| 6/6 [02:03<00:00, 20.65s/it]\n",
      "  0%|          | 0/6 [00:00<?, ?it/s]"
     ]
    },
    {
     "name": "stdout",
     "output_type": "stream",
     "text": [
      "Extended simplices for 10000 simplices per dimension\n",
      "{1: 3858, 2: 474, 3: 91, 4: 16, 5: 2, 6: 0}\n",
      "Total simplices per dimension\n",
      "{1: 7648079, 2: 73036616, 3: 59945205, 4: 6599529, 5: 133115, 6: 529}\n"
     ]
    },
    {
     "name": "stderr",
     "output_type": "stream",
     "text": [
      "100%|██████████| 6/6 [02:04<00:00, 20.68s/it]\n",
      "  0%|          | 0/6 [00:00<?, ?it/s]"
     ]
    },
    {
     "name": "stdout",
     "output_type": "stream",
     "text": [
      "Extended simplices for 10000 simplices per dimension\n",
      "{1: 4026, 2: 459, 3: 75, 4: 17, 5: 1, 6: 0}\n",
      "Total simplices per dimension\n",
      "{1: 7648079, 2: 73036616, 3: 59945205, 4: 6599529, 5: 133115, 6: 529}\n"
     ]
    },
    {
     "name": "stderr",
     "output_type": "stream",
     "text": [
      "100%|██████████| 6/6 [02:05<00:00, 20.85s/it]\n",
      "  0%|          | 0/6 [00:00<?, ?it/s]"
     ]
    },
    {
     "name": "stdout",
     "output_type": "stream",
     "text": [
      "Extended simplices for 10000 simplices per dimension\n",
      "{1: 4071, 2: 477, 3: 70, 4: 17, 5: 2, 6: 0}\n",
      "Total simplices per dimension\n",
      "{1: 7648079, 2: 73036616, 3: 59945205, 4: 6599529, 5: 133115, 6: 529}\n"
     ]
    },
    {
     "name": "stderr",
     "output_type": "stream",
     "text": [
      "100%|██████████| 6/6 [02:11<00:00, 21.96s/it]\n",
      "  0%|          | 0/6 [00:00<?, ?it/s]"
     ]
    },
    {
     "name": "stdout",
     "output_type": "stream",
     "text": [
      "Extended simplices for 10000 simplices per dimension\n",
      "{1: 3932, 2: 489, 3: 68, 4: 12, 5: 1, 6: 0}\n",
      "Total simplices per dimension\n",
      "{1: 7648079, 2: 73036616, 3: 59945205, 4: 6599529, 5: 133115, 6: 529}\n"
     ]
    },
    {
     "name": "stderr",
     "output_type": "stream",
     "text": [
      "100%|██████████| 6/6 [02:05<00:00, 20.93s/it]"
     ]
    },
    {
     "name": "stdout",
     "output_type": "stream",
     "text": [
      "Extended simplices for 10000 simplices per dimension\n",
      "{1: 3823, 2: 476, 3: 80, 4: 18, 5: 1, 6: 0}\n",
      "Total simplices per dimension\n",
      "{1: 7648079, 2: 73036616, 3: 59945205, 4: 6599529, 5: 133115, 6: 529}\n"
     ]
    },
    {
     "name": "stderr",
     "output_type": "stream",
     "text": [
      "\n"
     ]
    }
   ],
   "source": [
    "complex_file = h5py.File(count_path, 'r')\n",
    "matrix = load_sparse_matrix_from_pkl(pkl_path)\n",
    "bid_matrix = matrix.multiply(matrix.T)\n",
    "arrays, links = prepare_shared_memory(matrix, \"full\")\n",
    "bid_arrays, bid_links = prepare_shared_memory(bid_matrix, \"bid\")\n",
    "for _ in range(10):\n",
    "    result_dictionary = {}\n",
    "    aux_dictionary = {}\n",
    "######## iteration #####\n",
    "    for dimension in tqdm(range(1, 7)):\n",
    "        try:\n",
    "            ####### step 1: compiling the dictionary ######\n",
    "            random_selection = np.random.choice(complex_file[\"Cells_\" + str(dimension)].shape[0],\n",
    "                                                min(10000,complex_file[\"Cells_\" + str(dimension)].shape[0]),\n",
    "                                                replace = False)\n",
    "            random_selection.sort()\n",
    "            simplex_iterator = iter(complex_file[\"Cells_\" + str(dimension)][random_selection])\n",
    "            ###### step 2: getting bidirectional targets ######\n",
    "             # fictitious product to satisfy imap reqs of a single arugment.\n",
    "            mp_iterator = product(simplex_iterator, [arrays], [bid_arrays])\n",
    "            results = pool.imap(get_bisimplices, mp_iterator)\n",
    "            ###### step 3: counting extended simplices ######\n",
    "            for elem in results:\n",
    "                result_dictionary[dimension] = result_dictionary.get(dimension, set()).union(set(elem))\n",
    "        except KeyError: # If there are no simplices in h5 file..\n",
    "                result_dictionary[dimension] = set()\n",
    "        try:\n",
    "            aux_dictionary[dimension] = len(complex_file[\"Cells_\" + str(dimension)])\n",
    "        except KeyError: # If there are no simplices in h5 file...\n",
    "            aux_dictionary[dimension] = 0\n",
    "        result_dictionary[dimension] = len(result_dictionary[dimension])\n",
    "        \n",
    "        overall_results[0][dimension] = overall_results[0].get(dimension, []) + [result_dictionary[dimension]]\n",
    "    print(\"Extended simplices for 10000 simplices per dimension\")\n",
    "    print(result_dictionary)\n",
    "    print(\"Total simplices per dimension\")\n",
    "    print(aux_dictionary)\n",
    "    # free shared memory\n",
    "for link in links:\n",
    "    link.unlink()\n",
    "for link in bid_links:\n",
    "    link.unlink()"
   ]
  },
  {
   "cell_type": "code",
   "execution_count": 12,
   "metadata": {},
   "outputs": [
    {
     "data": {
      "text/plain": [
       "<BarContainer object of 6 artists>"
      ]
     },
     "execution_count": 12,
     "metadata": {},
     "output_type": "execute_result"
    },
    {
     "data": {
      "image/png": "[encoded data removed]",
      "text/plain": [
       "<Figure size 432x288 with 1 Axes>"
      ]
     },
     "metadata": {
      "needs_background": "light"
     },
     "output_type": "display_data"
    }
   ],
   "source": [
    "a = []\n",
    "b = []\n",
    "for elem in overall_results[0].values():\n",
    "    a.append(np.mean(elem))\n",
    "plt.bar(range(1,7), a)"
   ]
  },
  {
   "cell_type": "markdown",
   "metadata": {},
   "source": [
    "### Pathway shuffled"
   ]
  },
  {
   "cell_type": "code",
   "execution_count": 13,
   "metadata": {},
   "outputs": [
    {
     "name": "stderr",
     "output_type": "stream",
     "text": [
      "100%|██████████| 31346/31346 [00:00<00:00, 3272223.13it/s]\n",
      "7648079it [00:11, 687466.33it/s]\n"
     ]
    }
   ],
   "source": [
    "save_path = Path(\"data/models/pshuffled/pshuffled.flag\")\n",
    "save_path.parent.mkdir(exist_ok=True, parents=True)\n",
    "flag_path, pkl_path, count_path =save_count_graph_from_matrix(save_path, pathway_shuffled_matrix)"
   ]
  },
  {
   "cell_type": "code",
   "execution_count": 14,
   "metadata": {},
   "outputs": [],
   "source": [
    "pool = mp.Pool()"
   ]
  },
  {
   "cell_type": "code",
   "execution_count": 15,
   "metadata": {},
   "outputs": [
    {
     "name": "stderr",
     "output_type": "stream",
     "text": [
      "100%|██████████| 6/6 [00:59<00:00,  9.99s/it]\n",
      "  0%|          | 0/6 [00:00<?, ?it/s]"
     ]
    },
    {
     "name": "stdout",
     "output_type": "stream",
     "text": [
      "Extended simplices for 10000 simplices per dimension\n",
      "{1: 430, 2: 5, 3: 0, 4: 0, 5: 0, 6: 0}\n",
      "Total simplices per dimension\n",
      "{1: 7648079, 2: 24796977, 3: 1420649, 4: 1755, 5: 0, 6: 0}\n"
     ]
    },
    {
     "name": "stderr",
     "output_type": "stream",
     "text": [
      "100%|██████████| 6/6 [00:59<00:00,  9.98s/it]\n",
      "  0%|          | 0/6 [00:00<?, ?it/s]"
     ]
    },
    {
     "name": "stdout",
     "output_type": "stream",
     "text": [
      "Extended simplices for 10000 simplices per dimension\n",
      "{1: 447, 2: 8, 3: 0, 4: 0, 5: 0, 6: 0}\n",
      "Total simplices per dimension\n",
      "{1: 7648079, 2: 24796977, 3: 1420649, 4: 1755, 5: 0, 6: 0}\n"
     ]
    },
    {
     "name": "stderr",
     "output_type": "stream",
     "text": [
      "100%|██████████| 6/6 [01:00<00:00, 10.12s/it]\n",
      "  0%|          | 0/6 [00:00<?, ?it/s]"
     ]
    },
    {
     "name": "stdout",
     "output_type": "stream",
     "text": [
      "Extended simplices for 10000 simplices per dimension\n",
      "{1: 477, 2: 10, 3: 0, 4: 0, 5: 0, 6: 0}\n",
      "Total simplices per dimension\n",
      "{1: 7648079, 2: 24796977, 3: 1420649, 4: 1755, 5: 0, 6: 0}\n"
     ]
    },
    {
     "name": "stderr",
     "output_type": "stream",
     "text": [
      "100%|██████████| 6/6 [00:59<00:00,  9.95s/it]\n",
      "  0%|          | 0/6 [00:00<?, ?it/s]"
     ]
    },
    {
     "name": "stdout",
     "output_type": "stream",
     "text": [
      "Extended simplices for 10000 simplices per dimension\n",
      "{1: 419, 2: 11, 3: 0, 4: 0, 5: 0, 6: 0}\n",
      "Total simplices per dimension\n",
      "{1: 7648079, 2: 24796977, 3: 1420649, 4: 1755, 5: 0, 6: 0}\n"
     ]
    },
    {
     "name": "stderr",
     "output_type": "stream",
     "text": [
      "100%|██████████| 6/6 [00:59<00:00,  9.97s/it]\n",
      "  0%|          | 0/6 [00:00<?, ?it/s]"
     ]
    },
    {
     "name": "stdout",
     "output_type": "stream",
     "text": [
      "Extended simplices for 10000 simplices per dimension\n",
      "{1: 448, 2: 4, 3: 0, 4: 0, 5: 0, 6: 0}\n",
      "Total simplices per dimension\n",
      "{1: 7648079, 2: 24796977, 3: 1420649, 4: 1755, 5: 0, 6: 0}\n"
     ]
    },
    {
     "name": "stderr",
     "output_type": "stream",
     "text": [
      "100%|██████████| 6/6 [00:59<00:00,  9.90s/it]\n",
      "  0%|          | 0/6 [00:00<?, ?it/s]"
     ]
    },
    {
     "name": "stdout",
     "output_type": "stream",
     "text": [
      "Extended simplices for 10000 simplices per dimension\n",
      "{1: 434, 2: 8, 3: 2, 4: 0, 5: 0, 6: 0}\n",
      "Total simplices per dimension\n",
      "{1: 7648079, 2: 24796977, 3: 1420649, 4: 1755, 5: 0, 6: 0}\n"
     ]
    },
    {
     "name": "stderr",
     "output_type": "stream",
     "text": [
      "100%|██████████| 6/6 [00:59<00:00,  9.90s/it]\n",
      "  0%|          | 0/6 [00:00<?, ?it/s]"
     ]
    },
    {
     "name": "stdout",
     "output_type": "stream",
     "text": [
      "Extended simplices for 10000 simplices per dimension\n",
      "{1: 440, 2: 6, 3: 0, 4: 0, 5: 0, 6: 0}\n",
      "Total simplices per dimension\n",
      "{1: 7648079, 2: 24796977, 3: 1420649, 4: 1755, 5: 0, 6: 0}\n"
     ]
    },
    {
     "name": "stderr",
     "output_type": "stream",
     "text": [
      "100%|██████████| 6/6 [00:59<00:00,  9.93s/it]\n",
      "  0%|          | 0/6 [00:00<?, ?it/s]"
     ]
    },
    {
     "name": "stdout",
     "output_type": "stream",
     "text": [
      "Extended simplices for 10000 simplices per dimension\n",
      "{1: 438, 2: 5, 3: 0, 4: 0, 5: 0, 6: 0}\n",
      "Total simplices per dimension\n",
      "{1: 7648079, 2: 24796977, 3: 1420649, 4: 1755, 5: 0, 6: 0}\n"
     ]
    },
    {
     "name": "stderr",
     "output_type": "stream",
     "text": [
      "100%|██████████| 6/6 [00:59<00:00,  9.95s/it]\n",
      "  0%|          | 0/6 [00:00<?, ?it/s]"
     ]
    },
    {
     "name": "stdout",
     "output_type": "stream",
     "text": [
      "Extended simplices for 10000 simplices per dimension\n",
      "{1: 447, 2: 11, 3: 0, 4: 0, 5: 0, 6: 0}\n",
      "Total simplices per dimension\n",
      "{1: 7648079, 2: 24796977, 3: 1420649, 4: 1755, 5: 0, 6: 0}\n"
     ]
    },
    {
     "name": "stderr",
     "output_type": "stream",
     "text": [
      "100%|██████████| 6/6 [00:59<00:00,  9.95s/it]"
     ]
    },
    {
     "name": "stdout",
     "output_type": "stream",
     "text": [
      "Extended simplices for 10000 simplices per dimension\n",
      "{1: 457, 2: 8, 3: 0, 4: 0, 5: 0, 6: 0}\n",
      "Total simplices per dimension\n",
      "{1: 7648079, 2: 24796977, 3: 1420649, 4: 1755, 5: 0, 6: 0}\n"
     ]
    },
    {
     "name": "stderr",
     "output_type": "stream",
     "text": [
      "\n"
     ]
    }
   ],
   "source": [
    "complex_file = h5py.File(count_path, 'r')\n",
    "matrix = load_sparse_matrix_from_pkl(pkl_path)\n",
    "bid_matrix = matrix.multiply(matrix.T)\n",
    "arrays, links = prepare_shared_memory(matrix, \"full\")\n",
    "bid_arrays, bid_links = prepare_shared_memory(bid_matrix, \"bid\")\n",
    "for _ in range(10):\n",
    "    result_dictionary = {}\n",
    "    aux_dictionary = {}\n",
    "######## iteration #####\n",
    "    for dimension in tqdm(range(1, 7)):\n",
    "        try:\n",
    "            ####### step 1: compiling the dictionary ######\n",
    "            random_selection = np.random.choice(complex_file[\"Cells_\" + str(dimension)].shape[0],\n",
    "                                                min(10000,complex_file[\"Cells_\" + str(dimension)].shape[0]),\n",
    "                                                replace = False)\n",
    "            random_selection.sort()\n",
    "            simplex_iterator = iter(complex_file[\"Cells_\" + str(dimension)][random_selection])\n",
    "            ###### step 2: getting bidirectional targets ######\n",
    "             # fictitious product to satisfy imap reqs of a single arugment.\n",
    "            mp_iterator = product(simplex_iterator, [arrays], [bid_arrays])\n",
    "            results = pool.imap(get_bisimplices, mp_iterator)\n",
    "            ###### step 3: counting extended simplices ######\n",
    "            for elem in results:\n",
    "                result_dictionary[dimension] = result_dictionary.get(dimension, set()).union(set(elem))\n",
    "        except KeyError: # If there are no simplices in h5 file..\n",
    "                result_dictionary[dimension] = set()\n",
    "        try:\n",
    "            aux_dictionary[dimension] = len(complex_file[\"Cells_\" + str(dimension)])\n",
    "        except KeyError: # If there are no simplices in h5 file...\n",
    "            aux_dictionary[dimension] = 0\n",
    "        result_dictionary[dimension] = len(result_dictionary[dimension])\n",
    "        \n",
    "        overall_results[1][dimension] = overall_results[1].get(dimension, []) + [result_dictionary[dimension]]\n",
    "    print(\"Extended simplices for 10000 simplices per dimension\")\n",
    "    print(result_dictionary)\n",
    "    print(\"Total simplices per dimension\")\n",
    "    print(aux_dictionary)\n",
    "    # free shared memory\n",
    "for link in links:\n",
    "    link.unlink()\n",
    "for link in bid_links:\n",
    "    link.unlink()"
   ]
  },
  {
   "cell_type": "code",
   "execution_count": 16,
   "metadata": {},
   "outputs": [
    {
     "data": {
      "text/plain": [
       "<BarContainer object of 6 artists>"
      ]
     },
     "execution_count": 16,
     "metadata": {},
     "output_type": "execute_result"
    },
    {
     "data": {
      "image/png": "[encoded data removed]",
      "text/plain": [
       "<Figure size 432x288 with 1 Axes>"
      ]
     },
     "metadata": {
      "needs_background": "light"
     },
     "output_type": "display_data"
    }
   ],
   "source": [
    "a = []\n",
    "b = []\n",
    "for elem in overall_results[1].values():\n",
    "    a.append(np.mean(elem))\n",
    "plt.bar(range(1,7), a)"
   ]
  },
  {
   "cell_type": "markdown",
   "metadata": {},
   "source": [
    "### ER"
   ]
  },
  {
   "cell_type": "code",
   "execution_count": 17,
   "metadata": {},
   "outputs": [
    {
     "name": "stderr",
     "output_type": "stream",
     "text": [
      "100%|██████████| 31346/31346 [00:00<00:00, 3267181.56it/s]\n",
      "7648079it [00:11, 687671.65it/s]\n"
     ]
    }
   ],
   "source": [
    "save_path = Path(\"data/models/shuffled/shuffled.flag\")\n",
    "save_path.parent.mkdir(exist_ok=True, parents=True)\n",
    "flag_path, pkl_path, count_path =save_count_graph_from_matrix(save_path, shuffled_matrix)"
   ]
  },
  {
   "cell_type": "code",
   "execution_count": 18,
   "metadata": {},
   "outputs": [],
   "source": [
    "pool = mp.Pool()"
   ]
  },
  {
   "cell_type": "code",
   "execution_count": 19,
   "metadata": {},
   "outputs": [
    {
     "name": "stderr",
     "output_type": "stream",
     "text": [
      "100%|██████████| 6/6 [00:50<00:00,  8.48s/it]\n",
      "  0%|          | 0/6 [00:00<?, ?it/s]"
     ]
    },
    {
     "name": "stdout",
     "output_type": "stream",
     "text": [
      "Extended simplices for 10000 simplices per dimension\n",
      "{1: 122, 2: 0, 3: 0, 4: 0, 5: 0, 6: 0}\n",
      "Total simplices per dimension\n",
      "{1: 7648079, 2: 14527638, 3: 216171, 4: 35, 5: 0, 6: 0}\n"
     ]
    },
    {
     "name": "stderr",
     "output_type": "stream",
     "text": [
      "100%|██████████| 6/6 [00:51<00:00,  8.59s/it]\n",
      "  0%|          | 0/6 [00:00<?, ?it/s]"
     ]
    },
    {
     "name": "stdout",
     "output_type": "stream",
     "text": [
      "Extended simplices for 10000 simplices per dimension\n",
      "{1: 180, 2: 2, 3: 0, 4: 0, 5: 0, 6: 0}\n",
      "Total simplices per dimension\n",
      "{1: 7648079, 2: 14527638, 3: 216171, 4: 35, 5: 0, 6: 0}\n"
     ]
    },
    {
     "name": "stderr",
     "output_type": "stream",
     "text": [
      "100%|██████████| 6/6 [00:51<00:00,  8.56s/it]\n",
      "  0%|          | 0/6 [00:00<?, ?it/s]"
     ]
    },
    {
     "name": "stdout",
     "output_type": "stream",
     "text": [
      "Extended simplices for 10000 simplices per dimension\n",
      "{1: 164, 2: 0, 3: 0, 4: 0, 5: 0, 6: 0}\n",
      "Total simplices per dimension\n",
      "{1: 7648079, 2: 14527638, 3: 216171, 4: 35, 5: 0, 6: 0}\n"
     ]
    },
    {
     "name": "stderr",
     "output_type": "stream",
     "text": [
      "100%|██████████| 6/6 [00:51<00:00,  8.62s/it]\n",
      "  0%|          | 0/6 [00:00<?, ?it/s]"
     ]
    },
    {
     "name": "stdout",
     "output_type": "stream",
     "text": [
      "Extended simplices for 10000 simplices per dimension\n",
      "{1: 139, 2: 1, 3: 0, 4: 0, 5: 0, 6: 0}\n",
      "Total simplices per dimension\n",
      "{1: 7648079, 2: 14527638, 3: 216171, 4: 35, 5: 0, 6: 0}\n"
     ]
    },
    {
     "name": "stderr",
     "output_type": "stream",
     "text": [
      "100%|██████████| 6/6 [00:51<00:00,  8.55s/it]\n",
      "  0%|          | 0/6 [00:00<?, ?it/s]"
     ]
    },
    {
     "name": "stdout",
     "output_type": "stream",
     "text": [
      "Extended simplices for 10000 simplices per dimension\n",
      "{1: 148, 2: 1, 3: 0, 4: 0, 5: 0, 6: 0}\n",
      "Total simplices per dimension\n",
      "{1: 7648079, 2: 14527638, 3: 216171, 4: 35, 5: 0, 6: 0}\n"
     ]
    },
    {
     "name": "stderr",
     "output_type": "stream",
     "text": [
      "100%|██████████| 6/6 [00:51<00:00,  8.61s/it]\n",
      "  0%|          | 0/6 [00:00<?, ?it/s]"
     ]
    },
    {
     "name": "stdout",
     "output_type": "stream",
     "text": [
      "Extended simplices for 10000 simplices per dimension\n",
      "{1: 134, 2: 1, 3: 0, 4: 0, 5: 0, 6: 0}\n",
      "Total simplices per dimension\n",
      "{1: 7648079, 2: 14527638, 3: 216171, 4: 35, 5: 0, 6: 0}\n"
     ]
    },
    {
     "name": "stderr",
     "output_type": "stream",
     "text": [
      "100%|██████████| 6/6 [00:51<00:00,  8.62s/it]\n",
      "  0%|          | 0/6 [00:00<?, ?it/s]"
     ]
    },
    {
     "name": "stdout",
     "output_type": "stream",
     "text": [
      "Extended simplices for 10000 simplices per dimension\n",
      "{1: 145, 2: 2, 3: 1, 4: 0, 5: 0, 6: 0}\n",
      "Total simplices per dimension\n",
      "{1: 7648079, 2: 14527638, 3: 216171, 4: 35, 5: 0, 6: 0}\n"
     ]
    },
    {
     "name": "stderr",
     "output_type": "stream",
     "text": [
      "100%|██████████| 6/6 [00:51<00:00,  8.57s/it]\n",
      "  0%|          | 0/6 [00:00<?, ?it/s]"
     ]
    },
    {
     "name": "stdout",
     "output_type": "stream",
     "text": [
      "Extended simplices for 10000 simplices per dimension\n",
      "{1: 134, 2: 0, 3: 0, 4: 0, 5: 0, 6: 0}\n",
      "Total simplices per dimension\n",
      "{1: 7648079, 2: 14527638, 3: 216171, 4: 35, 5: 0, 6: 0}\n"
     ]
    },
    {
     "name": "stderr",
     "output_type": "stream",
     "text": [
      "100%|██████████| 6/6 [00:51<00:00,  8.59s/it]\n",
      "  0%|          | 0/6 [00:00<?, ?it/s]"
     ]
    },
    {
     "name": "stdout",
     "output_type": "stream",
     "text": [
      "Extended simplices for 10000 simplices per dimension\n",
      "{1: 145, 2: 1, 3: 0, 4: 0, 5: 0, 6: 0}\n",
      "Total simplices per dimension\n",
      "{1: 7648079, 2: 14527638, 3: 216171, 4: 35, 5: 0, 6: 0}\n"
     ]
    },
    {
     "name": "stderr",
     "output_type": "stream",
     "text": [
      "100%|██████████| 6/6 [00:51<00:00,  8.58s/it]"
     ]
    },
    {
     "name": "stdout",
     "output_type": "stream",
     "text": [
      "Extended simplices for 10000 simplices per dimension\n",
      "{1: 138, 2: 0, 3: 0, 4: 0, 5: 0, 6: 0}\n",
      "Total simplices per dimension\n",
      "{1: 7648079, 2: 14527638, 3: 216171, 4: 35, 5: 0, 6: 0}\n"
     ]
    },
    {
     "name": "stderr",
     "output_type": "stream",
     "text": [
      "\n"
     ]
    }
   ],
   "source": [
    "complex_file = h5py.File(count_path, 'r')\n",
    "matrix = load_sparse_matrix_from_pkl(pkl_path)\n",
    "bid_matrix = matrix.multiply(matrix.T)\n",
    "arrays, links = prepare_shared_memory(matrix, \"full\")\n",
    "bid_arrays, bid_links = prepare_shared_memory(bid_matrix, \"bid\")\n",
    "for _ in range(10):\n",
    "    result_dictionary = {}\n",
    "    aux_dictionary = {}\n",
    "######## iteration #####\n",
    "    for dimension in tqdm(range(1, 7)):\n",
    "        try:\n",
    "            ####### step 1: compiling the dictionary ######\n",
    "            random_selection = np.random.choice(complex_file[\"Cells_\" + str(dimension)].shape[0],\n",
    "                                                min(10000,complex_file[\"Cells_\" + str(dimension)].shape[0]),\n",
    "                                                replace = False)\n",
    "            random_selection.sort()\n",
    "            simplex_iterator = iter(complex_file[\"Cells_\" + str(dimension)][random_selection])\n",
    "            ###### step 2: getting bidirectional targets ######\n",
    "             # fictitious product to satisfy imap reqs of a single arugment.\n",
    "            mp_iterator = product(simplex_iterator, [arrays], [bid_arrays])\n",
    "            results = pool.imap(get_bisimplices, mp_iterator)\n",
    "            ###### step 3: counting extended simplices ######\n",
    "            for elem in results:\n",
    "                result_dictionary[dimension] = result_dictionary.get(dimension, set()).union(set(elem))\n",
    "        except KeyError: # If there are no simplices in h5 file..\n",
    "                result_dictionary[dimension] = set()\n",
    "        try:\n",
    "            aux_dictionary[dimension] = len(complex_file[\"Cells_\" + str(dimension)])\n",
    "        except KeyError: # If there are no simplices in h5 file...\n",
    "            aux_dictionary[dimension] = 0\n",
    "        result_dictionary[dimension] = len(result_dictionary[dimension])\n",
    "        \n",
    "        overall_results[2][dimension] = overall_results[2].get(dimension, []) + [result_dictionary[dimension]]\n",
    "    print(\"Extended simplices for 10000 simplices per dimension\")\n",
    "    print(result_dictionary)\n",
    "    print(\"Total simplices per dimension\")\n",
    "    print(aux_dictionary)\n",
    "    # free shared memory\n",
    "for link in links:\n",
    "    link.unlink()\n",
    "for link in bid_links:\n",
    "    link.unlink()"
   ]
  },
  {
   "cell_type": "code",
   "execution_count": 20,
   "metadata": {},
   "outputs": [
    {
     "data": {
      "text/plain": [
       "<BarContainer object of 6 artists>"
      ]
     },
     "execution_count": 20,
     "metadata": {},
     "output_type": "execute_result"
    },
    {
     "data": {
      "image/png": "[encoded data removed]",
      "text/plain": [
       "<Figure size 432x288 with 1 Axes>"
      ]
     },
     "metadata": {
      "needs_background": "light"
     },
     "output_type": "display_data"
    }
   ],
   "source": [
    "a = []\n",
    "b = []\n",
    "for elem in overall_results[2].values():\n",
    "    a.append(np.mean(elem))\n",
    "plt.bar(range(1,7), a)"
   ]
  },
  {
   "cell_type": "markdown",
   "metadata": {},
   "source": [
    "### ER bid adjusted"
   ]
  },
  {
   "cell_type": "code",
   "execution_count": 21,
   "metadata": {},
   "outputs": [
    {
     "name": "stderr",
     "output_type": "stream",
     "text": [
      "100%|██████████| 31346/31346 [00:00<00:00, 3122023.49it/s]\n",
      "7648079it [00:11, 685974.24it/s]\n"
     ]
    }
   ],
   "source": [
    "save_path = Path(\"data/models/adjusted/adjusted.flag\")\n",
    "save_path.parent.mkdir(exist_ok=True, parents=True)\n",
    "flag_path, pkl_path, count_path =save_count_graph_from_matrix(save_path, bid_adjusted_matrix)"
   ]
  },
  {
   "cell_type": "code",
   "execution_count": 22,
   "metadata": {},
   "outputs": [],
   "source": [
    "pool = mp.Pool()"
   ]
  },
  {
   "cell_type": "code",
   "execution_count": 23,
   "metadata": {},
   "outputs": [
    {
     "name": "stderr",
     "output_type": "stream",
     "text": [
      "100%|██████████| 6/6 [00:59<00:00,  9.85s/it]\n",
      "  0%|          | 0/6 [00:00<?, ?it/s]"
     ]
    },
    {
     "name": "stdout",
     "output_type": "stream",
     "text": [
      "Extended simplices for 10000 simplices per dimension\n",
      "{1: 479, 2: 1, 3: 1, 4: 0, 5: 0, 6: 0}\n",
      "Total simplices per dimension\n",
      "{1: 7648079, 2: 14528035, 3: 215766, 4: 37, 5: 0, 6: 0}\n"
     ]
    },
    {
     "name": "stderr",
     "output_type": "stream",
     "text": [
      "100%|██████████| 6/6 [00:58<00:00,  9.81s/it]\n",
      "  0%|          | 0/6 [00:00<?, ?it/s]"
     ]
    },
    {
     "name": "stdout",
     "output_type": "stream",
     "text": [
      "Extended simplices for 10000 simplices per dimension\n",
      "{1: 450, 2: 4, 3: 0, 4: 0, 5: 0, 6: 0}\n",
      "Total simplices per dimension\n",
      "{1: 7648079, 2: 14528035, 3: 215766, 4: 37, 5: 0, 6: 0}\n"
     ]
    },
    {
     "name": "stderr",
     "output_type": "stream",
     "text": [
      "100%|██████████| 6/6 [00:59<00:00,  9.89s/it]\n",
      "  0%|          | 0/6 [00:00<?, ?it/s]"
     ]
    },
    {
     "name": "stdout",
     "output_type": "stream",
     "text": [
      "Extended simplices for 10000 simplices per dimension\n",
      "{1: 472, 2: 3, 3: 0, 4: 0, 5: 0, 6: 0}\n",
      "Total simplices per dimension\n",
      "{1: 7648079, 2: 14528035, 3: 215766, 4: 37, 5: 0, 6: 0}\n"
     ]
    },
    {
     "name": "stderr",
     "output_type": "stream",
     "text": [
      "100%|██████████| 6/6 [00:59<00:00,  9.89s/it]\n",
      "  0%|          | 0/6 [00:00<?, ?it/s]"
     ]
    },
    {
     "name": "stdout",
     "output_type": "stream",
     "text": [
      "Extended simplices for 10000 simplices per dimension\n",
      "{1: 438, 2: 4, 3: 0, 4: 0, 5: 0, 6: 0}\n",
      "Total simplices per dimension\n",
      "{1: 7648079, 2: 14528035, 3: 215766, 4: 37, 5: 0, 6: 0}\n"
     ]
    },
    {
     "name": "stderr",
     "output_type": "stream",
     "text": [
      "100%|██████████| 6/6 [00:59<00:00,  9.91s/it]\n",
      "  0%|          | 0/6 [00:00<?, ?it/s]"
     ]
    },
    {
     "name": "stdout",
     "output_type": "stream",
     "text": [
      "Extended simplices for 10000 simplices per dimension\n",
      "{1: 461, 2: 7, 3: 0, 4: 0, 5: 0, 6: 0}\n",
      "Total simplices per dimension\n",
      "{1: 7648079, 2: 14528035, 3: 215766, 4: 37, 5: 0, 6: 0}\n"
     ]
    },
    {
     "name": "stderr",
     "output_type": "stream",
     "text": [
      "100%|██████████| 6/6 [00:59<00:00,  9.92s/it]\n",
      "  0%|          | 0/6 [00:00<?, ?it/s]"
     ]
    },
    {
     "name": "stdout",
     "output_type": "stream",
     "text": [
      "Extended simplices for 10000 simplices per dimension\n",
      "{1: 454, 2: 5, 3: 0, 4: 0, 5: 0, 6: 0}\n",
      "Total simplices per dimension\n",
      "{1: 7648079, 2: 14528035, 3: 215766, 4: 37, 5: 0, 6: 0}\n"
     ]
    },
    {
     "name": "stderr",
     "output_type": "stream",
     "text": [
      "100%|██████████| 6/6 [00:59<00:00,  9.94s/it]\n",
      "  0%|          | 0/6 [00:00<?, ?it/s]"
     ]
    },
    {
     "name": "stdout",
     "output_type": "stream",
     "text": [
      "Extended simplices for 10000 simplices per dimension\n",
      "{1: 462, 2: 5, 3: 0, 4: 0, 5: 0, 6: 0}\n",
      "Total simplices per dimension\n",
      "{1: 7648079, 2: 14528035, 3: 215766, 4: 37, 5: 0, 6: 0}\n"
     ]
    },
    {
     "name": "stderr",
     "output_type": "stream",
     "text": [
      "100%|██████████| 6/6 [00:59<00:00,  9.91s/it]\n",
      "  0%|          | 0/6 [00:00<?, ?it/s]"
     ]
    },
    {
     "name": "stdout",
     "output_type": "stream",
     "text": [
      "Extended simplices for 10000 simplices per dimension\n",
      "{1: 469, 2: 2, 3: 0, 4: 0, 5: 0, 6: 0}\n",
      "Total simplices per dimension\n",
      "{1: 7648079, 2: 14528035, 3: 215766, 4: 37, 5: 0, 6: 0}\n"
     ]
    },
    {
     "name": "stderr",
     "output_type": "stream",
     "text": [
      "100%|██████████| 6/6 [00:59<00:00,  9.95s/it]\n",
      "  0%|          | 0/6 [00:00<?, ?it/s]"
     ]
    },
    {
     "name": "stdout",
     "output_type": "stream",
     "text": [
      "Extended simplices for 10000 simplices per dimension\n",
      "{1: 447, 2: 0, 3: 0, 4: 0, 5: 0, 6: 0}\n",
      "Total simplices per dimension\n",
      "{1: 7648079, 2: 14528035, 3: 215766, 4: 37, 5: 0, 6: 0}\n"
     ]
    },
    {
     "name": "stderr",
     "output_type": "stream",
     "text": [
      "100%|██████████| 6/6 [00:59<00:00,  9.91s/it]"
     ]
    },
    {
     "name": "stdout",
     "output_type": "stream",
     "text": [
      "Extended simplices for 10000 simplices per dimension\n",
      "{1: 454, 2: 8, 3: 0, 4: 0, 5: 0, 6: 0}\n",
      "Total simplices per dimension\n",
      "{1: 7648079, 2: 14528035, 3: 215766, 4: 37, 5: 0, 6: 0}\n"
     ]
    },
    {
     "name": "stderr",
     "output_type": "stream",
     "text": [
      "\n"
     ]
    }
   ],
   "source": [
    "complex_file = h5py.File(count_path, 'r')\n",
    "matrix = load_sparse_matrix_from_pkl(pkl_path)\n",
    "bid_matrix = matrix.multiply(matrix.T)\n",
    "arrays, links = prepare_shared_memory(matrix, \"full\")\n",
    "bid_arrays, bid_links = prepare_shared_memory(bid_matrix, \"bid\")\n",
    "for _ in range(10):\n",
    "    result_dictionary = {}\n",
    "    aux_dictionary = {}\n",
    "######## iteration #####\n",
    "    for dimension in tqdm(range(1, 7)):\n",
    "        try:\n",
    "            ####### step 1: compiling the dictionary ######\n",
    "            random_selection = np.random.choice(complex_file[\"Cells_\" + str(dimension)].shape[0],\n",
    "                                                min(10000,complex_file[\"Cells_\" + str(dimension)].shape[0]),\n",
    "                                                replace = False)\n",
    "            random_selection.sort()\n",
    "            simplex_iterator = iter(complex_file[\"Cells_\" + str(dimension)][random_selection])\n",
    "            ###### step 2: getting bidirectional targets ######\n",
    "             # fictitious product to satisfy imap reqs of a single arugment.\n",
    "            mp_iterator = product(simplex_iterator, [arrays], [bid_arrays])\n",
    "            results = pool.imap(get_bisimplices, mp_iterator)\n",
    "            ###### step 3: counting extended simplices ######\n",
    "            for elem in results:\n",
    "                result_dictionary[dimension] = result_dictionary.get(dimension, set()).union(set(elem))\n",
    "        except KeyError: # If there are no simplices in h5 file..\n",
    "                result_dictionary[dimension] = set()\n",
    "        try:\n",
    "            aux_dictionary[dimension] = len(complex_file[\"Cells_\" + str(dimension)])\n",
    "        except KeyError: # If there are no simplices in h5 file...\n",
    "            aux_dictionary[dimension] = 0\n",
    "        result_dictionary[dimension] = len(result_dictionary[dimension])\n",
    "        \n",
    "        overall_results[3][dimension] = overall_results[3].get(dimension, []) + [result_dictionary[dimension]]\n",
    "    print(\"Extended simplices for 10000 simplices per dimension\")\n",
    "    print(result_dictionary)\n",
    "    print(\"Total simplices per dimension\")\n",
    "    print(aux_dictionary)\n",
    "    # free shared memory\n",
    "for link in links:\n",
    "    link.unlink()\n",
    "for link in bid_links:\n",
    "    link.unlink()"
   ]
  },
  {
   "cell_type": "code",
   "execution_count": 24,
   "metadata": {
    "scrolled": true
   },
   "outputs": [
    {
     "data": {
      "text/plain": [
       "<BarContainer object of 6 artists>"
      ]
     },
     "execution_count": 24,
     "metadata": {},
     "output_type": "execute_result"
    },
    {
     "data": {
      "image/png": "[encoded data removed]",
      "text/plain": [
       "<Figure size 432x288 with 1 Axes>"
      ]
     },
     "metadata": {
      "needs_background": "light"
     },
     "output_type": "display_data"
    }
   ],
   "source": [
    "a = []\n",
    "b = []\n",
    "for elem in overall_results[3].values():\n",
    "    a.append(np.mean(elem))\n",
    "    b.append(np.std(elem))\n",
    "plt.bar(range(1,7), a, yerr=b)"
   ]
  },
  {
   "cell_type": "code",
   "execution_count": 28,
   "metadata": {},
   "outputs": [
    {
     "data": {
      "text/plain": [
       "Text(0, 0.5, 'Extended simplices / simplex')"
      ]
     },
     "execution_count": 28,
     "metadata": {},
     "output_type": "execute_result"
    },
    {
     "data": {
      "image/png": "[encoded data removed]",
      "text/plain": [
       "<Figure size 936x345.6 with 4 Axes>"
      ]
     },
     "metadata": {
      "needs_background": "light"
     },
     "output_type": "display_data"
    }
   ],
   "source": [
    "img, axes = plt.subplots(1,4,figsize = [13, 4.8])\n",
    "titles = [\"Column\", \"Pathway-shuffled\", \"ER\", \"ER - bidirectional model\"]\n",
    "s_d4 = [6599529, 1755, 35, 37]\n",
    "for ax, dicts, title, s in zip(axes, overall_results, titles, s_d4):\n",
    "    a = []\n",
    "    for elem in dicts.values():\n",
    "        a.append(np.mean(elem)/10000)\n",
    "    a[3] = a[3]*10000/min(10000, s)\n",
    "    ax.bar(range(1,5), a[:4])\n",
    "    ax.set_xlabel(\"Dimension\")\n",
    "    ax.set_ylim(0,0.5)\n",
    "    ax.set_title(title)\n",
    "axes[0].set_ylabel(\"Extended simplices / simplex\")"
   ]
  },
  {
   "cell_type": "code",
   "execution_count": 29,
   "metadata": {},
   "outputs": [],
   "source": [
    "img.savefig(fname = \"Comparison bisimplices\", transparent=False, facecolor = \"white\")"
   ]
  },
  {
   "cell_type": "code",
   "execution_count": null,
   "metadata": {},
   "outputs": [],
   "source": []
  }
 ],
 "metadata": {
  "kernelspec": {
   "display_name": "Python 3",
   "language": "python",
   "name": "python3"
  },
  "language_info": {
   "codemirror_mode": {
    "name": "ipython",
    "version": 3
   },
   "file_extension": ".py",
   "mimetype": "text/x-python",
   "name": "python",
   "nbconvert_exporter": "python",
   "pygments_lexer": "ipython3",
   "version": "3.8.5"
  }
 },
 "nbformat": 4,
 "nbformat_minor": 4
}
