{
 "cells": [
  {
   "cell_type": "code",
   "execution_count": 1,
   "metadata": {},
   "outputs": [],
   "source": [
    "import numpy as np\n",
    "from pathlib import Path\n",
    "import h5py\n",
    "from tqdm import tqdm\n",
    "from itertools import product\n",
    "import multiprocessing as mp"
   ]
  },
  {
   "cell_type": "code",
   "execution_count": 2,
   "metadata": {},
   "outputs": [],
   "source": [
    "import matplotlib.pyplot as plt"
   ]
  },
  {
   "cell_type": "code",
   "execution_count": 3,
   "metadata": {},
   "outputs": [],
   "source": [
    "from robust_motifs.data import (save_count_graph_from_matrix, matrix_shuffle,\n",
    "                                import_connectivity_matrix, adjust_bidirectional_edges,\n",
    "                               load_sparse_matrix_from_pkl)\n",
    "from robust_motifs.custom_mp import prepare_shared_memory\n",
    "from robust_motifs.counting import get_bisimplices"
   ]
  },
  {
   "cell_type": "code",
   "execution_count": 4,
   "metadata": {},
   "outputs": [
    {
     "name": "stderr",
     "output_type": "stream",
     "text": [
      "100%|██████████| 55/55 [00:12<00:00,  4.54it/s]\n",
      "100%|██████████| 55/55 [00:36<00:00,  1.53it/s]\n"
     ]
    }
   ],
   "source": [
    "original_matrix = import_connectivity_matrix(dataframe = False, type = 'csr')\n",
    "\n",
    "pathway_shuffled_matrix = import_connectivity_matrix(dataframe= False, type='csr', pathway_shuffle=True)\n",
    "\n",
    "shuffled_matrix = matrix_shuffle(original_matrix)"
   ]
  },
  {
   "cell_type": "code",
   "execution_count": 5,
   "metadata": {},
   "outputs": [
    {
     "data": {
      "text/plain": [
       "<31346x31346 sparse matrix of type '<class 'numpy.bool_'>'\n",
       "\twith 59482 stored elements in Compressed Sparse Row format>"
      ]
     },
     "execution_count": 5,
     "metadata": {},
     "output_type": "execute_result"
    }
   ],
   "source": [
    "original_matrix.multiply(original_matrix.T)\n",
    "\n",
    "pathway_shuffled_matrix.multiply(pathway_shuffled_matrix.T)\n",
    "\n",
    "shuffled_matrix.multiply(shuffled_matrix.T)"
   ]
  },
  {
   "cell_type": "code",
   "execution_count": 6,
   "metadata": {},
   "outputs": [
    {
     "name": "stderr",
     "output_type": "stream",
     "text": [
      "Removing edges...: 100%|██████████| 61725/61725 [00:06<00:00, 9472.64it/s] \n",
      "Adding bidirectional edges...: 100%|██████████| 61725/61725 [00:00<00:00, 157731.13it/s]\n"
     ]
    }
   ],
   "source": [
    "bid_adjusted_matrix = adjust_bidirectional_edges(shuffled_matrix, int(182932/2))"
   ]
  },
  {
   "cell_type": "code",
   "execution_count": 7,
   "metadata": {},
   "outputs": [
    {
     "data": {
      "text/plain": [
       "<31346x31346 sparse matrix of type '<class 'numpy.bool_'>'\n",
       "\twith 182932 stored elements in Compressed Sparse Row format>"
      ]
     },
     "execution_count": 7,
     "metadata": {},
     "output_type": "execute_result"
    }
   ],
   "source": [
    "bid_adjusted_matrix.multiply(bid_adjusted_matrix.T)"
   ]
  },
  {
   "cell_type": "markdown",
   "metadata": {},
   "source": [
    "### Processing"
   ]
  },
  {
   "cell_type": "markdown",
   "metadata": {},
   "source": [
    "### Column"
   ]
  },
  {
   "cell_type": "code",
   "execution_count": 8,
   "metadata": {},
   "outputs": [
    {
     "name": "stderr",
     "output_type": "stream",
     "text": [
      "100%|██████████| 31346/31346 [00:00<00:00, 3479730.39it/s]\n",
      "7648079it [00:11, 692635.13it/s]\n"
     ]
    }
   ],
   "source": [
    "save_path = Path(\"data/models/column/column.flag\")\n",
    "save_path.parent.mkdir(exist_ok=True, parents=True)\n",
    "flag_path, pkl_path, count_path =save_count_graph_from_matrix(save_path, original_matrix)"
   ]
  },
  {
   "cell_type": "code",
   "execution_count": 9,
   "metadata": {},
   "outputs": [],
   "source": [
    "pool = mp.Pool()"
   ]
  },
  {
   "cell_type": "code",
   "execution_count": 10,
   "metadata": {},
   "outputs": [
    {
     "name": "stderr",
     "output_type": "stream",
     "text": [
      "100%|██████████| 6/6 [02:02<00:00, 20.41s/it]\n",
      "  0%|          | 0/6 [00:00<?, ?it/s]"
     ]
    },
    {
     "name": "stdout",
     "output_type": "stream",
     "text": [
      "Extended simplices for 10000 simplices per dimension\n",
      "{1: 3848, 2: 437, 3: 76, 4: 13, 5: 5, 6: 0}\n",
      "Total simplices per dimension\n",
      "{1: 7648079, 2: 73036616, 3: 59945205, 4: 6599529, 5: 133115, 6: 529}\n"
     ]
    },
    {
     "name": "stderr",
     "output_type": "stream",
     "text": [
      "100%|██████████| 6/6 [02:03<00:00, 20.52s/it]\n",
      "  0%|          | 0/6 [00:00<?, ?it/s]"
     ]
    },
    {
     "name": "stdout",
     "output_type": "stream",
     "text": [
      "Extended simplices for 10000 simplices per dimension\n",
      "{1: 3779, 2: 494, 3: 80, 4: 20, 5: 0, 6: 0}\n",
      "Total simplices per dimension\n",
      "{1: 7648079, 2: 73036616, 3: 59945205, 4: 6599529, 5: 133115, 6: 529}\n"
     ]
    },
    {
     "name": "stderr",
     "output_type": "stream",
     "text": [
      "100%|██████████| 6/6 [02:03<00:00, 20.65s/it]\n",
      "  0%|          | 0/6 [00:00<?, ?it/s]"
     ]
    },
    {
     "name": "stdout",
     "output_type": "stream",
     "text": [
      "Extended simplices for 10000 simplices per dimension\n",
      "{1: 3926, 2: 486, 3: 80, 4: 17, 5: 3, 6: 0}\n",
      "Total simplices per dimension\n",
      "{1: 7648079, 2: 73036616, 3: 59945205, 4: 6599529, 5: 133115, 6: 529}\n"
     ]
    },
    {
     "name": "stderr",
     "output_type": "stream",
     "text": [
      "100%|██████████| 6/6 [02:03<00:00, 20.66s/it]\n",
      "  0%|          | 0/6 [00:00<?, ?it/s]"
     ]
    },
    {
     "name": "stdout",
     "output_type": "stream",
     "text": [
      "Extended simplices for 10000 simplices per dimension\n",
      "{1: 3963, 2: 457, 3: 94, 4: 27, 5: 0, 6: 0}\n",
      "Total simplices per dimension\n",
      "{1: 7648079, 2: 73036616, 3: 59945205, 4: 6599529, 5: 133115, 6: 529}\n"
     ]
    },
    {
     "name": "stderr",
     "output_type": "stream",
     "text": [
      "100%|██████████| 6/6 [02:04<00:00, 20.82s/it]\n",
      "  0%|          | 0/6 [00:00<?, ?it/s]"
     ]
    },
    {
     "name": "stdout",
     "output_type": "stream",
     "text": [
      "Extended simplices for 10000 simplices per dimension\n",
      "{1: 3935, 2: 495, 3: 65, 4: 21, 5: 2, 6: 0}\n",
      "Total simplices per dimension\n",
      "{1: 7648079, 2: 73036616, 3: 59945205, 4: 6599529, 5: 133115, 6: 529}\n"
     ]
    },
    {
     "name": "stderr",
     "output_type": "stream",
     "text": [
      "100%|██████████| 6/6 [02:04<00:00, 20.78s/it]\n",
      "  0%|          | 0/6 [00:00<?, ?it/s]"
     ]
    },
    {
     "name": "stdout",
     "output_type": "stream",
     "text": [
      "Extended simplices for 10000 simplices per dimension\n",
      "{1: 3931, 2: 415, 3: 90, 4: 17, 5: 1, 6: 0}\n",
      "Total simplices per dimension\n",
      "{1: 7648079, 2: 73036616, 3: 59945205, 4: 6599529, 5: 133115, 6: 529}\n"
     ]
    },
    {
     "name": "stderr",
     "output_type": "stream",
     "text": [
      "100%|██████████| 6/6 [02:05<00:00, 20.87s/it]\n",
      "  0%|          | 0/6 [00:00<?, ?it/s]"
     ]
    },
    {
     "name": "stdout",
     "output_type": "stream",
     "text": [
      "Extended simplices for 10000 simplices per dimension\n",
      "{1: 3987, 2: 479, 3: 76, 4: 13, 5: 4, 6: 0}\n",
      "Total simplices per dimension\n",
      "{1: 7648079, 2: 73036616, 3: 59945205, 4: 6599529, 5: 133115, 6: 529}\n"
     ]
    },
    {
     "name": "stderr",
     "output_type": "stream",
     "text": [
      "100%|██████████| 6/6 [02:04<00:00, 20.82s/it]\n",
      "  0%|          | 0/6 [00:00<?, ?it/s]"
     ]
    },
    {
     "name": "stdout",
     "output_type": "stream",
     "text": [
      "Extended simplices for 10000 simplices per dimension\n",
      "{1: 3888, 2: 498, 3: 89, 4: 16, 5: 2, 6: 0}\n",
      "Total simplices per dimension\n",
      "{1: 7648079, 2: 73036616, 3: 59945205, 4: 6599529, 5: 133115, 6: 529}\n"
     ]
    },
    {
     "name": "stderr",
     "output_type": "stream",
     "text": [
      "100%|██████████| 6/6 [02:04<00:00, 20.75s/it]\n",
      "  0%|          | 0/6 [00:00<?, ?it/s]"
     ]
    },
    {
     "name": "stdout",
     "output_type": "stream",
     "text": [
      "Extended simplices for 10000 simplices per dimension\n",
      "{1: 3885, 2: 479, 3: 75, 4: 21, 5: 1, 6: 0}\n",
      "Total simplices per dimension\n",
      "{1: 7648079, 2: 73036616, 3: 59945205, 4: 6599529, 5: 133115, 6: 529}\n"
     ]
    },
    {
     "name": "stderr",
     "output_type": "stream",
     "text": [
      "100%|██████████| 6/6 [02:05<00:00, 20.88s/it]"
     ]
    },
    {
     "name": "stdout",
     "output_type": "stream",
     "text": [
      "Extended simplices for 10000 simplices per dimension\n",
      "{1: 3973, 2: 501, 3: 75, 4: 10, 5: 1, 6: 0}\n",
      "Total simplices per dimension\n",
      "{1: 7648079, 2: 73036616, 3: 59945205, 4: 6599529, 5: 133115, 6: 529}\n"
     ]
    },
    {
     "name": "stderr",
     "output_type": "stream",
     "text": [
      "\n"
     ]
    }
   ],
   "source": [
    "overall_results = {}\n",
    "complex_file = h5py.File(count_path, 'r')\n",
    "matrix = load_sparse_matrix_from_pkl(pkl_path)\n",
    "bid_matrix = matrix.multiply(matrix.T)\n",
    "arrays, links = prepare_shared_memory(matrix, \"full\")\n",
    "bid_arrays, bid_links = prepare_shared_memory(bid_matrix, \"bid\")\n",
    "for _ in range(10):\n",
    "    result_dictionary = {}\n",
    "    aux_dictionary = {}\n",
    "######## iteration #####\n",
    "    for dimension in tqdm(range(1, 7)):\n",
    "        try:\n",
    "            ####### step 1: compiling the dictionary ######\n",
    "            random_selection = np.random.choice(complex_file[\"Cells_\" + str(dimension)].shape[0],\n",
    "                                                min(10000,complex_file[\"Cells_\" + str(dimension)].shape[0]),\n",
    "                                                replace = False)\n",
    "            random_selection.sort()\n",
    "            simplex_iterator = iter(complex_file[\"Cells_\" + str(dimension)][random_selection])\n",
    "            ###### step 2: getting bidirectional targets ######\n",
    "             # fictitious product to satisfy imap reqs of a single arugment.\n",
    "            mp_iterator = product(simplex_iterator, [arrays], [bid_arrays])\n",
    "            results = pool.imap(get_bisimplices, mp_iterator)\n",
    "            ###### step 3: counting extended simplices ######\n",
    "            for elem in results:\n",
    "                result_dictionary[dimension] = result_dictionary.get(dimension, set()).union(set(elem))\n",
    "        except KeyError: # If there are no simplices in h5 file..\n",
    "                result_dictionary[dimension] = set()\n",
    "        try:\n",
    "            aux_dictionary[dimension] = len(complex_file[\"Cells_\" + str(dimension)])\n",
    "        except KeyError: # If there are no simplices in h5 file...\n",
    "            aux_dictionary[dimension] = 0\n",
    "        result_dictionary[dimension] = len(result_dictionary[dimension])\n",
    "        \n",
    "        overall_results[dimension] = overall_results.get(dimension, []) + [result_dictionary[dimension]]\n",
    "    print(\"Extended simplices for 10000 simplices per dimension\")\n",
    "    print(result_dictionary)\n",
    "    print(\"Total simplices per dimension\")\n",
    "    print(aux_dictionary)\n",
    "    # free shared memory\n",
    "for link in links:\n",
    "    link.unlink()\n",
    "for link in bid_links:\n",
    "    link.unlink()"
   ]
  },
  {
   "cell_type": "code",
   "execution_count": 11,
   "metadata": {},
   "outputs": [
    {
     "data": {
      "text/plain": [
       "<BarContainer object of 6 artists>"
      ]
     },
     "execution_count": 11,
     "metadata": {},
     "output_type": "execute_result"
    },
    {
     "data": {
      "image/png": "[encoded data removed]",
      "text/plain": [
       "<Figure size 432x288 with 1 Axes>"
      ]
     },
     "metadata": {
      "needs_background": "light"
     },
     "output_type": "display_data"
    }
   ],
   "source": [
    "a = []\n",
    "b = []\n",
    "for elem in overall_results.values():\n",
    "    a.append(np.mean(elem))\n",
    "    b.append(np.std(elem))\n",
    "plt.bar(range(1,7), a, yerr=b)"
   ]
  },
  {
   "cell_type": "markdown",
   "metadata": {},
   "source": [
    "### Pathway shuffled"
   ]
  },
  {
   "cell_type": "code",
   "execution_count": 12,
   "metadata": {},
   "outputs": [
    {
     "name": "stderr",
     "output_type": "stream",
     "text": [
      "100%|██████████| 31346/31346 [00:00<00:00, 3203261.21it/s]\n",
      "7648079it [00:10, 699196.47it/s]\n"
     ]
    }
   ],
   "source": [
    "save_path = Path(\"data/models/pshuffled/pshuffled.flag\")\n",
    "save_path.parent.mkdir(exist_ok=True, parents=True)\n",
    "flag_path, pkl_path, count_path =save_count_graph_from_matrix(save_path, pathway_shuffled_matrix)"
   ]
  },
  {
   "cell_type": "code",
   "execution_count": 13,
   "metadata": {},
   "outputs": [],
   "source": [
    "pool = mp.Pool()"
   ]
  },
  {
   "cell_type": "code",
   "execution_count": 14,
   "metadata": {},
   "outputs": [
    {
     "name": "stderr",
     "output_type": "stream",
     "text": [
      "100%|██████████| 6/6 [00:59<00:00,  9.88s/it]\n",
      "  0%|          | 0/6 [00:00<?, ?it/s]"
     ]
    },
    {
     "name": "stdout",
     "output_type": "stream",
     "text": [
      "Extended simplices for 10000 simplices per dimension\n",
      "{1: 496, 2: 10, 3: 0, 4: 0, 5: 0, 6: 0}\n",
      "Total simplices per dimension\n",
      "{1: 7648079, 2: 24795659, 3: 1421317, 4: 1771, 5: 0, 6: 0}\n"
     ]
    },
    {
     "name": "stderr",
     "output_type": "stream",
     "text": [
      "100%|██████████| 6/6 [00:59<00:00,  9.90s/it]\n",
      "  0%|          | 0/6 [00:00<?, ?it/s]"
     ]
    },
    {
     "name": "stdout",
     "output_type": "stream",
     "text": [
      "Extended simplices for 10000 simplices per dimension\n",
      "{1: 445, 2: 15, 3: 0, 4: 0, 5: 0, 6: 0}\n",
      "Total simplices per dimension\n",
      "{1: 7648079, 2: 24795659, 3: 1421317, 4: 1771, 5: 0, 6: 0}\n"
     ]
    },
    {
     "name": "stderr",
     "output_type": "stream",
     "text": [
      "100%|██████████| 6/6 [00:59<00:00,  9.92s/it]\n",
      "  0%|          | 0/6 [00:00<?, ?it/s]"
     ]
    },
    {
     "name": "stdout",
     "output_type": "stream",
     "text": [
      "Extended simplices for 10000 simplices per dimension\n",
      "{1: 453, 2: 3, 3: 0, 4: 0, 5: 0, 6: 0}\n",
      "Total simplices per dimension\n",
      "{1: 7648079, 2: 24795659, 3: 1421317, 4: 1771, 5: 0, 6: 0}\n"
     ]
    },
    {
     "name": "stderr",
     "output_type": "stream",
     "text": [
      "100%|██████████| 6/6 [00:59<00:00,  9.87s/it]\n",
      "  0%|          | 0/6 [00:00<?, ?it/s]"
     ]
    },
    {
     "name": "stdout",
     "output_type": "stream",
     "text": [
      "Extended simplices for 10000 simplices per dimension\n",
      "{1: 440, 2: 12, 3: 0, 4: 0, 5: 0, 6: 0}\n",
      "Total simplices per dimension\n",
      "{1: 7648079, 2: 24795659, 3: 1421317, 4: 1771, 5: 0, 6: 0}\n"
     ]
    },
    {
     "name": "stderr",
     "output_type": "stream",
     "text": [
      "100%|██████████| 6/6 [00:59<00:00,  9.95s/it]\n",
      "  0%|          | 0/6 [00:00<?, ?it/s]"
     ]
    },
    {
     "name": "stdout",
     "output_type": "stream",
     "text": [
      "Extended simplices for 10000 simplices per dimension\n",
      "{1: 431, 2: 13, 3: 0, 4: 0, 5: 0, 6: 0}\n",
      "Total simplices per dimension\n",
      "{1: 7648079, 2: 24795659, 3: 1421317, 4: 1771, 5: 0, 6: 0}\n"
     ]
    },
    {
     "name": "stderr",
     "output_type": "stream",
     "text": [
      "100%|██████████| 6/6 [00:59<00:00,  9.89s/it]\n",
      "  0%|          | 0/6 [00:00<?, ?it/s]"
     ]
    },
    {
     "name": "stdout",
     "output_type": "stream",
     "text": [
      "Extended simplices for 10000 simplices per dimension\n",
      "{1: 431, 2: 9, 3: 0, 4: 0, 5: 0, 6: 0}\n",
      "Total simplices per dimension\n",
      "{1: 7648079, 2: 24795659, 3: 1421317, 4: 1771, 5: 0, 6: 0}\n"
     ]
    },
    {
     "name": "stderr",
     "output_type": "stream",
     "text": [
      "100%|██████████| 6/6 [00:59<00:00,  9.92s/it]\n",
      "  0%|          | 0/6 [00:00<?, ?it/s]"
     ]
    },
    {
     "name": "stdout",
     "output_type": "stream",
     "text": [
      "Extended simplices for 10000 simplices per dimension\n",
      "{1: 419, 2: 9, 3: 0, 4: 0, 5: 0, 6: 0}\n",
      "Total simplices per dimension\n",
      "{1: 7648079, 2: 24795659, 3: 1421317, 4: 1771, 5: 0, 6: 0}\n"
     ]
    },
    {
     "name": "stderr",
     "output_type": "stream",
     "text": [
      "100%|██████████| 6/6 [00:59<00:00,  9.92s/it]\n",
      "  0%|          | 0/6 [00:00<?, ?it/s]"
     ]
    },
    {
     "name": "stdout",
     "output_type": "stream",
     "text": [
      "Extended simplices for 10000 simplices per dimension\n",
      "{1: 475, 2: 9, 3: 0, 4: 0, 5: 0, 6: 0}\n",
      "Total simplices per dimension\n",
      "{1: 7648079, 2: 24795659, 3: 1421317, 4: 1771, 5: 0, 6: 0}\n"
     ]
    },
    {
     "name": "stderr",
     "output_type": "stream",
     "text": [
      "100%|██████████| 6/6 [00:59<00:00,  9.88s/it]\n",
      "  0%|          | 0/6 [00:00<?, ?it/s]"
     ]
    },
    {
     "name": "stdout",
     "output_type": "stream",
     "text": [
      "Extended simplices for 10000 simplices per dimension\n",
      "{1: 455, 2: 9, 3: 0, 4: 0, 5: 0, 6: 0}\n",
      "Total simplices per dimension\n",
      "{1: 7648079, 2: 24795659, 3: 1421317, 4: 1771, 5: 0, 6: 0}\n"
     ]
    },
    {
     "name": "stderr",
     "output_type": "stream",
     "text": [
      "100%|██████████| 6/6 [00:59<00:00,  9.88s/it]"
     ]
    },
    {
     "name": "stdout",
     "output_type": "stream",
     "text": [
      "Extended simplices for 10000 simplices per dimension\n",
      "{1: 442, 2: 9, 3: 0, 4: 0, 5: 0, 6: 0}\n",
      "Total simplices per dimension\n",
      "{1: 7648079, 2: 24795659, 3: 1421317, 4: 1771, 5: 0, 6: 0}\n"
     ]
    },
    {
     "name": "stderr",
     "output_type": "stream",
     "text": [
      "\n"
     ]
    }
   ],
   "source": [
    "overall_results = {}\n",
    "complex_file = h5py.File(count_path, 'r')\n",
    "matrix = load_sparse_matrix_from_pkl(pkl_path)\n",
    "bid_matrix = matrix.multiply(matrix.T)\n",
    "arrays, links = prepare_shared_memory(matrix, \"full\")\n",
    "bid_arrays, bid_links = prepare_shared_memory(bid_matrix, \"bid\")\n",
    "for _ in range(10):\n",
    "    result_dictionary = {}\n",
    "    aux_dictionary = {}\n",
    "######## iteration #####\n",
    "    for dimension in tqdm(range(1, 7)):\n",
    "        try:\n",
    "            ####### step 1: compiling the dictionary ######\n",
    "            random_selection = np.random.choice(complex_file[\"Cells_\" + str(dimension)].shape[0],\n",
    "                                                min(10000,complex_file[\"Cells_\" + str(dimension)].shape[0]),\n",
    "                                                replace = False)\n",
    "            random_selection.sort()\n",
    "            simplex_iterator = iter(complex_file[\"Cells_\" + str(dimension)][random_selection])\n",
    "            ###### step 2: getting bidirectional targets ######\n",
    "             # fictitious product to satisfy imap reqs of a single arugment.\n",
    "            mp_iterator = product(simplex_iterator, [arrays], [bid_arrays])\n",
    "            results = pool.imap(get_bisimplices, mp_iterator)\n",
    "            ###### step 3: counting extended simplices ######\n",
    "            for elem in results:\n",
    "                result_dictionary[dimension] = result_dictionary.get(dimension, set()).union(set(elem))\n",
    "        except KeyError: # If there are no simplices in h5 file..\n",
    "                result_dictionary[dimension] = set()\n",
    "        try:\n",
    "            aux_dictionary[dimension] = len(complex_file[\"Cells_\" + str(dimension)])\n",
    "        except KeyError: # If there are no simplices in h5 file...\n",
    "            aux_dictionary[dimension] = 0\n",
    "        result_dictionary[dimension] = len(result_dictionary[dimension])\n",
    "        \n",
    "        overall_results[dimension] = overall_results.get(dimension, []) + [result_dictionary[dimension]]\n",
    "    print(\"Extended simplices for 10000 simplices per dimension\")\n",
    "    print(result_dictionary)\n",
    "    print(\"Total simplices per dimension\")\n",
    "    print(aux_dictionary)\n",
    "    # free shared memory\n",
    "for link in links:\n",
    "    link.unlink()\n",
    "for link in bid_links:\n",
    "    link.unlink()"
   ]
  },
  {
   "cell_type": "code",
   "execution_count": 15,
   "metadata": {},
   "outputs": [
    {
     "data": {
      "text/plain": [
       "<BarContainer object of 6 artists>"
      ]
     },
     "execution_count": 15,
     "metadata": {},
     "output_type": "execute_result"
    },
    {
     "data": {
      "image/png": "[encoded data removed]",
      "text/plain": [
       "<Figure size 432x288 with 1 Axes>"
      ]
     },
     "metadata": {
      "needs_background": "light"
     },
     "output_type": "display_data"
    }
   ],
   "source": [
    "a = []\n",
    "b = []\n",
    "for elem in overall_results.values():\n",
    "    a.append(np.mean(elem))\n",
    "    b.append(np.std(elem))\n",
    "plt.bar(range(1,7), a, yerr=b)"
   ]
  },
  {
   "cell_type": "markdown",
   "metadata": {},
   "source": [
    "### ER"
   ]
  },
  {
   "cell_type": "code",
   "execution_count": 16,
   "metadata": {},
   "outputs": [
    {
     "name": "stderr",
     "output_type": "stream",
     "text": [
      "100%|██████████| 31346/31346 [00:00<00:00, 3164937.13it/s]\n",
      "7586354it [00:11, 674021.28it/s]\n"
     ]
    }
   ],
   "source": [
    "save_path = Path(\"data/models/shuffled/shuffled.flag\")\n",
    "save_path.parent.mkdir(exist_ok=True, parents=True)\n",
    "flag_path, pkl_path, count_path =save_count_graph_from_matrix(save_path, shuffled_matrix)"
   ]
  },
  {
   "cell_type": "code",
   "execution_count": 17,
   "metadata": {},
   "outputs": [],
   "source": [
    "pool = mp.Pool()"
   ]
  },
  {
   "cell_type": "code",
   "execution_count": 18,
   "metadata": {},
   "outputs": [
    {
     "name": "stderr",
     "output_type": "stream",
     "text": [
      "100%|██████████| 6/6 [00:53<00:00,  8.93s/it]\n",
      "  0%|          | 0/6 [00:00<?, ?it/s]"
     ]
    },
    {
     "name": "stdout",
     "output_type": "stream",
     "text": [
      "Extended simplices for 10000 simplices per dimension\n",
      "{1: 225, 2: 83, 3: 69, 4: 6, 5: 0, 6: 0}\n",
      "Total simplices per dimension\n",
      "{1: 7586354, 2: 14238777, 3: 319404, 4: 1703, 5: 0, 6: 0}\n"
     ]
    },
    {
     "name": "stderr",
     "output_type": "stream",
     "text": [
      "100%|██████████| 6/6 [00:53<00:00,  8.95s/it]\n",
      "  0%|          | 0/6 [00:00<?, ?it/s]"
     ]
    },
    {
     "name": "stdout",
     "output_type": "stream",
     "text": [
      "Extended simplices for 10000 simplices per dimension\n",
      "{1: 205, 2: 69, 3: 76, 4: 6, 5: 0, 6: 0}\n",
      "Total simplices per dimension\n",
      "{1: 7586354, 2: 14238777, 3: 319404, 4: 1703, 5: 0, 6: 0}\n"
     ]
    },
    {
     "name": "stderr",
     "output_type": "stream",
     "text": [
      "100%|██████████| 6/6 [00:54<00:00,  9.01s/it]\n",
      "  0%|          | 0/6 [00:00<?, ?it/s]"
     ]
    },
    {
     "name": "stdout",
     "output_type": "stream",
     "text": [
      "Extended simplices for 10000 simplices per dimension\n",
      "{1: 232, 2: 81, 3: 79, 4: 6, 5: 0, 6: 0}\n",
      "Total simplices per dimension\n",
      "{1: 7586354, 2: 14238777, 3: 319404, 4: 1703, 5: 0, 6: 0}\n"
     ]
    },
    {
     "name": "stderr",
     "output_type": "stream",
     "text": [
      "100%|██████████| 6/6 [00:59<00:00,  9.89s/it]\n",
      "  0%|          | 0/6 [00:00<?, ?it/s]"
     ]
    },
    {
     "name": "stdout",
     "output_type": "stream",
     "text": [
      "Extended simplices for 10000 simplices per dimension\n",
      "{1: 243, 2: 90, 3: 77, 4: 6, 5: 0, 6: 0}\n",
      "Total simplices per dimension\n",
      "{1: 7586354, 2: 14238777, 3: 319404, 4: 1703, 5: 0, 6: 0}\n"
     ]
    },
    {
     "name": "stderr",
     "output_type": "stream",
     "text": [
      "100%|██████████| 6/6 [00:56<00:00,  9.43s/it]\n",
      "  0%|          | 0/6 [00:00<?, ?it/s]"
     ]
    },
    {
     "name": "stdout",
     "output_type": "stream",
     "text": [
      "Extended simplices for 10000 simplices per dimension\n",
      "{1: 229, 2: 94, 3: 86, 4: 6, 5: 0, 6: 0}\n",
      "Total simplices per dimension\n",
      "{1: 7586354, 2: 14238777, 3: 319404, 4: 1703, 5: 0, 6: 0}\n"
     ]
    },
    {
     "name": "stderr",
     "output_type": "stream",
     "text": [
      "100%|██████████| 6/6 [00:53<00:00,  8.97s/it]\n",
      "  0%|          | 0/6 [00:00<?, ?it/s]"
     ]
    },
    {
     "name": "stdout",
     "output_type": "stream",
     "text": [
      "Extended simplices for 10000 simplices per dimension\n",
      "{1: 251, 2: 79, 3: 84, 4: 6, 5: 0, 6: 0}\n",
      "Total simplices per dimension\n",
      "{1: 7586354, 2: 14238777, 3: 319404, 4: 1703, 5: 0, 6: 0}\n"
     ]
    },
    {
     "name": "stderr",
     "output_type": "stream",
     "text": [
      "100%|██████████| 6/6 [00:53<00:00,  8.97s/it]\n",
      "  0%|          | 0/6 [00:00<?, ?it/s]"
     ]
    },
    {
     "name": "stdout",
     "output_type": "stream",
     "text": [
      "Extended simplices for 10000 simplices per dimension\n",
      "{1: 253, 2: 93, 3: 66, 4: 6, 5: 0, 6: 0}\n",
      "Total simplices per dimension\n",
      "{1: 7586354, 2: 14238777, 3: 319404, 4: 1703, 5: 0, 6: 0}\n"
     ]
    },
    {
     "name": "stderr",
     "output_type": "stream",
     "text": [
      "100%|██████████| 6/6 [00:54<00:00,  9.02s/it]\n",
      "  0%|          | 0/6 [00:00<?, ?it/s]"
     ]
    },
    {
     "name": "stdout",
     "output_type": "stream",
     "text": [
      "Extended simplices for 10000 simplices per dimension\n",
      "{1: 232, 2: 76, 3: 79, 4: 6, 5: 0, 6: 0}\n",
      "Total simplices per dimension\n",
      "{1: 7586354, 2: 14238777, 3: 319404, 4: 1703, 5: 0, 6: 0}\n"
     ]
    },
    {
     "name": "stderr",
     "output_type": "stream",
     "text": [
      "100%|██████████| 6/6 [00:54<00:00,  9.06s/it]\n",
      "  0%|          | 0/6 [00:00<?, ?it/s]"
     ]
    },
    {
     "name": "stdout",
     "output_type": "stream",
     "text": [
      "Extended simplices for 10000 simplices per dimension\n",
      "{1: 223, 2: 93, 3: 82, 4: 6, 5: 0, 6: 0}\n",
      "Total simplices per dimension\n",
      "{1: 7586354, 2: 14238777, 3: 319404, 4: 1703, 5: 0, 6: 0}\n"
     ]
    },
    {
     "name": "stderr",
     "output_type": "stream",
     "text": [
      "100%|██████████| 6/6 [00:54<00:00,  9.17s/it]"
     ]
    },
    {
     "name": "stdout",
     "output_type": "stream",
     "text": [
      "Extended simplices for 10000 simplices per dimension\n",
      "{1: 244, 2: 94, 3: 68, 4: 6, 5: 0, 6: 0}\n",
      "Total simplices per dimension\n",
      "{1: 7586354, 2: 14238777, 3: 319404, 4: 1703, 5: 0, 6: 0}\n"
     ]
    },
    {
     "name": "stderr",
     "output_type": "stream",
     "text": [
      "\n"
     ]
    }
   ],
   "source": [
    "overall_results = {}\n",
    "complex_file = h5py.File(count_path, 'r')\n",
    "matrix = load_sparse_matrix_from_pkl(pkl_path)\n",
    "bid_matrix = matrix.multiply(matrix.T)\n",
    "arrays, links = prepare_shared_memory(matrix, \"full\")\n",
    "bid_arrays, bid_links = prepare_shared_memory(bid_matrix, \"bid\")\n",
    "for _ in range(10):\n",
    "    result_dictionary = {}\n",
    "    aux_dictionary = {}\n",
    "######## iteration #####\n",
    "    for dimension in tqdm(range(1, 7)):\n",
    "        try:\n",
    "            ####### step 1: compiling the dictionary ######\n",
    "            random_selection = np.random.choice(complex_file[\"Cells_\" + str(dimension)].shape[0],\n",
    "                                                min(10000,complex_file[\"Cells_\" + str(dimension)].shape[0]),\n",
    "                                                replace = False)\n",
    "            random_selection.sort()\n",
    "            simplex_iterator = iter(complex_file[\"Cells_\" + str(dimension)][random_selection])\n",
    "            ###### step 2: getting bidirectional targets ######\n",
    "             # fictitious product to satisfy imap reqs of a single arugment.\n",
    "            mp_iterator = product(simplex_iterator, [arrays], [bid_arrays])\n",
    "            results = pool.imap(get_bisimplices, mp_iterator)\n",
    "            ###### step 3: counting extended simplices ######\n",
    "            for elem in results:\n",
    "                result_dictionary[dimension] = result_dictionary.get(dimension, set()).union(set(elem))\n",
    "        except KeyError: # If there are no simplices in h5 file..\n",
    "                result_dictionary[dimension] = set()\n",
    "        try:\n",
    "            aux_dictionary[dimension] = len(complex_file[\"Cells_\" + str(dimension)])\n",
    "        except KeyError: # If there are no simplices in h5 file...\n",
    "            aux_dictionary[dimension] = 0\n",
    "        result_dictionary[dimension] = len(result_dictionary[dimension])\n",
    "        \n",
    "        overall_results[dimension] = overall_results.get(dimension, []) + [result_dictionary[dimension]]\n",
    "    print(\"Extended simplices for 10000 simplices per dimension\")\n",
    "    print(result_dictionary)\n",
    "    print(\"Total simplices per dimension\")\n",
    "    print(aux_dictionary)\n",
    "    # free shared memory\n",
    "for link in links:\n",
    "    link.unlink()\n",
    "for link in bid_links:\n",
    "    link.unlink()"
   ]
  },
  {
   "cell_type": "code",
   "execution_count": 19,
   "metadata": {},
   "outputs": [
    {
     "data": {
      "text/plain": [
       "<BarContainer object of 6 artists>"
      ]
     },
     "execution_count": 19,
     "metadata": {},
     "output_type": "execute_result"
    },
    {
     "data": {
      "image/png": "[encoded data removed]",
      "text/plain": [
       "<Figure size 432x288 with 1 Axes>"
      ]
     },
     "metadata": {
      "needs_background": "light"
     },
     "output_type": "display_data"
    }
   ],
   "source": [
    "a = []\n",
    "b = []\n",
    "for elem in overall_results.values():\n",
    "    a.append(np.mean(elem))\n",
    "    b.append(np.std(elem))\n",
    "plt.bar(range(1,7), a, yerr=b)"
   ]
  },
  {
   "cell_type": "markdown",
   "metadata": {},
   "source": [
    "### ER bid adjusted"
   ]
  },
  {
   "cell_type": "code",
   "execution_count": 20,
   "metadata": {},
   "outputs": [
    {
     "name": "stderr",
     "output_type": "stream",
     "text": [
      "100%|██████████| 31346/31346 [00:00<00:00, 3200376.16it/s]\n",
      "7648079it [00:11, 686490.25it/s]\n"
     ]
    }
   ],
   "source": [
    "save_path = Path(\"data/models/adjusted/adjusted.flag\")\n",
    "save_path.parent.mkdir(exist_ok=True, parents=True)\n",
    "flag_path, pkl_path, count_path =save_count_graph_from_matrix(save_path, bid_adjusted_matrix)"
   ]
  },
  {
   "cell_type": "code",
   "execution_count": 21,
   "metadata": {},
   "outputs": [],
   "source": [
    "pool = mp.Pool()"
   ]
  },
  {
   "cell_type": "code",
   "execution_count": 22,
   "metadata": {},
   "outputs": [
    {
     "name": "stderr",
     "output_type": "stream",
     "text": [
      "100%|██████████| 6/6 [01:08<00:00, 11.44s/it]\n",
      "  0%|          | 0/6 [00:00<?, ?it/s]"
     ]
    },
    {
     "name": "stdout",
     "output_type": "stream",
     "text": [
      "Extended simplices for 10000 simplices per dimension\n",
      "{1: 513, 2: 88, 3: 78, 4: 6, 5: 0, 6: 0}\n",
      "Total simplices per dimension\n",
      "{1: 7648079, 2: 14589381, 3: 334329, 4: 1816, 5: 0, 6: 0}\n"
     ]
    },
    {
     "name": "stderr",
     "output_type": "stream",
     "text": [
      "100%|██████████| 6/6 [01:02<00:00, 10.42s/it]\n",
      "  0%|          | 0/6 [00:00<?, ?it/s]"
     ]
    },
    {
     "name": "stdout",
     "output_type": "stream",
     "text": [
      "Extended simplices for 10000 simplices per dimension\n",
      "{1: 485, 2: 70, 3: 87, 4: 6, 5: 0, 6: 0}\n",
      "Total simplices per dimension\n",
      "{1: 7648079, 2: 14589381, 3: 334329, 4: 1816, 5: 0, 6: 0}\n"
     ]
    },
    {
     "name": "stderr",
     "output_type": "stream",
     "text": [
      "100%|██████████| 6/6 [01:02<00:00, 10.43s/it]\n",
      "  0%|          | 0/6 [00:00<?, ?it/s]"
     ]
    },
    {
     "name": "stdout",
     "output_type": "stream",
     "text": [
      "Extended simplices for 10000 simplices per dimension\n",
      "{1: 512, 2: 90, 3: 85, 4: 6, 5: 0, 6: 0}\n",
      "Total simplices per dimension\n",
      "{1: 7648079, 2: 14589381, 3: 334329, 4: 1816, 5: 0, 6: 0}\n"
     ]
    },
    {
     "name": "stderr",
     "output_type": "stream",
     "text": [
      "100%|██████████| 6/6 [01:05<00:00, 10.87s/it]\n",
      "  0%|          | 0/6 [00:00<?, ?it/s]"
     ]
    },
    {
     "name": "stdout",
     "output_type": "stream",
     "text": [
      "Extended simplices for 10000 simplices per dimension\n",
      "{1: 515, 2: 71, 3: 84, 4: 6, 5: 0, 6: 0}\n",
      "Total simplices per dimension\n",
      "{1: 7648079, 2: 14589381, 3: 334329, 4: 1816, 5: 0, 6: 0}\n"
     ]
    },
    {
     "name": "stderr",
     "output_type": "stream",
     "text": [
      "100%|██████████| 6/6 [01:02<00:00, 10.37s/it]\n",
      "  0%|          | 0/6 [00:00<?, ?it/s]"
     ]
    },
    {
     "name": "stdout",
     "output_type": "stream",
     "text": [
      "Extended simplices for 10000 simplices per dimension\n",
      "{1: 483, 2: 80, 3: 87, 4: 6, 5: 0, 6: 0}\n",
      "Total simplices per dimension\n",
      "{1: 7648079, 2: 14589381, 3: 334329, 4: 1816, 5: 0, 6: 0}\n"
     ]
    },
    {
     "name": "stderr",
     "output_type": "stream",
     "text": [
      "100%|██████████| 6/6 [01:03<00:00, 10.61s/it]\n",
      "  0%|          | 0/6 [00:00<?, ?it/s]"
     ]
    },
    {
     "name": "stdout",
     "output_type": "stream",
     "text": [
      "Extended simplices for 10000 simplices per dimension\n",
      "{1: 502, 2: 79, 3: 87, 4: 6, 5: 0, 6: 0}\n",
      "Total simplices per dimension\n",
      "{1: 7648079, 2: 14589381, 3: 334329, 4: 1816, 5: 0, 6: 0}\n"
     ]
    },
    {
     "name": "stderr",
     "output_type": "stream",
     "text": [
      "100%|██████████| 6/6 [01:02<00:00, 10.41s/it]\n",
      "  0%|          | 0/6 [00:00<?, ?it/s]"
     ]
    },
    {
     "name": "stdout",
     "output_type": "stream",
     "text": [
      "Extended simplices for 10000 simplices per dimension\n",
      "{1: 544, 2: 91, 3: 76, 4: 6, 5: 0, 6: 0}\n",
      "Total simplices per dimension\n",
      "{1: 7648079, 2: 14589381, 3: 334329, 4: 1816, 5: 0, 6: 0}\n"
     ]
    },
    {
     "name": "stderr",
     "output_type": "stream",
     "text": [
      "100%|██████████| 6/6 [01:02<00:00, 10.49s/it]\n",
      "  0%|          | 0/6 [00:00<?, ?it/s]"
     ]
    },
    {
     "name": "stdout",
     "output_type": "stream",
     "text": [
      "Extended simplices for 10000 simplices per dimension\n",
      "{1: 558, 2: 97, 3: 83, 4: 6, 5: 0, 6: 0}\n",
      "Total simplices per dimension\n",
      "{1: 7648079, 2: 14589381, 3: 334329, 4: 1816, 5: 0, 6: 0}\n"
     ]
    },
    {
     "name": "stderr",
     "output_type": "stream",
     "text": [
      "100%|██████████| 6/6 [01:02<00:00, 10.43s/it]\n",
      "  0%|          | 0/6 [00:00<?, ?it/s]"
     ]
    },
    {
     "name": "stdout",
     "output_type": "stream",
     "text": [
      "Extended simplices for 10000 simplices per dimension\n",
      "{1: 523, 2: 94, 3: 76, 4: 6, 5: 0, 6: 0}\n",
      "Total simplices per dimension\n",
      "{1: 7648079, 2: 14589381, 3: 334329, 4: 1816, 5: 0, 6: 0}\n"
     ]
    },
    {
     "name": "stderr",
     "output_type": "stream",
     "text": [
      "100%|██████████| 6/6 [01:02<00:00, 10.49s/it]"
     ]
    },
    {
     "name": "stdout",
     "output_type": "stream",
     "text": [
      "Extended simplices for 10000 simplices per dimension\n",
      "{1: 515, 2: 97, 3: 104, 4: 6, 5: 0, 6: 0}\n",
      "Total simplices per dimension\n",
      "{1: 7648079, 2: 14589381, 3: 334329, 4: 1816, 5: 0, 6: 0}\n"
     ]
    },
    {
     "name": "stderr",
     "output_type": "stream",
     "text": [
      "\n"
     ]
    }
   ],
   "source": [
    "overall_results = {}\n",
    "complex_file = h5py.File(count_path, 'r')\n",
    "matrix = load_sparse_matrix_from_pkl(pkl_path)\n",
    "bid_matrix = matrix.multiply(matrix.T)\n",
    "arrays, links = prepare_shared_memory(matrix, \"full\")\n",
    "bid_arrays, bid_links = prepare_shared_memory(bid_matrix, \"bid\")\n",
    "for _ in range(10):\n",
    "    result_dictionary = {}\n",
    "    aux_dictionary = {}\n",
    "######## iteration #####\n",
    "    for dimension in tqdm(range(1, 7)):\n",
    "        try:\n",
    "            ####### step 1: compiling the dictionary ######\n",
    "            random_selection = np.random.choice(complex_file[\"Cells_\" + str(dimension)].shape[0],\n",
    "                                                min(10000,complex_file[\"Cells_\" + str(dimension)].shape[0]),\n",
    "                                                replace = False)\n",
    "            random_selection.sort()\n",
    "            simplex_iterator = iter(complex_file[\"Cells_\" + str(dimension)][random_selection])\n",
    "            ###### step 2: getting bidirectional targets ######\n",
    "             # fictitious product to satisfy imap reqs of a single arugment.\n",
    "            mp_iterator = product(simplex_iterator, [arrays], [bid_arrays])\n",
    "            results = pool.imap(get_bisimplices, mp_iterator)\n",
    "            ###### step 3: counting extended simplices ######\n",
    "            for elem in results:\n",
    "                result_dictionary[dimension] = result_dictionary.get(dimension, set()).union(set(elem))\n",
    "        except KeyError: # If there are no simplices in h5 file..\n",
    "                result_dictionary[dimension] = set()\n",
    "        try:\n",
    "            aux_dictionary[dimension] = len(complex_file[\"Cells_\" + str(dimension)])\n",
    "        except KeyError: # If there are no simplices in h5 file...\n",
    "            aux_dictionary[dimension] = 0\n",
    "        result_dictionary[dimension] = len(result_dictionary[dimension])\n",
    "        \n",
    "        overall_results[dimension] = overall_results.get(dimension, []) + [result_dictionary[dimension]]\n",
    "    print(\"Extended simplices for 10000 simplices per dimension\")\n",
    "    print(result_dictionary)\n",
    "    print(\"Total simplices per dimension\")\n",
    "    print(aux_dictionary)\n",
    "    # free shared memory\n",
    "for link in links:\n",
    "    link.unlink()\n",
    "for link in bid_links:\n",
    "    link.unlink()"
   ]
  },
  {
   "cell_type": "code",
   "execution_count": 23,
   "metadata": {},
   "outputs": [
    {
     "data": {
      "text/plain": [
       "<BarContainer object of 6 artists>"
      ]
     },
     "execution_count": 23,
     "metadata": {},
     "output_type": "execute_result"
    },
    {
     "data": {
      "image/png": "[encoded data removed]",
      "text/plain": [
       "<Figure size 432x288 with 1 Axes>"
      ]
     },
     "metadata": {
      "needs_background": "light"
     },
     "output_type": "display_data"
    }
   ],
   "source": [
    "a = []\n",
    "b = []\n",
    "for elem in overall_results.values():\n",
    "    a.append(np.mean(elem))\n",
    "    b.append(np.std(elem))\n",
    "plt.bar(range(1,7), a, yerr=b)"
   ]
  }
 ],
 "metadata": {
  "kernelspec": {
   "display_name": "Python 3",
   "language": "python",
   "name": "python3"
  },
  "language_info": {
   "codemirror_mode": {
    "name": "ipython",
    "version": 3
   },
   "file_extension": ".py",
   "mimetype": "text/x-python",
   "name": "python",
   "nbconvert_exporter": "python",
   "pygments_lexer": "ipython3",
   "version": "3.8.5"
  }
 },
 "nbformat": 4,
 "nbformat_minor": 4
}
