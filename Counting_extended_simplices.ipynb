{
 "cells": [
  {
   "cell_type": "markdown",
   "metadata": {},
   "source": [
    "## Counting simplex-containing DAG2."
   ]
  },
  {
   "cell_type": "markdown",
   "metadata": {},
   "source": [
    "In this notebook, we will try to count all simplex-containing DAG2, that is DAG2 robust motifs on n nodes that contain an n-1 simplex."
   ]
  },
  {
   "cell_type": "markdown",
   "metadata": {},
   "source": [
    "### Imports "
   ]
  },
  {
   "cell_type": "markdown",
   "metadata": {},
   "source": [
    "Core imports"
   ]
  },
  {
   "cell_type": "code",
   "execution_count": 1,
   "metadata": {},
   "outputs": [],
   "source": [
    "import multiprocessing as mp\n",
    "from robust_motifs.custom_mp import prepare_shared_memory\n",
    "from robust_motifs.counting import get_dag2_signature, get_element_targets\n",
    "from robust_motifs.data import import_connectivity_matrix, save_er_graph, load_sparse_matrix_from_pkl"
   ]
  },
  {
   "cell_type": "markdown",
   "metadata": {},
   "source": [
    "File tools"
   ]
  },
  {
   "cell_type": "code",
   "execution_count": 2,
   "metadata": {},
   "outputs": [],
   "source": [
    "from pathlib import Path\n",
    "import pickle\n",
    "import h5py"
   ]
  },
  {
   "cell_type": "markdown",
   "metadata": {},
   "source": [
    "Drawing tools"
   ]
  },
  {
   "cell_type": "code",
   "execution_count": 3,
   "metadata": {},
   "outputs": [],
   "source": [
    "from robust_motifs.plot import plot_matrices\n",
    "from robust_motifs.utilities import get_pos"
   ]
  },
  {
   "cell_type": "markdown",
   "metadata": {},
   "source": [
    "Other tools"
   ]
  },
  {
   "cell_type": "code",
   "execution_count": 4,
   "metadata": {},
   "outputs": [],
   "source": [
    "import scipy.sparse as sp\n",
    "import numpy as np\n",
    "from itertools import product\n",
    "from time import time\n",
    "import os\n",
    "from tqdm import tqdm"
   ]
  },
  {
   "cell_type": "code",
   "execution_count": 15,
   "metadata": {},
   "outputs": [],
   "source": [
    "pool = mp.Pool()"
   ]
  },
  {
   "cell_type": "markdown",
   "metadata": {},
   "source": [
    "## Comparison with Erdos-Reyni graph, random simplices"
   ]
  },
  {
   "cell_type": "markdown",
   "metadata": {},
   "source": [
    "### Creating ER graphs"
   ]
  },
  {
   "cell_type": "code",
   "execution_count": 5,
   "metadata": {},
   "outputs": [
    {
     "name": "stderr",
     "output_type": "stream",
     "text": [
      "100%|██████████| 55/55 [00:11<00:00,  4.65it/s]\n"
     ]
    },
    {
     "data": {
      "text/plain": [
       "<31346x31346 sparse matrix of type '<class 'numpy.bool_'>'\n",
       "\twith 7648079 stored elements in Compressed Sparse Row format>"
      ]
     },
     "execution_count": 5,
     "metadata": {},
     "output_type": "execute_result"
    }
   ],
   "source": [
    "import_connectivity_matrix(dataframe = False, type = 'csr')"
   ]
  },
  {
   "cell_type": "code",
   "execution_count": 12,
   "metadata": {},
   "outputs": [],
   "source": [
    "n_nodes = 31346\n",
    "density = 7648079/31346/31346"
   ]
  },
  {
   "cell_type": "code",
   "execution_count": 13,
   "metadata": {},
   "outputs": [
    {
     "data": {
      "text/plain": [
       "0.007783736164455195"
      ]
     },
     "execution_count": 13,
     "metadata": {},
     "output_type": "execute_result"
    }
   ],
   "source": [
    "density"
   ]
  },
  {
   "cell_type": "code",
   "execution_count": 14,
   "metadata": {
    "scrolled": true
   },
   "outputs": [
    {
     "name": "stderr",
     "output_type": "stream",
     "text": [
      "100%|██████████| 31346/31346 [00:00<00:00, 3456857.29it/s]\n",
      "7648630it [00:11, 673239.00it/s]\n"
     ]
    },
    {
     "data": {
      "text/plain": [
       "0"
      ]
     },
     "execution_count": 14,
     "metadata": {},
     "output_type": "execute_result"
    }
   ],
   "source": [
    "path = Path(\"data/extended_simplices/full/ER_\" + str(n_nodes) + \".flag\")\n",
    "path.parent.mkdir(parents=True, exist_ok = True)\n",
    "save_er_graph(path, n_nodes, density)\n",
    "os.system(\"flagser-count data/extended_simplices/full/ER_\" +str(n_nodes)+\".flag --out data/extended_simplices/full/ER_\"+str(n_nodes)+\"-count.h5\")"
   ]
  },
  {
   "cell_type": "code",
   "execution_count": 16,
   "metadata": {
    "scrolled": true
   },
   "outputs": [
    {
     "name": "stderr",
     "output_type": "stream",
     "text": [
      "100%|██████████| 6/6 [01:23<00:00, 13.97s/it]\n",
      "  0%|          | 0/6 [00:00<?, ?it/s]"
     ]
    },
    {
     "name": "stdout",
     "output_type": "stream",
     "text": [
      "{1: 18924, 2: 18831, 3: 18873, 4: 29, 5: 0, 6: 0}\n",
      "{1: 7648630, 2: 14529554, 3: 214516, 4: 18, 5: 0, 6: 0}\n"
     ]
    },
    {
     "name": "stderr",
     "output_type": "stream",
     "text": [
      "100%|██████████| 6/6 [01:23<00:00, 13.99s/it]\n",
      "  0%|          | 0/6 [00:00<?, ?it/s]"
     ]
    },
    {
     "name": "stdout",
     "output_type": "stream",
     "text": [
      "{1: 18963, 2: 19017, 3: 18902, 4: 29, 5: 0, 6: 0}\n",
      "{1: 7648630, 2: 14529554, 3: 214516, 4: 18, 5: 0, 6: 0}\n"
     ]
    },
    {
     "name": "stderr",
     "output_type": "stream",
     "text": [
      "100%|██████████| 6/6 [01:24<00:00, 14.01s/it]\n",
      "  0%|          | 0/6 [00:00<?, ?it/s]"
     ]
    },
    {
     "name": "stdout",
     "output_type": "stream",
     "text": [
      "{1: 18843, 2: 18844, 3: 19126, 4: 29, 5: 0, 6: 0}\n",
      "{1: 7648630, 2: 14529554, 3: 214516, 4: 18, 5: 0, 6: 0}\n"
     ]
    },
    {
     "name": "stderr",
     "output_type": "stream",
     "text": [
      "100%|██████████| 6/6 [01:21<00:00, 13.63s/it]\n",
      "  0%|          | 0/6 [00:00<?, ?it/s]"
     ]
    },
    {
     "name": "stdout",
     "output_type": "stream",
     "text": [
      "{1: 18728, 2: 19039, 3: 19103, 4: 29, 5: 0, 6: 0}\n",
      "{1: 7648630, 2: 14529554, 3: 214516, 4: 18, 5: 0, 6: 0}\n"
     ]
    },
    {
     "name": "stderr",
     "output_type": "stream",
     "text": [
      "100%|██████████| 6/6 [01:24<00:00, 14.15s/it]\n",
      "  0%|          | 0/6 [00:00<?, ?it/s]"
     ]
    },
    {
     "name": "stdout",
     "output_type": "stream",
     "text": [
      "{1: 18790, 2: 19029, 3: 18817, 4: 29, 5: 0, 6: 0}\n",
      "{1: 7648630, 2: 14529554, 3: 214516, 4: 18, 5: 0, 6: 0}\n"
     ]
    },
    {
     "name": "stderr",
     "output_type": "stream",
     "text": [
      "100%|██████████| 6/6 [01:22<00:00, 13.80s/it]\n",
      "  0%|          | 0/6 [00:00<?, ?it/s]"
     ]
    },
    {
     "name": "stdout",
     "output_type": "stream",
     "text": [
      "{1: 18970, 2: 18711, 3: 18947, 4: 29, 5: 0, 6: 0}\n",
      "{1: 7648630, 2: 14529554, 3: 214516, 4: 18, 5: 0, 6: 0}\n"
     ]
    },
    {
     "name": "stderr",
     "output_type": "stream",
     "text": [
      "100%|██████████| 6/6 [01:22<00:00, 13.68s/it]\n",
      "  0%|          | 0/6 [00:00<?, ?it/s]"
     ]
    },
    {
     "name": "stdout",
     "output_type": "stream",
     "text": [
      "{1: 18928, 2: 18668, 3: 19024, 4: 29, 5: 0, 6: 0}\n",
      "{1: 7648630, 2: 14529554, 3: 214516, 4: 18, 5: 0, 6: 0}\n"
     ]
    },
    {
     "name": "stderr",
     "output_type": "stream",
     "text": [
      "100%|██████████| 6/6 [01:25<00:00, 14.32s/it]\n",
      "  0%|          | 0/6 [00:00<?, ?it/s]"
     ]
    },
    {
     "name": "stdout",
     "output_type": "stream",
     "text": [
      "{1: 18801, 2: 18636, 3: 19087, 4: 29, 5: 0, 6: 0}\n",
      "{1: 7648630, 2: 14529554, 3: 214516, 4: 18, 5: 0, 6: 0}\n"
     ]
    },
    {
     "name": "stderr",
     "output_type": "stream",
     "text": [
      "100%|██████████| 6/6 [01:23<00:00, 13.95s/it]\n",
      "  0%|          | 0/6 [00:00<?, ?it/s]"
     ]
    },
    {
     "name": "stdout",
     "output_type": "stream",
     "text": [
      "{1: 18728, 2: 19000, 3: 18733, 4: 29, 5: 0, 6: 0}\n",
      "{1: 7648630, 2: 14529554, 3: 214516, 4: 18, 5: 0, 6: 0}\n"
     ]
    },
    {
     "name": "stderr",
     "output_type": "stream",
     "text": [
      "100%|██████████| 6/6 [01:27<00:00, 14.63s/it]"
     ]
    },
    {
     "name": "stdout",
     "output_type": "stream",
     "text": [
      "{1: 19151, 2: 19059, 3: 19138, 4: 29, 5: 0, 6: 0}\n",
      "{1: 7648630, 2: 14529554, 3: 214516, 4: 18, 5: 0, 6: 0}\n"
     ]
    },
    {
     "name": "stderr",
     "output_type": "stream",
     "text": [
      "\n"
     ]
    }
   ],
   "source": [
    "for _ in range(10):\n",
    "    result_dictionary = {}\n",
    "    aux_dictionary = {}\n",
    "    file_path = Path(\"data/extended_simplices/full/ER_\" + str(n_nodes) + \".flag\")\n",
    "    matrix_path = Path(\"data/extended_simplices/full/ER_\" + str(n_nodes) + \".pkl\")\n",
    "    complex_path = Path(\"data/extended_simplices/full/ER_\" + str(n_nodes) + \"-count.h5\")\n",
    "    complex_file = h5py.File(complex_path, 'r')\n",
    "    matrix = load_sparse_matrix_from_pkl(matrix_path)\n",
    "    arrays, links = prepare_shared_memory(matrix, str(n_nodes))    \n",
    "    for dimension in tqdm(range(1, 7)):\n",
    "        try:\n",
    "            random_selection = np.random.choice(complex_file[\"Cells_\" + str(dimension)].shape[0],\n",
    "                                                min(10000,complex_file[\"Cells_\" + str(dimension)].shape[0]),\n",
    "                                                replace = False)\n",
    "            random_selection.sort()\n",
    "            simplex_iterator = iter(complex_file[\"Cells_\" + str(dimension)][random_selection])\n",
    "            simplex_dictionary = {}\n",
    "            for simplex in simplex_iterator:\n",
    "                simplex_dictionary[simplex[-1]] = simplex_dictionary.get(simplex[-1], []) + [simplex]\n",
    "            mp_iterator = product(simplex_dictionary.keys(), [arrays])\n",
    "            results = pool.imap(get_element_targets, mp_iterator)\n",
    "            for elem, key in zip(results, simplex_dictionary.keys()):\n",
    "                result_dictionary[dimension] = result_dictionary.get(dimension, 0) + len(elem)*len(simplex_dictionary[key])\n",
    "        except KeyError:\n",
    "                result_dictionary[dimension] = 0\n",
    "        try:\n",
    "            aux_dictionary[dimension] = len(complex_file[\"Cells_\" + str(dimension)])\n",
    "        except KeyError:\n",
    "            aux_dictionary[dimension] = 0           \n",
    "    print(result_dictionary)\n",
    "    print(aux_dictionary)\n",
    "    for link in links:\n",
    "        link.unlink()"
   ]
  },
  {
   "cell_type": "markdown",
   "metadata": {},
   "source": [
    "## Comparison with ER graph: random simplices, random instances. "
   ]
  },
  {
   "cell_type": "code",
   "execution_count": 17,
   "metadata": {},
   "outputs": [
    {
     "name": "stderr",
     "output_type": "stream",
     "text": [
      "100%|██████████| 31346/31346 [00:00<00:00, 3386776.23it/s]\n",
      "7644508it [00:11, 672087.37it/s]\n",
      "100%|██████████| 6/6 [01:22<00:00, 13.76s/it]\n"
     ]
    },
    {
     "name": "stdout",
     "output_type": "stream",
     "text": [
      "{1: 19263, 2: 18962, 3: 19092, 4: 35, 5: 0, 6: 0}\n",
      "{1: 7648630, 2: 14529554, 3: 214516, 4: 18, 5: 0, 6: 0}\n"
     ]
    },
    {
     "name": "stderr",
     "output_type": "stream",
     "text": [
      "100%|██████████| 31346/31346 [00:00<00:00, 3440303.88it/s]\n",
      "7649650it [00:11, 659876.94it/s]\n",
      "100%|██████████| 6/6 [01:22<00:00, 13.72s/it]\n"
     ]
    },
    {
     "name": "stdout",
     "output_type": "stream",
     "text": [
      "{1: 18926, 2: 18830, 3: 18641, 4: 39, 5: 0, 6: 0}\n",
      "{1: 7648630, 2: 14529554, 3: 214516, 4: 18, 5: 0, 6: 0}\n"
     ]
    },
    {
     "name": "stderr",
     "output_type": "stream",
     "text": [
      "100%|██████████| 31346/31346 [00:00<00:00, 3332184.03it/s]\n",
      "7646783it [00:11, 653319.08it/s]\n",
      "100%|██████████| 6/6 [01:21<00:00, 13.66s/it]\n"
     ]
    },
    {
     "name": "stdout",
     "output_type": "stream",
     "text": [
      "{1: 18952, 2: 18851, 3: 19113, 4: 45, 5: 0, 6: 0}\n",
      "{1: 7648630, 2: 14529554, 3: 214516, 4: 18, 5: 0, 6: 0}\n"
     ]
    },
    {
     "name": "stderr",
     "output_type": "stream",
     "text": [
      "100%|██████████| 31346/31346 [00:00<00:00, 3465970.35it/s]\n",
      "7645591it [00:11, 667678.59it/s]\n",
      "100%|██████████| 6/6 [01:22<00:00, 13.73s/it]\n"
     ]
    },
    {
     "name": "stdout",
     "output_type": "stream",
     "text": [
      "{1: 18755, 2: 18668, 3: 18756, 4: 30, 5: 0, 6: 0}\n",
      "{1: 7648630, 2: 14529554, 3: 214516, 4: 18, 5: 0, 6: 0}\n"
     ]
    },
    {
     "name": "stderr",
     "output_type": "stream",
     "text": [
      "100%|██████████| 31346/31346 [00:00<00:00, 3460678.93it/s]\n",
      "7647675it [00:11, 655573.01it/s]\n",
      "100%|██████████| 6/6 [01:21<00:00, 13.64s/it]\n"
     ]
    },
    {
     "name": "stdout",
     "output_type": "stream",
     "text": [
      "{1: 18806, 2: 18592, 3: 18986, 4: 37, 5: 0, 6: 0}\n",
      "{1: 7648630, 2: 14529554, 3: 214516, 4: 18, 5: 0, 6: 0}\n"
     ]
    },
    {
     "name": "stderr",
     "output_type": "stream",
     "text": [
      "100%|██████████| 31346/31346 [00:00<00:00, 3440934.16it/s]\n",
      "7650312it [00:11, 667089.71it/s]\n",
      "100%|██████████| 6/6 [01:20<00:00, 13.48s/it]\n"
     ]
    },
    {
     "name": "stdout",
     "output_type": "stream",
     "text": [
      "{1: 19058, 2: 18884, 3: 18967, 4: 37, 5: 0, 6: 0}\n",
      "{1: 7648630, 2: 14529554, 3: 214516, 4: 18, 5: 0, 6: 0}\n"
     ]
    },
    {
     "name": "stderr",
     "output_type": "stream",
     "text": [
      "100%|██████████| 31346/31346 [00:00<00:00, 3458676.06it/s]\n",
      "7647188it [00:11, 647960.50it/s]\n",
      "100%|██████████| 6/6 [01:22<00:00, 13.73s/it]\n"
     ]
    },
    {
     "name": "stdout",
     "output_type": "stream",
     "text": [
      "{1: 19079, 2: 18744, 3: 19009, 4: 30, 5: 0, 6: 0}\n",
      "{1: 7648630, 2: 14529554, 3: 214516, 4: 18, 5: 0, 6: 0}\n"
     ]
    },
    {
     "name": "stderr",
     "output_type": "stream",
     "text": [
      "100%|██████████| 31346/31346 [00:00<00:00, 3452772.03it/s]\n",
      "7648804it [00:11, 676976.14it/s]\n",
      "100%|██████████| 6/6 [01:21<00:00, 13.53s/it]\n"
     ]
    },
    {
     "name": "stdout",
     "output_type": "stream",
     "text": [
      "{1: 18986, 2: 19085, 3: 18883, 4: 34, 5: 0, 6: 0}\n",
      "{1: 7648630, 2: 14529554, 3: 214516, 4: 18, 5: 0, 6: 0}\n"
     ]
    },
    {
     "name": "stderr",
     "output_type": "stream",
     "text": [
      "100%|██████████| 31346/31346 [00:00<00:00, 3426496.04it/s]\n",
      "7645986it [00:11, 663511.45it/s]\n",
      "100%|██████████| 6/6 [01:23<00:00, 13.91s/it]\n"
     ]
    },
    {
     "name": "stdout",
     "output_type": "stream",
     "text": [
      "{1: 19058, 2: 18754, 3: 18905, 4: 36, 5: 0, 6: 0}\n",
      "{1: 7648630, 2: 14529554, 3: 214516, 4: 18, 5: 0, 6: 0}\n"
     ]
    },
    {
     "name": "stderr",
     "output_type": "stream",
     "text": [
      "100%|██████████| 31346/31346 [00:00<00:00, 3270513.76it/s]\n",
      "7644935it [00:11, 666659.36it/s]\n",
      "100%|██████████| 6/6 [01:21<00:00, 13.53s/it]"
     ]
    },
    {
     "name": "stdout",
     "output_type": "stream",
     "text": [
      "{1: 18702, 2: 18931, 3: 18829, 4: 34, 5: 0, 6: 0}\n",
      "{1: 7648630, 2: 14529554, 3: 214516, 4: 18, 5: 0, 6: 0}\n"
     ]
    },
    {
     "name": "stderr",
     "output_type": "stream",
     "text": [
      "\n"
     ]
    }
   ],
   "source": [
    "for _ in range(10):\n",
    "    path = Path(\"data/extended_simplices/full/ER_\" + str(n_nodes) + \".flag\")\n",
    "    path.parent.mkdir(parents=True, exist_ok = True)\n",
    "    save_er_graph(path, n_nodes, density)\n",
    "    os.system(\"flagser-count data/extended_simplices/full/ER_\" +str(n_nodes)+\".flag --out data/extended_simplices/full/ER_\"+str(n_nodes)+\"-count.h5\")\n",
    "    result_dictionary = {}\n",
    "    aux_dictionary = {}\n",
    "    file_path = Path(\"data/extended_simplices/full/ER_\" + str(n_nodes) + \".flag\")\n",
    "    matrix_path = Path(\"data/extended_simplices/full/ER_\" + str(n_nodes) + \".pkl\")\n",
    "    complex_path = Path(\"data/extended_simplices/full/ER_\" + str(n_nodes) + \"-count.h5\")\n",
    "    complex_file = h5py.File(complex_path, 'r')\n",
    "    matrix = load_sparse_matrix_from_pkl(matrix_path)\n",
    "    arrays, links = prepare_shared_memory(matrix, str(n_nodes))    \n",
    "    for dimension in tqdm(range(1, 7)):\n",
    "        try:\n",
    "            random_selection = np.random.choice(complex_file[\"Cells_\" + str(dimension)].shape[0],\n",
    "                                                min(10000,complex_file[\"Cells_\" + str(dimension)].shape[0]),\n",
    "                                                replace = False)\n",
    "            random_selection.sort()\n",
    "            simplex_iterator = iter(complex_file[\"Cells_\" + str(dimension)][random_selection])\n",
    "            simplex_dictionary = {}\n",
    "            for simplex in simplex_iterator:\n",
    "                simplex_dictionary[simplex[-1]] = simplex_dictionary.get(simplex[-1], []) + [simplex]\n",
    "            mp_iterator = product(simplex_dictionary.keys(), [arrays])\n",
    "            results = pool.imap(get_element_targets, mp_iterator)\n",
    "            for elem, key in zip(results, simplex_dictionary.keys()):\n",
    "                result_dictionary[dimension] = result_dictionary.get(dimension, 0) + len(elem)*len(simplex_dictionary[key])\n",
    "        except KeyError:\n",
    "                result_dictionary[dimension] = 0\n",
    "        try:\n",
    "            aux_dictionary[dimension] = len(complex_file[\"Cells_\" + str(dimension)])\n",
    "        except KeyError:\n",
    "            aux_dictionary[dimension] = 0           \n",
    "    print(result_dictionary)\n",
    "    print(aux_dictionary)\n",
    "    for link in links:\n",
    "        link.unlink()"
   ]
  },
  {
   "cell_type": "markdown",
   "metadata": {},
   "source": [
    "## Comparison with ER graph: random simplices in column"
   ]
  },
  {
   "cell_type": "code",
   "execution_count": 19,
   "metadata": {
    "scrolled": true
   },
   "outputs": [
    {
     "name": "stderr",
     "output_type": "stream",
     "text": [
      "100%|██████████| 55/55 [00:12<00:00,  4.58it/s]\n",
      "100%|██████████| 6/6 [02:00<00:00, 20.10s/it]\n",
      "  0%|          | 0/6 [00:00<?, ?it/s]"
     ]
    },
    {
     "name": "stdout",
     "output_type": "stream",
     "text": [
      "{1: 82839, 2: 100792, 3: 114807, 4: 123421, 5: 133198, 6: 7383}\n",
      "{1: 7648079, 2: 73036616, 3: 59945205, 4: 6599529, 5: 133115, 6: 529}\n"
     ]
    },
    {
     "name": "stderr",
     "output_type": "stream",
     "text": [
      "100%|██████████| 6/6 [01:58<00:00, 19.83s/it]\n",
      "  0%|          | 0/6 [00:00<?, ?it/s]"
     ]
    },
    {
     "name": "stdout",
     "output_type": "stream",
     "text": [
      "{1: 83113, 2: 99944, 3: 113144, 4: 126236, 5: 134194, 6: 7383}\n",
      "{1: 7648079, 2: 73036616, 3: 59945205, 4: 6599529, 5: 133115, 6: 529}\n"
     ]
    },
    {
     "name": "stderr",
     "output_type": "stream",
     "text": [
      "100%|██████████| 6/6 [01:59<00:00, 19.87s/it]\n",
      "  0%|          | 0/6 [00:00<?, ?it/s]"
     ]
    },
    {
     "name": "stdout",
     "output_type": "stream",
     "text": [
      "{1: 83456, 2: 100101, 3: 112581, 4: 123676, 5: 133362, 6: 7383}\n",
      "{1: 7648079, 2: 73036616, 3: 59945205, 4: 6599529, 5: 133115, 6: 529}\n"
     ]
    },
    {
     "name": "stderr",
     "output_type": "stream",
     "text": [
      "100%|██████████| 6/6 [01:59<00:00, 19.97s/it]\n",
      "  0%|          | 0/6 [00:00<?, ?it/s]"
     ]
    },
    {
     "name": "stdout",
     "output_type": "stream",
     "text": [
      "{1: 82661, 2: 101273, 3: 113128, 4: 123073, 5: 133636, 6: 7383}\n",
      "{1: 7648079, 2: 73036616, 3: 59945205, 4: 6599529, 5: 133115, 6: 529}\n"
     ]
    },
    {
     "name": "stderr",
     "output_type": "stream",
     "text": [
      "100%|██████████| 6/6 [02:00<00:00, 20.01s/it]\n",
      "  0%|          | 0/6 [00:00<?, ?it/s]"
     ]
    },
    {
     "name": "stdout",
     "output_type": "stream",
     "text": [
      "{1: 82499, 2: 100166, 3: 114104, 4: 125626, 5: 133600, 6: 7383}\n",
      "{1: 7648079, 2: 73036616, 3: 59945205, 4: 6599529, 5: 133115, 6: 529}\n"
     ]
    },
    {
     "name": "stderr",
     "output_type": "stream",
     "text": [
      "100%|██████████| 6/6 [02:00<00:00, 20.03s/it]\n",
      "  0%|          | 0/6 [00:00<?, ?it/s]"
     ]
    },
    {
     "name": "stdout",
     "output_type": "stream",
     "text": [
      "{1: 82831, 2: 100613, 3: 113691, 4: 124738, 5: 133746, 6: 7383}\n",
      "{1: 7648079, 2: 73036616, 3: 59945205, 4: 6599529, 5: 133115, 6: 529}\n"
     ]
    },
    {
     "name": "stderr",
     "output_type": "stream",
     "text": [
      "100%|██████████| 6/6 [02:04<00:00, 20.70s/it]\n",
      "  0%|          | 0/6 [00:00<?, ?it/s]"
     ]
    },
    {
     "name": "stdout",
     "output_type": "stream",
     "text": [
      "{1: 82593, 2: 100348, 3: 112732, 4: 124446, 5: 133229, 6: 7383}\n",
      "{1: 7648079, 2: 73036616, 3: 59945205, 4: 6599529, 5: 133115, 6: 529}\n"
     ]
    },
    {
     "name": "stderr",
     "output_type": "stream",
     "text": [
      "100%|██████████| 6/6 [02:01<00:00, 20.25s/it]\n",
      "  0%|          | 0/6 [00:00<?, ?it/s]"
     ]
    },
    {
     "name": "stdout",
     "output_type": "stream",
     "text": [
      "{1: 83379, 2: 100029, 3: 113366, 4: 123863, 5: 133171, 6: 7383}\n",
      "{1: 7648079, 2: 73036616, 3: 59945205, 4: 6599529, 5: 133115, 6: 529}\n"
     ]
    },
    {
     "name": "stderr",
     "output_type": "stream",
     "text": [
      "100%|██████████| 6/6 [02:00<00:00, 20.10s/it]\n",
      "  0%|          | 0/6 [00:00<?, ?it/s]"
     ]
    },
    {
     "name": "stdout",
     "output_type": "stream",
     "text": [
      "{1: 82228, 2: 100877, 3: 112881, 4: 124610, 5: 133965, 6: 7383}\n",
      "{1: 7648079, 2: 73036616, 3: 59945205, 4: 6599529, 5: 133115, 6: 529}\n"
     ]
    },
    {
     "name": "stderr",
     "output_type": "stream",
     "text": [
      "100%|██████████| 6/6 [02:00<00:00, 20.08s/it]"
     ]
    },
    {
     "name": "stdout",
     "output_type": "stream",
     "text": [
      "{1: 83436, 2: 101611, 3: 114114, 4: 123197, 5: 133391, 6: 7383}\n",
      "{1: 7648079, 2: 73036616, 3: 59945205, 4: 6599529, 5: 133115, 6: 529}\n"
     ]
    },
    {
     "name": "stderr",
     "output_type": "stream",
     "text": [
      "\n"
     ]
    }
   ],
   "source": [
    "complex_path = Path(\"data/tesi/test_instance/column-count.h5\")\n",
    "complex_file = h5py.File(complex_path, 'r')\n",
    "matrix = import_connectivity_matrix(dataframe = False, type = 'csr')\n",
    "arrays, links = prepare_shared_memory(matrix, \"full\")    \n",
    "for _ in range(10):\n",
    "    result_dictionary = {}\n",
    "    aux_dictionary = {}\n",
    "    for dimension in tqdm(range(1, 7)):\n",
    "        try:\n",
    "            random_selection = np.random.choice(complex_file[\"Cells_\" + str(dimension)].shape[0],\n",
    "                                                min(10000,complex_file[\"Cells_\" + str(dimension)].shape[0]),\n",
    "                                                replace = False)\n",
    "            random_selection.sort()\n",
    "            simplex_iterator = iter(complex_file[\"Cells_\" + str(dimension)][random_selection])\n",
    "            simplex_dictionary = {}\n",
    "            for simplex in simplex_iterator:\n",
    "                simplex_dictionary[simplex[-1]] = simplex_dictionary.get(simplex[-1], []) + [simplex]\n",
    "            mp_iterator = product(simplex_dictionary.keys(), [arrays])\n",
    "            results = pool.imap(get_element_targets, mp_iterator)\n",
    "            for elem, key in zip(results, simplex_dictionary.keys()):\n",
    "                result_dictionary[dimension] = result_dictionary.get(dimension, 0) + len(elem)*len(simplex_dictionary[key])\n",
    "        except KeyError:\n",
    "                result_dictionary[dimension] = 0\n",
    "        try:\n",
    "            aux_dictionary[dimension] = len(complex_file[\"Cells_\" + str(dimension)])\n",
    "        except KeyError:\n",
    "            aux_dictionary[dimension] = 0           \n",
    "    print(result_dictionary)\n",
    "    print(aux_dictionary)\n",
    "for link in links:\n",
    "    link.unlink()"
   ]
  },
  {
   "cell_type": "code",
   "execution_count": null,
   "metadata": {},
   "outputs": [],
   "source": []
  },
  {
   "cell_type": "code",
   "execution_count": null,
   "metadata": {},
   "outputs": [],
   "source": []
  }
 ],
 "metadata": {
  "kernelspec": {
   "display_name": "Python 3",
   "language": "python",
   "name": "python3"
  },
  "language_info": {
   "codemirror_mode": {
    "name": "ipython",
    "version": 3
   },
   "file_extension": ".py",
   "mimetype": "text/x-python",
   "name": "python",
   "nbconvert_exporter": "python",
   "pygments_lexer": "ipython3",
   "version": "3.8.5"
  }
 },
 "nbformat": 4,
 "nbformat_minor": 4
}
