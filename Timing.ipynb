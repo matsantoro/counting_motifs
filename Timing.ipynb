{
 "cells": [
  {
   "cell_type": "code",
   "execution_count": 20,
   "metadata": {
    "scrolled": true
   },
   "outputs": [],
   "source": [
    "from robust_motifs.data import save_er_graph\n",
    "from robust_motifs.custom_mp import prepare_shared_memory\n",
    "from robust_motifs.counting import get_dag2_signature\n",
    "from pathlib import Path\n",
    "from robust_motifs.data import load_sparse_matrix\n",
    "import h5py\n",
    "from time import time\n",
    "import multiprocessing as mp\n",
    "from itertools import product\n",
    "import numpy as np\n",
    "from tqdm import tqdm\n",
    "import matplotlib.pyplot as plt"
   ]
  },
  {
   "cell_type": "markdown",
   "metadata": {},
   "source": [
    "### Creating ER graphs for timing"
   ]
  },
  {
   "cell_type": "code",
   "execution_count": 21,
   "metadata": {},
   "outputs": [
    {
     "name": "stderr",
     "output_type": "stream",
     "text": [
      "100%|██████████| 5000/5000 [00:00<00:00, 3158361.45it/s]\n",
      "249833it [00:00, 665231.22it/s]\n",
      "100%|██████████| 7500/7500 [00:00<00:00, 3312338.63it/s]\n",
      "562722it [00:00, 664044.64it/s]\n",
      "100%|██████████| 10000/10000 [00:00<00:00, 3337819.51it/s]\n",
      "1000025it [00:01, 676702.56it/s]\n",
      "100%|██████████| 12500/12500 [00:00<00:00, 3381848.67it/s]\n",
      "1561134it [00:02, 691222.72it/s]\n",
      "100%|██████████| 15000/15000 [00:00<00:00, 3374882.52it/s]\n",
      "2248486it [00:03, 687528.04it/s]\n",
      "100%|██████████| 17500/17500 [00:00<00:00, 3206514.35it/s]\n",
      "3060971it [00:04, 681181.34it/s]\n",
      "100%|██████████| 20000/20000 [00:00<00:00, 3291973.94it/s]\n",
      "4001618it [00:05, 668019.73it/s]\n"
     ]
    }
   ],
   "source": [
    "for n_nodes in [5000,7500,10000,12500,15000,17500,20000]:\n",
    "    path = Path(\"data/timing/n_nodes/ER_\" + str(n_nodes) + \".flag\")\n",
    "    path.parent.mkdir(parents=True, exist_ok = True)\n",
    "    save_er_graph(path, n_nodes, 0.01)"
   ]
  },
  {
   "cell_type": "code",
   "execution_count": 28,
   "metadata": {},
   "outputs": [
    {
     "name": "stdout",
     "output_type": "stream",
     "text": [
      "\u001b[K# [euler_characteristic cell_count_dim_0 cell_count_dim_1 ...]\n",
      "3866865 20000 4001618 8008641 160188 30\n"
     ]
    }
   ],
   "source": [
    "!flagser-count data/timing/n_nodes/ER_20000.flag --out data/timing/n_nodes/ER_20000-count.h5"
   ]
  },
  {
   "cell_type": "code",
   "execution_count": 29,
   "metadata": {},
   "outputs": [
    {
     "name": "stderr",
     "output_type": "stream",
     "text": [
      "100%|██████████| 10000/10000 [00:00<00:00, 3212549.02it/s]\n",
      "999366it [00:01, 674154.75it/s]\n",
      "100%|██████████| 10000/10000 [00:00<00:00, 3362706.65it/s]\n",
      "2000099it [00:02, 668565.96it/s]\n",
      "100%|██████████| 10000/10000 [00:00<00:00, 3142977.89it/s]\n",
      "3000762it [00:04, 670029.89it/s]\n",
      "100%|██████████| 10000/10000 [00:00<00:00, 3373253.98it/s]\n",
      "3999494it [00:05, 679112.46it/s]\n",
      "100%|██████████| 10000/10000 [00:00<00:00, 3316704.10it/s]\n",
      "4997362it [00:07, 690459.28it/s]\n",
      "100%|██████████| 10000/10000 [00:00<00:00, 3279105.62it/s]\n",
      "5996957it [00:08, 687373.11it/s]\n",
      "100%|██████████| 10000/10000 [00:00<00:00, 3202736.71it/s]\n",
      "7000417it [00:10, 690021.37it/s]\n"
     ]
    }
   ],
   "source": [
    "for density in [0.01, 0.02, 0.03, 0.04, 0.05, 0.06, 0.07]:\n",
    "    path = Path(\"data/timing/density/ER_\" + str(density) + \".flag\")\n",
    "    path.parent.mkdir(parents=True, exist_ok = True)\n",
    "    save_er_graph(path, 10000, density)"
   ]
  },
  {
   "cell_type": "code",
   "execution_count": 47,
   "metadata": {},
   "outputs": [
    {
     "name": "stdout",
     "output_type": "stream",
     "text": [
      "\u001b[K# [euler_characteristic cell_count_dim_0 cell_count_dim_1 ...]\n",
      "-195611523 10000 5996957 215640433 464868050 60067950 465124 225\n"
     ]
    }
   ],
   "source": [
    "!flagser-count data/timing/density/ER_0.06.flag --out data/timing/density/ER_0.06-count.h5"
   ]
  },
  {
   "cell_type": "markdown",
   "metadata": {},
   "source": [
    "# Counting simplex-containing DAG2"
   ]
  },
  {
   "cell_type": "markdown",
   "metadata": {},
   "source": [
    "### On number of nodes."
   ]
  },
  {
   "cell_type": "code",
   "execution_count": 37,
   "metadata": {},
   "outputs": [],
   "source": [
    "def get_combinations(boolean_array):\n",
    "    elems = [[False,True] if elem else [False] for elem in boolean_array]\n",
    "    return product(*elems)"
   ]
  },
  {
   "cell_type": "code",
   "execution_count": 40,
   "metadata": {},
   "outputs": [
    {
     "name": "stderr",
     "output_type": "stream",
     "text": [
      "100%|██████████| 7/7 [00:53<00:00,  7.60s/it]\n"
     ]
    }
   ],
   "source": [
    "times_1 = []\n",
    "times_2 = []\n",
    "\n",
    "for n_nodes in tqdm([5000,7500,10000,12500,15000,17500,20000]):\n",
    "    er_flag_path = Path(\"data/timing/n_nodes/ER_\" + str(n_nodes) + \".flag\")\n",
    "    er_matrix_path = er_flag_path.with_suffix('.pkl')\n",
    "    er_count_path = er_flag_path.with_name(\"ER_\" + str(n_nodes) + \"-count.h5\")\n",
    "    er_matrix = load_sparse_matrix(er_matrix_path)\n",
    "    er_simplex_file = h5py.File(er_count_path, 'r')\n",
    "    \n",
    "    pool = mp.Pool()\n",
    "    er_arrays, er_links = prepare_shared_memory(er_matrix, 'er_')\n",
    "    simplex_iterator = iter(er_simplex_file['Cells_2'][:10000])\n",
    "    mp_iterator = product(simplex_iterator, [er_arrays])\n",
    "    start = time()\n",
    "    # Retrieving dag2 sets of vertices\n",
    "    results = pool.imap(get_dag2_signature, mp_iterator)\n",
    "    dags2 = []\n",
    "    for elem in results:\n",
    "        dags2.append(elem)\n",
    "    end1 = time()\n",
    "    times_1.append(end1-start)\n",
    "    # Retrieving all dag2 subgraphs\n",
    "    true_dags = []\n",
    "    removed_list = []\n",
    "    for simplex in dags2:\n",
    "        for dag2 in simplex:\n",
    "            for signature in get_combinations(dag2[1]):\n",
    "                if (\n",
    "                    np.all(signature) and\n",
    "                    np.all([not (np.array(dag2[0]) == elem).all() for elem in removed_list])\n",
    "                ):\n",
    "                    removed_list.append( np.concatenate(\n",
    "                            (dag2[0][:-2], [dag2[0][-1]] + [dag2[0][-2]])\n",
    "                            )\n",
    "                        )\n",
    "                else:\n",
    "                    true_dags.append(\n",
    "                        (dag2[0],\n",
    "                        signature)\n",
    "                    )\n",
    "    \n",
    "    end2 = time()\n",
    "    times_2.append(end2-end1)\n",
    "    \n",
    "    for element in er_links:\n",
    "        element.unlink()"
   ]
  },
  {
   "cell_type": "markdown",
   "metadata": {},
   "source": [
    "Retrieving targets and signatures"
   ]
  },
  {
   "cell_type": "code",
   "execution_count": 44,
   "metadata": {},
   "outputs": [
    {
     "data": {
      "text/plain": [
       "[<matplotlib.lines.Line2D at 0x7ffb56873670>]"
      ]
     },
     "execution_count": 44,
     "metadata": {},
     "output_type": "execute_result"
    },
    {
     "data": {
      "image/png": "[encoded data removed]",
      "text/plain": [
       "<Figure size 432x288 with 1 Axes>"
      ]
     },
     "metadata": {
      "needs_background": "light"
     },
     "output_type": "display_data"
    }
   ],
   "source": [
    "plt.plot([5000,7500,10000,12500,15000,17500,20000], times_1)"
   ]
  },
  {
   "cell_type": "markdown",
   "metadata": {},
   "source": [
    "Creating full list"
   ]
  },
  {
   "cell_type": "code",
   "execution_count": 45,
   "metadata": {
    "scrolled": true
   },
   "outputs": [
    {
     "data": {
      "text/plain": [
       "[<matplotlib.lines.Line2D at 0x7ffb6ed80e50>]"
      ]
     },
     "execution_count": 45,
     "metadata": {},
     "output_type": "execute_result"
    },
    {
     "data": {
      "image/png": "[encoded data removed]",
      "text/plain": [
       "<Figure size 432x288 with 1 Axes>"
      ]
     },
     "metadata": {
      "needs_background": "light"
     },
     "output_type": "display_data"
    }
   ],
   "source": [
    "plt.plot([5000,7500,10000,12500,15000,17500,20000], times_2)"
   ]
  },
  {
   "cell_type": "markdown",
   "metadata": {},
   "source": [
    "### On graph density"
   ]
  },
  {
   "cell_type": "code",
   "execution_count": 48,
   "metadata": {},
   "outputs": [
    {
     "name": "stderr",
     "output_type": "stream",
     "text": [
      "100%|██████████| 7/7 [03:02<00:00, 26.00s/it]\n"
     ]
    }
   ],
   "source": [
    "times_1 = []\n",
    "times_2 = []\n",
    "\n",
    "for density in tqdm([0.01, 0.02, 0.03, 0.04, 0.05, 0.06, 0.07]):\n",
    "    er_flag_path = Path(\"data/timing/density/ER_\" + str(density) + \".flag\")\n",
    "    er_matrix_path = er_flag_path.with_suffix('.pkl')\n",
    "    er_count_path = er_flag_path.with_name(\"ER_\" + str(density) + \"-count.h5\")\n",
    "    er_matrix = load_sparse_matrix(er_matrix_path)\n",
    "    er_simplex_file = h5py.File(er_count_path, 'r')\n",
    "    \n",
    "    pool = mp.Pool()\n",
    "    er_arrays, er_links = prepare_shared_memory(er_matrix, 'er_')\n",
    "    simplex_iterator = iter(er_simplex_file['Cells_2'][:10000])\n",
    "    mp_iterator = product(simplex_iterator, [er_arrays])\n",
    "    start = time()\n",
    "    # Retrieving dag2 sets of vertices\n",
    "    results = pool.imap(get_dag2_signature, mp_iterator)\n",
    "    dags2 = []\n",
    "    for elem in results:\n",
    "        dags2.append(elem)\n",
    "    end1 = time()\n",
    "    times_1.append(end1-start)\n",
    "    # Retrieving all dag2 subgraphs\n",
    "    true_dags = []\n",
    "    removed_list = []\n",
    "    for simplex in dags2:\n",
    "        for dag2 in simplex:\n",
    "            for signature in get_combinations(dag2[1]):\n",
    "                if (\n",
    "                    np.all(signature) and\n",
    "                    np.all([not (np.array(dag2[0]) == elem).all() for elem in removed_list])\n",
    "                ):\n",
    "                    removed_list.append( np.concatenate(\n",
    "                            (dag2[0][:-2], [dag2[0][-1]] + [dag2[0][-2]])\n",
    "                            )\n",
    "                        )\n",
    "                else:\n",
    "                    true_dags.append(\n",
    "                        (dag2[0],\n",
    "                        signature)\n",
    "                    )\n",
    "    \n",
    "    end2 = time()\n",
    "    times_2.append(end2-end1)\n",
    "    \n",
    "    for element in er_links:\n",
    "        element.unlink()"
   ]
  },
  {
   "cell_type": "markdown",
   "metadata": {},
   "source": [
    "Retrieving targets and signatures"
   ]
  },
  {
   "cell_type": "code",
   "execution_count": 49,
   "metadata": {
    "scrolled": true
   },
   "outputs": [
    {
     "data": {
      "text/plain": [
       "[<matplotlib.lines.Line2D at 0x7ffb6c2d60a0>]"
      ]
     },
     "execution_count": 49,
     "metadata": {},
     "output_type": "execute_result"
    },
    {
     "data": {
      "image/png": "[encoded data removed]",
      "text/plain": [
       "<Figure size 432x288 with 1 Axes>"
      ]
     },
     "metadata": {
      "needs_background": "light"
     },
     "output_type": "display_data"
    }
   ],
   "source": [
    "plt.plot([0.01, 0.02, 0.03, 0.04, 0.05, 0.06, 0.07], times_1)"
   ]
  },
  {
   "cell_type": "markdown",
   "metadata": {},
   "source": [
    "Creating full list"
   ]
  },
  {
   "cell_type": "code",
   "execution_count": 50,
   "metadata": {
    "scrolled": false
   },
   "outputs": [
    {
     "data": {
      "text/plain": [
       "[<matplotlib.lines.Line2D at 0x7ffb565bcfa0>]"
      ]
     },
     "execution_count": 50,
     "metadata": {},
     "output_type": "execute_result"
    },
    {
     "data": {
      "image/png": "[encoded data removed]",
      "text/plain": [
       "<Figure size 432x288 with 1 Axes>"
      ]
     },
     "metadata": {
      "needs_background": "light"
     },
     "output_type": "display_data"
    }
   ],
   "source": [
    "plt.plot([5000,7500,10000,12500,15000,17500,20000], times_2)"
   ]
  },
  {
   "cell_type": "markdown",
   "metadata": {},
   "source": [
    "### On number of simplices"
   ]
  },
  {
   "cell_type": "code",
   "execution_count": 52,
   "metadata": {},
   "outputs": [
    {
     "name": "stderr",
     "output_type": "stream",
     "text": [
      "100%|██████████| 6/6 [03:16<00:00, 32.77s/it]\n"
     ]
    }
   ],
   "source": [
    "times_1 = []\n",
    "times_2 = []\n",
    "density = 0.02\n",
    "\n",
    "for n_simplices in tqdm([10000,20000,30000,40000,50000,60000]):\n",
    "    er_flag_path = Path(\"data/timing/density/ER_\" + str(density) + \".flag\")\n",
    "    er_matrix_path = er_flag_path.with_suffix('.pkl')\n",
    "    er_count_path = er_flag_path.with_name(\"ER_\" + str(density) + \"-count.h5\")\n",
    "    er_matrix = load_sparse_matrix(er_matrix_path)\n",
    "    er_simplex_file = h5py.File(er_count_path, 'r')\n",
    "    \n",
    "    pool = mp.Pool()\n",
    "    er_arrays, er_links = prepare_shared_memory(er_matrix, 'er_')\n",
    "    simplex_iterator = iter(er_simplex_file['Cells_2'][:n_simplices])\n",
    "    mp_iterator = product(simplex_iterator, [er_arrays])\n",
    "    start = time()\n",
    "    # Retrieving dag2 sets of vertices\n",
    "    results = pool.imap(get_dag2_signature, mp_iterator)\n",
    "    dags2 = []\n",
    "    for elem in results:\n",
    "        dags2.append(elem)\n",
    "    end1 = time()\n",
    "    times_1.append(end1-start)\n",
    "    # Retrieving all dag2 subgraphs\n",
    "    true_dags = []\n",
    "    removed_list = []\n",
    "    for simplex in dags2:\n",
    "        for dag2 in simplex:\n",
    "            for signature in get_combinations(dag2[1]):\n",
    "                if (\n",
    "                    np.all(signature) and\n",
    "                    np.all([not (np.array(dag2[0]) == elem).all() for elem in removed_list])\n",
    "                ):\n",
    "                    removed_list.append( np.concatenate(\n",
    "                            (dag2[0][:-2], [dag2[0][-1]] + [dag2[0][-2]])\n",
    "                            )\n",
    "                        )\n",
    "                else:\n",
    "                    true_dags.append(\n",
    "                        (dag2[0],\n",
    "                        signature)\n",
    "                    )\n",
    "    \n",
    "    end2 = time()\n",
    "    times_2.append(end2-end1)\n",
    "    \n",
    "    for element in er_links:\n",
    "        element.unlink()"
   ]
  },
  {
   "cell_type": "markdown",
   "metadata": {},
   "source": [
    "Retrieving targets and signatures"
   ]
  },
  {
   "cell_type": "code",
   "execution_count": 53,
   "metadata": {},
   "outputs": [
    {
     "data": {
      "text/plain": [
       "[<matplotlib.lines.Line2D at 0x7ffb4c206b50>]"
      ]
     },
     "execution_count": 53,
     "metadata": {},
     "output_type": "execute_result"
    },
    {
     "data": {
      "image/png": "[encoded data removed]",
      "text/plain": [
       "<Figure size 432x288 with 1 Axes>"
      ]
     },
     "metadata": {
      "needs_background": "light"
     },
     "output_type": "display_data"
    }
   ],
   "source": [
    "plt.plot([10000,20000,30000,40000,50000,60000], times_1)"
   ]
  },
  {
   "cell_type": "markdown",
   "metadata": {},
   "source": [
    "Creating full list"
   ]
  },
  {
   "cell_type": "code",
   "execution_count": 54,
   "metadata": {
    "scrolled": true
   },
   "outputs": [
    {
     "data": {
      "text/plain": [
       "[<matplotlib.lines.Line2D at 0x7ffb4c1c5dc0>]"
      ]
     },
     "execution_count": 54,
     "metadata": {},
     "output_type": "execute_result"
    },
    {
     "data": {
      "image/png": "[encoded data removed]",
      "text/plain": [
       "<Figure size 432x288 with 1 Axes>"
      ]
     },
     "metadata": {
      "needs_background": "light"
     },
     "output_type": "display_data"
    }
   ],
   "source": [
    "plt.plot([10000,20000,30000,40000,50000,60000], times_2)"
   ]
  },
  {
   "cell_type": "markdown",
   "metadata": {},
   "source": [
    "### On simplex dimension"
   ]
  },
  {
   "cell_type": "code",
   "execution_count": 58,
   "metadata": {},
   "outputs": [
    {
     "name": "stderr",
     "output_type": "stream",
     "text": [
      "100%|██████████| 4/4 [01:57<00:00, 29.44s/it]\n"
     ]
    }
   ],
   "source": [
    "times_1 = []\n",
    "times_2 = []\n",
    "density = 0.04\n",
    "n_simplices = 10000\n",
    "\n",
    "for dimension in tqdm([1,2,3,4]):\n",
    "    er_flag_path = Path(\"data/timing/density/ER_\" + str(density) + \".flag\")\n",
    "    er_matrix_path = er_flag_path.with_suffix('.pkl')\n",
    "    er_count_path = er_flag_path.with_name(\"ER_\" + str(density) + \"-count.h5\")\n",
    "    er_matrix = load_sparse_matrix(er_matrix_path)\n",
    "    er_simplex_file = h5py.File(er_count_path, 'r')\n",
    "    \n",
    "    pool = mp.Pool()\n",
    "    er_arrays, er_links = prepare_shared_memory(er_matrix, 'er_')\n",
    "    simplex_iterator = iter(er_simplex_file['Cells_'+str(dimension)][:n_simplices])\n",
    "    mp_iterator = product(simplex_iterator, [er_arrays])\n",
    "    start = time()\n",
    "    # Retrieving dag2 sets of vertices\n",
    "    results = pool.imap(get_dag2_signature, mp_iterator)\n",
    "    dags2 = []\n",
    "    for elem in results:\n",
    "        dags2.append(elem)\n",
    "    end1 = time()\n",
    "    times_1.append(end1-start)\n",
    "    # Retrieving all dag2 subgraphs\n",
    "    true_dags = []\n",
    "    removed_list = []\n",
    "    for simplex in dags2:\n",
    "        for dag2 in simplex:\n",
    "            for signature in get_combinations(dag2[1]):\n",
    "                if (\n",
    "                    np.all(signature) and\n",
    "                    np.all([not (np.array(dag2[0]) == elem).all() for elem in removed_list])\n",
    "                ):\n",
    "                    removed_list.append( np.concatenate(\n",
    "                            (dag2[0][:-2], [dag2[0][-1]] + [dag2[0][-2]])\n",
    "                            )\n",
    "                        )\n",
    "                else:\n",
    "                    true_dags.append(\n",
    "                        (dag2[0],\n",
    "                        signature)\n",
    "                    )\n",
    "    \n",
    "    end2 = time()\n",
    "    times_2.append(end2-end1)\n",
    "    \n",
    "    for element in er_links:\n",
    "        element.unlink()"
   ]
  },
  {
   "cell_type": "markdown",
   "metadata": {},
   "source": [
    "Retreiving targets and signatures"
   ]
  },
  {
   "cell_type": "code",
   "execution_count": 59,
   "metadata": {},
   "outputs": [
    {
     "data": {
      "text/plain": [
       "[<matplotlib.lines.Line2D at 0x7ffb564e7df0>]"
      ]
     },
     "execution_count": 59,
     "metadata": {},
     "output_type": "execute_result"
    },
    {
     "data": {
      "image/png": "[encoded data removed]",
      "text/plain": [
       "<Figure size 432x288 with 1 Axes>"
      ]
     },
     "metadata": {
      "needs_background": "light"
     },
     "output_type": "display_data"
    }
   ],
   "source": [
    "plt.plot([1,2,3,4], times_1)"
   ]
  },
  {
   "cell_type": "markdown",
   "metadata": {},
   "source": [
    "Creating full list "
   ]
  },
  {
   "cell_type": "markdown",
   "metadata": {},
   "source": [
    "There's some problem in the list enumeration for dimension 1 that still has to be solved."
   ]
  },
  {
   "cell_type": "code",
   "execution_count": 60,
   "metadata": {
    "scrolled": false
   },
   "outputs": [
    {
     "data": {
      "text/plain": [
       "[<matplotlib.lines.Line2D at 0x7ffb56c04eb0>]"
      ]
     },
     "execution_count": 60,
     "metadata": {},
     "output_type": "execute_result"
    },
    {
     "data": {
      "image/png": "[encoded data removed]",
      "text/plain": [
       "<Figure size 432x288 with 1 Axes>"
      ]
     },
     "metadata": {
      "needs_background": "light"
     },
     "output_type": "display_data"
    }
   ],
   "source": [
    "plt.plot([1,2,3,4], times_2)"
   ]
  },
  {
   "cell_type": "code",
   "execution_count": null,
   "metadata": {},
   "outputs": [],
   "source": []
  }
 ],
 "metadata": {
  "kernelspec": {
   "display_name": "Python 3",
   "language": "python",
   "name": "python3"
  },
  "language_info": {
   "codemirror_mode": {
    "name": "ipython",
    "version": 3
   },
   "file_extension": ".py",
   "mimetype": "text/x-python",
   "name": "python",
   "nbconvert_exporter": "python",
   "pygments_lexer": "ipython3",
   "version": "3.8.5"
  }
 },
 "nbformat": 4,
 "nbformat_minor": 4
}
