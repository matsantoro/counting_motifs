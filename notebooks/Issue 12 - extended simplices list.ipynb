{
 "cells": [
  {
   "cell_type": "code",
   "execution_count": 1,
   "metadata": {},
   "outputs": [],
   "source": [
    "from robust_motifs.data import import_connectivity_matrix, save_count_graph_from_matrix, MPDataManager\n",
    "from pathlib import Path"
   ]
  },
  {
   "cell_type": "code",
   "execution_count": 2,
   "metadata": {},
   "outputs": [],
   "source": [
    "from robust_motifs.counting import get_extended_simplices_dense"
   ]
  },
  {
   "cell_type": "code",
   "execution_count": 3,
   "metadata": {},
   "outputs": [],
   "source": [
    "import multiprocessing as mp"
   ]
  },
  {
   "cell_type": "code",
   "execution_count": 4,
   "metadata": {},
   "outputs": [],
   "source": [
    "import time"
   ]
  },
  {
   "cell_type": "code",
   "execution_count": 5,
   "metadata": {},
   "outputs": [],
   "source": [
    "from tqdm import tqdm"
   ]
  },
  {
   "cell_type": "code",
   "execution_count": 6,
   "metadata": {},
   "outputs": [],
   "source": [
    "import numpy as np"
   ]
  },
  {
   "cell_type": "code",
   "execution_count": 7,
   "metadata": {},
   "outputs": [],
   "source": [
    "import matplotlib.pyplot as plt"
   ]
  },
  {
   "cell_type": "code",
   "execution_count": 8,
   "metadata": {},
   "outputs": [],
   "source": [
    "import sys"
   ]
  },
  {
   "cell_type": "code",
   "execution_count": 9,
   "metadata": {},
   "outputs": [
    {
     "name": "stderr",
     "output_type": "stream",
     "text": [
      "100%|██████████| 55/55 [00:12<00:00,  4.54it/s]\n"
     ]
    }
   ],
   "source": [
    "pool = mp.Pool()\n",
    "m = import_connectivity_matrix(dataframe = False, type = 'csr')"
   ]
  },
  {
   "cell_type": "code",
   "execution_count": 10,
   "metadata": {},
   "outputs": [],
   "source": [
    "save_path = Path(\"data/temp/test/list/conn.flag\")\n",
    "manager = MPDataManager(save_path, m)"
   ]
  },
  {
   "cell_type": "code",
   "execution_count": 11,
   "metadata": {
    "scrolled": true
   },
   "outputs": [
    {
     "name": "stderr",
     "output_type": "stream",
     "text": [
      "7648079it [02:11, 58328.20it/s] \n",
      "73036616it [21:41, 56111.24it/s] \n",
      "59945205it [17:44, 56315.22it/s] \n",
      "6599529it [01:55, 57105.79it/s] \n",
      "133115it [00:04, 28319.07it/s]\n",
      "529it [00:02, 254.52it/s]\n"
     ]
    }
   ],
   "source": [
    "for dimension in range(1,7):\n",
    "    array = np.empty(shape = (manager._count_file['Cells_' + str(dimension)].shape[0]*15,),dtype = np.int16,)\n",
    "    indptr = np.empty(shape = (manager._count_file['Cells_' + str(dimension)].shape[0]+1,),dtype = np.int32,)\n",
    "    indptr[0] = 0\n",
    "    count = 0\n",
    "    with tqdm() as pbar:\n",
    "        for iterator in manager.mp_chunks(dimension, 10**7):\n",
    "            r = pool.imap(get_extended_simplices_dense, iterator, chunksize = 5000)\n",
    "            for element in r:\n",
    "                count += 1\n",
    "                indptr[count] = indptr[count-1] + len(element)\n",
    "                array[indptr[count-1]:indptr[count]] = element\n",
    "                pbar.update()\n",
    "    path = Path(\"data/temp/test/list/esd\"+str(dimension)+\".npz\")\n",
    "    np.savez_compressed(open(path, 'wb'), array[:indptr[-1]])\n",
    "    path = Path(\"data/temp/test/list/esd\"+str(dimension)+\"indptr.npz\")\n",
    "    np.savez_compressed(open(path, 'wb'), indptr)\n",
    "    del array\n",
    "    del indptr"
   ]
  },
  {
   "cell_type": "code",
   "execution_count": null,
   "metadata": {},
   "outputs": [],
   "source": []
  },
  {
   "cell_type": "code",
   "execution_count": null,
   "metadata": {},
   "outputs": [],
   "source": []
  },
  {
   "cell_type": "code",
   "execution_count": null,
   "metadata": {},
   "outputs": [],
   "source": []
  }
 ],
 "metadata": {
  "kernelspec": {
   "display_name": "Python 3",
   "language": "python",
   "name": "python3"
  },
  "language_info": {
   "codemirror_mode": {
    "name": "ipython",
    "version": 3
   },
   "file_extension": ".py",
   "mimetype": "text/x-python",
   "name": "python",
   "nbconvert_exporter": "python",
   "pygments_lexer": "ipython3",
   "version": "3.8.5"
  }
 },
 "nbformat": 4,
 "nbformat_minor": 4
}
