{
 "cells": [
  {
   "cell_type": "markdown",
   "metadata": {},
   "source": [
    "## Counting simplex-containing DAG2."
   ]
  },
  {
   "cell_type": "markdown",
   "metadata": {},
   "source": [
    "In this notebook, we will try to count all simplex-containing DAG2, that is DAG2 robust motifs on n nodes that contain an n-1 simplex."
   ]
  },
  {
   "cell_type": "markdown",
   "metadata": {},
   "source": [
    "### Imports "
   ]
  },
  {
   "cell_type": "markdown",
   "metadata": {},
   "source": [
    "Core imports"
   ]
  },
  {
   "cell_type": "code",
   "execution_count": 1,
   "metadata": {},
   "outputs": [],
   "source": [
    "import multiprocessing as mp\n",
    "from robust_motifs.custom_mp import prepare_shared_memory\n",
    "from robust_motifs.counting import get_dag2_signature\n",
    "from robust_motifs.data import import_connectivity_matrix, save_er_graph, load_sparse_matrix"
   ]
  },
  {
   "cell_type": "markdown",
   "metadata": {},
   "source": [
    "File tools"
   ]
  },
  {
   "cell_type": "code",
   "execution_count": 2,
   "metadata": {},
   "outputs": [],
   "source": [
    "from pathlib import Path\n",
    "import pickle\n",
    "import h5py"
   ]
  },
  {
   "cell_type": "markdown",
   "metadata": {},
   "source": [
    "Drawing tools"
   ]
  },
  {
   "cell_type": "code",
   "execution_count": 3,
   "metadata": {},
   "outputs": [],
   "source": [
    "from robust_motifs.plot import plot_matrices\n",
    "from robust_motifs.utilities import get_pos"
   ]
  },
  {
   "cell_type": "markdown",
   "metadata": {},
   "source": [
    "Other tools"
   ]
  },
  {
   "cell_type": "code",
   "execution_count": 4,
   "metadata": {},
   "outputs": [],
   "source": [
    "import scipy.sparse as sp\n",
    "import numpy as np\n",
    "from itertools import product\n",
    "from time import time"
   ]
  },
  {
   "cell_type": "markdown",
   "metadata": {},
   "source": [
    "# Layer 4"
   ]
  },
  {
   "cell_type": "markdown",
   "metadata": {},
   "source": [
    "### Layer 4 data"
   ]
  },
  {
   "cell_type": "markdown",
   "metadata": {},
   "source": [
    "Import single layer adjacency data."
   ]
  },
  {
   "cell_type": "code",
   "execution_count": 5,
   "metadata": {},
   "outputs": [
    {
     "name": "stderr",
     "output_type": "stream",
     "text": [
      "100%|██████████| 55/55 [00:15<00:00,  3.47it/s]\n",
      "100%|██████████| 12/12 [00:00<00:00, 32.53it/s]\n"
     ]
    }
   ],
   "source": [
    "matrix_path = Path('data/tesi/test_instance/cons_locs_pathways_mc0_Column.h5')\n",
    "A = import_connectivity_matrix(matrix_path)\n",
    "l4_zones = [col for col in A.columns.levels[0] if col.startswith('L4')]\n",
    "l4_matrix = import_connectivity_matrix(matrix_path, zones = l4_zones, dataframe = False, type = 'csr')"
   ]
  },
  {
   "cell_type": "code",
   "execution_count": 6,
   "metadata": {},
   "outputs": [
    {
     "data": {
      "text/plain": [
       "<4660x4660 sparse matrix of type '<class 'numpy.bool_'>'\n",
       "\twith 346232 stored elements in Compressed Sparse Row format>"
      ]
     },
     "execution_count": 6,
     "metadata": {},
     "output_type": "execute_result"
    }
   ],
   "source": [
    "l4_matrix"
   ]
  },
  {
   "cell_type": "markdown",
   "metadata": {},
   "source": [
    "Import simplex data."
   ]
  },
  {
   "cell_type": "code",
   "execution_count": 7,
   "metadata": {},
   "outputs": [],
   "source": [
    "count_path = matrix_path.with_name('L4-count.h5')\n",
    "l4_simplex_file = h5py.File(count_path, 'r')"
   ]
  },
  {
   "cell_type": "markdown",
   "metadata": {},
   "source": [
    "Import corresponding ER graph data. (not yet used)"
   ]
  },
  {
   "cell_type": "code",
   "execution_count": 8,
   "metadata": {},
   "outputs": [],
   "source": [
    "er_matrix_path = Path('data/tesi/test_instance/ER_L4_adj.pkl')\n",
    "er_count_path = er_matrix_path.with_name('ER_L4-count.h5')\n",
    "er_matrix = sp.csr_matrix(pickle.load(open(er_matrix_path, 'rb')), dtype = np.int8)\n",
    "er_simplex_file = h5py.File(er_count_path, 'r')\n"
   ]
  },
  {
   "cell_type": "markdown",
   "metadata": {},
   "source": [
    "### Preparing multiprocessing tools"
   ]
  },
  {
   "cell_type": "markdown",
   "metadata": {},
   "source": [
    "To speed up execution and avoid memory leaks, the full connectivity matrix is shared in sparse format between simplices using the multiprocessing module."
   ]
  },
  {
   "cell_type": "code",
   "execution_count": 9,
   "metadata": {},
   "outputs": [],
   "source": [
    "pool = mp.Pool()\n",
    "l4_arrays, l4_links = prepare_shared_memory(l4_matrix, 'l4')\n",
    "er_arrays, er_links = prepare_shared_memory(er_matrix, 'er')"
   ]
  },
  {
   "cell_type": "code",
   "execution_count": 10,
   "metadata": {},
   "outputs": [
    {
     "data": {
      "text/plain": [
       "{'data': {'name': 'l4data',\n",
       "  'size': 346232,\n",
       "  'type': dtype('bool'),\n",
       "  'factor': 1},\n",
       " 'indices': {'name': 'l4indices',\n",
       "  'size': 1384928,\n",
       "  'type': dtype('int32'),\n",
       "  'factor': 4},\n",
       " 'indptr': {'name': 'l4indptr',\n",
       "  'size': 18644,\n",
       "  'type': dtype('int32'),\n",
       "  'factor': 4}}"
      ]
     },
     "execution_count": 10,
     "metadata": {},
     "output_type": "execute_result"
    }
   ],
   "source": [
    "l4_arrays"
   ]
  },
  {
   "cell_type": "code",
   "execution_count": 11,
   "metadata": {},
   "outputs": [
    {
     "data": {
      "text/plain": [
       "{'data': {'name': 'erdata',\n",
       "  'size': 347275,\n",
       "  'type': dtype('int8'),\n",
       "  'factor': 1},\n",
       " 'indices': {'name': 'erindices',\n",
       "  'size': 1389100,\n",
       "  'type': dtype('int32'),\n",
       "  'factor': 4},\n",
       " 'indptr': {'name': 'erindptr',\n",
       "  'size': 18644,\n",
       "  'type': dtype('int32'),\n",
       "  'factor': 4}}"
      ]
     },
     "execution_count": 11,
     "metadata": {},
     "output_type": "execute_result"
    }
   ],
   "source": [
    "er_arrays"
   ]
  },
  {
   "cell_type": "markdown",
   "metadata": {},
   "source": [
    "### Count - dimension 4 simplices"
   ]
  },
  {
   "cell_type": "markdown",
   "metadata": {},
   "source": [
    "Dimension 4 has a low number of simplices, but enough to see iterations speed."
   ]
  },
  {
   "cell_type": "code",
   "execution_count": 12,
   "metadata": {},
   "outputs": [],
   "source": [
    "simplex_iterator = iter(l4_simplex_file['Cells_4'][:10000])\n",
    "mp_iterator = product(simplex_iterator, [l4_arrays])\n",
    "results = pool.imap(get_dag2_signature, mp_iterator)"
   ]
  },
  {
   "cell_type": "code",
   "execution_count": 13,
   "metadata": {
    "scrolled": true
   },
   "outputs": [
    {
     "name": "stdout",
     "output_type": "stream",
     "text": [
      "6.315743446350098\n"
     ]
    }
   ],
   "source": [
    "a = time()\n",
    "dags2 = []\n",
    "for elem in results:\n",
    "    dags2.append(elem)\n",
    "print(time()-a)"
   ]
  },
  {
   "cell_type": "code",
   "execution_count": 14,
   "metadata": {},
   "outputs": [],
   "source": [
    "def get_combinations(boolean_array):\n",
    "    elems = [[False,True] if elem else [False] for elem in boolean_array]\n",
    "    return product(*elems)"
   ]
  },
  {
   "cell_type": "markdown",
   "metadata": {},
   "source": [
    "At this point, we have all the DAGs-containing sets of nodes with the 'maximal' ones. We just need to convert the list to the full list with all interesting sub-graphs"
   ]
  },
  {
   "cell_type": "code",
   "execution_count": 15,
   "metadata": {},
   "outputs": [],
   "source": [
    "true_dags = []\n",
    "removed_list = []\n",
    "for simplex in dags2:\n",
    "    for dag2 in simplex:\n",
    "        for signature in get_combinations(dag2[1]):\n",
    "            if (\n",
    "                np.all(signature) and\n",
    "                np.all([not (np.array(dag2[0]) == elem).all() for elem in removed_list])\n",
    "            ):\n",
    "                removed_list.append( np.concatenate(\n",
    "                        (dag2[0][:-2], [dag2[0][-1]] + [dag2[0][-2]])\n",
    "                        )\n",
    "                    )\n",
    "            else:\n",
    "                true_dags.append(\n",
    "                    (dag2[0],\n",
    "                    signature)\n",
    "                )"
   ]
  },
  {
   "cell_type": "code",
   "execution_count": 16,
   "metadata": {},
   "outputs": [
    {
     "data": {
      "text/plain": [
       "[array([ 488,  580,  436, 1056, 4470,  907], dtype=int32),\n",
       " array([ 488,  580, 1056,  436, 4470,  907], dtype=int32),\n",
       " array([ 536, 2577,  877, 2868, 2024,  712], dtype=int32),\n",
       " array([ 964, 2156, 3042, 4088, 1227,  463], dtype=int32)]"
      ]
     },
     "execution_count": 16,
     "metadata": {},
     "output_type": "execute_result"
    }
   ],
   "source": [
    "removed_list"
   ]
  },
  {
   "cell_type": "code",
   "execution_count": 17,
   "metadata": {
    "scrolled": true
   },
   "outputs": [
    {
     "data": {
      "text/plain": [
       "10000"
      ]
     },
     "execution_count": 17,
     "metadata": {},
     "output_type": "execute_result"
    }
   ],
   "source": [
    "len(dags2)"
   ]
  },
  {
   "cell_type": "code",
   "execution_count": 18,
   "metadata": {},
   "outputs": [
    {
     "data": {
      "text/plain": [
       "71148"
      ]
     },
     "execution_count": 18,
     "metadata": {},
     "output_type": "execute_result"
    }
   ],
   "source": [
    "len(true_dags)"
   ]
  },
  {
   "cell_type": "markdown",
   "metadata": {},
   "source": [
    "Some simplices were removed because they would have been counted twice. They are the \"bisimplices\"."
   ]
  },
  {
   "cell_type": "code",
   "execution_count": 19,
   "metadata": {},
   "outputs": [
    {
     "data": {
      "image/png": "[encoded data removed]",
      "text/plain": [
       "<Figure size 1008x144 with 4 Axes>"
      ]
     },
     "metadata": {},
     "output_type": "display_data"
    }
   ],
   "source": [
    "matrix_list = [l4_matrix[removed_simplex].T[removed_simplex].T for removed_simplex in removed_list]\n",
    "plot_matrices(matrix_list, {\n",
    "    'pos': list(get_pos(6)),\n",
    "    'node_color': ['blue','blue','blue','blue','yellow','green']})"
   ]
  },
  {
   "cell_type": "markdown",
   "metadata": {},
   "source": [
    "### Closing temporary memory"
   ]
  },
  {
   "cell_type": "code",
   "execution_count": 20,
   "metadata": {},
   "outputs": [],
   "source": [
    "for element in l4_links:\n",
    "    element.unlink\n",
    "for element in er_links:\n",
    "    element.unlink"
   ]
  },
  {
   "cell_type": "markdown",
   "metadata": {},
   "source": [
    "# All layers"
   ]
  },
  {
   "cell_type": "markdown",
   "metadata": {},
   "source": [
    "Import adjacency data."
   ]
  },
  {
   "cell_type": "code",
   "execution_count": 21,
   "metadata": {},
   "outputs": [
    {
     "name": "stderr",
     "output_type": "stream",
     "text": [
      "100%|██████████| 55/55 [00:14<00:00,  3.75it/s]\n"
     ]
    }
   ],
   "source": [
    "matrix_path = Path('data/tesi/test_instance/cons_locs_pathways_mc0_Column.h5')\n",
    "matrix = import_connectivity_matrix(matrix_path, dataframe = False, type = 'csr')"
   ]
  },
  {
   "cell_type": "markdown",
   "metadata": {},
   "source": [
    "Import simplex data."
   ]
  },
  {
   "cell_type": "code",
   "execution_count": 22,
   "metadata": {},
   "outputs": [],
   "source": [
    "count_path = matrix_path.with_name('column-count.h5')\n",
    "simplex_file = h5py.File(count_path, 'r')"
   ]
  },
  {
   "cell_type": "markdown",
   "metadata": {},
   "source": [
    "Create ER data"
   ]
  },
  {
   "cell_type": "code",
   "execution_count": 23,
   "metadata": {
    "scrolled": true
   },
   "outputs": [
    {
     "data": {
      "text/plain": [
       "<31346x31346 sparse matrix of type '<class 'numpy.bool_'>'\n",
       "\twith 7648079 stored elements in Compressed Sparse Row format>"
      ]
     },
     "execution_count": 23,
     "metadata": {},
     "output_type": "execute_result"
    }
   ],
   "source": [
    "matrix"
   ]
  },
  {
   "cell_type": "code",
   "execution_count": 24,
   "metadata": {},
   "outputs": [],
   "source": [
    "er_flag_path = Path('data/tesi/test_instance/ER_column.flag')"
   ]
  },
  {
   "cell_type": "code",
   "execution_count": 25,
   "metadata": {},
   "outputs": [
    {
     "name": "stderr",
     "output_type": "stream",
     "text": [
      "100%|██████████| 31346/31346 [00:00<00:00, 2809707.72it/s]\n",
      "7648250it [00:13, 555096.47it/s]\n"
     ]
    }
   ],
   "source": [
    "save_er_graph(er_flag_path, 31346, 7648079/31346/31346)"
   ]
  },
  {
   "cell_type": "markdown",
   "metadata": {},
   "source": [
    "Use flagser"
   ]
  },
  {
   "cell_type": "code",
   "execution_count": 26,
   "metadata": {},
   "outputs": [
    {
     "name": "stdout",
     "output_type": "stream",
     "text": [
      "\u001b[K# [euler_characteristic cell_count_dim_0 cell_count_dim_1 ...]\n",
      "6694893 31346 7648250 14526853 215084 28\n"
     ]
    }
   ],
   "source": [
    "!flagser-count data/tesi/test_instance/ER_column.flag --out data/tesi/test_instance/ER_column-count.h5"
   ]
  },
  {
   "cell_type": "markdown",
   "metadata": {},
   "source": [
    "Import data"
   ]
  },
  {
   "cell_type": "code",
   "execution_count": 27,
   "metadata": {
    "scrolled": true
   },
   "outputs": [],
   "source": [
    "er_matrix_path = er_flag_path.with_suffix('.pkl')\n",
    "er_count_path = er_flag_path.with_name('ER_column-count.h5')\n",
    "er_matrix = load_sparse_matrix(er_matrix_path)\n",
    "er_simplex_file = h5py.File(er_count_path, 'r')\n"
   ]
  },
  {
   "cell_type": "markdown",
   "metadata": {},
   "source": [
    "### Preparing multiprocessing tools"
   ]
  },
  {
   "cell_type": "code",
   "execution_count": 28,
   "metadata": {},
   "outputs": [],
   "source": [
    "pool = mp.Pool()\n",
    "arrays, links = prepare_shared_memory(matrix, 'whole_')\n",
    "er_arrays, er_links = prepare_shared_memory(er_matrix, 'er_')"
   ]
  },
  {
   "cell_type": "code",
   "execution_count": 29,
   "metadata": {},
   "outputs": [
    {
     "data": {
      "text/plain": [
       "{'data': {'name': 'whole_data',\n",
       "  'size': 7648079,\n",
       "  'type': dtype('bool'),\n",
       "  'factor': 1},\n",
       " 'indices': {'name': 'whole_indices',\n",
       "  'size': 30592316,\n",
       "  'type': dtype('int32'),\n",
       "  'factor': 4},\n",
       " 'indptr': {'name': 'whole_indptr',\n",
       "  'size': 125388,\n",
       "  'type': dtype('int32'),\n",
       "  'factor': 4}}"
      ]
     },
     "execution_count": 29,
     "metadata": {},
     "output_type": "execute_result"
    }
   ],
   "source": [
    "arrays"
   ]
  },
  {
   "cell_type": "code",
   "execution_count": 30,
   "metadata": {},
   "outputs": [
    {
     "data": {
      "text/plain": [
       "{'data': {'name': 'er_data',\n",
       "  'size': 61186000,\n",
       "  'type': dtype('int64'),\n",
       "  'factor': 8},\n",
       " 'indices': {'name': 'er_indices',\n",
       "  'size': 30593000,\n",
       "  'type': dtype('int32'),\n",
       "  'factor': 4},\n",
       " 'indptr': {'name': 'er_indptr',\n",
       "  'size': 125388,\n",
       "  'type': dtype('int32'),\n",
       "  'factor': 4}}"
      ]
     },
     "execution_count": 30,
     "metadata": {},
     "output_type": "execute_result"
    }
   ],
   "source": [
    "er_arrays"
   ]
  },
  {
   "cell_type": "markdown",
   "metadata": {},
   "source": [
    "### Count - dimension 5 simplices"
   ]
  },
  {
   "cell_type": "code",
   "execution_count": 31,
   "metadata": {},
   "outputs": [
    {
     "data": {
      "text/plain": [
       "133115"
      ]
     },
     "execution_count": 31,
     "metadata": {},
     "output_type": "execute_result"
    }
   ],
   "source": [
    "len(simplex_file['Cells_5'])"
   ]
  },
  {
   "cell_type": "markdown",
   "metadata": {},
   "source": [
    "Dimension 5 has a low number of simplices, but enough to see iterations speed."
   ]
  },
  {
   "cell_type": "code",
   "execution_count": 32,
   "metadata": {},
   "outputs": [],
   "source": [
    "simplex_iterator = iter(simplex_file['Cells_5'][:50000])\n",
    "mp_iterator = product(simplex_iterator, [arrays])\n",
    "results = pool.imap(get_dag2_signature, mp_iterator)"
   ]
  },
  {
   "cell_type": "code",
   "execution_count": 33,
   "metadata": {
    "scrolled": true
   },
   "outputs": [
    {
     "name": "stdout",
     "output_type": "stream",
     "text": [
      "215.29449224472046\n"
     ]
    }
   ],
   "source": [
    "a = time()\n",
    "dags2 = []\n",
    "for elem in results:\n",
    "    dags2.append(elem)\n",
    "print(time() - a)"
   ]
  },
  {
   "cell_type": "code",
   "execution_count": 34,
   "metadata": {},
   "outputs": [],
   "source": [
    "def get_combinations(boolean_array):\n",
    "    elems = [[False,True] if elem else [False] for elem in boolean_array]\n",
    "    return product(*elems)"
   ]
  },
  {
   "cell_type": "code",
   "execution_count": 35,
   "metadata": {},
   "outputs": [],
   "source": [
    "true_dags = []\n",
    "removed_list = []\n",
    "for simplex in dags2:\n",
    "    for dag2 in simplex:\n",
    "        for signature in get_combinations(dag2[1]):\n",
    "            if (\n",
    "                np.all(signature) and\n",
    "                np.all([not (np.array(dag2[0]) == elem).all() for elem in removed_list])\n",
    "            ):\n",
    "                removed_list.append( np.concatenate(\n",
    "                        (dag2[0][:-2], [dag2[0][-1]] + [dag2[0][-2]])\n",
    "                        )\n",
    "                    )\n",
    "            else:\n",
    "                true_dags.append(\n",
    "                    (dag2[0],\n",
    "                    signature)\n",
    "                )"
   ]
  },
  {
   "cell_type": "code",
   "execution_count": 36,
   "metadata": {},
   "outputs": [
    {
     "data": {
      "text/plain": [
       "[array([12623, 21419, 22821, 19943, 22415, 21058, 13843], dtype=int32),\n",
       " array([15005, 16987, 30513, 17543, 15199, 31284, 14524], dtype=int32),\n",
       " array([15923, 14806, 28898, 30915, 30156, 24819, 14885], dtype=int32),\n",
       " array([15923, 14806, 30915, 28898, 30156, 24819, 14885], dtype=int32),\n",
       " array([15923, 28898, 26854, 30915, 30156, 24819, 14885], dtype=int32)]"
      ]
     },
     "execution_count": 36,
     "metadata": {},
     "output_type": "execute_result"
    }
   ],
   "source": [
    "removed_list"
   ]
  },
  {
   "cell_type": "code",
   "execution_count": 37,
   "metadata": {
    "scrolled": true
   },
   "outputs": [
    {
     "data": {
      "text/plain": [
       "50000"
      ]
     },
     "execution_count": 37,
     "metadata": {},
     "output_type": "execute_result"
    }
   ],
   "source": [
    "len(dags2)"
   ]
  },
  {
   "cell_type": "code",
   "execution_count": 38,
   "metadata": {},
   "outputs": [
    {
     "data": {
      "text/plain": [
       "1036583"
      ]
     },
     "execution_count": 38,
     "metadata": {},
     "output_type": "execute_result"
    }
   ],
   "source": [
    "len(true_dags)"
   ]
  },
  {
   "cell_type": "code",
   "execution_count": 39,
   "metadata": {},
   "outputs": [
    {
     "data": {
      "image/png": "[encoded data removed]",
      "text/plain": [
       "<Figure size 1008x144 with 5 Axes>"
      ]
     },
     "metadata": {},
     "output_type": "display_data"
    }
   ],
   "source": [
    "matrix_list = [matrix[removed_simplex].T[removed_simplex].T for removed_simplex in removed_list]\n",
    "plot_matrices(matrix_list, {\n",
    "    'pos': list(get_pos(7)),\n",
    "    'node_color': ['blue','blue','blue','blue','blue','yellow','green']})"
   ]
  },
  {
   "cell_type": "markdown",
   "metadata": {},
   "source": [
    "### Closing temporary memory"
   ]
  },
  {
   "cell_type": "code",
   "execution_count": 40,
   "metadata": {},
   "outputs": [],
   "source": [
    "for element in links:\n",
    "    element.unlink\n",
    "for element in er_links:\n",
    "    element.unlink"
   ]
  },
  {
   "cell_type": "code",
   "execution_count": null,
   "metadata": {},
   "outputs": [],
   "source": []
  }
 ],
 "metadata": {
  "kernelspec": {
   "display_name": "Python 3",
   "language": "python",
   "name": "python3"
  },
  "language_info": {
   "codemirror_mode": {
    "name": "ipython",
    "version": 3
   },
   "file_extension": ".py",
   "mimetype": "text/x-python",
   "name": "python",
   "nbconvert_exporter": "python",
   "pygments_lexer": "ipython3",
   "version": "3.8.5"
  }
 },
 "nbformat": 4,
 "nbformat_minor": 4
}
