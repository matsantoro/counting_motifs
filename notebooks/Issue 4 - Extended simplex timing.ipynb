{
 "cells": [
  {
   "cell_type": "code",
   "execution_count": 1,
   "metadata": {},
   "outputs": [],
   "source": [
    "from robust_motifs.timing import Timer\n",
    "from robust_motifs.data import save_count_er_graph, save_count_graph_from_matrix, import_connectivity_matrix\n",
    "from pathlib import Path"
   ]
  },
  {
   "cell_type": "code",
   "execution_count": 2,
   "metadata": {},
   "outputs": [],
   "source": [
    "import numpy as np"
   ]
  },
  {
   "cell_type": "code",
   "execution_count": 3,
   "metadata": {},
   "outputs": [],
   "source": [
    "import seaborn as sns\n",
    "import matplotlib.pyplot as plt"
   ]
  },
  {
   "cell_type": "code",
   "execution_count": 4,
   "metadata": {},
   "outputs": [],
   "source": [
    "from tqdm import tqdm"
   ]
  },
  {
   "cell_type": "markdown",
   "metadata": {},
   "source": [
    "## Timing simple counting of extended simplices (no save)"
   ]
  },
  {
   "cell_type": "markdown",
   "metadata": {},
   "source": [
    "### ER Number of nodes"
   ]
  },
  {
   "cell_type": "code",
   "execution_count": 5,
   "metadata": {
    "scrolled": true
   },
   "outputs": [
    {
     "name": "stderr",
     "output_type": "stream",
     "text": [
      "100%|██████████| 3000/3000 [00:00<00:00, 2536366.06it/s]\n",
      "69408it [00:00, 563373.63it/s]\n",
      "100%|██████████| 4000/4000 [00:00<00:00, 3198706.58it/s]\n",
      "123139it [00:00, 663228.29it/s]\n",
      "100%|██████████| 5000/5000 [00:00<00:00, 3173656.17it/s]\n",
      "192128it [00:00, 658277.77it/s]\n",
      "100%|██████████| 6000/6000 [00:00<00:00, 3269137.96it/s]\n",
      "277894it [00:00, 675772.21it/s]\n",
      "100%|██████████| 7000/7000 [00:00<00:00, 3321657.20it/s]\n",
      "377305it [00:00, 667808.51it/s]\n",
      "100%|██████████| 8000/8000 [00:00<00:00, 3341409.28it/s]\n",
      "493106it [00:00, 680187.23it/s]\n",
      "100%|██████████| 9000/9000 [00:00<00:00, 3259540.28it/s]\n",
      "623628it [00:00, 680170.67it/s]\n",
      "100%|██████████| 10000/10000 [00:00<00:00, 3165512.45it/s]\n",
      "769771it [00:01, 669674.25it/s]\n",
      "100%|██████████| 11000/11000 [00:00<00:00, 3376562.06it/s]\n",
      "930782it [00:01, 638657.65it/s]\n",
      "100%|██████████| 12000/12000 [00:00<00:00, 3350752.15it/s]\n",
      "1108239it [00:01, 692759.36it/s]\n",
      "100%|██████████| 13000/13000 [00:00<00:00, 3261706.77it/s]\n",
      "1303527it [00:01, 685246.66it/s]\n",
      "100%|██████████| 14000/14000 [00:00<00:00, 3367759.58it/s]\n",
      "1510680it [00:02, 693335.44it/s]\n",
      "100%|██████████| 15000/15000 [00:00<00:00, 3152663.86it/s]\n",
      "1730915it [00:02, 673297.12it/s]\n",
      "100%|██████████| 16000/16000 [00:00<00:00, 3261670.18it/s]\n",
      "1971349it [00:02, 685798.82it/s]\n",
      "100%|██████████| 17000/17000 [00:00<00:00, 2445490.55it/s]\n",
      "2226183it [00:03, 678637.09it/s]\n",
      "100%|██████████| 18000/18000 [00:00<00:00, 3403546.66it/s]\n",
      "2496866it [00:03, 672048.02it/s]\n",
      "100%|██████████| 19000/19000 [00:00<00:00, 3414386.29it/s]\n",
      "2780993it [00:04, 666052.71it/s]\n",
      "100%|██████████| 20000/20000 [00:00<00:00, 3324459.24it/s]\n",
      "3076401it [00:04, 684678.74it/s]\n"
     ]
    }
   ],
   "source": [
    "ns_nodes = np.arange(3000,20001,1000)\n",
    "results = []\n",
    "for n_nodes in np.arange(3000,20001,1000):\n",
    "    path = Path(\"data/timing/n_nodes/ER_\"+str(n_nodes)+'.flag')\n",
    "    path.parent.mkdir(exist_ok=True, parents=True)\n",
    "    save_count_er_graph(path, n_nodes, density = 0.0077)\n",
    "    timer = Timer(path.with_suffix(\".pkl\"), overwrite = False)\n",
    "    time, prep, memory = timer.time_mp(n_simplices = 1000)\n",
    "    results.append((np.mean(time), np.std(time)))"
   ]
  },
  {
   "cell_type": "code",
   "execution_count": 6,
   "metadata": {},
   "outputs": [
    {
     "data": {
      "text/plain": [
       "Text(0, 0.5, 'Seconds/1000 simplices')"
      ]
     },
     "execution_count": 6,
     "metadata": {},
     "output_type": "execute_result"
    },
    {
     "data": {
      "image/png": "[encoded data removed]",
      "text/plain": [
       "<Figure size 432x288 with 1 Axes>"
      ]
     },
     "metadata": {
      "needs_background": "light"
     },
     "output_type": "display_data"
    }
   ],
   "source": [
    "fig = plt.figure()\n",
    "plt.errorbar(ns_nodes, [result[0] for result in results], yerr = [result[1] for result in results])\n",
    "plt.xlabel(\"Number of nodes\")\n",
    "plt.ylabel(\"Seconds/1000 simplices\")"
   ]
  },
  {
   "cell_type": "code",
   "execution_count": 7,
   "metadata": {},
   "outputs": [],
   "source": [
    "fig.savefig(\"images/es-counting-nodes\", transparent = False, facecolor = 'w')"
   ]
  },
  {
   "cell_type": "markdown",
   "metadata": {},
   "source": [
    "### ER Density"
   ]
  },
  {
   "cell_type": "code",
   "execution_count": 8,
   "metadata": {},
   "outputs": [
    {
     "name": "stderr",
     "output_type": "stream",
     "text": [
      "100%|██████████| 5000/5000 [00:00<00:00, 3073200.47it/s]\n",
      "24903it [00:00, 644431.54it/s]\n",
      "100%|██████████| 5000/5000 [00:00<00:00, 2791364.30it/s]\n",
      "49967it [00:00, 652019.86it/s]\n",
      "100%|██████████| 5000/5000 [00:00<00:00, 2914330.18it/s]\n",
      "75035it [00:00, 666210.00it/s]\n",
      "100%|██████████| 5000/5000 [00:00<00:00, 3041554.75it/s]\n",
      "99996it [00:00, 610387.34it/s]\n",
      "100%|██████████| 5000/5000 [00:00<00:00, 2673574.71it/s]\n",
      "125862it [00:00, 642027.78it/s]\n",
      "100%|██████████| 5000/5000 [00:00<00:00, 3051290.56it/s]\n",
      "149890it [00:00, 650215.46it/s]\n",
      "100%|██████████| 5000/5000 [00:00<00:00, 3209599.02it/s]\n",
      "175117it [00:00, 647165.43it/s]\n",
      "100%|██████████| 5000/5000 [00:00<00:00, 3135693.78it/s]\n",
      "200334it [00:00, 645349.40it/s]\n",
      "100%|██████████| 5000/5000 [00:00<00:00, 3171736.24it/s]\n",
      "225876it [00:00, 654494.53it/s]\n",
      "100%|██████████| 5000/5000 [00:00<00:00, 3223907.76it/s]\n",
      "249719it [00:00, 662368.11it/s]\n",
      "100%|██████████| 5000/5000 [00:00<00:00, 3160741.52it/s]\n",
      "274979it [00:00, 670738.85it/s]\n",
      "100%|██████████| 5000/5000 [00:00<00:00, 3198828.55it/s]\n",
      "300249it [00:00, 661280.64it/s]\n",
      "100%|██████████| 5000/5000 [00:00<00:00, 3203715.25it/s]\n",
      "324555it [00:00, 632826.68it/s]\n",
      "100%|██████████| 5000/5000 [00:00<00:00, 3124481.53it/s]\n",
      "350000it [00:00, 660874.17it/s]\n"
     ]
    }
   ],
   "source": [
    "densities = np.arange(0.001, 0.015, 0.001)\n",
    "results = []\n",
    "for density in densities:\n",
    "    path = Path(\"data/timing/density/ER_\"+str(n_nodes)+'.flag')\n",
    "    path.parent.mkdir(exist_ok=True, parents=True)\n",
    "    save_count_er_graph(path, 5000, density)\n",
    "    timer = Timer(path.with_suffix(\".pkl\"), overwrite = False)\n",
    "    time, prep, memory = timer.time_mp(n_simplices = 1000)\n",
    "    results.append((np.mean(time), np.std(time)))"
   ]
  },
  {
   "cell_type": "code",
   "execution_count": 9,
   "metadata": {
    "scrolled": false
   },
   "outputs": [
    {
     "data": {
      "text/plain": [
       "Text(0, 0.5, 'Seconds/1000 simplices')"
      ]
     },
     "execution_count": 9,
     "metadata": {},
     "output_type": "execute_result"
    },
    {
     "data": {
      "image/png": "[encoded data removed]",
      "text/plain": [
       "<Figure size 432x288 with 1 Axes>"
      ]
     },
     "metadata": {
      "needs_background": "light"
     },
     "output_type": "display_data"
    }
   ],
   "source": [
    "fig = plt.figure()\n",
    "plt.errorbar(densities, [result[0] for result in results], yerr = [result[1] for result in results])\n",
    "plt.xlabel(\"Densities\")\n",
    "plt.ylabel(\"Seconds/1000 simplices\")"
   ]
  },
  {
   "cell_type": "code",
   "execution_count": 10,
   "metadata": {},
   "outputs": [],
   "source": [
    "fig.savefig(\"images/es-counting-densities\", transparent = False, facecolor = 'w')"
   ]
  },
  {
   "cell_type": "markdown",
   "metadata": {},
   "source": [
    "### Column n_simplices"
   ]
  },
  {
   "cell_type": "code",
   "execution_count": null,
   "metadata": {},
   "outputs": [],
   "source": []
  },
  {
   "cell_type": "code",
   "execution_count": 11,
   "metadata": {},
   "outputs": [
    {
     "name": "stderr",
     "output_type": "stream",
     "text": [
      "100%|██████████| 15/15 [16:54<00:00, 67.63s/it] \n"
     ]
    }
   ],
   "source": [
    "n_simplices = np.arange(1000, 15001, 1000)\n",
    "results = []\n",
    "memories = []\n",
    "for n in tqdm(n_simplices):\n",
    "    path = Path(\"data/timing/column/column.flag\")\n",
    "    timer = Timer(path.with_suffix(\".pkl\"), overwrite = False)\n",
    "    time, prep, memory = timer.time_mp(n_simplices = n, n_iterations = 5)\n",
    "    results.append((np.mean(time), np.std(time)))\n",
    "    memories.append((np.mean(memory), np.std(memory)))"
   ]
  },
  {
   "cell_type": "code",
   "execution_count": 12,
   "metadata": {},
   "outputs": [
    {
     "data": {
      "image/png": "[encoded data removed]",
      "text/plain": [
       "<Figure size 432x288 with 1 Axes>"
      ]
     },
     "metadata": {
      "needs_background": "light"
     },
     "output_type": "display_data"
    }
   ],
   "source": [
    "fig = plt.figure()\n",
    "plt.errorbar(n_simplices, [result[0] for result in results], yerr = [result[1] for result in results])\n",
    "plt.xlabel(\"Simplices\")\n",
    "plt.ylabel(\"Seconds\")\n",
    "plt.grid()"
   ]
  },
  {
   "cell_type": "code",
   "execution_count": 13,
   "metadata": {},
   "outputs": [],
   "source": [
    "fig.savefig(\"images/es-counting-simplices\", transparent = False, facecolor = 'w')"
   ]
  },
  {
   "cell_type": "code",
   "execution_count": 14,
   "metadata": {},
   "outputs": [
    {
     "data": {
      "image/png": "[encoded data removed]",
      "text/plain": [
       "<Figure size 432x288 with 1 Axes>"
      ]
     },
     "metadata": {
      "needs_background": "light"
     },
     "output_type": "display_data"
    }
   ],
   "source": [
    "fig = plt.figure()\n",
    "plt.errorbar(n_simplices, [result[0] for result in memories], yerr = [result[1] for result in memories])\n",
    "plt.xlabel(\"n_simplices\")\n",
    "plt.ylabel(\"Bytes/1000 simplices\")\n",
    "plt.grid()"
   ]
  },
  {
   "cell_type": "code",
   "execution_count": 15,
   "metadata": {},
   "outputs": [],
   "source": [
    "fig.savefig(\"images/es-counting-simplices-memory\", transparent = False, facecolor = 'w')"
   ]
  },
  {
   "cell_type": "markdown",
   "metadata": {},
   "source": [
    "### Column dimension"
   ]
  },
  {
   "cell_type": "code",
   "execution_count": 16,
   "metadata": {},
   "outputs": [
    {
     "name": "stderr",
     "output_type": "stream",
     "text": [
      "100%|██████████| 5/5 [02:01<00:00, 24.24s/it]\n"
     ]
    }
   ],
   "source": [
    "dimension = range(1,6)\n",
    "results = []\n",
    "memories = []\n",
    "for n in tqdm(dimension):\n",
    "    path = Path(\"data/timing/column/column.flag\")\n",
    "    timer = Timer(path.with_suffix(\".pkl\"), overwrite = False)\n",
    "    time, prep, memory = timer.time_mp(n_simplices = 1000, dimension=n)\n",
    "    results.append((np.mean(time), np.std(time)))\n",
    "    memories.append((np.mean(memory), np.std(memory)))"
   ]
  },
  {
   "cell_type": "code",
   "execution_count": 17,
   "metadata": {},
   "outputs": [
    {
     "data": {
      "text/plain": [
       "Text(0, 0.5, 'Seconds/1000 simplices')"
      ]
     },
     "execution_count": 17,
     "metadata": {},
     "output_type": "execute_result"
    },
    {
     "data": {
      "image/png": "[encoded data removed]",
      "text/plain": [
       "<Figure size 432x288 with 1 Axes>"
      ]
     },
     "metadata": {
      "needs_background": "light"
     },
     "output_type": "display_data"
    }
   ],
   "source": [
    "fig = plt.figure()\n",
    "plt.errorbar(dimension, [result[0] for result in results], yerr = [result[1] for result in results])\n",
    "plt.xlabel(\"Dimension\")\n",
    "plt.ylabel(\"Seconds/1000 simplices\")"
   ]
  },
  {
   "cell_type": "code",
   "execution_count": 18,
   "metadata": {},
   "outputs": [],
   "source": [
    "fig.savefig(\"images/es-counting-dimension\", transparent = False, facecolor = 'w')"
   ]
  },
  {
   "cell_type": "code",
   "execution_count": 19,
   "metadata": {},
   "outputs": [
    {
     "data": {
      "text/plain": [
       "Text(0, 0.5, 'Bytes/1000 simplices')"
      ]
     },
     "execution_count": 19,
     "metadata": {},
     "output_type": "execute_result"
    },
    {
     "data": {
      "image/png": "[encoded data removed]",
      "text/plain": [
       "<Figure size 432x288 with 1 Axes>"
      ]
     },
     "metadata": {
      "needs_background": "light"
     },
     "output_type": "display_data"
    }
   ],
   "source": [
    "fig = plt.figure()\n",
    "plt.errorbar(dimension, [result[0] for result in memories], yerr = [result[1] for result in memories])\n",
    "plt.xlabel(\"Dimension\")\n",
    "plt.ylabel(\"Bytes/1000 simplices\")"
   ]
  },
  {
   "cell_type": "code",
   "execution_count": 20,
   "metadata": {},
   "outputs": [],
   "source": [
    "fig.savefig(\"images/es-counting-dimension-memory\", transparent = False, facecolor = 'w')"
   ]
  },
  {
   "cell_type": "code",
   "execution_count": null,
   "metadata": {},
   "outputs": [],
   "source": []
  }
 ],
 "metadata": {
  "kernelspec": {
   "display_name": "Python 3",
   "language": "python",
   "name": "python3"
  },
  "language_info": {
   "codemirror_mode": {
    "name": "ipython",
    "version": 3
   },
   "file_extension": ".py",
   "mimetype": "text/x-python",
   "name": "python",
   "nbconvert_exporter": "python",
   "pygments_lexer": "ipython3",
   "version": "3.8.5"
  }
 },
 "nbformat": 4,
 "nbformat_minor": 4
}
