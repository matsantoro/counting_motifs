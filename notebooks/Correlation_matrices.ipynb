{
 "cells": [
  {
   "cell_type": "code",
   "execution_count": 1,
   "metadata": {},
   "outputs": [],
   "source": [
    "import h5py\n",
    "from pathlib import Path\n",
    "import numpy as np\n",
    "import scipy.sparse as sp"
   ]
  },
  {
   "cell_type": "code",
   "execution_count": 2,
   "metadata": {},
   "outputs": [],
   "source": [
    "from robust_motifs.data import load_sparse_matrix_from_pkl"
   ]
  },
  {
   "cell_type": "code",
   "execution_count": 3,
   "metadata": {},
   "outputs": [],
   "source": [
    "import pickle"
   ]
  },
  {
   "cell_type": "code",
   "execution_count": 4,
   "metadata": {},
   "outputs": [],
   "source": [
    "from tqdm import tqdm"
   ]
  },
  {
   "cell_type": "code",
   "execution_count": 5,
   "metadata": {},
   "outputs": [],
   "source": [
    "a = h5py.File(Path(\"data/activity/spikes/spont_spike_matrices.h5\"))"
   ]
  },
  {
   "cell_type": "code",
   "execution_count": 6,
   "metadata": {},
   "outputs": [],
   "source": [
    "b = h5py.File(Path(\"data/activity/spikes/evoked_spike_matrices.h5\"))"
   ]
  },
  {
   "cell_type": "code",
   "execution_count": 7,
   "metadata": {},
   "outputs": [
    {
     "data": {
      "text/plain": [
       "<HDF5 file \"evoked_spike_matrices.h5\" (mode r)>"
      ]
     },
     "execution_count": 7,
     "metadata": {},
     "output_type": "execute_result"
    }
   ],
   "source": [
    "b"
   ]
  },
  {
   "cell_type": "code",
   "execution_count": 20,
   "metadata": {},
   "outputs": [
    {
     "name": "stderr",
     "output_type": "stream",
     "text": [
      "<ipython-input-20-49688f659c31>:1: RuntimeWarning: divide by zero encountered in true_divide\n",
      "  np.isinf(np.array([1,2,3])/0)\n"
     ]
    },
    {
     "data": {
      "text/plain": [
       "array([ True,  True,  True])"
      ]
     },
     "execution_count": 20,
     "metadata": {},
     "output_type": "execute_result"
    }
   ],
   "source": [
    "np.isinf(np.array([1,2,3])/0)"
   ]
  },
  {
   "cell_type": "code",
   "execution_count": 21,
   "metadata": {},
   "outputs": [
    {
     "name": "stderr",
     "output_type": "stream",
     "text": [
      "100%|██████████| 3/3 [01:19<00:00, 26.47s/it]\n"
     ]
    }
   ],
   "source": [
    "for key in tqdm(a['spikes'].keys()):\n",
    "    p = Path(\"data/activity/spikes/spont/\" + key)\n",
    "    p.mkdir(exist_ok=True, parents=True)\n",
    "    nm = np.array(a['spikes'][key]['spike_matrix'])\n",
    "    nm = nm - np.expand_dims(np.mean(nm, axis = 1), axis = 1)\n",
    "    matrix = nm.dot(nm.T)\n",
    "    sds = np.sqrt(np.diag(matrix))\n",
    "    matrix = matrix/np.expand_dims(sds, axis = 1)\n",
    "    matrix = matrix/np.expand_dims(sds, axis = 0)\n",
    "    matrix[np.isinf(matrix)] = 0\n",
    "    p1 = p / \"pearson_correlation.pkl\"\n",
    "    p2 = p / \"gids.pkl\"\n",
    "    \n",
    "    with open(p1, 'wb') as file:\n",
    "        pickle.dump(matrix, file)\n",
    "    with open(p2, 'wb') as file:\n",
    "        pickle.dump(np.array(a['spikes'][key]['gids']), file)"
   ]
  },
  {
   "cell_type": "code",
   "execution_count": 22,
   "metadata": {},
   "outputs": [
    {
     "name": "stderr",
     "output_type": "stream",
     "text": [
      "  0%|          | 0/20 [00:00<?, ?it/s]<ipython-input-22-add6242d329a>:8: RuntimeWarning: invalid value encountered in true_divide\n",
      "  matrix = matrix/np.expand_dims(sds, axis = 1)\n",
      "<ipython-input-22-add6242d329a>:9: RuntimeWarning: invalid value encountered in true_divide\n",
      "  matrix = matrix/np.expand_dims(sds, axis = 0)\n",
      "100%|██████████| 20/20 [08:43<00:00, 26.16s/it]\n"
     ]
    }
   ],
   "source": [
    "for key in tqdm(b['spikes'].keys()):\n",
    "    p = Path(\"data/activity/spikes/evoked/\" + key)\n",
    "    p.mkdir(exist_ok=True, parents=True)\n",
    "    nm = np.array(b['spikes'][key]['spike_matrix'])\n",
    "    nm = nm - np.expand_dims(np.mean(nm, axis = 1), axis = 1)\n",
    "    matrix = nm.dot(nm.T)\n",
    "    sds = np.sqrt(np.diag(matrix))\n",
    "    matrix = matrix/np.expand_dims(sds, axis = 1)\n",
    "    matrix = matrix/np.expand_dims(sds, axis = 0)\n",
    "    matrix[np.isinf(matrix)] = 0\n",
    "    p1 = p / \"pearson_correlation.pkl\"\n",
    "    p2 = p / \"gids.pkl\"\n",
    "    with open(p1, 'wb') as file:\n",
    "        pickle.dump(matrix, file)\n",
    "    with open(p2, 'wb') as file:\n",
    "        pickle.dump(np.array(b['spikes'][key]['gids']), file)"
   ]
  },
  {
   "cell_type": "code",
   "execution_count": 23,
   "metadata": {},
   "outputs": [
    {
     "name": "stderr",
     "output_type": "stream",
     "text": [
      "100%|██████████| 3/3 [00:46<00:00, 15.64s/it]\n"
     ]
    }
   ],
   "source": [
    "for key in tqdm(a['spikes'].keys()):\n",
    "    p = Path(\"data/activity/spikes/spont/\" + key)\n",
    "    p.mkdir(exist_ok=True, parents=True)\n",
    "    nm = np.array(a['spikes'][key]['spike_matrix'])\n",
    "    nm = nm - np.expand_dims(np.mean(nm, axis = 1), axis = 1)\n",
    "    matrix = nm.dot(nm.T)\n",
    "    sds = np.sqrt(np.diag(matrix))\n",
    "    matrix = matrix/np.expand_dims(sds, axis = 1)\n",
    "    matrix = matrix/np.expand_dims(sds, axis = 0)\n",
    "    matrix[np.isinf(matrix)] = 0\n",
    "    p1 = p / \"cosine_correlation.pkl\"\n",
    "    p2 = p / \"gids.pkl\"\n",
    "    with open(p1, 'wb') as file:\n",
    "        pickle.dump(matrix, file)\n",
    "    with open(p2, 'wb') as file:\n",
    "        pickle.dump(np.array(a['spikes'][key]['gids']), file)"
   ]
  },
  {
   "cell_type": "code",
   "execution_count": 25,
   "metadata": {},
   "outputs": [
    {
     "name": "stderr",
     "output_type": "stream",
     "text": [
      "  0%|          | 0/20 [00:00<?, ?it/s]<ipython-input-25-f7f6ea2aaec9>:7: RuntimeWarning: invalid value encountered in true_divide\n",
      "  matrix = matrix/np.expand_dims(sds, axis = 1)\n",
      "<ipython-input-25-f7f6ea2aaec9>:8: RuntimeWarning: invalid value encountered in true_divide\n",
      "  matrix = matrix/np.expand_dims(sds, axis = 0)\n",
      "100%|██████████| 20/20 [08:00<00:00, 24.04s/it]\n"
     ]
    }
   ],
   "source": [
    "for key in tqdm(b['spikes'].keys()):\n",
    "    p = Path(\"data/activity/spikes/evoked/\" + key)\n",
    "    p.mkdir(exist_ok=True, parents=True)\n",
    "    nm = np.array(b['spikes'][key]['spike_matrix'])\n",
    "    matrix = nm.dot(nm.T)\n",
    "    sds = np.sqrt(np.diag(matrix))\n",
    "    matrix = matrix/np.expand_dims(sds, axis = 1)\n",
    "    matrix = matrix/np.expand_dims(sds, axis = 0)\n",
    "    matrix[np.isinf(matrix)] = 0\n",
    "    p1 = p / \"cosine_correlation.pkl\"\n",
    "    p2 = p / \"gids.pkl\"\n",
    "    with open(p1, 'wb') as file:\n",
    "        pickle.dump(matrix, file)\n",
    "    with open(p2, 'wb') as file:\n",
    "        pickle.dump(np.array(b['spikes'][key]['gids']), file)"
   ]
  },
  {
   "cell_type": "code",
   "execution_count": null,
   "metadata": {},
   "outputs": [],
   "source": []
  }
 ],
 "metadata": {
  "kernelspec": {
   "display_name": "Python 3",
   "language": "python",
   "name": "python3"
  },
  "language_info": {
   "codemirror_mode": {
    "name": "ipython",
    "version": 3
   },
   "file_extension": ".py",
   "mimetype": "text/x-python",
   "name": "python",
   "nbconvert_exporter": "python",
   "pygments_lexer": "ipython3",
   "version": "3.8.5"
  }
 },
 "nbformat": 4,
 "nbformat_minor": 4
}
