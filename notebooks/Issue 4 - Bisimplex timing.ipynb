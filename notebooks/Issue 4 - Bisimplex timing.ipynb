{
 "cells": [
  {
   "cell_type": "code",
   "execution_count": 1,
   "metadata": {},
   "outputs": [],
   "source": [
    "from robust_motifs.timing import Timer\n",
    "from robust_motifs.data import save_count_er_graph, save_count_graph_from_matrix, import_connectivity_matrix\n",
    "from pathlib import Path"
   ]
  },
  {
   "cell_type": "code",
   "execution_count": 2,
   "metadata": {},
   "outputs": [],
   "source": [
    "import numpy as np"
   ]
  },
  {
   "cell_type": "code",
   "execution_count": 3,
   "metadata": {},
   "outputs": [],
   "source": [
    "import seaborn as sns\n",
    "import matplotlib.pyplot as plt"
   ]
  },
  {
   "cell_type": "code",
   "execution_count": 4,
   "metadata": {},
   "outputs": [],
   "source": [
    "from tqdm import tqdm"
   ]
  },
  {
   "cell_type": "markdown",
   "metadata": {},
   "source": [
    "## Timing simple counting of extended simplices (no save)"
   ]
  },
  {
   "cell_type": "markdown",
   "metadata": {},
   "source": [
    "### ER Number of nodes"
   ]
  },
  {
   "cell_type": "code",
   "execution_count": 5,
   "metadata": {
    "scrolled": true
   },
   "outputs": [
    {
     "name": "stderr",
     "output_type": "stream",
     "text": [
      "100%|██████████| 3000/3000 [00:00<00:00, 2804929.11it/s]\n",
      "69314it [00:00, 610168.61it/s]\n",
      "100%|██████████| 4000/4000 [00:00<00:00, 3297408.81it/s]\n",
      "123913it [00:00, 622249.35it/s]\n",
      "100%|██████████| 5000/5000 [00:00<00:00, 3206164.20it/s]\n",
      "192565it [00:00, 628583.33it/s]\n",
      "100%|██████████| 6000/6000 [00:00<00:00, 3039350.72it/s]\n",
      "278114it [00:00, 625285.59it/s]\n",
      "100%|██████████| 7000/7000 [00:00<00:00, 3395804.77it/s]\n",
      "377201it [00:00, 634272.48it/s]\n",
      "100%|██████████| 8000/8000 [00:00<00:00, 3434786.77it/s]\n",
      "491778it [00:00, 628599.35it/s]\n",
      "100%|██████████| 9000/9000 [00:00<00:00, 3265461.59it/s]\n",
      "623524it [00:00, 639120.05it/s]\n",
      "100%|██████████| 10000/10000 [00:00<00:00, 3350618.31it/s]\n",
      "768426it [00:01, 645753.96it/s]\n",
      "100%|██████████| 11000/11000 [00:00<00:00, 3474459.22it/s]\n",
      "931306it [00:01, 625590.65it/s]\n",
      "100%|██████████| 12000/12000 [00:00<00:00, 3323976.23it/s]\n",
      "1108208it [00:01, 627958.91it/s]\n",
      "100%|██████████| 13000/13000 [00:00<00:00, 3342074.90it/s]\n",
      "1301680it [00:02, 648683.45it/s]\n",
      "100%|██████████| 14000/14000 [00:00<00:00, 3399343.29it/s]\n",
      "1509655it [00:02, 647796.67it/s]\n",
      "100%|██████████| 15000/15000 [00:00<00:00, 3362257.37it/s]\n",
      "1731510it [00:02, 642746.60it/s]\n",
      "100%|██████████| 16000/16000 [00:00<00:00, 3436369.71it/s]\n",
      "1971279it [00:03, 656057.26it/s]\n",
      "100%|██████████| 17000/17000 [00:00<00:00, 3326328.05it/s]\n",
      "2226359it [00:03, 631263.62it/s]\n",
      "100%|██████████| 18000/18000 [00:00<00:00, 3412160.90it/s]\n",
      "2494050it [00:03, 640324.42it/s]\n",
      "100%|██████████| 19000/19000 [00:00<00:00, 3260710.97it/s]\n",
      "2783035it [00:04, 636246.97it/s]\n",
      "100%|██████████| 20000/20000 [00:00<00:00, 3425459.59it/s]\n",
      "3080093it [00:04, 642958.64it/s]\n"
     ]
    }
   ],
   "source": [
    "ns_nodes = np.arange(3000,20001,1000)\n",
    "results = []\n",
    "for n_nodes in np.arange(3000,20001,1000):\n",
    "    path = Path(\"data/timing/n_nodes/ER_\"+str(n_nodes)+'.flag')\n",
    "    path.parent.mkdir(exist_ok=True, parents=True)\n",
    "    save_count_er_graph(path, n_nodes, density = 0.0077)\n",
    "    timer = Timer(path.with_suffix(\".pkl\"), overwrite = False)\n",
    "    time, prep, memory = timer.time_mp(n_simplices = 1000)\n",
    "    results.append((np.mean(time), np.std(time)))"
   ]
  },
  {
   "cell_type": "code",
   "execution_count": 6,
   "metadata": {},
   "outputs": [
    {
     "data": {
      "text/plain": [
       "Text(0, 0.5, 'Seconds/1000 simplices')"
      ]
     },
     "execution_count": 6,
     "metadata": {},
     "output_type": "execute_result"
    },
    {
     "data": {
      "image/png": "[encoded data removed]",
      "text/plain": [
       "<Figure size 432x288 with 1 Axes>"
      ]
     },
     "metadata": {
      "needs_background": "light"
     },
     "output_type": "display_data"
    }
   ],
   "source": [
    "fig = plt.figure()\n",
    "plt.errorbar(ns_nodes, [result[0] for result in results], yerr = [result[1] for result in results])\n",
    "plt.xlabel(\"Number of nodes\")\n",
    "plt.ylabel(\"Seconds/1000 simplices\")"
   ]
  },
  {
   "cell_type": "code",
   "execution_count": 7,
   "metadata": {},
   "outputs": [],
   "source": [
    "fig.savefig(\"bs-counting-nodes\", transparent = False, facecolor = 'w')"
   ]
  },
  {
   "cell_type": "markdown",
   "metadata": {},
   "source": [
    "### ER Density"
   ]
  },
  {
   "cell_type": "code",
   "execution_count": 8,
   "metadata": {},
   "outputs": [
    {
     "name": "stderr",
     "output_type": "stream",
     "text": [
      "100%|██████████| 5000/5000 [00:00<00:00, 3024447.65it/s]\n",
      "24891it [00:00, 598492.43it/s]\n",
      "100%|██████████| 5000/5000 [00:00<00:00, 3097255.94it/s]\n",
      "50045it [00:00, 613580.19it/s]\n",
      "100%|██████████| 5000/5000 [00:00<00:00, 3007531.91it/s]\n",
      "74873it [00:00, 615051.01it/s]\n",
      "100%|██████████| 5000/5000 [00:00<00:00, 3097713.44it/s]\n",
      "100324it [00:00, 624431.43it/s]\n",
      "100%|██████████| 5000/5000 [00:00<00:00, 3211565.08it/s]\n",
      "124322it [00:00, 622974.83it/s]\n",
      "100%|██████████| 5000/5000 [00:00<00:00, 1505493.18it/s]\n",
      "150120it [00:00, 624930.07it/s]\n",
      "100%|██████████| 5000/5000 [00:00<00:00, 2920824.51it/s]\n",
      "175360it [00:00, 588739.74it/s]\n",
      "100%|██████████| 5000/5000 [00:00<00:00, 3179912.05it/s]\n",
      "200046it [00:00, 616423.24it/s]\n",
      "100%|██████████| 5000/5000 [00:00<00:00, 3202736.71it/s]\n",
      "225517it [00:00, 626111.62it/s]\n",
      "100%|██████████| 5000/5000 [00:00<00:00, 3156459.96it/s]\n",
      "250603it [00:00, 633714.69it/s]\n",
      "100%|██████████| 5000/5000 [00:00<00:00, 3168381.93it/s]\n",
      "274769it [00:00, 629620.39it/s]\n",
      "100%|██████████| 5000/5000 [00:00<00:00, 3164079.66it/s]\n",
      "299768it [00:00, 628752.12it/s]\n",
      "100%|██████████| 5000/5000 [00:00<00:00, 1485129.95it/s]\n",
      "324364it [00:00, 619708.70it/s]\n",
      "100%|██████████| 5000/5000 [00:00<00:00, 3165512.45it/s]\n",
      "348445it [00:00, 633613.05it/s]\n"
     ]
    }
   ],
   "source": [
    "densities = np.arange(0.001, 0.015, 0.001)\n",
    "results = []\n",
    "for density in densities:\n",
    "    path = Path(\"data/timing/density/ER_\"+str(n_nodes)+'.flag')\n",
    "    path.parent.mkdir(exist_ok=True, parents=True)\n",
    "    save_count_er_graph(path, 5000, density)\n",
    "    timer = Timer(path.with_suffix(\".pkl\"), overwrite = False)\n",
    "    time, prep, memory = timer.time_mp(n_simplices = 1000)\n",
    "    results.append((np.mean(time), np.std(time)))"
   ]
  },
  {
   "cell_type": "code",
   "execution_count": 9,
   "metadata": {},
   "outputs": [
    {
     "data": {
      "text/plain": [
       "Text(0, 0.5, 'Seconds/1000 simplices')"
      ]
     },
     "execution_count": 9,
     "metadata": {},
     "output_type": "execute_result"
    },
    {
     "data": {
      "image/png": "[encoded data removed]",
      "text/plain": [
       "<Figure size 432x288 with 1 Axes>"
      ]
     },
     "metadata": {
      "needs_background": "light"
     },
     "output_type": "display_data"
    }
   ],
   "source": [
    "fig = plt.figure()\n",
    "plt.errorbar(densities, [result[0] for result in results], yerr = [result[1] for result in results])\n",
    "plt.xlabel(\"Densities\")\n",
    "plt.ylabel(\"Seconds/1000 simplices\")"
   ]
  },
  {
   "cell_type": "code",
   "execution_count": 10,
   "metadata": {},
   "outputs": [],
   "source": [
    "fig.savefig(\"bs-counting-densities\", transparent = False, facecolor = 'w')"
   ]
  },
  {
   "cell_type": "markdown",
   "metadata": {},
   "source": [
    "### Column n_simplices"
   ]
  },
  {
   "cell_type": "code",
   "execution_count": null,
   "metadata": {},
   "outputs": [],
   "source": []
  },
  {
   "cell_type": "code",
   "execution_count": 11,
   "metadata": {},
   "outputs": [
    {
     "name": "stderr",
     "output_type": "stream",
     "text": [
      "100%|██████████| 15/15 [22:05<00:00, 88.38s/it] \n"
     ]
    }
   ],
   "source": [
    "n_simplices = np.arange(1000, 15001, 1000)\n",
    "results = []\n",
    "memories = []\n",
    "for n in tqdm(n_simplices):\n",
    "    path = Path(\"data/timing/column/column.flag\")\n",
    "    timer = Timer(path.with_suffix(\".pkl\"), overwrite = False)\n",
    "    time, prep, memory = timer.time_mp(n_simplices = n, n_iterations = 5)\n",
    "    results.append((np.mean(time), np.std(time)))\n",
    "    memories.append((np.mean(memory), np.std(memory)))"
   ]
  },
  {
   "cell_type": "code",
   "execution_count": 12,
   "metadata": {},
   "outputs": [
    {
     "data": {
      "image/png": "[encoded data removed]",
      "text/plain": [
       "<Figure size 432x288 with 1 Axes>"
      ]
     },
     "metadata": {
      "needs_background": "light"
     },
     "output_type": "display_data"
    }
   ],
   "source": [
    "fig = plt.figure()\n",
    "plt.errorbar(n_simplices, [result[0] for result in results], yerr = [result[1] for result in results])\n",
    "plt.xlabel(\"Simplices\")\n",
    "plt.ylabel(\"Seconds\")\n",
    "plt.grid()"
   ]
  },
  {
   "cell_type": "code",
   "execution_count": 13,
   "metadata": {},
   "outputs": [],
   "source": [
    "fig.savefig(\"bs-counting-simplices\", transparent = False, facecolor = 'w')"
   ]
  },
  {
   "cell_type": "code",
   "execution_count": 17,
   "metadata": {},
   "outputs": [
    {
     "data": {
      "image/png": "[encoded data removed]",
      "text/plain": [
       "<Figure size 432x288 with 1 Axes>"
      ]
     },
     "metadata": {
      "needs_background": "light"
     },
     "output_type": "display_data"
    }
   ],
   "source": [
    "fig = plt.figure()\n",
    "plt.errorbar(n_simplices, [result[0] for result in memories], yerr = [result[1] for result in memories])\n",
    "plt.xlabel(\"n_simplices\")\n",
    "plt.ylabel(\"Bytes/1000 simplices\")\n",
    "plt.grid()"
   ]
  },
  {
   "cell_type": "code",
   "execution_count": null,
   "metadata": {},
   "outputs": [],
   "source": [
    "fig.savefig(\"bs-counting-simplices-memory\", transparent = False, facecolor = 'w')"
   ]
  },
  {
   "cell_type": "markdown",
   "metadata": {},
   "source": [
    "### Column dimension"
   ]
  },
  {
   "cell_type": "code",
   "execution_count": 18,
   "metadata": {},
   "outputs": [
    {
     "name": "stderr",
     "output_type": "stream",
     "text": [
      "100%|██████████| 5/5 [02:32<00:00, 30.58s/it]\n"
     ]
    }
   ],
   "source": [
    "dimension = range(1,6)\n",
    "results = []\n",
    "memories = []\n",
    "for n in tqdm(dimension):\n",
    "    path = Path(\"data/timing/column/column.flag\")\n",
    "    timer = Timer(path.with_suffix(\".pkl\"), overwrite = False)\n",
    "    time, prep, memory = timer.time_mp(n_simplices = 1000, dimension=n)\n",
    "    results.append((np.mean(time), np.std(time)))\n",
    "    memories.append((np.mean(memory), np.std(memory)))"
   ]
  },
  {
   "cell_type": "code",
   "execution_count": 19,
   "metadata": {},
   "outputs": [
    {
     "data": {
      "text/plain": [
       "Text(0, 0.5, 'Seconds/1000 simplices')"
      ]
     },
     "execution_count": 19,
     "metadata": {},
     "output_type": "execute_result"
    },
    {
     "data": {
      "image/png": "[encoded data removed]",
      "text/plain": [
       "<Figure size 432x288 with 1 Axes>"
      ]
     },
     "metadata": {
      "needs_background": "light"
     },
     "output_type": "display_data"
    }
   ],
   "source": [
    "fig = plt.figure()\n",
    "plt.errorbar(dimension, [result[0] for result in results], yerr = [result[1] for result in results])\n",
    "plt.xlabel(\"Dimension\")\n",
    "plt.ylabel(\"Seconds/1000 simplices\")"
   ]
  },
  {
   "cell_type": "code",
   "execution_count": 20,
   "metadata": {},
   "outputs": [],
   "source": [
    "fig.savefig(\"bs-counting-dimension\", transparent = False, facecolor = 'w')"
   ]
  },
  {
   "cell_type": "code",
   "execution_count": 21,
   "metadata": {},
   "outputs": [
    {
     "data": {
      "text/plain": [
       "Text(0, 0.5, 'Bytes/1000 simplices')"
      ]
     },
     "execution_count": 21,
     "metadata": {},
     "output_type": "execute_result"
    },
    {
     "data": {
      "image/png": "[encoded data removed]",
      "text/plain": [
       "<Figure size 432x288 with 1 Axes>"
      ]
     },
     "metadata": {
      "needs_background": "light"
     },
     "output_type": "display_data"
    }
   ],
   "source": [
    "fig = plt.figure()\n",
    "plt.errorbar(dimension, [result[0] for result in memories], yerr = [result[1] for result in memories])\n",
    "plt.xlabel(\"Dimension\")\n",
    "plt.ylabel(\"Bytes/1000 simplices\")"
   ]
  },
  {
   "cell_type": "code",
   "execution_count": 22,
   "metadata": {},
   "outputs": [],
   "source": [
    "fig.savefig(\"bs-counting-dimension-memory\", transparent = False, facecolor = 'w')"
   ]
  },
  {
   "cell_type": "code",
   "execution_count": null,
   "metadata": {},
   "outputs": [],
   "source": []
  }
 ],
 "metadata": {
  "kernelspec": {
   "display_name": "Python 3",
   "language": "python",
   "name": "python3"
  },
  "language_info": {
   "codemirror_mode": {
    "name": "ipython",
    "version": 3
   },
   "file_extension": ".py",
   "mimetype": "text/x-python",
   "name": "python",
   "nbconvert_exporter": "python",
   "pygments_lexer": "ipython3",
   "version": "3.8.5"
  }
 },
 "nbformat": 4,
 "nbformat_minor": 4
}
