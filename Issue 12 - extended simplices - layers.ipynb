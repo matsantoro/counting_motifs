{
 "cells": [
  {
   "cell_type": "code",
   "execution_count": 1,
   "metadata": {},
   "outputs": [],
   "source": [
    "from robust_motifs.data import import_connectivity_matrix, save_count_graph_from_matrix, MPDataManager\n",
    "from pathlib import Path"
   ]
  },
  {
   "cell_type": "code",
   "execution_count": 2,
   "metadata": {},
   "outputs": [],
   "source": [
    "from robust_motifs.counting import get_n_extended_simplices, get_n_extended_simplices_dense"
   ]
  },
  {
   "cell_type": "code",
   "execution_count": 3,
   "metadata": {},
   "outputs": [],
   "source": [
    "import multiprocessing as mp"
   ]
  },
  {
   "cell_type": "code",
   "execution_count": 4,
   "metadata": {},
   "outputs": [],
   "source": [
    "import time"
   ]
  },
  {
   "cell_type": "code",
   "execution_count": 5,
   "metadata": {},
   "outputs": [],
   "source": [
    "from tqdm import tqdm"
   ]
  },
  {
   "cell_type": "code",
   "execution_count": 6,
   "metadata": {},
   "outputs": [],
   "source": [
    "import numpy as np"
   ]
  },
  {
   "cell_type": "code",
   "execution_count": 7,
   "metadata": {},
   "outputs": [],
   "source": [
    "import matplotlib.pyplot as plt"
   ]
  },
  {
   "cell_type": "code",
   "execution_count": 8,
   "metadata": {},
   "outputs": [
    {
     "name": "stderr",
     "output_type": "stream",
     "text": [
      "100%|██████████| 55/55 [00:12<00:00,  4.54it/s]\n"
     ]
    }
   ],
   "source": [
    "pool = mp.Pool()\n",
    "dataframe = import_connectivity_matrix()"
   ]
  },
  {
   "cell_type": "code",
   "execution_count": 14,
   "metadata": {},
   "outputs": [
    {
     "name": "stderr",
     "output_type": "stream",
     "text": [
      "100%|██████████| 6/6 [00:00<00:00, 175.97it/s]\n",
      "100%|██████████| 6/6 [00:00<00:00, 85.09it/s]\n",
      "<ipython-input-14-cc164902c515>:32: RuntimeWarning: invalid value encountered in true_divide\n",
      "  ratios = np.array(results)/np.array(simplices)\n"
     ]
    },
    {
     "data": {
      "image/png": "[encoded data removed]",
      "text/plain": [
       "<Figure size 432x288 with 2 Axes>"
      ]
     },
     "metadata": {
      "needs_background": "light"
     },
     "output_type": "display_data"
    }
   ],
   "source": [
    "layer = 1\n",
    "zones = [zone for zone in dataframe.columns.levels[0].values if zone.startswith('L'+str(layer))]\n",
    "matrix = import_connectivity_matrix(zones = zones, dataframe = False, type = 'csr')\n",
    "save_path = Path(\"data/single_layers/L\"+str(layer) + \"/L\"+str(layer)+\".flag\")\n",
    "manager = MPDataManager(save_path, matrix)\n",
    "results = []\n",
    "simplices = []\n",
    "for dimension in tqdm(range(1,7)):\n",
    "    try:\n",
    "        iterator = manager.mp_np_simplex_iterator_dense(dimension = dimension, random = False)\n",
    "        r = pool.imap(get_n_extended_simplices_dense, iterator, chunksize=1000)\n",
    "        count = 0\n",
    "        for element in r:\n",
    "            count += element\n",
    "        results.append(count)\n",
    "    except:\n",
    "        results.append(0)\n",
    "    try:\n",
    "        simplices.append(len(manager._count_file['Cells_' + str(dimension)]))\n",
    "    except:\n",
    "        simplices.append(0)\n",
    "fig, axes = plt.subplots(1,2)\n",
    "fig.suptitle(\"Layer \"+str(layer))\n",
    "dims = np.arange(1,7)\n",
    "width = 0.35\n",
    "axes[0].set_title(\"Layer \"+str(layer))\n",
    "axes[0].bar(dims+width/2,results,width,label = 'Extended Simplices')\n",
    "axes[0].bar(dims-width/2,simplices,width,label = 'Simplices')\n",
    "axes[0].set_xticks(dims)\n",
    "axes[0].set_ylabel(\"Motifs\")\n",
    "axes[0].legend()\n",
    "ratios = np.array(results)/np.array(simplices)\n",
    "ratios[np.isnan(ratios)]=0\n",
    "axes[1].bar(range(1,7),ratios)\n",
    "axes[1].set_ylabel(\"ES/S ratio\")\n",
    "axes[1].set_xlabel(\"Dimension\")\n",
    "fig.savefig(\"es-layer-\"+str(layer))\n"
   ]
  },
  {
   "cell_type": "code",
   "execution_count": 15,
   "metadata": {},
   "outputs": [
    {
     "name": "stderr",
     "output_type": "stream",
     "text": [
      "100%|██████████| 10/10 [00:00<00:00, 19.00it/s]\n",
      "100%|██████████| 6/6 [00:40<00:00,  6.82s/it]\n",
      "<ipython-input-15-a8fcffbab1bb>:32: RuntimeWarning: invalid value encountered in true_divide\n",
      "  ratios = np.array(results)/np.array(simplices)\n"
     ]
    },
    {
     "data": {
      "image/png": "[encoded data removed]",
      "text/plain": [
       "<Figure size 432x288 with 2 Axes>"
      ]
     },
     "metadata": {
      "needs_background": "light"
     },
     "output_type": "display_data"
    }
   ],
   "source": [
    "layer = 23\n",
    "zones = [zone for zone in dataframe.columns.levels[0].values if zone.startswith('L'+str(layer))]\n",
    "matrix = import_connectivity_matrix(zones = zones, dataframe = False, type = 'csr')\n",
    "save_path = Path(\"data/single_layers/L\"+str(layer) + \"/L\"+str(layer)+\".flag\")\n",
    "manager = MPDataManager(save_path, matrix)\n",
    "results = []\n",
    "simplices = []\n",
    "for dimension in tqdm(range(1,7)):\n",
    "    try:\n",
    "        iterator = manager.mp_np_simplex_iterator_dense(dimension = dimension, random = False)\n",
    "        r = pool.imap(get_n_extended_simplices_dense, iterator, chunksize=1000)\n",
    "        count = 0\n",
    "        for element in r:\n",
    "            count += element\n",
    "        results.append(count)\n",
    "    except:\n",
    "        results.append(0)\n",
    "    try:\n",
    "        simplices.append(len(manager._count_file['Cells_' + str(dimension)]))\n",
    "    except:\n",
    "        simplices.append(0)\n",
    "fig, axes = plt.subplots(1,2)\n",
    "fig.suptitle(\"Layer \"+str(layer))\n",
    "dims = np.arange(1,7)\n",
    "width = 0.35\n",
    "axes[0].set_title(\"Layer \"+str(layer))\n",
    "axes[0].bar(dims+width/2,results,width,label = 'Extended Simplices')\n",
    "axes[0].bar(dims-width/2,simplices,width,label = 'Simplices')\n",
    "axes[0].set_xticks(dims)\n",
    "axes[0].set_ylabel(\"Motifs\")\n",
    "axes[0].legend()\n",
    "ratios = np.array(results)/np.array(simplices)\n",
    "ratios[np.isnan(ratios)]=0\n",
    "axes[1].bar(range(1,7),ratios)\n",
    "axes[1].set_ylabel(\"ES/S ratio\")\n",
    "axes[1].set_xlabel(\"Dimension\")\n",
    "fig.savefig(\"es-layer-\"+str(layer))"
   ]
  },
  {
   "cell_type": "code",
   "execution_count": 16,
   "metadata": {},
   "outputs": [
    {
     "name": "stderr",
     "output_type": "stream",
     "text": [
      "100%|██████████| 12/12 [00:00<00:00, 29.25it/s]\n",
      "100%|██████████| 6/6 [00:32<00:00,  5.39s/it]\n"
     ]
    },
    {
     "data": {
      "image/png": "[encoded data removed]",
      "text/plain": [
       "<Figure size 432x288 with 2 Axes>"
      ]
     },
     "metadata": {
      "needs_background": "light"
     },
     "output_type": "display_data"
    }
   ],
   "source": [
    "layer = 4\n",
    "zones = [zone for zone in dataframe.columns.levels[0].values if zone.startswith('L'+str(layer))]\n",
    "matrix = import_connectivity_matrix(zones = zones, dataframe = False, type = 'csr')\n",
    "save_path = Path(\"data/single_layers/L\"+str(layer) + \"/L\"+str(layer)+\".flag\")\n",
    "manager = MPDataManager(save_path, matrix)\n",
    "results = []\n",
    "simplices = []\n",
    "for dimension in tqdm(range(1,7)):\n",
    "    try:\n",
    "        iterator = manager.mp_np_simplex_iterator_dense(dimension = dimension, random = False)\n",
    "        r = pool.imap(get_n_extended_simplices_dense, iterator, chunksize=1000)\n",
    "        count = 0\n",
    "        for element in r:\n",
    "            count += element\n",
    "        results.append(count)\n",
    "    except:\n",
    "        results.append(0)\n",
    "    try:\n",
    "        simplices.append(len(manager._count_file['Cells_' + str(dimension)]))\n",
    "    except:\n",
    "        simplices.append(0)\n",
    "fig, axes = plt.subplots(1,2)\n",
    "fig.suptitle(\"Layer \"+str(layer))\n",
    "dims = np.arange(1,7)\n",
    "width = 0.35\n",
    "axes[0].bar(dims+width/2,results,width,label = 'Extended Simplices')\n",
    "axes[0].bar(dims-width/2,simplices,width,label = 'Simplices')\n",
    "axes[0].set_xticks(dims)\n",
    "axes[0].set_ylabel(\"Motifs\")\n",
    "axes[0].legend()\n",
    "ratios = np.array(results)/np.array(simplices)\n",
    "ratios[np.isnan(ratios)]=0\n",
    "axes[1].bar(range(1,7),ratios)\n",
    "axes[1].set_ylabel(\"ES/S ratio\")\n",
    "axes[1].set_xlabel(\"Dimension\")\n",
    "fig.savefig(\"es-layer-\"+str(layer))"
   ]
  },
  {
   "cell_type": "code",
   "execution_count": 17,
   "metadata": {},
   "outputs": [
    {
     "name": "stderr",
     "output_type": "stream",
     "text": [
      "100%|██████████| 13/13 [00:00<00:00, 26.98it/s]\n",
      "100%|██████████| 6/6 [02:09<00:00, 21.58s/it]\n"
     ]
    },
    {
     "data": {
      "image/png": "[encoded data removed]",
      "text/plain": [
       "<Figure size 432x288 with 2 Axes>"
      ]
     },
     "metadata": {
      "needs_background": "light"
     },
     "output_type": "display_data"
    }
   ],
   "source": [
    "layer = 5\n",
    "zones = [zone for zone in dataframe.columns.levels[0].values if zone.startswith('L'+str(layer))]\n",
    "matrix = import_connectivity_matrix(zones = zones, dataframe = False, type = 'csr')\n",
    "save_path = Path(\"data/single_layers/L\"+str(layer) + \"/L\"+str(layer)+\".flag\")\n",
    "manager = MPDataManager(save_path, matrix)\n",
    "results = []\n",
    "simplices = []\n",
    "for dimension in tqdm(range(1,7)):\n",
    "    try:\n",
    "        iterator = manager.mp_np_simplex_iterator_dense(dimension = dimension, random = False)\n",
    "        r = pool.imap(get_n_extended_simplices_dense, iterator, chunksize=1000)\n",
    "        count = 0\n",
    "        for element in r:\n",
    "            count += element\n",
    "        results.append(count)\n",
    "    except:\n",
    "        results.append(0)\n",
    "    try:\n",
    "        simplices.append(len(manager._count_file['Cells_' + str(dimension)]))\n",
    "    except:\n",
    "        simplices.append(0)\n",
    "fig, axes = plt.subplots(1,2)\n",
    "fig.suptitle(\"Layer \"+str(layer))\n",
    "dims = np.arange(1,7)\n",
    "width = 0.35\n",
    "axes[0].set_title(\"Layer \"+str(layer))\n",
    "axes[0].bar(dims+width/2,results,width,label = 'Extended Simplices')\n",
    "axes[0].bar(dims-width/2,simplices,width,label = 'Simplices')\n",
    "axes[0].set_xticks(dims)\n",
    "axes[0].set_ylabel(\"Motifs\")\n",
    "axes[0].legend()\n",
    "ratios = np.array(results)/np.array(simplices)\n",
    "ratios[np.isnan(ratios)]=0\n",
    "axes[1].bar(range(1,7),ratios)\n",
    "axes[1].set_ylabel(\"ES/S ratio\")\n",
    "axes[1].set_xlabel(\"Dimension\")\n",
    "fig.savefig(\"es-layer-\"+str(layer))"
   ]
  },
  {
   "cell_type": "code",
   "execution_count": 18,
   "metadata": {},
   "outputs": [
    {
     "name": "stderr",
     "output_type": "stream",
     "text": [
      "100%|██████████| 14/14 [00:01<00:00,  8.77it/s]\n",
      "100%|██████████| 6/6 [09:19<00:00, 93.18s/it] \n"
     ]
    },
    {
     "data": {
      "image/png": "[encoded data removed]",
      "text/plain": [
       "<Figure size 432x288 with 2 Axes>"
      ]
     },
     "metadata": {
      "needs_background": "light"
     },
     "output_type": "display_data"
    }
   ],
   "source": [
    "layer = 6\n",
    "zones = [zone for zone in dataframe.columns.levels[0].values if zone.startswith('L'+str(layer))]\n",
    "matrix = import_connectivity_matrix(zones = zones, dataframe = False, type = 'csr')\n",
    "save_path = Path(\"data/single_layers/L\"+str(layer) + \"/L\"+str(layer)+\".flag\")\n",
    "manager = MPDataManager(save_path, matrix)\n",
    "results = []\n",
    "simplices = []\n",
    "for dimension in tqdm(range(1,7)):\n",
    "    try:\n",
    "        iterator = manager.mp_np_simplex_iterator_dense(dimension = dimension, random = False)\n",
    "        r = pool.imap(get_n_extended_simplices_dense, iterator, chunksize=1000)\n",
    "        count = 0\n",
    "        for element in r:\n",
    "            count += element\n",
    "        results.append(count)\n",
    "    except:\n",
    "        results.append(0)\n",
    "    try:\n",
    "        simplices.append(len(manager._count_file['Cells_' + str(dimension)]))\n",
    "    except:\n",
    "        simplices.append(0)\n",
    "fig, axes = plt.subplots(1,2)\n",
    "fig.suptitle(\"Layer \"+str(layer))\n",
    "dims = np.arange(1,7)\n",
    "width = 0.35\n",
    "axes[0].set_title(\"Layer \"+str(layer))\n",
    "axes[0].bar(dims+width/2,results,width,label = 'Extended Simplices')\n",
    "axes[0].bar(dims-width/2,simplices,width,label = 'Simplices')\n",
    "axes[0].set_xticks(dims)\n",
    "axes[0].set_ylabel(\"Motifs\")\n",
    "axes[0].legend()\n",
    "ratios = np.array(results)/np.array(simplices)\n",
    "ratios[np.isnan(ratios)]=0\n",
    "axes[1].bar(range(1,7),ratios)\n",
    "axes[1].set_ylabel(\"ES/S ratio\")\n",
    "axes[1].set_xlabel(\"Dimension\")\n",
    "fig.savefig(\"es-layer-\"+str(layer))"
   ]
  },
  {
   "cell_type": "code",
   "execution_count": null,
   "metadata": {},
   "outputs": [],
   "source": []
  },
  {
   "cell_type": "code",
   "execution_count": null,
   "metadata": {},
   "outputs": [],
   "source": []
  },
  {
   "cell_type": "code",
   "execution_count": null,
   "metadata": {},
   "outputs": [],
   "source": []
  }
 ],
 "metadata": {
  "kernelspec": {
   "display_name": "Python 3",
   "language": "python",
   "name": "python3"
  },
  "language_info": {
   "codemirror_mode": {
    "name": "ipython",
    "version": 3
   },
   "file_extension": ".py",
   "mimetype": "text/x-python",
   "name": "python",
   "nbconvert_exporter": "python",
   "pygments_lexer": "ipython3",
   "version": "3.8.5"
  }
 },
 "nbformat": 4,
 "nbformat_minor": 4
}
