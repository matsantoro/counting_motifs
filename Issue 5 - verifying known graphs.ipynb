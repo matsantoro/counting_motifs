{
 "cells": [
  {
   "cell_type": "code",
   "execution_count": 1,
   "metadata": {},
   "outputs": [],
   "source": [
    "%load_ext autoreload\n",
    "%autoreload 2"
   ]
  },
  {
   "cell_type": "code",
   "execution_count": 2,
   "metadata": {},
   "outputs": [],
   "source": [
    "import h5py"
   ]
  },
  {
   "cell_type": "code",
   "execution_count": 3,
   "metadata": {},
   "outputs": [],
   "source": [
    "from robust_motifs.timing import Timer\n",
    "from robust_motifs.counting import get_n_extended_simplices\n",
    "from robust_motifs.custom_mp import prepare_shared_memory\n",
    "from pathlib import Path\n",
    "import numpy as np\n",
    "import scipy.sparse as sp\n",
    "import pandas as pd"
   ]
  },
  {
   "cell_type": "code",
   "execution_count": 4,
   "metadata": {},
   "outputs": [],
   "source": [
    "from robust_motifs.data import load_sparse_matrix_from_pkl, import_connectivity_matrix\n",
    "from robust_motifs.plot import plot_matrices"
   ]
  },
  {
   "cell_type": "code",
   "execution_count": 5,
   "metadata": {},
   "outputs": [],
   "source": [
    "from robust_motifs.simple_graphs import *\n",
    "from pathlib import Path"
   ]
  },
  {
   "cell_type": "code",
   "execution_count": 6,
   "metadata": {},
   "outputs": [],
   "source": [
    "import scipy.sparse as sp\n",
    "import numpy as np\n",
    "import h5py\n",
    "import multiprocessing as mp\n",
    "from itertools import product"
   ]
  },
  {
   "cell_type": "code",
   "execution_count": 7,
   "metadata": {},
   "outputs": [],
   "source": [
    "funcs = [save_count_cyclic_extension, save_count_cyclic_extension_1_node, save_count_simplex_extension, save_count_circulant_extension_1_node]"
   ]
  },
  {
   "cell_type": "code",
   "execution_count": 8,
   "metadata": {},
   "outputs": [],
   "source": [
    "n_nodes = [50, 50, 10, 10]"
   ]
  },
  {
   "cell_type": "code",
   "execution_count": 9,
   "metadata": {},
   "outputs": [],
   "source": [
    "pool = mp.Pool()"
   ]
  },
  {
   "cell_type": "code",
   "execution_count": 10,
   "metadata": {
    "scrolled": true
   },
   "outputs": [
    {
     "name": "stderr",
     "output_type": "stream",
     "text": [
      "/home/msantoro/miniconda3/envs/thesis38/lib/python3.8/site-packages/scipy/sparse/_index.py:82: SparseEfficiencyWarning: Changing the sparsity structure of a csr_matrix is expensive. lil_matrix is more efficient.\n",
      "  self._set_intXint(row, col, x.flat[0])\n",
      "100%|██████████| 100/100 [00:00<00:00, 561486.48it/s]\n",
      "150it [00:00, 192517.01it/s]\n",
      "100%|██████████| 51/51 [00:00<00:00, 141101.26it/s]\n",
      "150it [00:00, 188029.17it/s]\n",
      "100%|██████████| 20/20 [00:00<00:00, 92283.92it/s]\n",
      "65it [00:00, 263665.15it/s]"
     ]
    },
    {
     "name": "stdout",
     "output_type": "stream",
     "text": [
      "save_count_cyclic_extension\n",
      "50 / 150\n",
      "save_count_cyclic_extension_1_node\n",
      "2500 / 150\n",
      "2400 / 150\n",
      "save_count_simplex_extension\n"
     ]
    },
    {
     "name": "stderr",
     "output_type": "stream",
     "text": [
      "\n"
     ]
    },
    {
     "name": "stdout",
     "output_type": "stream",
     "text": [
      "45 / 65\n",
      "120 / 120\n",
      "210 / 210\n",
      "252 / 252\n"
     ]
    },
    {
     "name": "stderr",
     "output_type": "stream",
     "text": [
      "100%|██████████| 11/11 [00:00<00:00, 50589.19it/s]\n",
      "40it [00:00, 215368.63it/s]"
     ]
    },
    {
     "name": "stdout",
     "output_type": "stream",
     "text": [
      "210 / 210\n",
      "120 / 120\n",
      "45 / 45\n",
      "10 / 10\n",
      "1 / 1\n",
      "save_count_circulant_extension_1_node\n",
      "110 / 40\n",
      "170 / 70\n",
      "70 / 40\n"
     ]
    },
    {
     "name": "stderr",
     "output_type": "stream",
     "text": [
      "\n"
     ]
    }
   ],
   "source": [
    "for func, n in zip(funcs, n_nodes):\n",
    "    path = Path(\"data/temp/test/simple/\" + func.__name__)\n",
    "    flag_path, matrix_path, count_path = func(path, n)\n",
    "    \n",
    "    matrix = load_sparse_matrix_from_pkl(matrix_path)\n",
    "    matrix_info, links = prepare_shared_memory(matrix, 'f')\n",
    "    bid_matrix = matrix.multiply(matrix.T)\n",
    "    bid_matrix_info, bid_links = prepare_shared_memory(bid_matrix, 'c')\n",
    "    \n",
    "    c_file = h5py.File(count_path, 'r')\n",
    "    \n",
    "    print(func.__name__)\n",
    "    \n",
    "    for key in c_file.keys():\n",
    "        simplices = c_file[key]\n",
    "        mp_iterator = product(simplices, [matrix_info], [bid_matrix_info])\n",
    "        \n",
    "        count = 0\n",
    "        \n",
    "        r = pool.imap(get_n_extended_simplices, mp_iterator)\n",
    "        for result in r:\n",
    "            count += result[0]\n",
    "            \n",
    "        print(str(count) + \" / \" + str(len(simplices)))\n",
    "        \n",
    "    for link in links + bid_links:\n",
    "        link.unlink()"
   ]
  },
  {
   "cell_type": "code",
   "execution_count": null,
   "metadata": {},
   "outputs": [],
   "source": []
  }
 ],
 "metadata": {
  "kernelspec": {
   "display_name": "Python 3",
   "language": "python",
   "name": "python3"
  },
  "language_info": {
   "codemirror_mode": {
    "name": "ipython",
    "version": 3
   },
   "file_extension": ".py",
   "mimetype": "text/x-python",
   "name": "python",
   "nbconvert_exporter": "python",
   "pygments_lexer": "ipython3",
   "version": "3.8.5"
  }
 },
 "nbformat": 4,
 "nbformat_minor": 4
}
