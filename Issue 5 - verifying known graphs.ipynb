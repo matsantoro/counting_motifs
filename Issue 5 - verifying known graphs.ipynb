{
 "cells": [
  {
   "cell_type": "code",
   "execution_count": 1,
   "metadata": {},
   "outputs": [],
   "source": [
    "%load_ext autoreload\n",
    "%autoreload 2"
   ]
  },
  {
   "cell_type": "code",
   "execution_count": 2,
   "metadata": {},
   "outputs": [],
   "source": [
    "import h5py"
   ]
  },
  {
   "cell_type": "code",
   "execution_count": 3,
   "metadata": {},
   "outputs": [],
   "source": [
    "from robust_motifs.timing import Timer\n",
    "from robust_motifs.counting import get_n_extended_simplices, get_bisimplices\n",
    "from robust_motifs.custom_mp import prepare_shared_memory\n",
    "from pathlib import Path\n",
    "import numpy as np\n",
    "import scipy.sparse as sp\n",
    "import pandas as pd\n",
    "import time"
   ]
  },
  {
   "cell_type": "code",
   "execution_count": 4,
   "metadata": {},
   "outputs": [],
   "source": [
    "from robust_motifs.data import load_sparse_matrix_from_pkl, import_connectivity_matrix\n",
    "from robust_motifs.plot import plot_matrices"
   ]
  },
  {
   "cell_type": "code",
   "execution_count": 5,
   "metadata": {},
   "outputs": [],
   "source": [
    "from robust_motifs.simple_graphs import *\n",
    "from pathlib import Path"
   ]
  },
  {
   "cell_type": "code",
   "execution_count": 6,
   "metadata": {},
   "outputs": [],
   "source": [
    "import scipy.sparse as sp\n",
    "import numpy as np\n",
    "import h5py\n",
    "import multiprocessing as mp\n",
    "from itertools import product"
   ]
  },
  {
   "cell_type": "code",
   "execution_count": 7,
   "metadata": {},
   "outputs": [],
   "source": [
    "funcs = [save_count_cyclic_extension, save_count_cyclic_extension_1_node, save_count_cyclic_extension_1_node, save_count_simplex_extension, save_count_circulant_extension_1_node, save_count_circulant_extension_1_node]"
   ]
  },
  {
   "cell_type": "code",
   "execution_count": 8,
   "metadata": {},
   "outputs": [],
   "source": [
    "strings = [\"Cyclic graph extension with n nodes\", \"Cyclic graph extension with 1 node\", \"Cyclic graph extension with 1 node\", \"Simplex extension with n nodes\", \"Circulant graph d. 2 extension with one node\",  \"Circulant graph d. 2 extension with one node\"]"
   ]
  },
  {
   "cell_type": "code",
   "execution_count": 9,
   "metadata": {},
   "outputs": [],
   "source": [
    "n_nodes = [50, 50, 100, 10, 10, 20]"
   ]
  },
  {
   "cell_type": "code",
   "execution_count": 10,
   "metadata": {},
   "outputs": [],
   "source": [
    "pool = mp.Pool()"
   ]
  },
  {
   "cell_type": "markdown",
   "metadata": {},
   "source": [
    "Given a directed graph $G$ with $n$ nodes and no bidirectional edges, we call the **extension** of $G$ the graph $G'$ obtained by adding $n$ nodes to $G$, such that node $n+j$ is bidirectionally connected to node $j$ and has no other edge. \n",
    "\n",
    "We call the **uninodal extension** of $G$ the graph $G''$ obtained by adding 1 node to G such that the extra node is bidirectionally connected to all other edges.\n",
    "\n",
    "Let's call $S-G_{i}$ the number of simplices on $i$ nodes of $G$, and $ES-G_{i}$ the number of extended simplices on $i$ nodes on $G$. Then $S-G_{i}$ = $ES-G'_{i+1}$.\n",
    "\n",
    "In particular, cyclic graphs and simplices have no bidirectional edges. So, for example, given a cyclic graph on $n$ nodes, its extension must have exactly $n$ extended simplices on 3 nodes.\n",
    "\n",
    "I needed to make computations for $G''$ case by case. In particular, I checked that on a cyclic graph G on n nodes, $$ES-G''_{3} = n + n \\cdot n-1 = n^2$$ $$ES-G''_{4} = n \\cdot n-2$$ $$ES-G''_{k} = 0 \\quad \\mathrm{for} \\quad k > 4$$ \n",
    "\n",
    "and on a circulant graph of order 2 on $n$ nodes: $$ES-G''_{3} = 2n + n \\cdot (n-1)$$ $$ES-G''_{4} = n + 2n \\cdot (n - 2)$$ $$ES-G''_{5} = n \\cdot (n-3)$$ $$ES-G''_{k} = 0 \\quad \\mathrm{for} \\quad k > 5$$\n"
   ]
  },
  {
   "cell_type": "markdown",
   "metadata": {},
   "source": [
    "In the following, we print $S-G'_{i}$ / $ES-G'_{i+1}$ or $S-G''_{i}$ / $ES-G''_{i+1}$, so don't forget that $S-G''_{i} \\ne S-G_{i} \\ne S-G'_{i} $ in general."
   ]
  },
  {
   "cell_type": "code",
   "execution_count": 11,
   "metadata": {
    "scrolled": false
   },
   "outputs": [
    {
     "name": "stderr",
     "output_type": "stream",
     "text": [
      "/home/msantoro/miniconda3/envs/thesis38/lib/python3.8/site-packages/scipy/sparse/_index.py:82: SparseEfficiencyWarning: Changing the sparsity structure of a csr_matrix is expensive. lil_matrix is more efficient.\n",
      "  self._set_intXint(row, col, x.flat[0])\n",
      "100%|██████████| 100/100 [00:00<00:00, 376508.44it/s]\n",
      "150it [00:00, 170824.22it/s]\n",
      "100%|██████████| 51/51 [00:00<00:00, 124655.89it/s]\n",
      "150it [00:00, 212692.90it/s]"
     ]
    },
    {
     "name": "stdout",
     "output_type": "stream",
     "text": [
      "Cyclic graph extension with n nodes on 50\n",
      "n: Extended simplices on n nodes/ simplices on n-1 nodes\n",
      "3: 50 / 150\n"
     ]
    },
    {
     "name": "stderr",
     "output_type": "stream",
     "text": [
      "\n",
      "100%|██████████| 101/101 [00:00<00:00, 781595.39it/s]\n",
      "300it [00:00, 487520.81it/s]"
     ]
    },
    {
     "name": "stdout",
     "output_type": "stream",
     "text": [
      "Cyclic graph extension with 1 node on 50\n",
      "n: Extended simplices on n nodes/ simplices on n-1 nodes\n",
      "3: 2500 / 150\n",
      "4: 2400 / 150\n"
     ]
    },
    {
     "name": "stderr",
     "output_type": "stream",
     "text": [
      "\n",
      "100%|██████████| 20/20 [00:00<00:00, 207126.12it/s]\n",
      "65it [00:00, 290960.26it/s]"
     ]
    },
    {
     "name": "stdout",
     "output_type": "stream",
     "text": [
      "Cyclic graph extension with 1 node on 100\n",
      "n: Extended simplices on n nodes/ simplices on n-1 nodes\n",
      "3: 10000 / 300\n",
      "4: 9800 / 300\n"
     ]
    },
    {
     "name": "stderr",
     "output_type": "stream",
     "text": [
      "\n"
     ]
    },
    {
     "name": "stdout",
     "output_type": "stream",
     "text": [
      "Simplex extension with n nodes on 10\n",
      "n: Extended simplices on n nodes/ simplices on n-1 nodes\n",
      "3: 45 / 65\n",
      "4: 120 / 120\n",
      "5: 210 / 210\n",
      "6: 252 / 252\n"
     ]
    },
    {
     "name": "stderr",
     "output_type": "stream",
     "text": [
      "100%|██████████| 11/11 [00:00<00:00, 129599.28it/s]\n",
      "40it [00:00, 125390.25it/s]"
     ]
    },
    {
     "name": "stdout",
     "output_type": "stream",
     "text": [
      "7: 210 / 210\n",
      "8: 120 / 120\n",
      "9: 45 / 45\n",
      "10: 10 / 10\n",
      "11: 1 / 1\n"
     ]
    },
    {
     "name": "stderr",
     "output_type": "stream",
     "text": [
      "\n",
      "100%|██████████| 21/21 [00:00<00:00, 193583.26it/s]\n",
      "80it [00:00, 324825.09it/s]"
     ]
    },
    {
     "name": "stdout",
     "output_type": "stream",
     "text": [
      "Circulant graph d. 2 extension with one node on 10\n",
      "n: Extended simplices on n nodes/ simplices on n-1 nodes\n",
      "3: 110 / 40\n",
      "4: 170 / 70\n",
      "5: 70 / 40\n"
     ]
    },
    {
     "name": "stderr",
     "output_type": "stream",
     "text": [
      "\n"
     ]
    },
    {
     "name": "stdout",
     "output_type": "stream",
     "text": [
      "Circulant graph d. 2 extension with one node on 20\n",
      "n: Extended simplices on n nodes/ simplices on n-1 nodes\n",
      "3: 420 / 80\n",
      "4: 740 / 140\n",
      "5: 340 / 80\n"
     ]
    }
   ],
   "source": [
    "for func, n, string in zip(funcs, n_nodes, strings):\n",
    "    path = Path(\"data/temp/test/simple/\" + func.__name__)\n",
    "    flag_path, matrix_path, count_path = func(path, n)\n",
    "    \n",
    "    matrix = load_sparse_matrix_from_pkl(matrix_path)\n",
    "    matrix_info, links = prepare_shared_memory(matrix, 'f')\n",
    "    bid_matrix = matrix.multiply(matrix.T)\n",
    "    bid_matrix_info, bid_links = prepare_shared_memory(bid_matrix, 'c')\n",
    "    \n",
    "    c_file = h5py.File(count_path, 'r')\n",
    "    time.sleep(2)\n",
    "    print(string + ' on ' + str(n))\n",
    "    \n",
    "    print(\"n: Extended simplices on n nodes/ simplices on n-1 nodes\")\n",
    "    for key in c_file.keys():\n",
    "        simplices = c_file[key]\n",
    "        mp_iterator = product(simplices, [matrix_info], [bid_matrix_info])\n",
    "        \n",
    "        count = 0\n",
    "        \n",
    "        r = pool.imap(get_n_extended_simplices, mp_iterator)\n",
    "        for result in r:\n",
    "            count += result[0]\n",
    "        print(str(int(key[-1])+2) + \": \" + str(count) + \" / \" + str(len(simplices)))\n",
    "        \n",
    "    for link in links + bid_links:\n",
    "        link.unlink()"
   ]
  },
  {
   "cell_type": "markdown",
   "metadata": {},
   "source": [
    "We denote by $BS-G_{i}$ the number of bisimplices on $i$ nodes in graph $G$. Then $BS-G'_{i} = 0$ for any graph with no bidirectional connections. \n",
    "\n",
    "If $G$ is the cyclic graph on $n$ nodes, then $$BS-G''_{3} = n$$ $$BS-G''_{k} = 0 \\quad \\mathrm{for} \\quad k>3$$\n",
    "If $G$ is the circulant graph of order $2$ on $n$ nodes, then $$BS-G''_{3} = 2n$$ $$BS-G''_{4} = n$$ $$BS-G''_{k} = 0 \\quad \\mathrm{for} \\quad k>4$$"
   ]
  },
  {
   "cell_type": "code",
   "execution_count": 12,
   "metadata": {},
   "outputs": [
    {
     "name": "stderr",
     "output_type": "stream",
     "text": [
      "100%|██████████| 100/100 [00:00<00:00, 687590.82it/s]\n",
      "150it [00:00, 308707.36it/s]\n",
      "100%|██████████| 51/51 [00:00<00:00, 471166.31it/s]\n",
      "150it [00:00, 455572.48it/s]"
     ]
    },
    {
     "name": "stdout",
     "output_type": "stream",
     "text": [
      "Cyclic graph extension with n nodes on 50\n",
      "n: Bisimplices on n nodes/ simplices on n-1 nodes\n",
      "3: 0 / 150\n"
     ]
    },
    {
     "name": "stderr",
     "output_type": "stream",
     "text": [
      "\n"
     ]
    },
    {
     "name": "stdout",
     "output_type": "stream",
     "text": [
      "Cyclic graph extension with 1 node on 50\n",
      "n: Bisimplices on n nodes/ simplices on n-1 nodes\n",
      "3: 50 / 150\n"
     ]
    },
    {
     "name": "stderr",
     "output_type": "stream",
     "text": [
      "100%|██████████| 101/101 [00:00<00:00, 675637.49it/s]\n",
      "300it [00:00, 432997.66it/s]"
     ]
    },
    {
     "name": "stdout",
     "output_type": "stream",
     "text": [
      "4: 0 / 150\n"
     ]
    },
    {
     "name": "stderr",
     "output_type": "stream",
     "text": [
      "\n"
     ]
    },
    {
     "name": "stdout",
     "output_type": "stream",
     "text": [
      "Cyclic graph extension with 1 node on 100\n",
      "n: Bisimplices on n nodes/ simplices on n-1 nodes\n",
      "3: 100 / 300\n"
     ]
    },
    {
     "name": "stderr",
     "output_type": "stream",
     "text": [
      "100%|██████████| 20/20 [00:00<00:00, 78179.01it/s]\n",
      "65it [00:00, 186988.86it/s]"
     ]
    },
    {
     "name": "stdout",
     "output_type": "stream",
     "text": [
      "4: 0 / 300\n"
     ]
    },
    {
     "name": "stderr",
     "output_type": "stream",
     "text": [
      "\n"
     ]
    },
    {
     "name": "stdout",
     "output_type": "stream",
     "text": [
      "Simplex extension with n nodes on 10\n",
      "n: Bisimplices on n nodes/ simplices on n-1 nodes\n",
      "3: 0 / 65\n",
      "4: 0 / 120\n",
      "5: 0 / 210\n"
     ]
    },
    {
     "name": "stderr",
     "output_type": "stream",
     "text": [
      "100%|██████████| 11/11 [00:00<00:00, 134511.21it/s]\n",
      "40it [00:00, 205855.41it/s]"
     ]
    },
    {
     "name": "stdout",
     "output_type": "stream",
     "text": [
      "6: 0 / 252\n",
      "7: 0 / 210\n",
      "8: 0 / 120\n",
      "9: 0 / 45\n",
      "10: 0 / 10\n",
      "11: 0 / 1\n"
     ]
    },
    {
     "name": "stderr",
     "output_type": "stream",
     "text": [
      "\n",
      "100%|██████████| 21/21 [00:00<00:00, 181235.36it/s]\n",
      "80it [00:00, 312424.88it/s]"
     ]
    },
    {
     "name": "stdout",
     "output_type": "stream",
     "text": [
      "Circulant graph d. 2 extension with one node on 10\n",
      "n: Bisimplices on n nodes/ simplices on n-1 nodes\n",
      "3: 20 / 40\n",
      "4: 10 / 70\n",
      "5: 0 / 40\n"
     ]
    },
    {
     "name": "stderr",
     "output_type": "stream",
     "text": [
      "\n"
     ]
    },
    {
     "name": "stdout",
     "output_type": "stream",
     "text": [
      "Circulant graph d. 2 extension with one node on 20\n",
      "n: Bisimplices on n nodes/ simplices on n-1 nodes\n",
      "3: 40 / 80\n",
      "4: 20 / 140\n",
      "5: 0 / 80\n"
     ]
    }
   ],
   "source": [
    "for func, n, string in zip(funcs, n_nodes, strings):\n",
    "    path = Path(\"data/temp/test/simple/\" + func.__name__)\n",
    "    flag_path, matrix_path, count_path = func(path, n)\n",
    "    \n",
    "    matrix = load_sparse_matrix_from_pkl(matrix_path)\n",
    "    matrix_info, links = prepare_shared_memory(matrix, 'f')\n",
    "    bid_matrix = matrix.multiply(matrix.T)\n",
    "    bid_matrix_info, bid_links = prepare_shared_memory(bid_matrix, 'c')\n",
    "    \n",
    "    c_file = h5py.File(count_path, 'r')\n",
    "    time.sleep(2)\n",
    "    \n",
    "    print(string + ' on ' + str(n))\n",
    "    \n",
    "    print(\"n: Bisimplices on n nodes/ simplices on n-1 nodes\")\n",
    "    \n",
    "    for key in c_file.keys():\n",
    "        simplices = c_file[key]\n",
    "        mp_iterator = product(simplices, [matrix_info], [bid_matrix_info])\n",
    "        \n",
    "        count = set()\n",
    "        \n",
    "        r = pool.imap(get_bisimplices, mp_iterator)\n",
    "        for result in r:\n",
    "            count = count.union(result)\n",
    "            \n",
    "        print(str(int(key[-1])+2) + \": \" + str(len(count)) + \" / \" + str(len(simplices)))\n",
    "        \n",
    "    for link in links + bid_links:\n",
    "        link.unlink()"
   ]
  },
  {
   "cell_type": "code",
   "execution_count": null,
   "metadata": {},
   "outputs": [],
   "source": []
  }
 ],
 "metadata": {
  "kernelspec": {
   "display_name": "Python 3",
   "language": "python",
   "name": "python3"
  },
  "language_info": {
   "codemirror_mode": {
    "name": "ipython",
    "version": 3
   },
   "file_extension": ".py",
   "mimetype": "text/x-python",
   "name": "python",
   "nbconvert_exporter": "python",
   "pygments_lexer": "ipython3",
   "version": "3.8.5"
  }
 },
 "nbformat": 4,
 "nbformat_minor": 4
}
